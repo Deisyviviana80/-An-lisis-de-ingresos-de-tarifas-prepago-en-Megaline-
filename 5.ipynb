{
 "cells": [
  {
   "cell_type": "markdown",
   "metadata": {},
   "source": [
    "¡Hola, Deisy!\n",
    "\n",
    "Mi nombre es Tonatiuh Cruz. Me complace revisar tu proyecto hoy.\n",
    "\n",
    "Al identificar cualquier error inicialmente, simplemente los destacaré. Te animo a localizar y abordar los problemas de forma independiente como parte de tu preparación para un rol como data-analyst. En un entorno profesional, tu líder de equipo seguiría un enfoque similar. Si encuentras la tarea desafiante, proporcionaré una pista más específica en la próxima iteración.\n",
    "\n",
    "Encontrarás mis comentarios a continuación - **por favor no los muevas, modifiques o elimines**.\n",
    "\n",
    "Puedes encontrar mis comentarios en cajas verdes, amarillas o rojas como esta:\n",
    "\n",
    "<div class=\"alert alert-block alert-success\">\n",
    "<b>Comentario del revisor</b> <a class=\"tocSkip\"></a>\n",
    "\n",
    "Éxito. Todo está hecho correctamente.\n",
    "</div>\n",
    "\n",
    "<div class=\"alert alert-block alert-warning\">\n",
    "<b>Comentario del revisor</b> <a class=\"tocSkip\"></a>\n",
    "\n",
    "Observaciones. Algunas recomendaciones.\n",
    "</div>\n",
    "\n",
    "<div class=\"alert alert-block alert-danger\">\n",
    "<b>Comentario del revisor</b> <a class=\"tocSkip\"></a>\n",
    "\n",
    "Necesita corrección. El bloque requiere algunas correcciones. El trabajo no puede ser aceptado con comentarios en rojo.\n",
    "</div>\n",
    "\n",
    "Puedes responderme utilizando esto:\n",
    "\n",
    "<div class=\"alert alert-block alert-info\">"
   ]
  },
  {
   "cell_type": "markdown",
   "metadata": {},
   "source": [
    "<div class=\"alert alert-block alert-success\">\n",
    "<b>Resumen de la revisión 1</b> <a class=\"tocSkip\"></a>\n",
    "\n",
    "Hola Deisy! Has hecho un excelente trabajo con el proyecto, cada vez más cercas de convertirte en un analista de datos. Realizaste la carga de bases, su análisis inicial, sus ajustes, un análisis de algunos variables conmplementado con gráficas y el desarrollo de las pruebas d ehipótesis. Solamente te dejo algunos comentarios para complementar el análisis. \n",
    "\n",
    "Sigue con el excelente trabajo!\n",
    "</div>"
   ]
  },
  {
   "cell_type": "markdown",
   "metadata": {},
   "source": [
    "<div class=\"alert alert-block alert-info\">\n",
    "<b>Comentario del estudiante</b> <a class=\"tocSkip\"></a>\n",
    "\n",
    "Muchas gracias por la minucionsa revisión, implementé todas las observaciones sugeridas y la corrección solicitada, espero haberlo hecho de manera correcta.\n",
    "Quedo atenta a su retroalimentación, Mil gracias.\n",
    "</div>"
   ]
  },
  {
   "cell_type": "markdown",
   "metadata": {},
   "source": [
    "<div class=\"alert alert-block alert-success\">\n",
    "<b>Resumen de la revisión 2</b> <a class=\"tocSkip\"></a>\n",
    "\n",
    "Hola Deisy! Has hecho un excelente trabajo con los ajustes. Redondeste las variables antes de hacer el calculo del ingreso mensual por usuario y desarrollaste d emanera perfecta la prueba de levene para mostrar el supuesto de varianzas iguales. \n",
    "\n",
    "Sigue con el excelente trabajo!\n",
    "</div>"
   ]
  },
  {
   "cell_type": "markdown",
   "metadata": {
    "id": "3rYiDeEH0q0f"
   },
   "source": [
    "# ¿Cuál es la mejor tarifa?\n",
    "\n",
    "Trabajas como analista para el operador de telecomunicaciones Megaline. La empresa ofrece a sus clientes dos tarifas de prepago, Surf y Ultimate. El departamento comercial quiere saber cuál de las tarifas genera más ingresos para poder ajustar el presupuesto de publicidad.\n",
    "\n",
    "Vas a realizar un análisis preliminar de las tarifas basado en una selección de clientes relativamente pequeña. Tendrás los datos de 500 clientes de Megaline: quiénes son los clientes, de dónde son, qué tarifa usan, así como la cantidad de llamadas que hicieron y los mensajes de texto que enviaron en 2018. Tu trabajo es analizar el comportamiento de los clientes y determinar qué tarifa de prepago genera más ingresos."
   ]
  },
  {
   "cell_type": "markdown",
   "metadata": {
    "id": "VNddPNRQ0q0w"
   },
   "source": [
    "PROPÓSITO DEL PROYECTO:\n",
    "\n",
    "Identificar cuál de las tarifas genera más ingresos a Megaline para la toma de decisiones.\n",
    "\n",
    "ACCIONES A REALIZAR:\n",
    "\n",
    "- Verificar las tablas existentes.\n",
    "- Realizar la depuracón y limpieza de datos requerida.\n",
    "- Procesar la información para obtener los datos requeridos.\n",
    "- Realizar gráficos y análisis para presentar la información obtenida."
   ]
  },
  {
   "cell_type": "markdown",
   "metadata": {
    "id": "MQi4IPy70q0y"
   },
   "source": [
    "## Inicialización"
   ]
  },
  {
   "cell_type": "code",
   "execution_count": 1,
   "metadata": {
    "id": "MtYIuBxu0q0z"
   },
   "outputs": [],
   "source": [
    "# Cargar todas las librerías\n",
    "from scipy import stats as st\n",
    "from scipy.stats import levene\n",
    "import matplotlib.pyplot as plt\n",
    "import numpy as np\n",
    "import pandas as pd\n",
    "import seaborn as sns\n",
    "import math"
   ]
  },
  {
   "cell_type": "markdown",
   "metadata": {},
   "source": [
    "<div class=\"alert alert-block alert-warning\">\n",
    "<b>Comentario revisor</b> <a class=\"tocSkip\"></a>\n",
    "\n",
    "\n",
    "Recomiendo cargar la libreria math. De esta manera, puedes realizar redondeos con otros métodos. \n",
    "</div>"
   ]
  },
  {
   "cell_type": "markdown",
   "metadata": {},
   "source": [
    "<div class=\"alert alert-block alert-info\">\n",
    "<b>Comentario del estudiante</b> <a class=\"tocSkip\"></a>\n",
    "\n",
    "Gracias. Se importó la librería math de acuerdo a la recomendación, sin embargo al usar el método math.ceil() para tratar de redondear los valores de la columna 'mb_used' al entero superior, Python lanza un TypeError. Revisando la documentación de Python, observo que este método está diseñado para trabajar con números individuales (tipo int o float), no con estructuras como una columna de pandas (tipo Series). No encontré ningún otro método de math para realizar este ajuste de datos. \n",
    "</div>"
   ]
  },
  {
   "cell_type": "markdown",
   "metadata": {},
   "source": [
    "<div class=\"alert alert-block alert-info\">\n",
    "<b>Comentario revisor</b> <a class=\"tocSkip\"></a>\n",
    "\n",
    "\n",
    "Hola, Deisy! Es correcot lo que mencionas y buscaste, en este sentido para poder hacer uso de math debemos de hacer sobre iteraciones de cada elemento de la base de datos de la columna que queremos redondear"
   ]
  },
  {
   "cell_type": "markdown",
   "metadata": {
    "id": "4ysWWC5i0q00"
   },
   "source": [
    "## Cargar datos"
   ]
  },
  {
   "cell_type": "code",
   "execution_count": 2,
   "metadata": {
    "id": "CCqPW7rS0q01"
   },
   "outputs": [],
   "source": [
    "# Carga los archivos de datos en diferentes DataFrames\n",
    "calls = pd.read_csv('/datasets/megaline_calls.csv')\n",
    "internet = pd.read_csv('/datasets/megaline_internet.csv')\n",
    "messages = pd.read_csv('/datasets/megaline_messages.csv')\n",
    "plans = pd.read_csv('/datasets/megaline_plans.csv')\n",
    "users = pd.read_csv('/datasets/megaline_users.csv')"
   ]
  },
  {
   "cell_type": "markdown",
   "metadata": {
    "id": "69qqoJ3r0q01"
   },
   "source": [
    "## Preparar los datos"
   ]
  },
  {
   "cell_type": "markdown",
   "metadata": {
    "id": "vUuZw80S0q01"
   },
   "source": [
    "Primero se debe conocer muy bien lo que representa cada dato en las tablas suministradas:\n",
    "\n",
    "DICCIONARIO DE DATOS:\n",
    "\n",
    "TABLA USERS (datos sobre los usuarios):\n",
    "- user_id: identificador único del usuario.\n",
    "- first_name: nombre del usuario.\n",
    "- last_name: apellido del usuario.\n",
    "- age: edad del usuario (en años).\n",
    "- reg_date: fecha de suscripción (dd, mm, aa).\n",
    "- churn_date: fecha en la que el usuario dejó de usar el servicio (si el valor es ausente, el servicio se estaba usando cuando se extrajo la información).\n",
    "- city: ciudad de residencia del usuario.\n",
    "- plan: nombre de la tarifa.\n",
    "\n",
    "TABLA CALLS (datos sobre las llamadas):\n",
    "- id: identificador único de la llamada.\n",
    "- call_date: fecha de la llamada.\n",
    "- duration: duración de la llamada (en minutos).\n",
    "- user_id: identificador del usuario que realiza la llamada.\n",
    "\n",
    "TABLA MESSAGES (datos sobre los SMS):\n",
    "- id: identificador único del SMS.\n",
    "- message_date: fecha del SMS.\n",
    "- user_id: identificador del usuario que manda el SMS.\n",
    "\n",
    "TABLA INTERNET (datos sobre las sesiones web):\n",
    "- id: identificador único de la sesión.\n",
    "- mb_used: el volumen de datos gastados durante la sesión (en megabytes).\n",
    "- session_date: fecha de la sesión web.\n",
    "- user_id: identificador del usuario.\n",
    "\n",
    "TABLA PLANS (datos sobre las tarifas):\n",
    "- plan_name: nombre de la tarifa.\n",
    "- usd_monthly_fee: pago mensual en dólares estadounidenses.\n",
    "- minutes_included: minutos incluidos al mes.\n",
    "- messages_included: SMS incluidos al mes.\n",
    "- mb_per_month_included: datos incluidos al mes (en megabytes).\n",
    "- usd_per_minute: precio por minuto tras exceder los límites del paquete.\n",
    "- usd_per_message: precio por SMS tras exceder los límites del paquete.\n",
    "- usd_per_gb: precio por gigabyte de los datos extra tras exceder los límites del paquete (1 GB = 1024 megabytes).\n",
    "\n",
    "\n",
    "\n",
    "A continuación se realiza la exploración de cada una de las 5 tablas para tener una comprensión inicial de los datos, se realizan las correcciones requeridas para el análisis en cada tabla:"
   ]
  },
  {
   "cell_type": "markdown",
   "metadata": {
    "id": "ohBhimvH0q01"
   },
   "source": [
    "## Tarifas / tabla plans"
   ]
  },
  {
   "cell_type": "code",
   "execution_count": 3,
   "metadata": {
    "id": "GptqP3Q40q02"
   },
   "outputs": [
    {
     "name": "stdout",
     "output_type": "stream",
     "text": [
      "<class 'pandas.core.frame.DataFrame'>\n",
      "RangeIndex: 2 entries, 0 to 1\n",
      "Data columns (total 8 columns):\n",
      " #   Column                 Non-Null Count  Dtype  \n",
      "---  ------                 --------------  -----  \n",
      " 0   messages_included      2 non-null      int64  \n",
      " 1   mb_per_month_included  2 non-null      int64  \n",
      " 2   minutes_included       2 non-null      int64  \n",
      " 3   usd_monthly_pay        2 non-null      int64  \n",
      " 4   usd_per_gb             2 non-null      int64  \n",
      " 5   usd_per_message        2 non-null      float64\n",
      " 6   usd_per_minute         2 non-null      float64\n",
      " 7   plan_name              2 non-null      object \n",
      "dtypes: float64(2), int64(5), object(1)\n",
      "memory usage: 256.0+ bytes\n"
     ]
    }
   ],
   "source": [
    "# Imprime la información general/resumida sobre el DataFrame de las tarifas\n",
    "plans.info()"
   ]
  },
  {
   "cell_type": "code",
   "execution_count": 4,
   "metadata": {
    "id": "64xzjwL70q02"
   },
   "outputs": [
    {
     "data": {
      "text/html": [
       "<div>\n",
       "<style scoped>\n",
       "    .dataframe tbody tr th:only-of-type {\n",
       "        vertical-align: middle;\n",
       "    }\n",
       "\n",
       "    .dataframe tbody tr th {\n",
       "        vertical-align: top;\n",
       "    }\n",
       "\n",
       "    .dataframe thead th {\n",
       "        text-align: right;\n",
       "    }\n",
       "</style>\n",
       "<table border=\"1\" class=\"dataframe\">\n",
       "  <thead>\n",
       "    <tr style=\"text-align: right;\">\n",
       "      <th></th>\n",
       "      <th>messages_included</th>\n",
       "      <th>mb_per_month_included</th>\n",
       "      <th>minutes_included</th>\n",
       "      <th>usd_monthly_pay</th>\n",
       "      <th>usd_per_gb</th>\n",
       "      <th>usd_per_message</th>\n",
       "      <th>usd_per_minute</th>\n",
       "      <th>plan_name</th>\n",
       "    </tr>\n",
       "  </thead>\n",
       "  <tbody>\n",
       "    <tr>\n",
       "      <th>0</th>\n",
       "      <td>50</td>\n",
       "      <td>15360</td>\n",
       "      <td>500</td>\n",
       "      <td>20</td>\n",
       "      <td>10</td>\n",
       "      <td>0.03</td>\n",
       "      <td>0.03</td>\n",
       "      <td>surf</td>\n",
       "    </tr>\n",
       "    <tr>\n",
       "      <th>1</th>\n",
       "      <td>1000</td>\n",
       "      <td>30720</td>\n",
       "      <td>3000</td>\n",
       "      <td>70</td>\n",
       "      <td>7</td>\n",
       "      <td>0.01</td>\n",
       "      <td>0.01</td>\n",
       "      <td>ultimate</td>\n",
       "    </tr>\n",
       "  </tbody>\n",
       "</table>\n",
       "</div>"
      ],
      "text/plain": [
       "   messages_included  mb_per_month_included  minutes_included  \\\n",
       "0                 50                  15360               500   \n",
       "1               1000                  30720              3000   \n",
       "\n",
       "   usd_monthly_pay  usd_per_gb  usd_per_message  usd_per_minute plan_name  \n",
       "0               20          10             0.03            0.03      surf  \n",
       "1               70           7             0.01            0.01  ultimate  "
      ]
     },
     "execution_count": 4,
     "metadata": {},
     "output_type": "execute_result"
    }
   ],
   "source": [
    "# Imprime una muestra de los datos para las tarifas\n",
    "plans.head()"
   ]
  },
  {
   "cell_type": "raw",
   "metadata": {
    "id": "mEc_3_hs0q02"
   },
   "source": [
    "OBSERVACIONES GENERALES DE LA TABLA PLANS:\n",
    "\n",
    "Se observa que la tabla PLANS tiene 8 columnas. La columna \"usd_monthly_pay\", tiene un nombre diferente en el diccionario de datos (usd_monthly_free), por lo cual se realiza el ajuste en la tabla para evitar posteriores confusiones. \n",
    "\n",
    "La tabla tiene dos filas correspondientes a las dos tarifas de prepago de MEGALINE.\n",
    "\n",
    "Al revisar los datos de la tabla, se observa que estos son coherentes con los tipo de datos, por lo cual se considera que no hay necesidad de realizar ningún ajuste de este tipo. También se evidencia que no hay valores ausentes en ninguna de sus columnas."
   ]
  },
  {
   "cell_type": "markdown",
   "metadata": {
    "id": "R3C05i1l0q03"
   },
   "source": [
    "### Corregir datos"
   ]
  },
  {
   "cell_type": "code",
   "execution_count": 5,
   "metadata": {
    "id": "Y7SVmjGn0q03"
   },
   "outputs": [
    {
     "data": {
      "text/html": [
       "<div>\n",
       "<style scoped>\n",
       "    .dataframe tbody tr th:only-of-type {\n",
       "        vertical-align: middle;\n",
       "    }\n",
       "\n",
       "    .dataframe tbody tr th {\n",
       "        vertical-align: top;\n",
       "    }\n",
       "\n",
       "    .dataframe thead th {\n",
       "        text-align: right;\n",
       "    }\n",
       "</style>\n",
       "<table border=\"1\" class=\"dataframe\">\n",
       "  <thead>\n",
       "    <tr style=\"text-align: right;\">\n",
       "      <th></th>\n",
       "      <th>messages_included</th>\n",
       "      <th>mb_per_month_included</th>\n",
       "      <th>minutes_included</th>\n",
       "      <th>usd_monthly_free</th>\n",
       "      <th>usd_per_gb</th>\n",
       "      <th>usd_per_message</th>\n",
       "      <th>usd_per_minute</th>\n",
       "      <th>plan_name</th>\n",
       "    </tr>\n",
       "  </thead>\n",
       "  <tbody>\n",
       "    <tr>\n",
       "      <th>0</th>\n",
       "      <td>50</td>\n",
       "      <td>15360</td>\n",
       "      <td>500</td>\n",
       "      <td>20</td>\n",
       "      <td>10</td>\n",
       "      <td>0.03</td>\n",
       "      <td>0.03</td>\n",
       "      <td>surf</td>\n",
       "    </tr>\n",
       "    <tr>\n",
       "      <th>1</th>\n",
       "      <td>1000</td>\n",
       "      <td>30720</td>\n",
       "      <td>3000</td>\n",
       "      <td>70</td>\n",
       "      <td>7</td>\n",
       "      <td>0.01</td>\n",
       "      <td>0.01</td>\n",
       "      <td>ultimate</td>\n",
       "    </tr>\n",
       "  </tbody>\n",
       "</table>\n",
       "</div>"
      ],
      "text/plain": [
       "   messages_included  mb_per_month_included  minutes_included  \\\n",
       "0                 50                  15360               500   \n",
       "1               1000                  30720              3000   \n",
       "\n",
       "   usd_monthly_free  usd_per_gb  usd_per_message  usd_per_minute plan_name  \n",
       "0                20          10             0.03            0.03      surf  \n",
       "1                70           7             0.01            0.01  ultimate  "
      ]
     },
     "execution_count": 5,
     "metadata": {},
     "output_type": "execute_result"
    }
   ],
   "source": [
    "# Renombra la columna 'usd_monthly_pay' como 'usd_monthly_free'\n",
    "plans.rename(columns={'usd_monthly_pay': 'usd_monthly_free'}, inplace=True)\n",
    "plans.head()"
   ]
  },
  {
   "cell_type": "markdown",
   "metadata": {
    "id": "LJir7bml0q03"
   },
   "source": [
    "### Enriquecer los datos"
   ]
  },
  {
   "cell_type": "code",
   "execution_count": 6,
   "metadata": {
    "id": "gfcIEuXV0q04"
   },
   "outputs": [
    {
     "data": {
      "text/html": [
       "<div>\n",
       "<style scoped>\n",
       "    .dataframe tbody tr th:only-of-type {\n",
       "        vertical-align: middle;\n",
       "    }\n",
       "\n",
       "    .dataframe tbody tr th {\n",
       "        vertical-align: top;\n",
       "    }\n",
       "\n",
       "    .dataframe thead th {\n",
       "        text-align: right;\n",
       "    }\n",
       "</style>\n",
       "<table border=\"1\" class=\"dataframe\">\n",
       "  <thead>\n",
       "    <tr style=\"text-align: right;\">\n",
       "      <th></th>\n",
       "      <th>messages_included</th>\n",
       "      <th>mb_per_month_included</th>\n",
       "      <th>minutes_included</th>\n",
       "      <th>usd_monthly_free</th>\n",
       "      <th>usd_per_gb</th>\n",
       "      <th>usd_per_message</th>\n",
       "      <th>usd_per_minute</th>\n",
       "      <th>plan</th>\n",
       "    </tr>\n",
       "  </thead>\n",
       "  <tbody>\n",
       "    <tr>\n",
       "      <th>0</th>\n",
       "      <td>50</td>\n",
       "      <td>15360</td>\n",
       "      <td>500</td>\n",
       "      <td>20</td>\n",
       "      <td>10</td>\n",
       "      <td>0.03</td>\n",
       "      <td>0.03</td>\n",
       "      <td>surf</td>\n",
       "    </tr>\n",
       "    <tr>\n",
       "      <th>1</th>\n",
       "      <td>1000</td>\n",
       "      <td>30720</td>\n",
       "      <td>3000</td>\n",
       "      <td>70</td>\n",
       "      <td>7</td>\n",
       "      <td>0.01</td>\n",
       "      <td>0.01</td>\n",
       "      <td>ultimate</td>\n",
       "    </tr>\n",
       "  </tbody>\n",
       "</table>\n",
       "</div>"
      ],
      "text/plain": [
       "   messages_included  mb_per_month_included  minutes_included  \\\n",
       "0                 50                  15360               500   \n",
       "1               1000                  30720              3000   \n",
       "\n",
       "   usd_monthly_free  usd_per_gb  usd_per_message  usd_per_minute      plan  \n",
       "0                20          10             0.03            0.03      surf  \n",
       "1                70           7             0.01            0.01  ultimate  "
      ]
     },
     "execution_count": 6,
     "metadata": {},
     "output_type": "execute_result"
    }
   ],
   "source": [
    "# Renombra la columna 'plan_name' como 'plan' con el fin de unirla con otra tablas más adelante.\n",
    "plans.rename(columns={'plan_name': 'plan'}, inplace=True)\n",
    "plans.head()"
   ]
  },
  {
   "cell_type": "markdown",
   "metadata": {
    "id": "1n2X6WXf0q04"
   },
   "source": [
    "## Usuarios/as / tabla users"
   ]
  },
  {
   "cell_type": "code",
   "execution_count": 7,
   "metadata": {
    "id": "2NgjWFqx0q05"
   },
   "outputs": [
    {
     "name": "stdout",
     "output_type": "stream",
     "text": [
      "<class 'pandas.core.frame.DataFrame'>\n",
      "RangeIndex: 500 entries, 0 to 499\n",
      "Data columns (total 8 columns):\n",
      " #   Column      Non-Null Count  Dtype \n",
      "---  ------      --------------  ----- \n",
      " 0   user_id     500 non-null    int64 \n",
      " 1   first_name  500 non-null    object\n",
      " 2   last_name   500 non-null    object\n",
      " 3   age         500 non-null    int64 \n",
      " 4   city        500 non-null    object\n",
      " 5   reg_date    500 non-null    object\n",
      " 6   plan        500 non-null    object\n",
      " 7   churn_date  34 non-null     object\n",
      "dtypes: int64(2), object(6)\n",
      "memory usage: 31.4+ KB\n"
     ]
    }
   ],
   "source": [
    "# Imprime la información general/resumida sobre el DataFrame de usuarios\n",
    "users.info()"
   ]
  },
  {
   "cell_type": "code",
   "execution_count": 8,
   "metadata": {
    "id": "1IN1L9uh0q05"
   },
   "outputs": [
    {
     "data": {
      "text/html": [
       "<div>\n",
       "<style scoped>\n",
       "    .dataframe tbody tr th:only-of-type {\n",
       "        vertical-align: middle;\n",
       "    }\n",
       "\n",
       "    .dataframe tbody tr th {\n",
       "        vertical-align: top;\n",
       "    }\n",
       "\n",
       "    .dataframe thead th {\n",
       "        text-align: right;\n",
       "    }\n",
       "</style>\n",
       "<table border=\"1\" class=\"dataframe\">\n",
       "  <thead>\n",
       "    <tr style=\"text-align: right;\">\n",
       "      <th></th>\n",
       "      <th>user_id</th>\n",
       "      <th>first_name</th>\n",
       "      <th>last_name</th>\n",
       "      <th>age</th>\n",
       "      <th>city</th>\n",
       "      <th>reg_date</th>\n",
       "      <th>plan</th>\n",
       "      <th>churn_date</th>\n",
       "    </tr>\n",
       "  </thead>\n",
       "  <tbody>\n",
       "    <tr>\n",
       "      <th>81</th>\n",
       "      <td>1081</td>\n",
       "      <td>Grayce</td>\n",
       "      <td>Sears</td>\n",
       "      <td>44</td>\n",
       "      <td>Dallas-Fort Worth-Arlington, TX MSA</td>\n",
       "      <td>2018-04-27</td>\n",
       "      <td>surf</td>\n",
       "      <td>NaN</td>\n",
       "    </tr>\n",
       "  </tbody>\n",
       "</table>\n",
       "</div>"
      ],
      "text/plain": [
       "    user_id first_name last_name  age                                 city  \\\n",
       "81     1081     Grayce     Sears   44  Dallas-Fort Worth-Arlington, TX MSA   \n",
       "\n",
       "      reg_date  plan churn_date  \n",
       "81  2018-04-27  surf        NaN  "
      ]
     },
     "execution_count": 8,
     "metadata": {},
     "output_type": "execute_result"
    }
   ],
   "source": [
    "# Imprime una muestra de datos para usuarios\n",
    "users.sample()"
   ]
  },
  {
   "cell_type": "raw",
   "metadata": {
    "id": "mEc_3_hs0q02"
   },
   "source": [
    "OBSERVACIONES GENERALES DE LA TABLA USERS:\n",
    "\n",
    "Se observa que esta tabla tiene ocho columnas y 500 filas correspondientes a 500 clientes de MEGALINE.\n",
    "\n",
    "Los tipos de datos de las columnas están correctos, a excepción de las columnas \"reg_date\" y \"churn_date\", que deberían ser de tipo datetime64.\n",
    "\n",
    "En la columna \"churn_date\" hay 466 valores ausentes, es decir que al momento de extraer la información, esos 466 usuarios estaban usando el servicio, por lo cual no se da tratamiento a estas celdas, se identifica que al convertirse en datetime, se modifica el valor ausente de NaN a NaT. No realizo permutación en este dato, no lo considero necesario, ya que el dato no es 'UNKNOWN', simplemente no hay información porque el servicio aún estaba activo."
   ]
  },
  {
   "cell_type": "markdown",
   "metadata": {
    "id": "BX5FQh_I0q06"
   },
   "source": [
    "### Corregir los datos"
   ]
  },
  {
   "cell_type": "code",
   "execution_count": 9,
   "metadata": {
    "id": "yUqX-K0C0q07"
   },
   "outputs": [
    {
     "name": "stdout",
     "output_type": "stream",
     "text": [
      "<class 'pandas.core.frame.DataFrame'>\n",
      "RangeIndex: 500 entries, 0 to 499\n",
      "Data columns (total 8 columns):\n",
      " #   Column      Non-Null Count  Dtype         \n",
      "---  ------      --------------  -----         \n",
      " 0   user_id     500 non-null    int64         \n",
      " 1   first_name  500 non-null    object        \n",
      " 2   last_name   500 non-null    object        \n",
      " 3   age         500 non-null    int64         \n",
      " 4   city        500 non-null    object        \n",
      " 5   reg_date    500 non-null    datetime64[ns]\n",
      " 6   plan        500 non-null    object        \n",
      " 7   churn_date  34 non-null     datetime64[ns]\n",
      "dtypes: datetime64[ns](2), int64(2), object(4)\n",
      "memory usage: 31.4+ KB\n"
     ]
    },
    {
     "data": {
      "text/html": [
       "<div>\n",
       "<style scoped>\n",
       "    .dataframe tbody tr th:only-of-type {\n",
       "        vertical-align: middle;\n",
       "    }\n",
       "\n",
       "    .dataframe tbody tr th {\n",
       "        vertical-align: top;\n",
       "    }\n",
       "\n",
       "    .dataframe thead th {\n",
       "        text-align: right;\n",
       "    }\n",
       "</style>\n",
       "<table border=\"1\" class=\"dataframe\">\n",
       "  <thead>\n",
       "    <tr style=\"text-align: right;\">\n",
       "      <th></th>\n",
       "      <th>user_id</th>\n",
       "      <th>first_name</th>\n",
       "      <th>last_name</th>\n",
       "      <th>age</th>\n",
       "      <th>city</th>\n",
       "      <th>reg_date</th>\n",
       "      <th>plan</th>\n",
       "      <th>churn_date</th>\n",
       "    </tr>\n",
       "  </thead>\n",
       "  <tbody>\n",
       "    <tr>\n",
       "      <th>341</th>\n",
       "      <td>1341</td>\n",
       "      <td>Kaila</td>\n",
       "      <td>Andrews</td>\n",
       "      <td>28</td>\n",
       "      <td>Chicago-Naperville-Elgin, IL-IN-WI MSA</td>\n",
       "      <td>2018-06-17</td>\n",
       "      <td>surf</td>\n",
       "      <td>NaT</td>\n",
       "    </tr>\n",
       "  </tbody>\n",
       "</table>\n",
       "</div>"
      ],
      "text/plain": [
       "     user_id first_name last_name  age  \\\n",
       "341     1341      Kaila   Andrews   28   \n",
       "\n",
       "                                       city   reg_date  plan churn_date  \n",
       "341  Chicago-Naperville-Elgin, IL-IN-WI MSA 2018-06-17  surf        NaT  "
      ]
     },
     "execution_count": 9,
     "metadata": {},
     "output_type": "execute_result"
    }
   ],
   "source": [
    "# Cambia el tipo de datos de las columnas 'eg_date' y 'churn_date' a datetime\n",
    "users['reg_date']=pd.to_datetime(users['reg_date'], format='%Y-%m-%d')\n",
    "users['churn_date']=pd.to_datetime(users['churn_date'], format='%Y-%m-%d')\n",
    "users.info()\n",
    "users.sample()"
   ]
  },
  {
   "cell_type": "markdown",
   "metadata": {},
   "source": [
    "\n",
    "<div class=\"alert alert-block alert-warning\">\n",
    "<b>Comentario Revisor</b> <a class=\"tocSkip\"></a>\n",
    "\n",
    "En todos los casos en los que cambiamos el tipo de variable a datetime, te recomiendo agregar el argumento \"format='%Y-%m-%d'\" dentro de la función to_datetime(). De esta manera, puedes asegurarte siempre de que el formato de la fecha que deseas cambiar sea el que necesitas.\n",
    "</div>"
   ]
  },
  {
   "cell_type": "markdown",
   "metadata": {},
   "source": [
    "<div class=\"alert alert-block alert-info\">\n",
    "<b>Comentario del estudiante</b> <a class=\"tocSkip\"></a>\n",
    "\n",
    "Gracias. Se agregó el argumento -format='%Y-%m-%d'- a la función to_datetime(), en las columnas de las cuatro tablas que usan ese tipo de datos: users['reg_date'], users['churn_date'], calls['call_date'], messages['message_date'] y internet['session_date'].\n",
    "</div>"
   ]
  },
  {
   "cell_type": "markdown",
   "metadata": {},
   "source": [
    "<div class=\"alert alert-block alert-success\">\n",
    "<b>Comentario revisor</b> <a class=\"tocSkip\"></a>\n",
    "\n",
    "Gran trabajo con los ajustes!"
   ]
  },
  {
   "cell_type": "markdown",
   "metadata": {
    "id": "o7MeKCid0q08"
   },
   "source": [
    "## Llamadas / tabla calls"
   ]
  },
  {
   "cell_type": "code",
   "execution_count": 10,
   "metadata": {
    "id": "6dDlnoDm0q08"
   },
   "outputs": [
    {
     "name": "stdout",
     "output_type": "stream",
     "text": [
      "<class 'pandas.core.frame.DataFrame'>\n",
      "RangeIndex: 137735 entries, 0 to 137734\n",
      "Data columns (total 4 columns):\n",
      " #   Column     Non-Null Count   Dtype  \n",
      "---  ------     --------------   -----  \n",
      " 0   id         137735 non-null  object \n",
      " 1   user_id    137735 non-null  int64  \n",
      " 2   call_date  137735 non-null  object \n",
      " 3   duration   137735 non-null  float64\n",
      "dtypes: float64(1), int64(1), object(2)\n",
      "memory usage: 4.2+ MB\n"
     ]
    }
   ],
   "source": [
    "# Imprime la información general/resumida sobre el DataFrame de las llamadas\n",
    "calls.info()"
   ]
  },
  {
   "cell_type": "code",
   "execution_count": 11,
   "metadata": {
    "id": "kuh1vlNB0q09"
   },
   "outputs": [
    {
     "data": {
      "text/html": [
       "<div>\n",
       "<style scoped>\n",
       "    .dataframe tbody tr th:only-of-type {\n",
       "        vertical-align: middle;\n",
       "    }\n",
       "\n",
       "    .dataframe tbody tr th {\n",
       "        vertical-align: top;\n",
       "    }\n",
       "\n",
       "    .dataframe thead th {\n",
       "        text-align: right;\n",
       "    }\n",
       "</style>\n",
       "<table border=\"1\" class=\"dataframe\">\n",
       "  <thead>\n",
       "    <tr style=\"text-align: right;\">\n",
       "      <th></th>\n",
       "      <th>id</th>\n",
       "      <th>user_id</th>\n",
       "      <th>call_date</th>\n",
       "      <th>duration</th>\n",
       "    </tr>\n",
       "  </thead>\n",
       "  <tbody>\n",
       "    <tr>\n",
       "      <th>18275</th>\n",
       "      <td>1071_19</td>\n",
       "      <td>1071</td>\n",
       "      <td>2018-11-13</td>\n",
       "      <td>13.0</td>\n",
       "    </tr>\n",
       "  </tbody>\n",
       "</table>\n",
       "</div>"
      ],
      "text/plain": [
       "            id  user_id   call_date  duration\n",
       "18275  1071_19     1071  2018-11-13      13.0"
      ]
     },
     "execution_count": 11,
     "metadata": {},
     "output_type": "execute_result"
    }
   ],
   "source": [
    "# Imprime una muestra de datos para las llamadas\n",
    "calls.sample()"
   ]
  },
  {
   "cell_type": "raw",
   "metadata": {
    "id": "mEc_3_hs0q02"
   },
   "source": [
    "OBSERVACIONES GENERALES DE LA TABLA CALLS:\n",
    "\n",
    "Los tipo de datos de cada columna me parecen correctos, a excepción de la columna 'call_date' que debería ser de tipo datetime64.\n",
    "\n",
    "El tipo de datos de la columna 'id' es object, que incluye el número de usuario y el número de llamada separados por guión bajo, por lo tanto se debe mantener ese tipo de datos.\n",
    "\n",
    "Se observa que no hay datos ausentes en ninguna columna."
   ]
  },
  {
   "cell_type": "markdown",
   "metadata": {
    "id": "S7hzxmbX0q0-"
   },
   "source": [
    "### Corregir los datos"
   ]
  },
  {
   "cell_type": "code",
   "execution_count": 12,
   "metadata": {
    "id": "S2r8xA4f0q0-"
   },
   "outputs": [
    {
     "name": "stdout",
     "output_type": "stream",
     "text": [
      "<class 'pandas.core.frame.DataFrame'>\n",
      "RangeIndex: 137735 entries, 0 to 137734\n",
      "Data columns (total 4 columns):\n",
      " #   Column     Non-Null Count   Dtype         \n",
      "---  ------     --------------   -----         \n",
      " 0   id         137735 non-null  object        \n",
      " 1   user_id    137735 non-null  int64         \n",
      " 2   call_date  137735 non-null  datetime64[ns]\n",
      " 3   duration   137735 non-null  float64       \n",
      "dtypes: datetime64[ns](1), float64(1), int64(1), object(1)\n",
      "memory usage: 4.2+ MB\n"
     ]
    }
   ],
   "source": [
    "# Cambia el tipo de datos de las columnas 'call_date' a datetime\n",
    "calls['call_date']=pd.to_datetime(calls['call_date'], format='%Y-%m-%d')\n",
    "calls.info()"
   ]
  },
  {
   "cell_type": "markdown",
   "metadata": {
    "id": "KrMgTrlG0q0_"
   },
   "source": [
    "### Enriquecer los datos"
   ]
  },
  {
   "cell_type": "code",
   "execution_count": 13,
   "metadata": {
    "id": "iZ1avpA_0q0_"
   },
   "outputs": [
    {
     "name": "stdout",
     "output_type": "stream",
     "text": [
      "<class 'pandas.core.frame.DataFrame'>\n",
      "RangeIndex: 137735 entries, 0 to 137734\n",
      "Data columns (total 5 columns):\n",
      " #   Column     Non-Null Count   Dtype         \n",
      "---  ------     --------------   -----         \n",
      " 0   id         137735 non-null  object        \n",
      " 1   user_id    137735 non-null  int64         \n",
      " 2   call_date  137735 non-null  datetime64[ns]\n",
      " 3   duration   137735 non-null  float64       \n",
      " 4   month      137735 non-null  int64         \n",
      "dtypes: datetime64[ns](1), float64(1), int64(2), object(1)\n",
      "memory usage: 5.3+ MB\n"
     ]
    },
    {
     "data": {
      "text/html": [
       "<div>\n",
       "<style scoped>\n",
       "    .dataframe tbody tr th:only-of-type {\n",
       "        vertical-align: middle;\n",
       "    }\n",
       "\n",
       "    .dataframe tbody tr th {\n",
       "        vertical-align: top;\n",
       "    }\n",
       "\n",
       "    .dataframe thead th {\n",
       "        text-align: right;\n",
       "    }\n",
       "</style>\n",
       "<table border=\"1\" class=\"dataframe\">\n",
       "  <thead>\n",
       "    <tr style=\"text-align: right;\">\n",
       "      <th></th>\n",
       "      <th>id</th>\n",
       "      <th>user_id</th>\n",
       "      <th>call_date</th>\n",
       "      <th>duration</th>\n",
       "      <th>month</th>\n",
       "    </tr>\n",
       "  </thead>\n",
       "  <tbody>\n",
       "    <tr>\n",
       "      <th>35169</th>\n",
       "      <td>1132_565</td>\n",
       "      <td>1132</td>\n",
       "      <td>2018-05-20</td>\n",
       "      <td>9.76</td>\n",
       "      <td>5</td>\n",
       "    </tr>\n",
       "  </tbody>\n",
       "</table>\n",
       "</div>"
      ],
      "text/plain": [
       "             id  user_id  call_date  duration  month\n",
       "35169  1132_565     1132 2018-05-20      9.76      5"
      ]
     },
     "execution_count": 13,
     "metadata": {},
     "output_type": "execute_result"
    }
   ],
   "source": [
    "calls['month'] = calls['call_date'].dt.month\n",
    "calls.info()\n",
    "calls.sample()"
   ]
  },
  {
   "cell_type": "markdown",
   "metadata": {},
   "source": [
    "<div class=\"alert alert-block alert-warning\">\n",
    "<b>Comentario Revisor</b> <a class=\"tocSkip\"></a>\n",
    "\n",
    "Qué podríamos decir hasta el momento de las llamadas que tienen una duración de 0?\n",
    "</div>"
   ]
  },
  {
   "cell_type": "markdown",
   "metadata": {},
   "source": [
    "<div class=\"alert alert-block alert-info\">\n",
    "<b>Comentario del estudiante</b> <a class=\"tocSkip\"></a>\n",
    "\n",
    "Gracias por la observación, a continuación:\n",
    "    \n",
    "- Observamos que el porcentaje de llamadas con una duración de 0, es del 19% con respecto al total de llamadas. Es demasiado alto. Puede deberse a errores en las llamada o posiblemente llamadas que no son respondidas.\n",
    "    \n",
    "- Se  lleva a cabo la modificación de la tabla 'calls', seleccionando mediante un filtro sólo las filas que tienen en la columna 'duration' un valor diferente de 0.\n",
    "    \n",
    "- Debido a este cambio, hubo la necesidad de revisar y ajustar los análisis que utilizan este dato a lo largo del proyecto, ya que en algunos casos la información se alteró.\n",
    "</div>"
   ]
  },
  {
   "cell_type": "markdown",
   "metadata": {},
   "source": [
    "<div class=\"alert alert-block alert-success\">\n",
    "<b>Comentario revisor</b> <a class=\"tocSkip\"></a>\n",
    "\n",
    "Gran trabajo con los ajustes!"
   ]
  },
  {
   "cell_type": "code",
   "execution_count": 14,
   "metadata": {
    "id": "iZ1avpA_0q0_"
   },
   "outputs": [
    {
     "name": "stdout",
     "output_type": "stream",
     "text": [
      "Total de llamadas: 137735\n",
      "Total de llamadas con duración de 0: 26834\n",
      "Total de llamadas con duración diferente de 0: 110901\n",
      "Porcentaje de llamadas con duración de 0: 0.1948233927469416\n"
     ]
    }
   ],
   "source": [
    "# Determinar la cantidad de llamadas con una ducación = 0 por usuario.\n",
    "calls_0 = calls[calls['duration']==0]\n",
    "\n",
    "calls_count = calls['id'].count()\n",
    "calls_count_0 = calls_0['id'].count()\n",
    "\n",
    "print('Total de llamadas:', calls_count)\n",
    "print('Total de llamadas con duración de 0:', calls_count_0)\n",
    "print('Total de llamadas con duración diferente de 0:', calls_count-calls_count_0)\n",
    "print('Porcentaje de llamadas con duración de 0:', calls_count_0/calls_count)"
   ]
  },
  {
   "cell_type": "code",
   "execution_count": 15,
   "metadata": {
    "id": "iZ1avpA_0q0_"
   },
   "outputs": [
    {
     "name": "stdout",
     "output_type": "stream",
     "text": [
      "<class 'pandas.core.frame.DataFrame'>\n",
      "Int64Index: 110901 entries, 0 to 137734\n",
      "Data columns (total 5 columns):\n",
      " #   Column     Non-Null Count   Dtype         \n",
      "---  ------     --------------   -----         \n",
      " 0   id         110901 non-null  object        \n",
      " 1   user_id    110901 non-null  int64         \n",
      " 2   call_date  110901 non-null  datetime64[ns]\n",
      " 3   duration   110901 non-null  float64       \n",
      " 4   month      110901 non-null  int64         \n",
      "dtypes: datetime64[ns](1), float64(1), int64(2), object(1)\n",
      "memory usage: 5.1+ MB\n"
     ]
    }
   ],
   "source": [
    "# Filtro la tabla calls, sólo con las filas que tienen en la columna 'duration' un valor diferente a 0:\n",
    "calls = calls[calls['duration'] != 0]\n",
    "calls.info()"
   ]
  },
  {
   "cell_type": "markdown",
   "metadata": {
    "id": "mOUZSi180q0_"
   },
   "source": [
    "## Mensajes / tabla messages"
   ]
  },
  {
   "cell_type": "code",
   "execution_count": 16,
   "metadata": {
    "id": "R-bYJpdV0q1A"
   },
   "outputs": [
    {
     "name": "stdout",
     "output_type": "stream",
     "text": [
      "<class 'pandas.core.frame.DataFrame'>\n",
      "RangeIndex: 76051 entries, 0 to 76050\n",
      "Data columns (total 3 columns):\n",
      " #   Column        Non-Null Count  Dtype \n",
      "---  ------        --------------  ----- \n",
      " 0   id            76051 non-null  object\n",
      " 1   user_id       76051 non-null  int64 \n",
      " 2   message_date  76051 non-null  object\n",
      "dtypes: int64(1), object(2)\n",
      "memory usage: 1.7+ MB\n"
     ]
    }
   ],
   "source": [
    "# Imprime la información general/resumida sobre el DataFrame de los mensajes\n",
    "messages.info()"
   ]
  },
  {
   "cell_type": "code",
   "execution_count": 17,
   "metadata": {
    "id": "mCEl2iGE0q1A"
   },
   "outputs": [
    {
     "data": {
      "text/html": [
       "<div>\n",
       "<style scoped>\n",
       "    .dataframe tbody tr th:only-of-type {\n",
       "        vertical-align: middle;\n",
       "    }\n",
       "\n",
       "    .dataframe tbody tr th {\n",
       "        vertical-align: top;\n",
       "    }\n",
       "\n",
       "    .dataframe thead th {\n",
       "        text-align: right;\n",
       "    }\n",
       "</style>\n",
       "<table border=\"1\" class=\"dataframe\">\n",
       "  <thead>\n",
       "    <tr style=\"text-align: right;\">\n",
       "      <th></th>\n",
       "      <th>id</th>\n",
       "      <th>user_id</th>\n",
       "      <th>message_date</th>\n",
       "    </tr>\n",
       "  </thead>\n",
       "  <tbody>\n",
       "    <tr>\n",
       "      <th>48644</th>\n",
       "      <td>1326_181</td>\n",
       "      <td>1326</td>\n",
       "      <td>2018-09-22</td>\n",
       "    </tr>\n",
       "  </tbody>\n",
       "</table>\n",
       "</div>"
      ],
      "text/plain": [
       "             id  user_id message_date\n",
       "48644  1326_181     1326   2018-09-22"
      ]
     },
     "execution_count": 17,
     "metadata": {},
     "output_type": "execute_result"
    }
   ],
   "source": [
    "# Imprime una muestra de datos para los mensajes\n",
    "messages.sample()"
   ]
  },
  {
   "cell_type": "raw",
   "metadata": {
    "id": "mEc_3_hs0q02"
   },
   "source": [
    "OBSERVACIONES GENERALES DE LA TABLA MESSAGES:\n",
    "\n",
    "No hay datos ausentes en ninguna fila.\n",
    "\n",
    "Los tipo de datos de cada columna me parecen correctos, a excepción de la columna 'message_date' que debería ser de tipo datetime64.\n",
    "\n",
    "El tipo de datos de la columna 'id' es object, que incluye el número de usuario y el número de mensaje separados por guión bajo, por lo tanto se debe mantener ese tipo de datos."
   ]
  },
  {
   "cell_type": "markdown",
   "metadata": {
    "id": "Sprfak900q1B"
   },
   "source": [
    "### Corregir los datos"
   ]
  },
  {
   "cell_type": "code",
   "execution_count": 18,
   "metadata": {
    "id": "vsllvkoa0q1B"
   },
   "outputs": [
    {
     "name": "stdout",
     "output_type": "stream",
     "text": [
      "<class 'pandas.core.frame.DataFrame'>\n",
      "RangeIndex: 76051 entries, 0 to 76050\n",
      "Data columns (total 3 columns):\n",
      " #   Column        Non-Null Count  Dtype         \n",
      "---  ------        --------------  -----         \n",
      " 0   id            76051 non-null  object        \n",
      " 1   user_id       76051 non-null  int64         \n",
      " 2   message_date  76051 non-null  datetime64[ns]\n",
      "dtypes: datetime64[ns](1), int64(1), object(1)\n",
      "memory usage: 1.7+ MB\n"
     ]
    }
   ],
   "source": [
    "#Se modifica el tipo de datos de la columna 'message_date' a datetime64.\n",
    "messages['message_date']=pd.to_datetime(messages['message_date'], format='%Y-%m-%d')\n",
    "messages.info()"
   ]
  },
  {
   "cell_type": "markdown",
   "metadata": {
    "id": "HvLid7iD0q1B"
   },
   "source": [
    "### Enriquecer los datos"
   ]
  },
  {
   "cell_type": "code",
   "execution_count": 19,
   "metadata": {
    "id": "zYEXZac10q1C"
   },
   "outputs": [
    {
     "name": "stdout",
     "output_type": "stream",
     "text": [
      "<class 'pandas.core.frame.DataFrame'>\n",
      "RangeIndex: 76051 entries, 0 to 76050\n",
      "Data columns (total 4 columns):\n",
      " #   Column        Non-Null Count  Dtype         \n",
      "---  ------        --------------  -----         \n",
      " 0   id            76051 non-null  object        \n",
      " 1   user_id       76051 non-null  int64         \n",
      " 2   message_date  76051 non-null  datetime64[ns]\n",
      " 3   month         76051 non-null  int64         \n",
      "dtypes: datetime64[ns](1), int64(2), object(1)\n",
      "memory usage: 2.3+ MB\n"
     ]
    },
    {
     "data": {
      "text/html": [
       "<div>\n",
       "<style scoped>\n",
       "    .dataframe tbody tr th:only-of-type {\n",
       "        vertical-align: middle;\n",
       "    }\n",
       "\n",
       "    .dataframe tbody tr th {\n",
       "        vertical-align: top;\n",
       "    }\n",
       "\n",
       "    .dataframe thead th {\n",
       "        text-align: right;\n",
       "    }\n",
       "</style>\n",
       "<table border=\"1\" class=\"dataframe\">\n",
       "  <thead>\n",
       "    <tr style=\"text-align: right;\">\n",
       "      <th></th>\n",
       "      <th>id</th>\n",
       "      <th>user_id</th>\n",
       "      <th>message_date</th>\n",
       "      <th>month</th>\n",
       "    </tr>\n",
       "  </thead>\n",
       "  <tbody>\n",
       "    <tr>\n",
       "      <th>9771</th>\n",
       "      <td>1075_26</td>\n",
       "      <td>1075</td>\n",
       "      <td>2018-10-06</td>\n",
       "      <td>10</td>\n",
       "    </tr>\n",
       "  </tbody>\n",
       "</table>\n",
       "</div>"
      ],
      "text/plain": [
       "           id  user_id message_date  month\n",
       "9771  1075_26     1075   2018-10-06     10"
      ]
     },
     "execution_count": 19,
     "metadata": {},
     "output_type": "execute_result"
    }
   ],
   "source": [
    "#Se crea la columna 'month' para poder calcular cantidad de mensajes por mes.\n",
    "messages['month'] = messages['message_date'].dt.month\n",
    "messages.info()\n",
    "messages.sample()"
   ]
  },
  {
   "cell_type": "markdown",
   "metadata": {
    "id": "bStkaxn40q1C"
   },
   "source": [
    "## Internet / tabla internet"
   ]
  },
  {
   "cell_type": "code",
   "execution_count": 20,
   "metadata": {
    "id": "e-Uz5qyn0q1C"
   },
   "outputs": [
    {
     "name": "stdout",
     "output_type": "stream",
     "text": [
      "<class 'pandas.core.frame.DataFrame'>\n",
      "RangeIndex: 104825 entries, 0 to 104824\n",
      "Data columns (total 4 columns):\n",
      " #   Column        Non-Null Count   Dtype  \n",
      "---  ------        --------------   -----  \n",
      " 0   id            104825 non-null  object \n",
      " 1   user_id       104825 non-null  int64  \n",
      " 2   session_date  104825 non-null  object \n",
      " 3   mb_used       104825 non-null  float64\n",
      "dtypes: float64(1), int64(1), object(2)\n",
      "memory usage: 3.2+ MB\n"
     ]
    }
   ],
   "source": [
    "# Imprime la información general/resumida sobre el DataFrame de internet\n",
    "internet.info()"
   ]
  },
  {
   "cell_type": "code",
   "execution_count": 21,
   "metadata": {
    "id": "9r3x_XLw0q1C"
   },
   "outputs": [
    {
     "data": {
      "text/html": [
       "<div>\n",
       "<style scoped>\n",
       "    .dataframe tbody tr th:only-of-type {\n",
       "        vertical-align: middle;\n",
       "    }\n",
       "\n",
       "    .dataframe tbody tr th {\n",
       "        vertical-align: top;\n",
       "    }\n",
       "\n",
       "    .dataframe thead th {\n",
       "        text-align: right;\n",
       "    }\n",
       "</style>\n",
       "<table border=\"1\" class=\"dataframe\">\n",
       "  <thead>\n",
       "    <tr style=\"text-align: right;\">\n",
       "      <th></th>\n",
       "      <th>id</th>\n",
       "      <th>user_id</th>\n",
       "      <th>session_date</th>\n",
       "      <th>mb_used</th>\n",
       "    </tr>\n",
       "  </thead>\n",
       "  <tbody>\n",
       "    <tr>\n",
       "      <th>86638</th>\n",
       "      <td>1402_167</td>\n",
       "      <td>1402</td>\n",
       "      <td>2018-09-14</td>\n",
       "      <td>428.39</td>\n",
       "    </tr>\n",
       "  </tbody>\n",
       "</table>\n",
       "</div>"
      ],
      "text/plain": [
       "             id  user_id session_date  mb_used\n",
       "86638  1402_167     1402   2018-09-14   428.39"
      ]
     },
     "execution_count": 21,
     "metadata": {},
     "output_type": "execute_result"
    }
   ],
   "source": [
    "# Imprime una muestra de datos para el tráfico de internet\n",
    "internet.sample()"
   ]
  },
  {
   "cell_type": "raw",
   "metadata": {
    "id": "mEc_3_hs0q02"
   },
   "source": [
    "OBSERVACIONES GENERALES DE LA TABLA INTERNET:\n",
    "\n",
    "No hay datos ausentes en ninguna fila.\n",
    "\n",
    "Los tipo de datos de cada columna me parecen correctos, a excepción de la columna 'session_date' que debería ser de tipo datetime64.\n",
    "\n",
    "El tipo de datos de la columna 'id' es object, que incluye el número de usuario y el número seseión de internet separados por guión bajo, por lo tanto se debe mantener ese tipo de datos.\n",
    "\n",
    "Se consideera necesario redondear los registros de la columna 'mb_used' hacia el valor superior, con el fin de hacer de manera correcta "
   ]
  },
  {
   "cell_type": "markdown",
   "metadata": {
    "id": "yA0tkPFg0q1D"
   },
   "source": [
    "### Corregir los datos"
   ]
  },
  {
   "cell_type": "code",
   "execution_count": 22,
   "metadata": {
    "id": "zVeanzdd0q1E"
   },
   "outputs": [
    {
     "name": "stdout",
     "output_type": "stream",
     "text": [
      "<class 'pandas.core.frame.DataFrame'>\n",
      "RangeIndex: 104825 entries, 0 to 104824\n",
      "Data columns (total 4 columns):\n",
      " #   Column        Non-Null Count   Dtype         \n",
      "---  ------        --------------   -----         \n",
      " 0   id            104825 non-null  object        \n",
      " 1   user_id       104825 non-null  int64         \n",
      " 2   session_date  104825 non-null  datetime64[ns]\n",
      " 3   mb_used       104825 non-null  float64       \n",
      "dtypes: datetime64[ns](1), float64(1), int64(1), object(1)\n",
      "memory usage: 3.2+ MB\n"
     ]
    }
   ],
   "source": [
    "#Se modifica el tipo de datos de la columna 'session_date' a datetime64.\n",
    "internet['session_date'] = pd.to_datetime(internet['session_date'], format='%Y-%m-%d')\n",
    "internet.info()"
   ]
  },
  {
   "cell_type": "markdown",
   "metadata": {
    "id": "e8_mLF4a0q1E"
   },
   "source": [
    "### Enriquecer los datos"
   ]
  },
  {
   "cell_type": "code",
   "execution_count": 23,
   "metadata": {
    "id": "ESiYPIEK0q1E"
   },
   "outputs": [
    {
     "name": "stdout",
     "output_type": "stream",
     "text": [
      "<class 'pandas.core.frame.DataFrame'>\n",
      "RangeIndex: 104825 entries, 0 to 104824\n",
      "Data columns (total 5 columns):\n",
      " #   Column        Non-Null Count   Dtype         \n",
      "---  ------        --------------   -----         \n",
      " 0   id            104825 non-null  object        \n",
      " 1   user_id       104825 non-null  int64         \n",
      " 2   session_date  104825 non-null  datetime64[ns]\n",
      " 3   mb_used       104825 non-null  float64       \n",
      " 4   month         104825 non-null  int64         \n",
      "dtypes: datetime64[ns](1), float64(1), int64(2), object(1)\n",
      "memory usage: 4.0+ MB\n"
     ]
    },
    {
     "data": {
      "text/html": [
       "<div>\n",
       "<style scoped>\n",
       "    .dataframe tbody tr th:only-of-type {\n",
       "        vertical-align: middle;\n",
       "    }\n",
       "\n",
       "    .dataframe tbody tr th {\n",
       "        vertical-align: top;\n",
       "    }\n",
       "\n",
       "    .dataframe thead th {\n",
       "        text-align: right;\n",
       "    }\n",
       "</style>\n",
       "<table border=\"1\" class=\"dataframe\">\n",
       "  <thead>\n",
       "    <tr style=\"text-align: right;\">\n",
       "      <th></th>\n",
       "      <th>id</th>\n",
       "      <th>user_id</th>\n",
       "      <th>session_date</th>\n",
       "      <th>mb_used</th>\n",
       "      <th>month</th>\n",
       "    </tr>\n",
       "  </thead>\n",
       "  <tbody>\n",
       "    <tr>\n",
       "      <th>0</th>\n",
       "      <td>1000_13</td>\n",
       "      <td>1000</td>\n",
       "      <td>2018-12-29</td>\n",
       "      <td>89.86</td>\n",
       "      <td>12</td>\n",
       "    </tr>\n",
       "    <tr>\n",
       "      <th>1</th>\n",
       "      <td>1000_204</td>\n",
       "      <td>1000</td>\n",
       "      <td>2018-12-31</td>\n",
       "      <td>0.00</td>\n",
       "      <td>12</td>\n",
       "    </tr>\n",
       "    <tr>\n",
       "      <th>2</th>\n",
       "      <td>1000_379</td>\n",
       "      <td>1000</td>\n",
       "      <td>2018-12-28</td>\n",
       "      <td>660.40</td>\n",
       "      <td>12</td>\n",
       "    </tr>\n",
       "    <tr>\n",
       "      <th>3</th>\n",
       "      <td>1000_413</td>\n",
       "      <td>1000</td>\n",
       "      <td>2018-12-26</td>\n",
       "      <td>270.99</td>\n",
       "      <td>12</td>\n",
       "    </tr>\n",
       "    <tr>\n",
       "      <th>4</th>\n",
       "      <td>1000_442</td>\n",
       "      <td>1000</td>\n",
       "      <td>2018-12-27</td>\n",
       "      <td>880.22</td>\n",
       "      <td>12</td>\n",
       "    </tr>\n",
       "  </tbody>\n",
       "</table>\n",
       "</div>"
      ],
      "text/plain": [
       "         id  user_id session_date  mb_used  month\n",
       "0   1000_13     1000   2018-12-29    89.86     12\n",
       "1  1000_204     1000   2018-12-31     0.00     12\n",
       "2  1000_379     1000   2018-12-28   660.40     12\n",
       "3  1000_413     1000   2018-12-26   270.99     12\n",
       "4  1000_442     1000   2018-12-27   880.22     12"
      ]
     },
     "execution_count": 23,
     "metadata": {},
     "output_type": "execute_result"
    }
   ],
   "source": [
    "#Se crea la columna 'month' para poder calcular el volumen del tráfico de Internet usado por cada usuario al mes(más adelante).\n",
    "internet['month'] = internet['session_date'].dt.month\n",
    "internet.info()\n",
    "internet.head()"
   ]
  },
  {
   "cell_type": "markdown",
   "metadata": {},
   "source": [
    "<div class=\"alert alert-block alert-warning\">\n",
    "<b>Comentario revisor</b> <a class=\"tocSkip\"></a>\n",
    "\n",
    "\n",
    "Te recomiendo solamente comentar que cuando agrupemos los datos vamos a tener que redondear hacia arriba lo valores de la transformación de mbegabyter a gigabyte, para este ejercicio debemos hacer el redondeo superior dado que se cobra el costo extra en cuanto se pasa de los límites.Por lo que es necesario hacer la transformación de mb a gb y después hacer el redondeo.  \n",
    "</div>"
   ]
  },
  {
   "cell_type": "markdown",
   "metadata": {},
   "source": [
    "<div class=\"alert alert-block alert-info\">\n",
    "<b>Comentario del estudiante</b> <a class=\"tocSkip\"></a>\n",
    "\n",
    "Gracias por el comentario; debido a que aún no se han totalizado los mb_used consumidos por usuario, en este momento no se debe hacer la conversión a GB, esto concuerda con su recomendación: cuando se realice la agrupación, se realizará la conversión y redondeo de los datos. \n",
    "</div>"
   ]
  },
  {
   "cell_type": "markdown",
   "metadata": {},
   "source": [
    "<div class=\"alert alert-block alert-success\">\n",
    "<b>Comentario revisor</b> <a class=\"tocSkip\"></a>\n",
    "\n",
    "Gran trabajo con los ajustes!"
   ]
  },
  {
   "cell_type": "code",
   "execution_count": 24,
   "metadata": {
    "id": "ESiYPIEK0q1E"
   },
   "outputs": [
    {
     "name": "stdout",
     "output_type": "stream",
     "text": [
      "<class 'pandas.core.frame.DataFrame'>\n",
      "RangeIndex: 104825 entries, 0 to 104824\n",
      "Data columns (total 5 columns):\n",
      " #   Column        Non-Null Count   Dtype         \n",
      "---  ------        --------------   -----         \n",
      " 0   id            104825 non-null  object        \n",
      " 1   user_id       104825 non-null  int64         \n",
      " 2   session_date  104825 non-null  datetime64[ns]\n",
      " 3   mb_used       104825 non-null  float64       \n",
      " 4   month         104825 non-null  int64         \n",
      "dtypes: datetime64[ns](1), float64(1), int64(2), object(1)\n",
      "memory usage: 4.0+ MB\n"
     ]
    },
    {
     "data": {
      "text/html": [
       "<div>\n",
       "<style scoped>\n",
       "    .dataframe tbody tr th:only-of-type {\n",
       "        vertical-align: middle;\n",
       "    }\n",
       "\n",
       "    .dataframe tbody tr th {\n",
       "        vertical-align: top;\n",
       "    }\n",
       "\n",
       "    .dataframe thead th {\n",
       "        text-align: right;\n",
       "    }\n",
       "</style>\n",
       "<table border=\"1\" class=\"dataframe\">\n",
       "  <thead>\n",
       "    <tr style=\"text-align: right;\">\n",
       "      <th></th>\n",
       "      <th>id</th>\n",
       "      <th>user_id</th>\n",
       "      <th>session_date</th>\n",
       "      <th>mb_used</th>\n",
       "      <th>month</th>\n",
       "    </tr>\n",
       "  </thead>\n",
       "  <tbody>\n",
       "    <tr>\n",
       "      <th>0</th>\n",
       "      <td>1000_13</td>\n",
       "      <td>1000</td>\n",
       "      <td>2018-12-29</td>\n",
       "      <td>89.86</td>\n",
       "      <td>12</td>\n",
       "    </tr>\n",
       "    <tr>\n",
       "      <th>1</th>\n",
       "      <td>1000_204</td>\n",
       "      <td>1000</td>\n",
       "      <td>2018-12-31</td>\n",
       "      <td>0.00</td>\n",
       "      <td>12</td>\n",
       "    </tr>\n",
       "    <tr>\n",
       "      <th>2</th>\n",
       "      <td>1000_379</td>\n",
       "      <td>1000</td>\n",
       "      <td>2018-12-28</td>\n",
       "      <td>660.40</td>\n",
       "      <td>12</td>\n",
       "    </tr>\n",
       "    <tr>\n",
       "      <th>3</th>\n",
       "      <td>1000_413</td>\n",
       "      <td>1000</td>\n",
       "      <td>2018-12-26</td>\n",
       "      <td>270.99</td>\n",
       "      <td>12</td>\n",
       "    </tr>\n",
       "    <tr>\n",
       "      <th>4</th>\n",
       "      <td>1000_442</td>\n",
       "      <td>1000</td>\n",
       "      <td>2018-12-27</td>\n",
       "      <td>880.22</td>\n",
       "      <td>12</td>\n",
       "    </tr>\n",
       "  </tbody>\n",
       "</table>\n",
       "</div>"
      ],
      "text/plain": [
       "         id  user_id session_date  mb_used  month\n",
       "0   1000_13     1000   2018-12-29    89.86     12\n",
       "1  1000_204     1000   2018-12-31     0.00     12\n",
       "2  1000_379     1000   2018-12-28   660.40     12\n",
       "3  1000_413     1000   2018-12-26   270.99     12\n",
       "4  1000_442     1000   2018-12-27   880.22     12"
      ]
     },
     "execution_count": 24,
     "metadata": {},
     "output_type": "execute_result"
    }
   ],
   "source": [
    "#Se crea la columna 'month' para poder calcular el volumen del tráfico de Internet usado por cada usuario al mes(más adelante).\n",
    "#internet['mb_used'] = (internet['mb_used']/1024)\n",
    "internet.info()\n",
    "internet.head()"
   ]
  },
  {
   "cell_type": "markdown",
   "metadata": {
    "id": "3UA2cqIW0q1E"
   },
   "source": [
    "## Estudiar las condiciones de las tarifas"
   ]
  },
  {
   "cell_type": "markdown",
   "metadata": {
    "id": "T86Sqltq0q1F"
   },
   "source": [
    "Condiciones de cada tarifa:"
   ]
  },
  {
   "cell_type": "code",
   "execution_count": 25,
   "metadata": {
    "id": "i409op8p0q1F"
   },
   "outputs": [
    {
     "name": "stdout",
     "output_type": "stream",
     "text": [
      "\u001b[1mTARIFA SURF:\u001b[0m \n",
      "Pago mensual: $20\n",
      "Minutos mensuales: 500\n",
      "SMS mensuales: 50\n",
      "GB de datos mensuales: 15\n",
      "Pago adicional al exceder los límites del paquete:\n",
      "1 minuto: 3 centavos.\n",
      "1 SMS: 3 centavos.\n",
      "1 GB de datos: $10.\n",
      "\n",
      "\u001b[1mTARIFA ULTIMATE:\u001b[0m \n",
      "Pago mensual: $70\n",
      "Minutos mensuales: 3000\n",
      "SMS mensuales: 1000\n",
      "GB de datos mensuales: 30\n",
      "Pago adicional al exceder los límites del paquete:\n",
      "1 minuto: 1 centavo.\n",
      "1 SMS: 1 centavo.\n",
      "1 GB de datos: $7.\n"
     ]
    }
   ],
   "source": [
    "# Imprime las condiciones de la tarifa y asegúrate de que te quedan claras\n",
    "print(\"\\033[1mTARIFA SURF:\\033[0m \\nPago mensual: $20\\nMinutos mensuales: 500\\nSMS mensuales: 50\\nGB de datos mensuales: 15\\nPago adicional al exceder los límites del paquete:\\n1 minuto: 3 centavos.\\n1 SMS: 3 centavos.\\n1 GB de datos: $10.\\n\\n\\033[1mTARIFA ULTIMATE:\\033[0m \\nPago mensual: $70\\nMinutos mensuales: 3000\\nSMS mensuales: 1000\\nGB de datos mensuales: 30\\nPago adicional al exceder los límites del paquete:\\n1 minuto: 1 centavo.\\n1 SMS: 1 centavo.\\n1 GB de datos: $7.\")"
   ]
  },
  {
   "cell_type": "markdown",
   "metadata": {
    "id": "hMR1tP5d0q1F"
   },
   "source": [
    "## Agregar datos por usuario"
   ]
  },
  {
   "cell_type": "code",
   "execution_count": 26,
   "metadata": {
    "id": "A332cedB0q1G"
   },
   "outputs": [
    {
     "name": "stdout",
     "output_type": "stream",
     "text": [
      "  plan_ultimate    0\n",
      "0       user_id  161 \n",
      "\n",
      "  plan_surf    0\n",
      "0   user_id  339\n"
     ]
    }
   ],
   "source": [
    "# 1. Número de usuarios por plan:\n",
    "users_ultimate = users[users['plan']=='ultimate'][['user_id']].count().reset_index()\n",
    "users_ultimate.rename(columns={'index': 'plan_ultimate'}, inplace=True)\n",
    "print(users_ultimate,'\\n')\n",
    "\n",
    "users_surf = users[users['plan']=='surf'][['user_id']].count().reset_index()\n",
    "users_surf.rename(columns={'index': 'plan_surf'}, inplace=True)\n",
    "print(users_surf)"
   ]
  },
  {
   "cell_type": "code",
   "execution_count": 27,
   "metadata": {
    "id": "A332cedB0q1G"
   },
   "outputs": [
    {
     "name": "stdout",
     "output_type": "stream",
     "text": [
      "      user_id  month  num_calls\n",
      "0        1000     12         16\n",
      "1        1001      8         22\n",
      "2        1001      9         38\n",
      "3        1001     10         47\n",
      "4        1001     11         49\n",
      "...       ...    ...        ...\n",
      "2251     1498     12         32\n",
      "2252     1499      9         35\n",
      "2253     1499     10         41\n",
      "2254     1499     11         39\n",
      "2255     1499     12         56\n",
      "\n",
      "[2256 rows x 3 columns]\n"
     ]
    }
   ],
   "source": [
    "# 2. Cálculo del número de llamadas hechas por cada usuario al mes.\n",
    "calls_made = calls.groupby(['user_id','month'])['id'].count().reset_index()\n",
    "calls_made.rename(columns={'id': 'num_calls'}, inplace=True)\n",
    "print(calls_made)"
   ]
  },
  {
   "cell_type": "code",
   "execution_count": 28,
   "metadata": {
    "id": "aw2cmuql0q1G"
   },
   "outputs": [
    {
     "name": "stdout",
     "output_type": "stream",
     "text": [
      "      user_id  month  duration\n",
      "0        1000     12    116.83\n",
      "1        1001      8    171.14\n",
      "2        1001      9    297.69\n",
      "3        1001     10    374.11\n",
      "4        1001     11    404.59\n",
      "...       ...    ...       ...\n",
      "2251     1498     12    324.77\n",
      "2252     1499      9    330.37\n",
      "2253     1499     10    363.28\n",
      "2254     1499     11    288.56\n",
      "2255     1499     12    468.10\n",
      "\n",
      "[2256 rows x 3 columns]\n"
     ]
    }
   ],
   "source": [
    "# 3. Cálculo de la cantidad de minutos usados por cada usuario al mes.\n",
    "calls_duration = calls.groupby(['user_id','month'])['duration'].sum().reset_index()\n",
    "print(calls_duration)"
   ]
  },
  {
   "cell_type": "code",
   "execution_count": 29,
   "metadata": {
    "id": "A332cedB0q1G"
   },
   "outputs": [
    {
     "name": "stdout",
     "output_type": "stream",
     "text": [
      "     user_id month      sum    count\n",
      "                   duration duration\n",
      "0       1000    12   116.83       16\n",
      "1       1001     8   171.14       22\n",
      "2       1001     9   297.69       38\n",
      "3       1001    10   374.11       47\n",
      "4       1001    11   404.59       49\n",
      "...      ...   ...      ...      ...\n",
      "2251    1498    12   324.77       32\n",
      "2252    1499     9   330.37       35\n",
      "2253    1499    10   363.28       41\n",
      "2254    1499    11   288.56       39\n",
      "2255    1499    12   468.10       56\n",
      "\n",
      "[2256 rows x 4 columns]\n"
     ]
    }
   ],
   "source": [
    "# 4. Cálculo del número de llamadas hechas por cada usuario al mes (usando pivot de acuerdo a recomendación).\n",
    "pivot_calls = calls.pivot_table(index=['user_id', 'month'],\n",
    "                            values=['duration'],\n",
    "                            aggfunc=['sum','count']).reset_index()\n",
    "print(pivot_calls)"
   ]
  },
  {
   "cell_type": "markdown",
   "metadata": {},
   "source": [
    "\n",
    "<div class=\"alert alert-block alert-warning\">\n",
    "\n",
    "<b>Comentario revisor</b> <a class=\"tocSkip\"></a>\n",
    "\n",
    "Si bien es correcta la forma de agrupar para sacar la duración de las llamadas por cada ususario, para proximas ocasiones puedes hacer uso de la siguiente forma:\n",
    "    \n",
    "    pivot_calls = calls.pivot_table(index=['user_id', 'month'],\n",
    "                                values=['duration'],\n",
    "                                aggfunc=['sum','count']).reset_index()\n",
    "\n",
    "</div>"
   ]
  },
  {
   "cell_type": "markdown",
   "metadata": {},
   "source": [
    "<div class=\"alert alert-block alert-info\">\n",
    "<b>Comentario del estudiante</b> <a class=\"tocSkip\"></a>\n",
    "\n",
    "Muchas gracias por su recomendación, se realiza la agrupación de esta manera, se considera buena opción y se tendrá en cuenta para próximas ocasiones.\n",
    "</div>"
   ]
  },
  {
   "cell_type": "markdown",
   "metadata": {},
   "source": [
    "<div class=\"alert alert-block alert-success\">\n",
    "<b>Comentario revisor</b> <a class=\"tocSkip\"></a>\n",
    "\n",
    "Gran trabajo con los ajustes! En futuros proyectos puedes seguir explorando esta herramienta\n",
    "    "
   ]
  },
  {
   "cell_type": "code",
   "execution_count": 30,
   "metadata": {
    "id": "CcQvNHn60q1G"
   },
   "outputs": [
    {
     "name": "stdout",
     "output_type": "stream",
     "text": [
      "      user_id  month  num_sms\n",
      "0        1000     12       11\n",
      "1        1001      8       30\n",
      "2        1001      9       44\n",
      "3        1001     10       53\n",
      "4        1001     11       36\n",
      "...       ...    ...      ...\n",
      "1801     1496      9       21\n",
      "1802     1496     10       18\n",
      "1803     1496     11       13\n",
      "1804     1496     12       11\n",
      "1805     1497     12       50\n",
      "\n",
      "[1806 rows x 3 columns]\n"
     ]
    }
   ],
   "source": [
    "# 5. Cálculo del número de mensajes enviados por cada usuario al mes.\n",
    "msm_made = messages.groupby(['user_id','month'])['id'].count().reset_index()\n",
    "msm_made.rename(columns={'id': 'num_sms'}, inplace=True)\n",
    "print(msm_made)"
   ]
  },
  {
   "cell_type": "code",
   "execution_count": 31,
   "metadata": {
    "id": "H1AqN2eG0q1H"
   },
   "outputs": [
    {
     "name": "stdout",
     "output_type": "stream",
     "text": [
      "      user_id  month   mb_used  gb_used\n",
      "0        1000     12   1901.47      2.0\n",
      "1        1001      8   6919.15      7.0\n",
      "2        1001      9  13314.82     14.0\n",
      "3        1001     10  22330.49     22.0\n",
      "4        1001     11  18504.30     19.0\n",
      "...       ...    ...       ...      ...\n",
      "2272     1498     12  23137.69     23.0\n",
      "2273     1499      9  12984.76     13.0\n",
      "2274     1499     10  19492.43     20.0\n",
      "2275     1499     11  16813.83     17.0\n",
      "2276     1499     12  22059.21     22.0\n",
      "\n",
      "[2277 rows x 4 columns]\n"
     ]
    }
   ],
   "source": [
    "# 6. Cálculo del volumen del tráfico de Internet usado por cada usuario al mes.\n",
    "month_use = internet.groupby(['user_id', 'month'])['mb_used'].sum().reset_index()\n",
    "month_use['gb_used'] = np.ceil(month_use['mb_used']/1024)\n",
    "print(month_use)"
   ]
  },
  {
   "cell_type": "code",
   "execution_count": 32,
   "metadata": {
    "id": "FW99ykyf0q1H"
   },
   "outputs": [
    {
     "name": "stdout",
     "output_type": "stream",
     "text": [
      "<class 'pandas.core.frame.DataFrame'>\n",
      "Int64Index: 2293 entries, 0 to 2292\n",
      "Data columns (total 7 columns):\n",
      " #   Column     Non-Null Count  Dtype  \n",
      "---  ------     --------------  -----  \n",
      " 0   user_id    2293 non-null   int64  \n",
      " 1   month      2293 non-null   int64  \n",
      " 2   num_calls  2256 non-null   float64\n",
      " 3   duration   2256 non-null   float64\n",
      " 4   num_sms    1806 non-null   float64\n",
      " 5   mb_used    2277 non-null   float64\n",
      " 6   gb_used    2277 non-null   float64\n",
      "dtypes: float64(5), int64(2)\n",
      "memory usage: 143.3 KB\n"
     ]
    },
    {
     "data": {
      "text/html": [
       "<div>\n",
       "<style scoped>\n",
       "    .dataframe tbody tr th:only-of-type {\n",
       "        vertical-align: middle;\n",
       "    }\n",
       "\n",
       "    .dataframe tbody tr th {\n",
       "        vertical-align: top;\n",
       "    }\n",
       "\n",
       "    .dataframe thead th {\n",
       "        text-align: right;\n",
       "    }\n",
       "</style>\n",
       "<table border=\"1\" class=\"dataframe\">\n",
       "  <thead>\n",
       "    <tr style=\"text-align: right;\">\n",
       "      <th></th>\n",
       "      <th>user_id</th>\n",
       "      <th>month</th>\n",
       "      <th>num_calls</th>\n",
       "      <th>duration</th>\n",
       "      <th>num_sms</th>\n",
       "      <th>mb_used</th>\n",
       "      <th>gb_used</th>\n",
       "    </tr>\n",
       "  </thead>\n",
       "  <tbody>\n",
       "    <tr>\n",
       "      <th>2204</th>\n",
       "      <td>1490</td>\n",
       "      <td>10</td>\n",
       "      <td>34.0</td>\n",
       "      <td>238.28</td>\n",
       "      <td>NaN</td>\n",
       "      <td>36997.03</td>\n",
       "      <td>37.0</td>\n",
       "    </tr>\n",
       "  </tbody>\n",
       "</table>\n",
       "</div>"
      ],
      "text/plain": [
       "      user_id  month  num_calls  duration  num_sms   mb_used  gb_used\n",
       "2204     1490     10       34.0    238.28      NaN  36997.03     37.0"
      ]
     },
     "execution_count": 32,
     "metadata": {},
     "output_type": "execute_result"
    }
   ],
   "source": [
    "# 7. Fusión de los datos de llamadas, minutos, mensajes e Internet con base en user_id y month.\n",
    "call_dur = calls_made.merge(calls_duration, on=['user_id', 'month'], how='outer')\n",
    "call_dur_sms = call_dur.merge(msm_made, on=['user_id', 'month'], how='outer')\n",
    "call_dur_sms_net = call_dur_sms.merge(month_use, on=['user_id', 'month'], how='outer')\n",
    "call_dur_sms_net.info()\n",
    "call_dur_sms_net.sample()"
   ]
  },
  {
   "cell_type": "code",
   "execution_count": 33,
   "metadata": {
    "id": "0dNOXHag0q1H"
   },
   "outputs": [
    {
     "name": "stdout",
     "output_type": "stream",
     "text": [
      "<class 'pandas.core.frame.DataFrame'>\n",
      "Int64Index: 2303 entries, 0 to 2302\n",
      "Data columns (total 16 columns):\n",
      " #   Column                 Non-Null Count  Dtype  \n",
      "---  ------                 --------------  -----  \n",
      " 0   user_id                2303 non-null   int64  \n",
      " 1   month                  2293 non-null   float64\n",
      " 2   num_calls              2256 non-null   float64\n",
      " 3   duration               2256 non-null   float64\n",
      " 4   num_sms                1806 non-null   float64\n",
      " 5   mb_used                2277 non-null   float64\n",
      " 6   gb_used                2277 non-null   float64\n",
      " 7   plan                   2303 non-null   object \n",
      " 8   city                   2303 non-null   object \n",
      " 9   messages_included      2303 non-null   int64  \n",
      " 10  mb_per_month_included  2303 non-null   int64  \n",
      " 11  minutes_included       2303 non-null   int64  \n",
      " 12  usd_monthly_free       2303 non-null   int64  \n",
      " 13  usd_per_gb             2303 non-null   int64  \n",
      " 14  usd_per_message        2303 non-null   float64\n",
      " 15  usd_per_minute         2303 non-null   float64\n",
      "dtypes: float64(8), int64(6), object(2)\n",
      "memory usage: 305.9+ KB\n"
     ]
    },
    {
     "data": {
      "text/html": [
       "<div>\n",
       "<style scoped>\n",
       "    .dataframe tbody tr th:only-of-type {\n",
       "        vertical-align: middle;\n",
       "    }\n",
       "\n",
       "    .dataframe tbody tr th {\n",
       "        vertical-align: top;\n",
       "    }\n",
       "\n",
       "    .dataframe thead th {\n",
       "        text-align: right;\n",
       "    }\n",
       "</style>\n",
       "<table border=\"1\" class=\"dataframe\">\n",
       "  <thead>\n",
       "    <tr style=\"text-align: right;\">\n",
       "      <th></th>\n",
       "      <th>user_id</th>\n",
       "      <th>month</th>\n",
       "      <th>num_calls</th>\n",
       "      <th>duration</th>\n",
       "      <th>num_sms</th>\n",
       "      <th>mb_used</th>\n",
       "      <th>gb_used</th>\n",
       "      <th>plan</th>\n",
       "      <th>city</th>\n",
       "      <th>messages_included</th>\n",
       "      <th>mb_per_month_included</th>\n",
       "      <th>minutes_included</th>\n",
       "      <th>usd_monthly_free</th>\n",
       "      <th>usd_per_gb</th>\n",
       "      <th>usd_per_message</th>\n",
       "      <th>usd_per_minute</th>\n",
       "    </tr>\n",
       "  </thead>\n",
       "  <tbody>\n",
       "    <tr>\n",
       "      <th>721</th>\n",
       "      <td>1155</td>\n",
       "      <td>9.0</td>\n",
       "      <td>29.0</td>\n",
       "      <td>201.3</td>\n",
       "      <td>47.0</td>\n",
       "      <td>25109.6</td>\n",
       "      <td>25.0</td>\n",
       "      <td>ultimate</td>\n",
       "      <td>Miami-Fort Lauderdale-West Palm Beach, FL MSA</td>\n",
       "      <td>1000</td>\n",
       "      <td>30720</td>\n",
       "      <td>3000</td>\n",
       "      <td>70</td>\n",
       "      <td>7</td>\n",
       "      <td>0.01</td>\n",
       "      <td>0.01</td>\n",
       "    </tr>\n",
       "  </tbody>\n",
       "</table>\n",
       "</div>"
      ],
      "text/plain": [
       "     user_id  month  num_calls  duration  num_sms  mb_used  gb_used      plan  \\\n",
       "721     1155    9.0       29.0     201.3     47.0  25109.6     25.0  ultimate   \n",
       "\n",
       "                                              city  messages_included  \\\n",
       "721  Miami-Fort Lauderdale-West Palm Beach, FL MSA               1000   \n",
       "\n",
       "     mb_per_month_included  minutes_included  usd_monthly_free  usd_per_gb  \\\n",
       "721                  30720              3000                70           7   \n",
       "\n",
       "     usd_per_message  usd_per_minute  \n",
       "721             0.01            0.01  "
      ]
     },
     "execution_count": 33,
     "metadata": {},
     "output_type": "execute_result"
    }
   ],
   "source": [
    "# 8. Creación de tabla general que fusiona la información obtenida anteriormente, ciudad y la información de la tabla tarifa.\n",
    "plan_user = plans.merge(users, on='plan',how='outer')[['user_id','plan','city','messages_included','mb_per_month_included','minutes_included','usd_monthly_free','usd_per_gb','usd_per_message','usd_per_minute']]\n",
    "general_table = call_dur_sms_net.merge(plan_user, on='user_id',how='outer')\n",
    "general_table.info()\n",
    "general_table.sample()"
   ]
  },
  {
   "cell_type": "markdown",
   "metadata": {},
   "source": [
    "<div class=\"alert alert-block alert-success\">\n",
    "<b>Comentario del revisor</b> <a class=\"tocSkip\"></a>\n",
    "\n",
    "Muy buen trabajo!! el merge es correcto para unir todas las bases trabajadas.\n",
    "    \n",
    "</div>"
   ]
  },
  {
   "cell_type": "code",
   "execution_count": 34,
   "metadata": {
    "id": "5FGCf_c60q1I"
   },
   "outputs": [
    {
     "data": {
      "text/html": [
       "<div>\n",
       "<style scoped>\n",
       "    .dataframe tbody tr th:only-of-type {\n",
       "        vertical-align: middle;\n",
       "    }\n",
       "\n",
       "    .dataframe tbody tr th {\n",
       "        vertical-align: top;\n",
       "    }\n",
       "\n",
       "    .dataframe thead th {\n",
       "        text-align: right;\n",
       "    }\n",
       "</style>\n",
       "<table border=\"1\" class=\"dataframe\">\n",
       "  <thead>\n",
       "    <tr style=\"text-align: right;\">\n",
       "      <th></th>\n",
       "      <th>user_id</th>\n",
       "      <th>month</th>\n",
       "      <th>plan</th>\n",
       "      <th>ing_month</th>\n",
       "    </tr>\n",
       "  </thead>\n",
       "  <tbody>\n",
       "    <tr>\n",
       "      <th>1143</th>\n",
       "      <td>1249</td>\n",
       "      <td>8.0</td>\n",
       "      <td>ultimate</td>\n",
       "      <td>70.0</td>\n",
       "    </tr>\n",
       "  </tbody>\n",
       "</table>\n",
       "</div>"
      ],
      "text/plain": [
       "      user_id  month      plan  ing_month\n",
       "1143     1249    8.0  ultimate       70.0"
      ]
     },
     "execution_count": 34,
     "metadata": {},
     "output_type": "execute_result"
    }
   ],
   "source": [
    "# 9. Cálculo del ingreso mensual para cada usuario:\n",
    "\n",
    "# Creación de tres columnas en la tabla general_table (llamadas, mensajes e internet) con el cálculo de cobro adicional por servicio y usuario:\n",
    "general_table['ing_calls'] = (general_table['duration'] - general_table['minutes_included']).clip(lower=0) * general_table['usd_per_minute']\n",
    "general_table['ing_sms'] = (general_table['num_sms'] - general_table['messages_included']).clip(lower=0) * general_table['usd_per_message']\n",
    "general_table['ing_net'] = ((general_table['mb_used'] - general_table['mb_per_month_included']) / 1024).clip(lower=0) * general_table['usd_per_gb']\n",
    "\n",
    "# Crea la columna con el cálculo del ingreso mensual: Suma la tarifa fija y los cobros adicionales por cada servicio:\n",
    "general_table['ing_month'] = general_table['usd_monthly_free'] + general_table['ing_calls'] + general_table['ing_sms'] + general_table['ing_net']\n",
    "\n",
    "#Imprime ingresos por usuario, mes y plan:\n",
    "general_table[['user_id', 'month', 'plan', 'ing_month']].round(2).sample()"
   ]
  },
  {
   "cell_type": "code",
   "execution_count": 35,
   "metadata": {},
   "outputs": [
    {
     "name": "stdout",
     "output_type": "stream",
     "text": [
      "<class 'pandas.core.frame.DataFrame'>\n",
      "Int64Index: 2303 entries, 0 to 2302\n",
      "Data columns (total 20 columns):\n",
      " #   Column                 Non-Null Count  Dtype  \n",
      "---  ------                 --------------  -----  \n",
      " 0   user_id                2303 non-null   int64  \n",
      " 1   month                  2293 non-null   float64\n",
      " 2   num_calls              2256 non-null   float64\n",
      " 3   duration               2256 non-null   float64\n",
      " 4   num_sms                1806 non-null   float64\n",
      " 5   mb_used                2277 non-null   float64\n",
      " 6   gb_used                2277 non-null   float64\n",
      " 7   plan                   2303 non-null   object \n",
      " 8   city                   2303 non-null   object \n",
      " 9   messages_included      2303 non-null   int64  \n",
      " 10  mb_per_month_included  2303 non-null   int64  \n",
      " 11  minutes_included       2303 non-null   int64  \n",
      " 12  usd_monthly_free       2303 non-null   int64  \n",
      " 13  usd_per_gb             2303 non-null   int64  \n",
      " 14  usd_per_message        2303 non-null   float64\n",
      " 15  usd_per_minute         2303 non-null   float64\n",
      " 16  ing_calls              2256 non-null   float64\n",
      " 17  ing_sms                1806 non-null   float64\n",
      " 18  ing_net                2277 non-null   float64\n",
      " 19  ing_month              1758 non-null   float64\n",
      "dtypes: float64(12), int64(6), object(2)\n",
      "memory usage: 377.8+ KB\n"
     ]
    },
    {
     "data": {
      "text/html": [
       "<div>\n",
       "<style scoped>\n",
       "    .dataframe tbody tr th:only-of-type {\n",
       "        vertical-align: middle;\n",
       "    }\n",
       "\n",
       "    .dataframe tbody tr th {\n",
       "        vertical-align: top;\n",
       "    }\n",
       "\n",
       "    .dataframe thead th {\n",
       "        text-align: right;\n",
       "    }\n",
       "</style>\n",
       "<table border=\"1\" class=\"dataframe\">\n",
       "  <thead>\n",
       "    <tr style=\"text-align: right;\">\n",
       "      <th></th>\n",
       "      <th>user_id</th>\n",
       "      <th>month</th>\n",
       "      <th>num_calls</th>\n",
       "      <th>duration</th>\n",
       "      <th>num_sms</th>\n",
       "      <th>mb_used</th>\n",
       "      <th>gb_used</th>\n",
       "      <th>plan</th>\n",
       "      <th>city</th>\n",
       "      <th>messages_included</th>\n",
       "      <th>mb_per_month_included</th>\n",
       "      <th>minutes_included</th>\n",
       "      <th>usd_monthly_free</th>\n",
       "      <th>usd_per_gb</th>\n",
       "      <th>usd_per_message</th>\n",
       "      <th>usd_per_minute</th>\n",
       "      <th>ing_calls</th>\n",
       "      <th>ing_sms</th>\n",
       "      <th>ing_net</th>\n",
       "      <th>ing_month</th>\n",
       "    </tr>\n",
       "  </thead>\n",
       "  <tbody>\n",
       "    <tr>\n",
       "      <th>2153</th>\n",
       "      <td>1474</td>\n",
       "      <td>11.0</td>\n",
       "      <td>34.0</td>\n",
       "      <td>242.96</td>\n",
       "      <td>30.0</td>\n",
       "      <td>18222.36</td>\n",
       "      <td>18.0</td>\n",
       "      <td>surf</td>\n",
       "      <td>Bakersfield, CA MSA</td>\n",
       "      <td>50</td>\n",
       "      <td>15360</td>\n",
       "      <td>500</td>\n",
       "      <td>20</td>\n",
       "      <td>10</td>\n",
       "      <td>0.03</td>\n",
       "      <td>0.03</td>\n",
       "      <td>0.0</td>\n",
       "      <td>0.0</td>\n",
       "      <td>27.95</td>\n",
       "      <td>47.95</td>\n",
       "    </tr>\n",
       "  </tbody>\n",
       "</table>\n",
       "</div>"
      ],
      "text/plain": [
       "      user_id  month  num_calls  duration  num_sms   mb_used  gb_used  plan  \\\n",
       "2153     1474   11.0       34.0    242.96     30.0  18222.36     18.0  surf   \n",
       "\n",
       "                     city  messages_included  mb_per_month_included  \\\n",
       "2153  Bakersfield, CA MSA                 50                  15360   \n",
       "\n",
       "      minutes_included  usd_monthly_free  usd_per_gb  usd_per_message  \\\n",
       "2153               500                20          10             0.03   \n",
       "\n",
       "      usd_per_minute  ing_calls  ing_sms  ing_net  ing_month  \n",
       "2153            0.03        0.0      0.0    27.95      47.95  "
      ]
     },
     "execution_count": 35,
     "metadata": {},
     "output_type": "execute_result"
    }
   ],
   "source": [
    "# 10. Imprime la tabla general con las nuevas columnas (ingresos por servicios y totales):\n",
    "general_table.info()\n",
    "general_table.sample().round(2)"
   ]
  },
  {
   "cell_type": "markdown",
   "metadata": {},
   "source": [
    "<div class=\"alert alert-block alert-danger\">\n",
    "<b>Comentario revisor</b> <a class=\"tocSkip\"></a>\n",
    "\n",
    "\n",
    "Recuerda que para este punto, es necesario que ya tengamos los valores redondeados de la duración de las llamadas y redondear la transformación de megabytes a gigabytes. Esto cobra importancia dado que estamos calculando por cuanto se paso cada usuario, entonces el no redondear puede alterar este valor.\n",
    "</div>"
   ]
  },
  {
   "cell_type": "markdown",
   "metadata": {},
   "source": [
    "<div class=\"alert alert-block alert-info\">\n",
    "<b>Comentario del estudiante</b> <a class=\"tocSkip\"></a>\n",
    "\n",
    "Muchas gracias por su recomendación, en la agrupación para calcular el volumen del tráfico de Internet usado por cada usuario al mes (numeral 6 del presente punto: 1.10), realicé la conversión de la columna 'mb_used' a gigabites y se redondeó el número al entero superior. Para redondear los valores dee esa columna, utilicé el método np.ceil().\n",
    "</div>"
   ]
  },
  {
   "cell_type": "markdown",
   "metadata": {},
   "source": [
    "<div class=\"alert alert-block alert-success\">\n",
    "<b>Comentario revisor</b> <a class=\"tocSkip\"></a>\n",
    "\n",
    "Gran trabajo con los ajustes!"
   ]
  },
  {
   "cell_type": "markdown",
   "metadata": {
    "id": "-jtyHzJb0q1I"
   },
   "source": [
    "## Estudia el comportamiento de usuario"
   ]
  },
  {
   "cell_type": "markdown",
   "metadata": {
    "id": "vtW4CJEe0q1J"
   },
   "source": [
    "### Llamadas"
   ]
  },
  {
   "cell_type": "code",
   "execution_count": 36,
   "metadata": {
    "id": "Jf5v5--k0q1J"
   },
   "outputs": [
    {
     "data": {
      "text/html": [
       "<div>\n",
       "<style scoped>\n",
       "    .dataframe tbody tr th:only-of-type {\n",
       "        vertical-align: middle;\n",
       "    }\n",
       "\n",
       "    .dataframe tbody tr th {\n",
       "        vertical-align: top;\n",
       "    }\n",
       "\n",
       "    .dataframe thead th {\n",
       "        text-align: right;\n",
       "    }\n",
       "</style>\n",
       "<table border=\"1\" class=\"dataframe\">\n",
       "  <thead>\n",
       "    <tr style=\"text-align: right;\">\n",
       "      <th></th>\n",
       "      <th>month</th>\n",
       "      <th>plan</th>\n",
       "      <th>duration</th>\n",
       "    </tr>\n",
       "  </thead>\n",
       "  <tbody>\n",
       "    <tr>\n",
       "      <th>23</th>\n",
       "      <td>12.0</td>\n",
       "      <td>ultimate</td>\n",
       "      <td>438.824832</td>\n",
       "    </tr>\n",
       "    <tr>\n",
       "      <th>22</th>\n",
       "      <td>12.0</td>\n",
       "      <td>surf</td>\n",
       "      <td>457.547074</td>\n",
       "    </tr>\n",
       "    <tr>\n",
       "      <th>17</th>\n",
       "      <td>9.0</td>\n",
       "      <td>ultimate</td>\n",
       "      <td>413.287326</td>\n",
       "    </tr>\n",
       "    <tr>\n",
       "      <th>20</th>\n",
       "      <td>11.0</td>\n",
       "      <td>surf</td>\n",
       "      <td>408.255415</td>\n",
       "    </tr>\n",
       "    <tr>\n",
       "      <th>6</th>\n",
       "      <td>4.0</td>\n",
       "      <td>surf</td>\n",
       "      <td>332.380000</td>\n",
       "    </tr>\n",
       "  </tbody>\n",
       "</table>\n",
       "</div>"
      ],
      "text/plain": [
       "    month      plan    duration\n",
       "23   12.0  ultimate  438.824832\n",
       "22   12.0      surf  457.547074\n",
       "17    9.0  ultimate  413.287326\n",
       "20   11.0      surf  408.255415\n",
       "6     4.0      surf  332.380000"
      ]
     },
     "execution_count": 36,
     "metadata": {},
     "output_type": "execute_result"
    }
   ],
   "source": [
    "# Comparación de la duración promedio de llamadas por plan y por mes.\n",
    "prom_duration = general_table.groupby(['month','plan'])['duration'].mean().reset_index()\n",
    "prom_duration.sample(5)"
   ]
  },
  {
   "cell_type": "code",
   "execution_count": 37,
   "metadata": {
    "id": "Jf5v5--k0q1J",
    "scrolled": false
   },
   "outputs": [],
   "source": [
    "# Con pivot organizo tabla para tener las columnas 'surf' y 'ultimate' y graficar fácilmente:\n",
    "plans_pivot = prom_duration.pivot(index='month', columns='plan', values='duration')"
   ]
  },
  {
   "cell_type": "code",
   "execution_count": 38,
   "metadata": {},
   "outputs": [
    {
     "data": {
      "image/png": "[encoded data removed]",
      "text/plain": [
       "<Figure size 800x400 with 1 Axes>"
      ]
     },
     "metadata": {},
     "output_type": "display_data"
    }
   ],
   "source": [
    "# Gráfico de barras para visualizar la duración promedio de llamadas por plan y por mes:\n",
    "colors = ['pink', 'purple']\n",
    "plans_pivot.plot(kind='bar',\n",
    "              title='Duración promedio de llamadas mensuales por plan',\n",
    "              xlabel='Meses',\n",
    "              ylabel='Duración promedio de llamadas',\n",
    "              figsize=[8,4],\n",
    "              ylim=[0,600],\n",
    "              alpha=0.5,\n",
    "              color=colors)\n",
    "plt.grid(axis='y', color='purple', linewidth=0.06)\n",
    "plt.legend(['SURF','ULTIMATE'], fontsize='small')\n",
    "plt.show()"
   ]
  },
  {
   "cell_type": "raw",
   "metadata": {
    "id": "mEc_3_hs0q02"
   },
   "source": [
    "ANÁLISIS DURACIÓN PROMEDIO DE LLAMADAS MENSUALES POR PLAN:\n",
    "\n",
    "En febrero hay una clara diferencia: los usuarios de Ultimate utilizan más minutos en promedio que los de Surf.\n",
    "A partir de agosto las diferencias entre ambos planes se reducen, mostrando datos similares de uso promedio.\n",
    "Especialmente en enero, el uso promedio es más bajo para ambos planes.\n",
    "\n",
    "El uso de minutos se va incrementando gradualmente durante el año."
   ]
  },
  {
   "cell_type": "code",
   "execution_count": 39,
   "metadata": {
    "id": "QoLqW1S_0q1J"
   },
   "outputs": [
    {
     "data": {
      "image/png": "[encoded data removed]",
      "text/plain": [
       "<Figure size 800x400 with 1 Axes>"
      ]
     },
     "metadata": {},
     "output_type": "display_data"
    }
   ],
   "source": [
    "# Histograma de la comparación del número de minutos mensuales que necesitan los usuarios de cada plan:\n",
    "\n",
    "# Filtra los datos de cada plan:\n",
    "surf_users = general_table[general_table['plan'] == 'surf']\n",
    "ultimate_users = general_table[general_table['plan'] == 'ultimate']\n",
    "\n",
    "# Crea gráfico:\n",
    "plt.figure(figsize=(8, 4))\n",
    "\n",
    "# Crea histograma para el plan Surf:\n",
    "plt.hist(surf_users['duration'], bins=20, alpha=0.8, label='SURF', color='pink')\n",
    "\n",
    "# Crea histograma para el plan ultimate:\n",
    "plt.hist(ultimate_users['duration'], bins=18, alpha=0.4, label='ULTIMATE', color='purple')\n",
    "\n",
    "# Personalización del gráfico:\n",
    "plt.title('Distribución del uso de minutos mensuales por plan')\n",
    "plt.xlabel('Minutos usados')\n",
    "plt.ylabel('Frecuencia')\n",
    "plt.legend()\n",
    "plt.grid(axis='y', color='purple', linewidth=0.06)\n",
    "plt.show()"
   ]
  },
  {
   "cell_type": "raw",
   "metadata": {
    "id": "mEc_3_hs0q02"
   },
   "source": [
    "ANÁLISIS DISTRIBUCIÓN DEL USO DE MINUTOS MENSUALES POR PLAN:\n",
    "\n",
    "Ambos planes tienen distribuciones similares en cuanto al uso de minutos, pero los usuarios del plan Surf tiene un rango de minutos más bajo. Los usuarios del plan Ultimate muestran un rango de minutos algo más amplio. \n",
    "\n",
    "La mayoría de los usuarios utilizan entre 300 y 600 minutos mensuales. Este es el intervalo donde ambas distribuciones coinciden, lo que indica que una gran parte de los usuarios tiene necesidades de minutos similares, independientemente del plan.\n",
    "\n",
    "El plan Ultimate tiene usuarios que usan más minutos mensuales (barras visibles en los extremos más altos / cerca de los 1000-1400 minutos), esto puede deberse a que Ultimate ofrece más minutos incluidos en su paquete, atrayendo a clientes con necesidades mayores."
   ]
  },
  {
   "cell_type": "code",
   "execution_count": 40,
   "metadata": {
    "id": "oSndbAnt0q1K"
   },
   "outputs": [
    {
     "name": "stdout",
     "output_type": "stream",
     "text": [
      "PROMEDIO DURACIÓN DE LLAMADAS:\n",
      " plan         surf    ultimate\n",
      "month                        \n",
      "1.0    192.840000  183.162500\n",
      "2.0    280.851111  443.171667\n",
      "3.0    310.970000  285.701667\n",
      "4.0    332.380000  316.508095\n",
      "5.0    387.108000  383.664828\n",
      "6.0    411.450625  365.358222\n",
      "7.0    428.060917  403.767288\n",
      "8.0    394.474717  397.274789\n",
      "9.0    397.133298  413.287326\n",
      "10.0   416.229827  429.217238\n",
      "11.0   408.255415  427.205200\n",
      "12.0   457.547074  438.824832 \n",
      "\n",
      "VARIANZA DURACIÓN DE LLAMADAS:\n",
      " plan           surf      ultimate\n",
      "month                            \n",
      "1.0    14795.440200  14991.369958\n",
      "2.0    46959.219961  48579.581537\n",
      "3.0    31821.317991  54273.917252\n",
      "4.0    45615.666796  31057.727496\n",
      "5.0    50778.127459  39290.610940\n",
      "6.0    39424.054023  33837.770156\n",
      "7.0    53364.540232  64844.426958\n",
      "8.0    46639.240873  47680.189425\n",
      "9.0    39785.302974  50994.505514\n",
      "10.0   43545.434710  47081.623851\n",
      "11.0   43560.874928  52243.135715\n",
      "12.0   53646.781898  53967.731609 \n",
      "\n"
     ]
    }
   ],
   "source": [
    "# Cálculo de la media y la varianza de la duración mensual de llamadas:\n",
    "mean_var = general_table.groupby(['month','plan'])['duration'].agg(['mean', 'var']).reset_index()\n",
    "\n",
    "# Renombrar columnas para claridad\n",
    "mean_var.rename(columns={'mean': 'media_duracion', 'var': 'varianza_duracion'}, inplace=True)\n",
    "\n",
    "# Pivote para crear las dos columnas para surf y ultimate:\n",
    "mean_surf_ultimate = mean_var.pivot(index='month', columns='plan', values='media_duracion')\n",
    "var_surf_ultimate = mean_var.pivot(index='month', columns='plan', values='varianza_duracion')\n",
    "\n",
    "print('PROMEDIO DURACIÓN DE LLAMADAS:\\n', mean_surf_ultimate,'\\n')\n",
    "print('VARIANZA DURACIÓN DE LLAMADAS:\\n', var_surf_ultimate,'\\n')"
   ]
  },
  {
   "cell_type": "code",
   "execution_count": 41,
   "metadata": {
    "id": "oSndbAnt0q1K"
   },
   "outputs": [
    {
     "name": "stdout",
     "output_type": "stream",
     "text": [
      "TOTAL, PROMEDIO Y VARIANZA TOTAL DE LLAMADAS PLANES SURF Y ULTIMATE:\n",
      "        plan  total_duración_llamadas  promedio_duración  mediana_duración\n",
      "0      surf                636691.24         412.364793           405.925\n",
      "1  ultimate                292459.02         410.757051           400.075\n"
     ]
    }
   ],
   "source": [
    "# Agrupar por plan y calcular la duración de llamadas, promedio y mediana\n",
    "duracion_por_plan = general_table.groupby('plan')['duration'].agg(['sum', 'mean', 'median']).reset_index()\n",
    "\n",
    "# Renombrar columnas para claridad\n",
    "duracion_por_plan.columns = ['plan', 'total_duración_llamadas', 'promedio_duración', 'mediana_duración']\n",
    "print('TOTAL, PROMEDIO Y VARIANZA TOTAL DE LLAMADAS PLANES SURF Y ULTIMATE:\\n', duracion_por_plan)"
   ]
  },
  {
   "cell_type": "raw",
   "metadata": {
    "id": "mEc_3_hs0q02"
   },
   "source": [
    "ANÁLISIS DURACIÓN DE LLAMADAS POR PLAN, MEDIA Y MEDIANA::\n",
    "\n",
    "Los clientes de Surf acumulan un total de llamadas mucho mayor que los clientes de Ultimate, posiblemente porque hay más usuarios en el plan Surf, lo que lleva a un mayor consumo total de minutos.\n",
    "\n",
    "Ambos planes tienen promedios de duración de llamadas mensuales muy similares, lo que indica que la necesidad de minutos no varía significativamente entre los usuarios de los dos planes.\n",
    "\n",
    "La mediana refuerza la similitud del comportamiento de los usuarios, ya que está muy cerca del promedio para ambos planes. Esto indica que la distribución del uso de minutos es uniforme en los dos planes."
   ]
  },
  {
   "cell_type": "code",
   "execution_count": 42,
   "metadata": {
    "id": "nZzoRUKc0q1K"
   },
   "outputs": [
    {
     "data": {
      "image/png": "[encoded data removed]",
      "text/plain": [
       "<Figure size 800x400 with 1 Axes>"
      ]
     },
     "metadata": {},
     "output_type": "display_data"
    }
   ],
   "source": [
    "# Diagrama de caja para visualizar la distribución de la duración mensual de llamadas del plan ultimate:\n",
    "\n",
    "caja_ult = general_table[general_table['plan']=='ultimate']\n",
    "plt.figure(figsize=(8, 4))\n",
    "sns.boxplot(x='month', y='duration', data=caja_ult, palette='magma')\n",
    "plt.title('Distribución de la duración de llamadas mensual plan ultimate.', fontsize=13)\n",
    "plt.xlabel('Mes', fontsize=10)\n",
    "plt.ylabel('Duración llamadas mensual.', fontsize=10)\n",
    "plt.grid(color='purple', linewidth=0.06)\n",
    "plt.show()"
   ]
  },
  {
   "cell_type": "raw",
   "metadata": {
    "id": "mEc_3_hs0q02"
   },
   "source": [
    "ANÁLISIS DISTRIBUCIÓN DE LA DURACIÓN DE LLAMADAS MENSUAL PLAN ULTIMATE:\n",
    "\n",
    "La mediana de la duración de las llamadas parece mantenerse relativamente constante entre los meses. Sin embargo, hay fluctuaciones, con los meses 2 y 3 mostrando medianas más altas.\n",
    "\n",
    "EL tamaño de las cajas indica la dispersión de los datos. Los meses iniciales tienen una menor dispersión comparada con meses posteriores (del mes 7 al 12).\n",
    "\n",
    "A medida que avanzan los meses, se observan más valores atípicos, principalmente desde el mes 7 en adelante. Esto indica que hay algunos usuarios con una duración de llamadas significativamente superior al promedio en esos meses. Aunque no hay un cambio drástico mes a mes, hay una leve tendencia a una mayor dispersión hacia finales de año. Esto podría estar relacionado con un uso más intensivo del servicio en festividades navideñas."
   ]
  },
  {
   "cell_type": "code",
   "execution_count": 43,
   "metadata": {
    "id": "nZzoRUKc0q1K"
   },
   "outputs": [
    {
     "data": {
      "image/png": "[encoded data removed]",
      "text/plain": [
       "<Figure size 800x400 with 1 Axes>"
      ]
     },
     "metadata": {},
     "output_type": "display_data"
    }
   ],
   "source": [
    "# Diagrama de caja para visualizar la distribución de la duración mensual de llamadas del plan surf:\n",
    "caja_sur = general_table[general_table['plan']=='surf']\n",
    "plt.figure(figsize=(8, 4))\n",
    "sns.boxplot(x='month', y='duration', data=caja_sur, palette='magma')\n",
    "plt.title('Distribución de la duración de llamadas mensual plan surf.', fontsize=13)\n",
    "plt.xlabel('Mes', fontsize=10)\n",
    "plt.ylabel('Duración llamadas mensual.', fontsize=10)\n",
    "plt.grid(color='purple', linewidth=0.06)\n",
    "plt.show()"
   ]
  },
  {
   "cell_type": "raw",
   "metadata": {
    "id": "mEc_3_hs0q02"
   },
   "source": [
    "ANÁLISIS DISTRIBUCIÓN DE LA DURACIÓN DE LLAMADAS MENSUAL PLAN SURF:\n",
    "\n",
    "La mediana de la duración de las llamadas es más baja en los primeros meses y se estabiliza en un nivel más alto a partir del mes 4 hasta el final del año.\n",
    "\n",
    "La dispersión parece aumentar gradualmente a lo largo de los meses, con meses finales mostrando cajas más grandes. Esto indica que las diferencias en el uso de las llamadas entre los usuarios aumentan hacia finales de año.\n",
    "\n",
    "Hay un número considerable de valores atípicos en todos los meses, especialmente entre los meses 7 y 12. Esto sugiere que algunos usuarios realizan muchas más llamadas que el resto en esos períodos.\n",
    "\n",
    "El rango total en este plan es más amplio que en el plan Ultimate. Esto podría indicar un uso más variable del plan, con usuarios extremos que realizan un número elevado de llamadas.\n",
    "\n",
    "A medida que avanza el año, no solo aumenta la dispersión, sino que también parece haber una ligera tendencia a que los valores máximos se eleven (como se observa en los meses 9, 10, 11 y 12)."
   ]
  },
  {
   "cell_type": "markdown",
   "metadata": {
    "id": "8idKy8Wh0q1L"
   },
   "source": [
    "### Mensajes"
   ]
  },
  {
   "cell_type": "code",
   "execution_count": 44,
   "metadata": {
    "id": "NXLxiTit0q1L",
    "scrolled": true
   },
   "outputs": [
    {
     "data": {
      "text/html": [
       "<div>\n",
       "<style scoped>\n",
       "    .dataframe tbody tr th:only-of-type {\n",
       "        vertical-align: middle;\n",
       "    }\n",
       "\n",
       "    .dataframe tbody tr th {\n",
       "        vertical-align: top;\n",
       "    }\n",
       "\n",
       "    .dataframe thead th {\n",
       "        text-align: right;\n",
       "    }\n",
       "</style>\n",
       "<table border=\"1\" class=\"dataframe\">\n",
       "  <thead>\n",
       "    <tr style=\"text-align: right;\">\n",
       "      <th></th>\n",
       "      <th>plan</th>\n",
       "      <th>month</th>\n",
       "      <th>num_sms</th>\n",
       "    </tr>\n",
       "  </thead>\n",
       "  <tbody>\n",
       "    <tr>\n",
       "      <th>0</th>\n",
       "      <td>surf</td>\n",
       "      <td>1.0</td>\n",
       "      <td>21.00</td>\n",
       "    </tr>\n",
       "    <tr>\n",
       "      <th>1</th>\n",
       "      <td>surf</td>\n",
       "      <td>2.0</td>\n",
       "      <td>21.60</td>\n",
       "    </tr>\n",
       "    <tr>\n",
       "      <th>2</th>\n",
       "      <td>surf</td>\n",
       "      <td>3.0</td>\n",
       "      <td>21.94</td>\n",
       "    </tr>\n",
       "    <tr>\n",
       "      <th>3</th>\n",
       "      <td>surf</td>\n",
       "      <td>4.0</td>\n",
       "      <td>24.17</td>\n",
       "    </tr>\n",
       "    <tr>\n",
       "      <th>4</th>\n",
       "      <td>surf</td>\n",
       "      <td>5.0</td>\n",
       "      <td>33.02</td>\n",
       "    </tr>\n",
       "  </tbody>\n",
       "</table>\n",
       "</div>"
      ],
      "text/plain": [
       "   plan  month  num_sms\n",
       "0  surf    1.0    21.00\n",
       "1  surf    2.0    21.60\n",
       "2  surf    3.0    21.94\n",
       "3  surf    4.0    24.17\n",
       "4  surf    5.0    33.02"
      ]
     },
     "execution_count": 44,
     "metadata": {},
     "output_type": "execute_result"
    }
   ],
   "source": [
    "# Agrupación por plan y promedio mensual del número de mensajes que envian los usuarios de cada plan.\n",
    "messages_por_plan = general_table.groupby(['plan', 'month'])['num_sms'].mean().reset_index()\n",
    "messages_por_plan.head().round(2)"
   ]
  },
  {
   "cell_type": "code",
   "execution_count": 45,
   "metadata": {
    "id": "GRI_R7xF0q1L"
   },
   "outputs": [
    {
     "data": {
      "image/png": "[encoded data removed]",
      "text/plain": [
       "<Figure size 800x400 with 1 Axes>"
      ]
     },
     "metadata": {},
     "output_type": "display_data"
    }
   ],
   "source": [
    "# Gráfico de barras del número de mensajes que tienden a enviar cada mes los usuarios de cada plan.\n",
    "plt.figure(figsize=(8, 4))\n",
    "colors = ['red', 'purple']\n",
    "sns.barplot(data=messages_por_plan, x='month', y='num_sms', hue='plan', palette='magma', alpha=0.7)\n",
    "plt.title('Mensajes enviados por mes y plan')\n",
    "plt.xlabel('Mes')\n",
    "plt.ylabel('Cantidad promedio de mensajes enviados')\n",
    "\n",
    "plt.grid(axis='y', color='purple', linewidth=0.06)\n",
    "plt.legend(title='Plan')\n",
    "plt.show()"
   ]
  },
  {
   "cell_type": "raw",
   "metadata": {
    "id": "mEc_3_hs0q02"
   },
   "source": [
    "ANÁLISIS MENSAJES ENVIADOS POR MES Y PLAN:\n",
    "\n",
    "El promedio de mensajes enviados aumenta de forma gradual a lo largo del año para ambos planes, alcanzando su punto más alto en diciembre. Este incremento puede deberse a factores estacionales, como mayor comunicación durante las festividades o fin de año.\n",
    "\n",
    "Los usuarios del plan Ultimate envían consistentemente más mensajes que los del plan Surf en todos los meses(menos en enero). Este comportamiento es consistente con la percepción de que Ultimate atrae usuarios con mayores necesidades de comunicación.\n",
    "\n",
    "En los dos primeros meses, las diferencias entre los planes son menos pronunciadas, pero a partir de marzo, los usuarios de Ultimate envían notablemente más mensajes. Diciembre muestra el pico máximo de actividad, con el mayor promedio de mensajes para ambos planes."
   ]
  },
  {
   "cell_type": "markdown",
   "metadata": {
    "id": "42YSypXz0q1M"
   },
   "source": [
    "### Internet"
   ]
  },
  {
   "cell_type": "code",
   "execution_count": 46,
   "metadata": {
    "id": "wnh8jYXi0q1N"
   },
   "outputs": [
    {
     "data": {
      "text/html": [
       "<div>\n",
       "<style scoped>\n",
       "    .dataframe tbody tr th:only-of-type {\n",
       "        vertical-align: middle;\n",
       "    }\n",
       "\n",
       "    .dataframe tbody tr th {\n",
       "        vertical-align: top;\n",
       "    }\n",
       "\n",
       "    .dataframe thead th {\n",
       "        text-align: right;\n",
       "    }\n",
       "</style>\n",
       "<table border=\"1\" class=\"dataframe\">\n",
       "  <thead>\n",
       "    <tr style=\"text-align: right;\">\n",
       "      <th></th>\n",
       "      <th>plan</th>\n",
       "      <th>month</th>\n",
       "      <th>mb_used</th>\n",
       "    </tr>\n",
       "  </thead>\n",
       "  <tbody>\n",
       "    <tr>\n",
       "      <th>0</th>\n",
       "      <td>surf</td>\n",
       "      <td>1.0</td>\n",
       "      <td>4874.86</td>\n",
       "    </tr>\n",
       "    <tr>\n",
       "      <th>1</th>\n",
       "      <td>surf</td>\n",
       "      <td>2.0</td>\n",
       "      <td>12178.84</td>\n",
       "    </tr>\n",
       "    <tr>\n",
       "      <th>2</th>\n",
       "      <td>surf</td>\n",
       "      <td>3.0</td>\n",
       "      <td>13345.44</td>\n",
       "    </tr>\n",
       "    <tr>\n",
       "      <th>3</th>\n",
       "      <td>surf</td>\n",
       "      <td>4.0</td>\n",
       "      <td>12228.78</td>\n",
       "    </tr>\n",
       "    <tr>\n",
       "      <th>4</th>\n",
       "      <td>surf</td>\n",
       "      <td>5.0</td>\n",
       "      <td>14119.73</td>\n",
       "    </tr>\n",
       "  </tbody>\n",
       "</table>\n",
       "</div>"
      ],
      "text/plain": [
       "   plan  month   mb_used\n",
       "0  surf    1.0   4874.86\n",
       "1  surf    2.0  12178.84\n",
       "2  surf    3.0  13345.44\n",
       "3  surf    4.0  12228.78\n",
       "4  surf    5.0  14119.73"
      ]
     },
     "execution_count": 46,
     "metadata": {},
     "output_type": "execute_result"
    }
   ],
   "source": [
    "# Calcula el promedio mensual del tráfico de internet por plan\n",
    "internet_avg_monthly = general_table.groupby(['plan', 'month'])['mb_used'].mean().reset_index()\n",
    "internet_avg_monthly.head().round(2)"
   ]
  },
  {
   "cell_type": "code",
   "execution_count": 47,
   "metadata": {
    "id": "5VlyJ9ry0q1N",
    "scrolled": true
   },
   "outputs": [
    {
     "data": {
      "image/png": "[encoded data removed]",
      "text/plain": [
       "<Figure size 800x300 with 1 Axes>"
      ]
     },
     "metadata": {},
     "output_type": "display_data"
    }
   ],
   "source": [
    "# Graficar el tráfico promedio mensual de internet por plan\n",
    "plt.figure(figsize=(8, 3))\n",
    "sns.barplot(data=internet_avg_monthly, x='month', y='mb_used', hue='plan', palette='magma', alpha=0.7)\n",
    "plt.title('Promedio de tráfico de Internet mensual por plan', fontsize=12)\n",
    "plt.xlabel('Meses', fontsize=10)\n",
    "plt.ylabel('Promedio de MB usados', fontsize=10)\n",
    "plt.legend(title='Plan')\n",
    "plt.xticks(ticks=range(12), labels=range(1, 13))\n",
    "plt.grid(axis='y', color='purple', linewidth=0.06)\n",
    "plt.show()"
   ]
  },
  {
   "cell_type": "markdown",
   "metadata": {
    "id": "UN9zwuMP0q1N"
   },
   "source": [
    "ANÁLISIS PROMEDIO DE TRÁFICO DE INTERNET MENSUAL POR PLAN:\n",
    "\n",
    "Ambos planes muestran un aumento constante en el consumo promedio de datos de Internet a lo largo del año.\n",
    "Esto puede indicar que en general, los usuarios dependen más de Internet con el paso del tiempo, tal vez por un incremento en la disponibilidad de servicios digitales o un cambio en los hábitos de consumo.\n",
    "\n",
    "Los usuarios del plan Ultimate tienden a consumir más tráfico de Internet en comparación con los del plan Surf, especialmente en los primeros meses (enero a mayo).\n",
    "A partir de la mitad del año la brecha se reduce, mostrando un consumo más equilibrado entre ambos planes.\n",
    "\n",
    "La diferencia en los meses iniciales sugiere que los usuarios del plan Ultimate pueden ser más intensivos en su uso de datos."
   ]
  },
  {
   "cell_type": "code",
   "execution_count": 48,
   "metadata": {
    "id": "wnh8jYXi0q1N",
    "scrolled": true
   },
   "outputs": [
    {
     "data": {
      "text/html": [
       "<div>\n",
       "<style scoped>\n",
       "    .dataframe tbody tr th:only-of-type {\n",
       "        vertical-align: middle;\n",
       "    }\n",
       "\n",
       "    .dataframe tbody tr th {\n",
       "        vertical-align: top;\n",
       "    }\n",
       "\n",
       "    .dataframe thead th {\n",
       "        text-align: right;\n",
       "    }\n",
       "</style>\n",
       "<table border=\"1\" class=\"dataframe\">\n",
       "  <thead>\n",
       "    <tr style=\"text-align: right;\">\n",
       "      <th></th>\n",
       "      <th>plan</th>\n",
       "      <th>total_mb_usados</th>\n",
       "      <th>promedio_mb_usados</th>\n",
       "      <th>mediana_mb_usados</th>\n",
       "    </tr>\n",
       "  </thead>\n",
       "  <tbody>\n",
       "    <tr>\n",
       "      <th>0</th>\n",
       "      <td>surf</td>\n",
       "      <td>26046179.93</td>\n",
       "      <td>16717.702137</td>\n",
       "      <td>16923.83</td>\n",
       "    </tr>\n",
       "    <tr>\n",
       "      <th>1</th>\n",
       "      <td>ultimate</td>\n",
       "      <td>12394583.78</td>\n",
       "      <td>17238.642253</td>\n",
       "      <td>16863.45</td>\n",
       "    </tr>\n",
       "  </tbody>\n",
       "</table>\n",
       "</div>"
      ],
      "text/plain": [
       "       plan  total_mb_usados  promedio_mb_usados  mediana_mb_usados\n",
       "0      surf      26046179.93        16717.702137           16923.83\n",
       "1  ultimate      12394583.78        17238.642253           16863.45"
      ]
     },
     "execution_count": 48,
     "metadata": {},
     "output_type": "execute_result"
    }
   ],
   "source": [
    "# Agrupar por plan y calcular el tráfico total, promedio y mediana\n",
    "trafico_por_plan = general_table.groupby('plan')['mb_used'].agg(['sum', 'mean', 'median']).reset_index()\n",
    "\n",
    "# Renombrar columnas para claridad\n",
    "trafico_por_plan.columns = ['plan', 'total_mb_usados', 'promedio_mb_usados', 'mediana_mb_usados']\n",
    "trafico_por_plan.head()"
   ]
  },
  {
   "cell_type": "raw",
   "metadata": {
    "id": "mEc_3_hs0q02"
   },
   "source": [
    "ANÁLISIS MB USADOS, MEDIA Y MEDIANA:\n",
    "\n",
    "Surf tiene un uso total de datos mucho mayor que Ultimate. Esto puede deberse a que hay más usuarios del plan Surf, ya que el tráfico total de datos depende del número de clientes.\n",
    "\n",
    "Ultimate tiene un promedio ligeramente mayor de uso mensual de datos en comparación con Surf. Aunque la diferencia no es grande, indica que los usuarios de Ultimate tienden a consumir más datos por mes en promedio.\n",
    "\n",
    "La mediana de datos usados es similar para ambos planes, para ambos planes la mayoría de los usuarios consumen una cantidad de datos similar, pero hay usuarios extremos en Ultimate que elevan el promedio ligeramente más alto."
   ]
  },
  {
   "cell_type": "markdown",
   "metadata": {
    "id": "tCijq3260q1N"
   },
   "source": [
    "## Ingreso"
   ]
  },
  {
   "cell_type": "code",
   "execution_count": 49,
   "metadata": {
    "id": "tz-dq_V00q1O"
   },
   "outputs": [
    {
     "data": {
      "text/html": [
       "<div>\n",
       "<style scoped>\n",
       "    .dataframe tbody tr th:only-of-type {\n",
       "        vertical-align: middle;\n",
       "    }\n",
       "\n",
       "    .dataframe tbody tr th {\n",
       "        vertical-align: top;\n",
       "    }\n",
       "\n",
       "    .dataframe thead th {\n",
       "        text-align: right;\n",
       "    }\n",
       "</style>\n",
       "<table border=\"1\" class=\"dataframe\">\n",
       "  <thead>\n",
       "    <tr style=\"text-align: right;\">\n",
       "      <th></th>\n",
       "      <th>plan</th>\n",
       "      <th>user_id</th>\n",
       "      <th>month</th>\n",
       "      <th>ing_month</th>\n",
       "    </tr>\n",
       "  </thead>\n",
       "  <tbody>\n",
       "    <tr>\n",
       "      <th>0</th>\n",
       "      <td>ultimate</td>\n",
       "      <td>1000</td>\n",
       "      <td>12.0</td>\n",
       "      <td>70.00</td>\n",
       "    </tr>\n",
       "    <tr>\n",
       "      <th>19</th>\n",
       "      <td>ultimate</td>\n",
       "      <td>1006</td>\n",
       "      <td>11.0</td>\n",
       "      <td>70.00</td>\n",
       "    </tr>\n",
       "    <tr>\n",
       "      <th>20</th>\n",
       "      <td>ultimate</td>\n",
       "      <td>1006</td>\n",
       "      <td>12.0</td>\n",
       "      <td>79.56</td>\n",
       "    </tr>\n",
       "    <tr>\n",
       "      <th>26</th>\n",
       "      <td>ultimate</td>\n",
       "      <td>1008</td>\n",
       "      <td>10.0</td>\n",
       "      <td>70.00</td>\n",
       "    </tr>\n",
       "    <tr>\n",
       "      <th>27</th>\n",
       "      <td>ultimate</td>\n",
       "      <td>1008</td>\n",
       "      <td>11.0</td>\n",
       "      <td>70.00</td>\n",
       "    </tr>\n",
       "  </tbody>\n",
       "</table>\n",
       "</div>"
      ],
      "text/plain": [
       "        plan  user_id  month  ing_month\n",
       "0   ultimate     1000   12.0      70.00\n",
       "19  ultimate     1006   11.0      70.00\n",
       "20  ultimate     1006   12.0      79.56\n",
       "26  ultimate     1008   10.0      70.00\n",
       "27  ultimate     1008   11.0      70.00"
      ]
     },
     "execution_count": 49,
     "metadata": {},
     "output_type": "execute_result"
    }
   ],
   "source": [
    "#ingresos mensuales para cada grupo:\n",
    "\n",
    "#Ingresos por usuario y mes, del plan ultimate:\n",
    "ing_mes_ultimate = general_table[general_table['plan']=='ultimate'][['plan','user_id', 'month', 'ing_month']].round(2)\n",
    "ing_mes_ultimate.head()"
   ]
  },
  {
   "cell_type": "code",
   "execution_count": 50,
   "metadata": {
    "id": "tz-dq_V00q1O"
   },
   "outputs": [
    {
     "data": {
      "text/html": [
       "<div>\n",
       "<style scoped>\n",
       "    .dataframe tbody tr th:only-of-type {\n",
       "        vertical-align: middle;\n",
       "    }\n",
       "\n",
       "    .dataframe tbody tr th {\n",
       "        vertical-align: top;\n",
       "    }\n",
       "\n",
       "    .dataframe thead th {\n",
       "        text-align: right;\n",
       "    }\n",
       "</style>\n",
       "<table border=\"1\" class=\"dataframe\">\n",
       "  <thead>\n",
       "    <tr style=\"text-align: right;\">\n",
       "      <th></th>\n",
       "      <th>plan</th>\n",
       "      <th>user_id</th>\n",
       "      <th>month</th>\n",
       "      <th>ing_month</th>\n",
       "    </tr>\n",
       "  </thead>\n",
       "  <tbody>\n",
       "    <tr>\n",
       "      <th>1</th>\n",
       "      <td>surf</td>\n",
       "      <td>1001</td>\n",
       "      <td>8.0</td>\n",
       "      <td>20.00</td>\n",
       "    </tr>\n",
       "    <tr>\n",
       "      <th>2</th>\n",
       "      <td>surf</td>\n",
       "      <td>1001</td>\n",
       "      <td>9.0</td>\n",
       "      <td>20.00</td>\n",
       "    </tr>\n",
       "    <tr>\n",
       "      <th>3</th>\n",
       "      <td>surf</td>\n",
       "      <td>1001</td>\n",
       "      <td>10.0</td>\n",
       "      <td>88.16</td>\n",
       "    </tr>\n",
       "    <tr>\n",
       "      <th>4</th>\n",
       "      <td>surf</td>\n",
       "      <td>1001</td>\n",
       "      <td>11.0</td>\n",
       "      <td>50.71</td>\n",
       "    </tr>\n",
       "    <tr>\n",
       "      <th>5</th>\n",
       "      <td>surf</td>\n",
       "      <td>1001</td>\n",
       "      <td>12.0</td>\n",
       "      <td>59.15</td>\n",
       "    </tr>\n",
       "  </tbody>\n",
       "</table>\n",
       "</div>"
      ],
      "text/plain": [
       "   plan  user_id  month  ing_month\n",
       "1  surf     1001    8.0      20.00\n",
       "2  surf     1001    9.0      20.00\n",
       "3  surf     1001   10.0      88.16\n",
       "4  surf     1001   11.0      50.71\n",
       "5  surf     1001   12.0      59.15"
      ]
     },
     "execution_count": 50,
     "metadata": {},
     "output_type": "execute_result"
    }
   ],
   "source": [
    "#Ingresos por usuario y mes, del plan surf:\n",
    "ing_mes_surf= general_table[general_table['plan']=='surf'][['plan','user_id', 'month', 'ing_month']].round(2)\n",
    "ing_mes_surf.head()"
   ]
  },
  {
   "cell_type": "code",
   "execution_count": 51,
   "metadata": {
    "id": "0Y1v8ZUz0q1P"
   },
   "outputs": [
    {
     "data": {
      "text/html": [
       "<div>\n",
       "<style scoped>\n",
       "    .dataframe tbody tr th:only-of-type {\n",
       "        vertical-align: middle;\n",
       "    }\n",
       "\n",
       "    .dataframe tbody tr th {\n",
       "        vertical-align: top;\n",
       "    }\n",
       "\n",
       "    .dataframe thead th {\n",
       "        text-align: right;\n",
       "    }\n",
       "</style>\n",
       "<table border=\"1\" class=\"dataframe\">\n",
       "  <thead>\n",
       "    <tr style=\"text-align: right;\">\n",
       "      <th></th>\n",
       "      <th>user_id</th>\n",
       "      <th>month</th>\n",
       "      <th>plan</th>\n",
       "      <th>ing_month</th>\n",
       "    </tr>\n",
       "  </thead>\n",
       "  <tbody>\n",
       "    <tr>\n",
       "      <th>0</th>\n",
       "      <td>1000</td>\n",
       "      <td>12.0</td>\n",
       "      <td>ultimate</td>\n",
       "      <td>70.00</td>\n",
       "    </tr>\n",
       "    <tr>\n",
       "      <th>1</th>\n",
       "      <td>1001</td>\n",
       "      <td>8.0</td>\n",
       "      <td>surf</td>\n",
       "      <td>20.00</td>\n",
       "    </tr>\n",
       "    <tr>\n",
       "      <th>2</th>\n",
       "      <td>1001</td>\n",
       "      <td>9.0</td>\n",
       "      <td>surf</td>\n",
       "      <td>20.00</td>\n",
       "    </tr>\n",
       "    <tr>\n",
       "      <th>3</th>\n",
       "      <td>1001</td>\n",
       "      <td>10.0</td>\n",
       "      <td>surf</td>\n",
       "      <td>88.16</td>\n",
       "    </tr>\n",
       "    <tr>\n",
       "      <th>4</th>\n",
       "      <td>1001</td>\n",
       "      <td>11.0</td>\n",
       "      <td>surf</td>\n",
       "      <td>50.71</td>\n",
       "    </tr>\n",
       "  </tbody>\n",
       "</table>\n",
       "</div>"
      ],
      "text/plain": [
       "   user_id  month      plan  ing_month\n",
       "0     1000   12.0  ultimate      70.00\n",
       "1     1001    8.0      surf      20.00\n",
       "2     1001    9.0      surf      20.00\n",
       "3     1001   10.0      surf      88.16\n",
       "4     1001   11.0      surf      50.71"
      ]
     },
     "execution_count": 51,
     "metadata": {},
     "output_type": "execute_result"
    }
   ],
   "source": [
    "#Obtiene información de ingresos por usuario, mes y plan:\n",
    "ing_mes = general_table[['user_id', 'month', 'plan', 'ing_month']].round(2)\n",
    "ing_mes.head()"
   ]
  },
  {
   "cell_type": "code",
   "execution_count": 52,
   "metadata": {
    "id": "KAFidcXZ0q1P"
   },
   "outputs": [
    {
     "data": {
      "image/png": "[encoded data removed]",
      "text/plain": [
       "<Figure size 800x400 with 1 Axes>"
      ]
     },
     "metadata": {},
     "output_type": "display_data"
    }
   ],
   "source": [
    "# Grafica información de ingresos por usuario, mes y plan:\n",
    "plt.figure(figsize=(8, 4))\n",
    "sns.lineplot(data=ing_mes, x='month', y='ing_month', hue='plan', palette='magma', marker='o')\n",
    "plt.title('Ingresos mensuales por plan', fontsize=12)\n",
    "plt.xlabel('Meses', fontsize=10)\n",
    "plt.ylabel('Ingresos', fontsize=10)\n",
    "plt.legend(title='Plan')\n",
    "plt.grid(color='purple', linewidth=0.03)\n",
    "plt.xticks(ticks=range(14), labels=range(0, 14))\n",
    "plt.show()"
   ]
  },
  {
   "cell_type": "raw",
   "metadata": {
    "id": "mEc_3_hs0q02"
   },
   "source": [
    "ANÁLISIS INGRESOS MENSUALES POR PLAN:\n",
    "\n",
    "Los ingresos del plan Ultimate son consistentemente más altos en todos los meses comparados con el plan Surf.\n",
    "Los ingresos del plan Surf muestran un crecimiento gradual y constante hasta alcanzar cierta estabilización alrededor del mes 7.\n",
    "\n",
    "El plan Ultimate es mucho más estable, con ingresos que fluctúan levemente alrededor de los 70-80 USD durante todo el período.\n",
    "El plan Surf por otro lado, tiene ingresos iniciales bajos, alrededor de 20 USD pero incrementa gradualmente hasta estabilizarse en torno a los 50-60 USD.\n",
    "\n",
    "El área sombreada alrededor de cada línea representa la variabilidad de los ingresos:\n",
    "El plan Ultimate tiene menor variabilidad, lo que indica que los ingresos promedio son más consistentes.\n",
    "El plan Surf muestra mayor variabilidad, especialmente en los primeros meses, lo que podría deberse a una base de clientes más heterogénea.\n",
    "\n",
    "El plan Ultimate genera mayores ingresos mensuales promedio por cliente que el plan Surf, lo que puede justificar mayores esfuerzos para promocionarlo.\n",
    "\n",
    "Aunque el plan Surf comienza con ingresos bajos, su crecimiento sostenido en los primeros meses podría indicar un aumento gradual en la adopción del plan o mayores gastos adicionales con el tiempo (exceso de minutos, mensajes o datos).\n",
    "\n",
    "La estabilidad en los ingresos del plan Ultimate sugiere que tiene clientes más consistentes en términos de uso y pagos."
   ]
  },
  {
   "cell_type": "code",
   "execution_count": 53,
   "metadata": {
    "id": "tz-dq_V00q1O"
   },
   "outputs": [
    {
     "name": "stdout",
     "output_type": "stream",
     "text": [
      "       plan  total_ingresos  promedio_ingresos  mediana_inrgesos\n",
      "0      surf    67115.420108          56.877475         36.841452\n",
      "1  ultimate    41654.436182          72.066499         70.000000\n"
     ]
    }
   ],
   "source": [
    "# Agrupar por plan y calcular los ingresos total, promedio y mediana\n",
    "ing_tot_mea_med = general_table.groupby('plan')['ing_month'].agg(['sum', 'mean', 'median']).reset_index()\n",
    "\n",
    "# Renombrar columnas para claridad\n",
    "ing_tot_mea_med.columns = ['plan', 'total_ingresos', 'promedio_ingresos', 'mediana_inrgesos']\n",
    "print(ing_tot_mea_med)"
   ]
  },
  {
   "cell_type": "raw",
   "metadata": {
    "id": "mEc_3_hs0q02"
   },
   "source": [
    "ANÁLISIS INGRESOS, MEDIA Y MEDIANA:\n",
    "\n",
    "Surf genera ingresos totales más altos que Ultimate, esto puede estar relacionado con un número significativamente mayor de usuarios en este plan, lo que compensa un ingreso promedio más bajo por cliente.\n",
    "Los ingresos de Ultimate sugieren que es un plan menos popular o tiene menos clientes.\n",
    "\n",
    "Los clientes de Ultimate generan más ingresos promedio por usuario que los de Surf. Esto indica que los usuarios de Ultimate tienden a consumir más o están pagando más por el plan base y excedentes.\n",
    "\n",
    "La mediana de ingresos para Ultimate es significativamente más alta ($70.00 USD) y muy cercana al promedio, lo que sugiere una distribución uniforme de los ingresos entre sus clientes.\n",
    "La mediana de ingresos para Surf es más baja al promedio de sus ingresos, sin embargo es superior al valos básico del mes, es decir que muchos usuarios están pagando servicios adicionales (exceden límites del paquete)."
   ]
  },
  {
   "cell_type": "markdown",
   "metadata": {},
   "source": [
    "<div class=\"alert alert-block alert-success\">\n",
    "<b>Comentario revisor</b> <a class=\"tocSkip\"></a>\n",
    "\n",
    " Muy buena prática la de usar distintos tipos de gráficas identificar algunos hallazgos y llegar a conclusiones. En este caso las gráficas de box-plots nos ayudan a identificar outiers que pueden sesgar nuestros resultados, especificamente las pruebas de hipótesis. Es por ello que con estás gráficas puedes complementar el análisis eliminando los valores atipicos. \n",
    "</div>"
   ]
  },
  {
   "cell_type": "markdown",
   "metadata": {
    "id": "ajJ7VKeI0q1Q"
   },
   "source": [
    "## Prueba las hipótesis estadísticas"
   ]
  },
  {
   "cell_type": "markdown",
   "metadata": {},
   "source": [
    "### Hipótesis 1:\n",
    "- H0: Los ingresos promedio de Ultimate y Surf son iguales.\n",
    "- Ha: Los ingresos promedio de Ultimate y Surf son diferentes.\n",
    "- Nivel de significación estadística: 5%"
   ]
  },
  {
   "cell_type": "code",
   "execution_count": 54,
   "metadata": {},
   "outputs": [
    {
     "name": "stdout",
     "output_type": "stream",
     "text": [
      "valor p: 1.9208880718231047e-21\n",
      "Rechazamos la hipótesis nula: los ingresos promedio son diferentes.\n"
     ]
    }
   ],
   "source": [
    "#Filtro para crear dos tablas con ingresos del plan ultimate y plan surf\n",
    "ingresos_ultimate = general_table[general_table['plan']=='ultimate']['ing_month'].round(2).dropna()\n",
    "ingresos_surf = general_table[general_table['plan']=='surf']['ing_month'].round(2).dropna()\n",
    "\n",
    "# nivel crítico de significación estadística:\n",
    "alpha = 0.05\n",
    "\n",
    "# prueba la hipótesis de que las medias de las dos poblaciones independientes son iguales:\n",
    "results = st.ttest_ind(ingresos_ultimate, ingresos_surf, equal_var=False)\n",
    "\n",
    "# valor p obtenido:\n",
    "print('valor p:', results.pvalue)\n",
    "\n",
    "# compara los valores p obtenidos con el nivel de significación estadística:\n",
    "if results.pvalue < alpha:\n",
    "    print(\"Rechazamos la hipótesis nula: los ingresos promedio son diferentes.\")\n",
    "else:\n",
    "    print(\"No podemos rechazar la hipótesis nula: los ingresos promedio no son significativamente diferentes.\")"
   ]
  },
  {
   "cell_type": "raw",
   "metadata": {
    "id": "mEc_3_hs0q02"
   },
   "source": [
    "El resultado de 'p' es extremadamente bajo, esto indica que existe una diferencia estadísticamente significativa entre los ingresos promedio de los usuarios de los planes Ultimate y Surf. Dado que el valor p es mucho menor que el nivel crítico de significación (α=0.05), se rechaza la hipótesis nula, que planteaba que no había diferencias entre los ingresos promedio de ambos planes."
   ]
  },
  {
   "cell_type": "markdown",
   "metadata": {
    "id": "LsBgitqj0q1R"
   },
   "source": [
    "### Hipótesis 2\n",
    "- H0: El ingreso promedio de los usuarios de NY-NJ es igual al de otras regiones.\n",
    "- Ha: El ingreso promedio de los usuarios de NY-NJ es diferente al de otras regiones.\n",
    "- Nivel de significación estadística: 5%"
   ]
  },
  {
   "cell_type": "code",
   "execution_count": 55,
   "metadata": {
    "id": "Cqcj7wrZ0q1S"
   },
   "outputs": [
    {
     "name": "stdout",
     "output_type": "stream",
     "text": [
      "valor p: 0.002083474160461979\n",
      "Rechazamos la hipótesis nula: los ingresos promedio son diferentes.\n"
     ]
    }
   ],
   "source": [
    "# Filtrar ingresos para NY-NJ y otras regiones\n",
    "ny_nj_income = general_table[general_table['city'].isin(['New York-Newark-Jersey City, NY-NJ-PA MSA'])]['ing_month'].dropna()\n",
    "other_regions_income = general_table[~general_table['city'].isin(['New York-Newark-Jersey City, NY-NJ-PA MSA'])]['ing_month'].dropna()\n",
    "\n",
    "# nivel crítico de significación estadística:\n",
    "alpha = 0.05\n",
    "\n",
    "# prueba la hipótesis de que las medias de las dos poblaciones independientes son iguales:\n",
    "results = st.ttest_ind(ny_nj_income, other_regions_income, equal_var=False)\n",
    "\n",
    "# valor p obtenido:\n",
    "print('valor p:', results.pvalue)\n",
    "\n",
    "# compara los valores p obtenidos con el nivel de significación estadística:\n",
    "if results.pvalue < alpha:\n",
    "    print(\"Rechazamos la hipótesis nula: los ingresos promedio son diferentes.\")\n",
    "else:\n",
    "    print(\"No podemos rechazar la hipótesis nula: los ingresos promedio no son significativamente diferentes.\")"
   ]
  },
  {
   "cell_type": "raw",
   "metadata": {
    "id": "mEc_3_hs0q02"
   },
   "source": [
    "El valor 'p' es mucho menor que el nivel de significación, por tal motivo podemos rechazar la hipótesis nula. Esto indica que hay una diferencia estadísticamente significativa entre los ingresos promedio de los usuarios en la región NY-NJ y los usuarios de otras regiones."
   ]
  },
  {
   "cell_type": "markdown",
   "metadata": {},
   "source": [
    "<div class=\"alert alert-block alert-success\">\n",
    "<b>Comentario revisor</b> <a class=\"tocSkip\"></a>\n",
    "\n",
    "Gran trabajo desarrollando las pruebas de hipótesis. Solamente te recomendaría que para robustecer el análisis desarrolles una prueba de levene que te ayude a probar el supuesto de las varianzas iguales."
   ]
  },
  {
   "cell_type": "markdown",
   "metadata": {},
   "source": [
    "<div class=\"alert alert-block alert-info\">\n",
    "<b>Comentario del estudiante</b> <a class=\"tocSkip\"></a>\n",
    "\n",
    "Muchas gracias por su recomendación, a continuación desarrollo una prueba de levene para las dos hipótesis planteadas.\n",
    "</div>"
   ]
  },
  {
   "cell_type": "code",
   "execution_count": 56,
   "metadata": {},
   "outputs": [
    {
     "name": "stdout",
     "output_type": "stream",
     "text": [
      "Statistic: 301.1361, P-value: 0.0000\n",
      "Rechazamos la hipótesis nula: las varianzas no son iguales, hay heterogeneidad de varianzas.\n"
     ]
    }
   ],
   "source": [
    "# Hipótesis 1:\n",
    "# H0: Los ingresos promedio de Ultimate y Surf son iguales.\n",
    "# Ha: Los ingresos promedio de Ultimate y Surf son diferentes.\n",
    "# Nivel de significación estadística: 5%\n",
    "\n",
    "# Realizar la prueba de Levene\n",
    "stat, p_value = levene(ingresos_ultimate, ingresos_surf)\n",
    "\n",
    "print(f\"Statistic: {stat:.4f}, P-value: {p_value:.4f}\")\n",
    "\n",
    "alpha = 0.05\n",
    "\n",
    "if p_value < alpha:\n",
    "    print('Rechazamos la hipótesis nula: las varianzas no son iguales, hay heterogeneidad de varianzas.')\n",
    "else:\n",
    "    print('No podemos rechazar la hipótesis nula: las varianzas son iguales, hay homogeneidad de varianzas.')"
   ]
  },
  {
   "cell_type": "raw",
   "metadata": {
    "id": "mEc_3_hs0q02"
   },
   "source": [
    "El valor 'p' es menor que el nivel de significancia: podemos rechazar la hipótesis nula ya que las varianzas no son iguales. \n",
    "Los ingresos promedio de usuarios de los planes Ultimate y Surf tienen varianzas diferentes, es decir que las distribuciones de ingresos en cada plan son más dispersas o tienen diferentes patrones de variabilidad."
   ]
  },
  {
   "cell_type": "code",
   "execution_count": 57,
   "metadata": {},
   "outputs": [
    {
     "name": "stdout",
     "output_type": "stream",
     "text": [
      "Statistic: 0.0001, P-value: 0.9903\n",
      "No podemos rechazar la hipótesis nula: las varianzas son iguales, hay homogeneidad de varianzas.\n"
     ]
    }
   ],
   "source": [
    "# Hipótesis 2:\n",
    "# H0: El ingreso promedio de los usuarios de NY-NJ es igual al de otras regiones.\n",
    "# Ha: El ingreso promedio de los usuarios de NY-NJ es diferente al de otras regiones.\n",
    "# Nivel de significación estadística: 5%\n",
    "\n",
    "# Realizar la prueba de Levene\n",
    "stat, p_value = levene(ny_nj_income, other_regions_income)\n",
    "\n",
    "print(f\"Statistic: {stat:.4f}, P-value: {p_value:.4f}\")\n",
    "\n",
    "alpha = 0.05\n",
    "\n",
    "if p_value < alpha:\n",
    "    print('Rechazamos la hipótesis nula: las varianzas no son iguales, hay heterogeneidad de varianzas.')\n",
    "else:\n",
    "    print('No podemos rechazar la hipótesis nula: las varianzas son iguales, hay homogeneidad de varianzas.')"
   ]
  },
  {
   "cell_type": "raw",
   "metadata": {
    "id": "mEc_3_hs0q02"
   },
   "source": [
    "El valor 'p' es muy superior al nivel de significancia: No podemos rechazar la hipótesis nula de igualdad de varianzas. Las varianzas son homogéneas entre las regiones NY-NJ y otras regiones.\n",
    "La homogeneidad de varianzas sugiere que los patrones de ingresos entre las regiones son consistentes y no están influenciados por factores que generen una variabilidad diferente en las dos poblaciones. Sin embargo, esto no implica que las medias de ingresos sean iguales."
   ]
  },
  {
   "cell_type": "markdown",
   "metadata": {},
   "source": [
    "<div class=\"alert alert-block alert-success\">\n",
    "<b>Comentario revisor</b> <a class=\"tocSkip\"></a>\n",
    "\n",
    "Deisy, gran trabajo con la prueba de levene para mostrar el espuesto de varianzas iguales1"
   ]
  },
  {
   "cell_type": "markdown",
   "metadata": {
    "id": "bbTR8UQO0q1T"
   },
   "source": [
    "## Conclusión general"
   ]
  },
  {
   "cell_type": "markdown",
   "metadata": {
    "id": "LsBgitqj0q1R"
   },
   "source": [
    "LLAMADAS:\n",
    "\n",
    "- El promedio y la mediana de duración indican que los usuarios de Surf y Ultimate tienen necesidades similares de minutos, lo que sugiere que la elección del plan no está motivada por la necesidad de tiempo de llamada.\n",
    "\n",
    "- Si los minutos incluidos en cada plan (surf: 500, ultimate: 3000) son suficientes para cubrir el promedio de uso mensual (410 minutos), es probable que la mayoría de los usuarios no incurran en cargos adicionales por excedentes en llamadas.\n",
    "\n",
    "- Ya que la mayoría de los usuarios pertenecen al plan Surf, se podrían desarrollar promociones relacionadas con minutos adicionales para generar ingresos extra.\n",
    "\n",
    "- Optimizar Ultimate para clientes de alto consumo: Aunque Ultimate incluye muchos más minutos, el promedio de uso de los usuarios no justifica este diferencial. Podría ser útil revisar si otros beneficios del plan (datos o SMS) son los que realmente justifican su costo.\n",
    "\n",
    "- Gráfico de barras: El plan Ultimate parece atraer a usuarios que realizan un mayor consumo mensual de minutos, especialmente en los primeros meses del año. En los últimos meses, las diferencias entre los planes son menos marcadas, posiblemente porque ambos tipos de usuarios aumentan su actividad. El crecimiento a lo largo del año, sugiere que los usuarios ajustan su comportamiento dependiendo del contexto del año, lo cual puede influir en la estrategia comercial y de publicidad.\n",
    "\n",
    "- Histograma: Si el plan Ultimate incluye más minutos, podría atraer a usuarios de alto consumo, ya que su distribución abarca un rango mayor. Por otro lado, el plan Surf parece más adecuado para usuarios con necesidades moderadas de minutos. Sería importante ajustar la segmentación y la publicidad de los planes: destacar las ventajas de Ultimate para usuarios intensivos y de Surf para quienes buscan opciones más económicas con consumo medio. Ambas distribuciones se solapan mucho en el rango medio (aproximadamente entre 300 y 700 minutos), lo que indica que una gran parte de los usuarios tiene necesidades de minutos similares, independientemente del plan.\n",
    "\n",
    "- Gráficos de caja: En el plan Surf, hay una mayor dispersión y más valores atípicos a lo largo del año en comparación con el plan Ultimate, esto podría indicar que el plan Surf tiene un grupo de usuarios más diverso en términos de comportamiento de uso. El gráfico sugiere que en el plan Surf, hay usuarios con necesidades de comunicación más extremas hacia finales de año.\n",
    "\n",
    "MENSAJES:\n",
    "\n",
    "- Los usuarios del plan ultimate tienden a enviar más mensajes, lo que lo hace más rentable en este aspecto.\n",
    "\n",
    "- El comportamiento de los usuarios se alinea con patrones estacionales, siendo los meses finales más activos.\n",
    "\n",
    "- La tendencia al alza en el envío de mensajes hacia finales del año podría estar relacionada con: Festividades: Mayor interacción social durante la temporada de fin de año. Incremento general en el uso: Más comunicación debido a cambios en las actividades laborales o personales. Los primeros meses, con menor número promedio de mensajes, podrían reflejar un menor interés o necesidad de comunicación durante ese período.\n",
    "\n",
    "INTERNET:\n",
    "\n",
    "- Ambos planes evidencian usuarios que aprovechan cada vez más los servicios de datos de Megaline. Esto indica la necesidad de mantener atractivos los planes y asegurar que los límites mensuales sean adecuados para satisfacer las demandas de los clientes. \n",
    "\n",
    "- El plan Ultimate parece ser más atractivo para usuarios con altos requerimientos de datos, pero el crecimiento sostenido del uso en el plan Surf destaca la importancia de monitorear su rentabilidad y competitividad.\n",
    "\n",
    "- Dado que el tráfico total es más alto en Surf, este plan podría tener más usuarios. Podría ser porque es más económico o cubre las necesidades de la mayoría de los clientes.\n",
    "\n",
    "- Aunque el uso promedio de Ultimate es ligeramente superior, no parece ser una gran ventaja. Esto indica que el plan no necesariamente atrae a usuarios con necesidades significativamente mayores de datos.\n",
    "\n",
    "- Si Ultimate incluye más datos que Surf, este análisis podría indicar que la mayoría de sus usuarios no aprovechan el límite superior del plan. Esto puede ser una oportunidad para optimizar la oferta.\n",
    "\n",
    "- Como Surf tiene más clientes, la compañía podría enfocarse en mantener o mejorar su estructura de precios para retenerlos.\n",
    "\n",
    "\n",
    "INGRESOS:\n",
    "\n",
    "Plan surf: 67115.420108 USD.\n",
    "Plan ultimate: 41724.436182 USD.\n",
    "\n",
    "- Se podrían enfocar en campañas publicitarias para destacar las ventajas del plan Ultimate y captar clientes dispuestos a pagar más. Analizar si es posible optimizar los precios o servicios ofrecidos en el plan Surf para incrementar los ingresos y la rentabilidad a largo plazo.\n",
    "\n",
    "- Surf domina en volumen total: Este plan parece ser más popular debido a un costo mensual más bajo, pero muchos clientes podrían no estar utilizando servicios adicionales como datos, minutos o mensajes extra. Es un plan más accesible y genera ingresos a través de una base más amplia de usuarios.\n",
    "\n",
    "- Aunque es menos popular, los clientes de Ultimate tienden a generar más ingresos mensuales (por cliente), debido a un precio base más alto, mayor consumo de datos, minutos o mensajes adicionales. Se podrían implementar estrategias de marketing para aumentar la cantidad de suscriptores.\n",
    "\n",
    "- Surf tiene margen para incrementar ingresos si se incentiva a los clientes a consumir más servicios adicionales."
   ]
  },
  {
   "cell_type": "markdown",
   "metadata": {},
   "source": [
    "<div class=\"alert alert-block alert-warning\">\n",
    "<b>Comentario revisor</b> <a class=\"tocSkip\"></a>\n",
    "\n",
    "Deisy, en general creo que hiciste un muy buen trabajo con el proyecto, pudiste limpiar y trabajar las bases de datos de beuna manera. Además, el análisis explorario de datos fue completo al mostrar resultados relevantes que pueden ser de mucha utilidad para la toma de decisiones y desarrollaste las pruebas de hipótesis de una buena manera. No obstante, recuerda que siempre podemos mejorar y te menciono algunos puntos que debes considerar:\n",
    "\n",
    "* Verificar que redondeamos las variables antes de hacer el calculo de ingresos mensuales por usuario\n",
    "\n",
    "*  Considerar eliminar registros atipicos que puedan sesgar nuestros resultados. \n",
    "    \n",
    "\n",
    "</div>"
   ]
  },
  {
   "cell_type": "markdown",
   "metadata": {},
   "source": [
    "<div class=\"alert alert-block alert-info\">\n",
    "<b>Comentario del estudiante</b> <a class=\"tocSkip\"></a>\n",
    "\n",
    "Muchas gracias por todas sus recomendaciones, me parecieron muy acertadas y aprendí más sobre preparación de datos y análisis. Voy a poner en práctica lo aprendido en este proyecto.\n",
    "</div>"
   ]
  }
 ],
 "metadata": {
  "ExecuteTimeLog": [
   {
    "duration": 828,
    "start_time": "2021-11-16T09:21:11.304Z"
   },
   {
    "duration": 893,
    "start_time": "2021-11-16T09:21:17.728Z"
   },
   {
    "duration": 1150,
    "start_time": "2021-11-16T09:21:29.568Z"
   },
   {
    "duration": 3,
    "start_time": "2021-11-16T09:24:14.495Z"
   },
   {
    "duration": 120,
    "start_time": "2021-11-16T09:24:46.630Z"
   },
   {
    "duration": 3,
    "start_time": "2021-11-16T09:28:27.882Z"
   },
   {
    "duration": 4,
    "start_time": "2021-11-16T09:29:54.281Z"
   },
   {
    "duration": 3,
    "start_time": "2021-11-16T09:30:45.936Z"
   },
   {
    "duration": 4,
    "start_time": "2021-11-16T09:31:06.300Z"
   },
   {
    "duration": 113,
    "start_time": "2021-11-16T09:31:37.208Z"
   },
   {
    "duration": 143,
    "start_time": "2021-11-16T09:31:48.656Z"
   },
   {
    "duration": 98,
    "start_time": "2021-11-16T09:31:55.678Z"
   },
   {
    "duration": 3,
    "start_time": "2021-11-16T09:32:08.535Z"
   },
   {
    "duration": 111,
    "start_time": "2021-11-16T09:32:10.120Z"
   },
   {
    "duration": 3,
    "start_time": "2021-11-16T09:32:15.732Z"
   },
   {
    "duration": 4,
    "start_time": "2021-11-16T09:32:29.423Z"
   },
   {
    "duration": 3,
    "start_time": "2021-11-16T10:03:03.074Z"
   },
   {
    "duration": 3,
    "start_time": "2021-11-16T10:10:01.288Z"
   },
   {
    "duration": 3,
    "start_time": "2021-11-16T10:10:46.923Z"
   },
   {
    "duration": 121,
    "start_time": "2021-11-16T10:37:46.494Z"
   },
   {
    "duration": 125,
    "start_time": "2021-11-16T10:38:20.632Z"
   },
   {
    "duration": 112,
    "start_time": "2021-11-16T10:46:53.001Z"
   },
   {
    "duration": 110,
    "start_time": "2021-11-16T10:48:25.775Z"
   },
   {
    "duration": 3,
    "start_time": "2021-11-16T10:50:18.720Z"
   },
   {
    "duration": 4,
    "start_time": "2021-11-16T10:50:37.649Z"
   },
   {
    "duration": 2,
    "start_time": "2021-11-16T10:50:51.884Z"
   },
   {
    "duration": 3,
    "start_time": "2021-11-16T10:51:56.237Z"
   },
   {
    "duration": 101,
    "start_time": "2021-11-16T10:53:13.791Z"
   },
   {
    "duration": 3,
    "start_time": "2021-11-16T10:55:59.186Z"
   },
   {
    "duration": 3,
    "start_time": "2021-11-16T10:56:10.751Z"
   },
   {
    "duration": 3,
    "start_time": "2021-11-16T10:56:49.038Z"
   },
   {
    "duration": 3,
    "start_time": "2021-11-16T10:56:49.174Z"
   },
   {
    "duration": 4,
    "start_time": "2021-11-16T10:56:49.414Z"
   },
   {
    "duration": 3,
    "start_time": "2021-11-16T10:56:49.680Z"
   },
   {
    "duration": 3,
    "start_time": "2021-11-16T10:56:50.370Z"
   },
   {
    "duration": 114,
    "start_time": "2021-11-16T10:59:34.518Z"
   },
   {
    "duration": 3,
    "start_time": "2021-11-16T11:01:41.201Z"
   },
   {
    "duration": 116,
    "start_time": "2021-11-16T11:01:48.754Z"
   },
   {
    "duration": 3,
    "start_time": "2021-11-16T11:02:16.685Z"
   },
   {
    "duration": 3,
    "start_time": "2021-11-16T11:02:19.479Z"
   },
   {
    "duration": 3,
    "start_time": "2021-11-16T11:02:47.067Z"
   },
   {
    "duration": 3,
    "start_time": "2021-11-16T11:02:49.353Z"
   },
   {
    "duration": 3,
    "start_time": "2021-11-16T11:03:07.835Z"
   },
   {
    "duration": 3,
    "start_time": "2021-11-16T11:03:07.953Z"
   },
   {
    "duration": 112,
    "start_time": "2021-11-16T11:07:52.072Z"
   },
   {
    "duration": 187,
    "start_time": "2021-11-16T11:09:23.468Z"
   },
   {
    "duration": 4,
    "start_time": "2021-11-16T11:10:01.455Z"
   },
   {
    "duration": 3,
    "start_time": "2021-11-16T11:10:05.069Z"
   },
   {
    "duration": 4,
    "start_time": "2021-11-16T11:10:13.376Z"
   },
   {
    "duration": 3,
    "start_time": "2021-11-16T11:10:14.434Z"
   },
   {
    "duration": 3,
    "start_time": "2021-11-16T11:10:22.853Z"
   },
   {
    "duration": 4,
    "start_time": "2021-11-16T11:27:29.279Z"
   },
   {
    "duration": 4,
    "start_time": "2021-11-16T11:29:08.919Z"
   },
   {
    "duration": 118,
    "start_time": "2021-11-16T11:29:46.703Z"
   },
   {
    "duration": 437,
    "start_time": "2021-11-16T11:36:02.181Z"
   },
   {
    "duration": 157,
    "start_time": "2021-11-16T11:36:14.388Z"
   },
   {
    "duration": 207,
    "start_time": "2021-11-16T11:47:15.898Z"
   },
   {
    "duration": 3,
    "start_time": "2021-11-16T11:53:52.092Z"
   },
   {
    "duration": 3,
    "start_time": "2021-11-16T11:53:52.236Z"
   },
   {
    "duration": 3,
    "start_time": "2021-11-16T11:59:12.005Z"
   },
   {
    "duration": 112,
    "start_time": "2021-11-16T12:00:33.446Z"
   },
   {
    "duration": 3,
    "start_time": "2021-11-16T12:02:14.453Z"
   },
   {
    "duration": 3,
    "start_time": "2021-11-16T12:02:39.512Z"
   },
   {
    "duration": 106,
    "start_time": "2021-11-16T12:03:03.460Z"
   },
   {
    "duration": 3,
    "start_time": "2021-11-17T20:37:21.139Z"
   },
   {
    "duration": 3,
    "start_time": "2021-11-17T20:37:22.229Z"
   },
   {
    "duration": 3,
    "start_time": "2021-11-17T20:38:38.806Z"
   },
   {
    "duration": 3,
    "start_time": "2021-11-17T20:38:41.958Z"
   },
   {
    "duration": 3,
    "start_time": "2021-11-17T20:43:46.551Z"
   },
   {
    "duration": 4,
    "start_time": "2021-11-17T20:58:21.835Z"
   },
   {
    "duration": 3,
    "start_time": "2021-11-17T20:59:21.872Z"
   },
   {
    "duration": 4,
    "start_time": "2021-11-17T20:59:45.352Z"
   },
   {
    "duration": 4,
    "start_time": "2021-11-17T20:59:49.646Z"
   },
   {
    "duration": 159,
    "start_time": "2021-11-17T21:02:26.949Z"
   },
   {
    "duration": 3,
    "start_time": "2021-11-17T21:03:53.461Z"
   },
   {
    "duration": 3,
    "start_time": "2021-11-17T21:03:53.694Z"
   },
   {
    "duration": 3,
    "start_time": "2021-11-17T21:05:28.145Z"
   },
   {
    "duration": 116,
    "start_time": "2021-11-17T21:05:57.787Z"
   },
   {
    "duration": 3,
    "start_time": "2021-11-17T21:06:37.993Z"
   },
   {
    "duration": 3,
    "start_time": "2021-11-17T21:06:38.261Z"
   },
   {
    "duration": 3,
    "start_time": "2021-11-17T21:11:54.358Z"
   },
   {
    "duration": 3,
    "start_time": "2021-11-17T21:12:43.846Z"
   },
   {
    "duration": 4,
    "start_time": "2021-11-17T21:13:08.773Z"
   },
   {
    "duration": 3,
    "start_time": "2021-11-17T21:14:44.441Z"
   },
   {
    "duration": 3,
    "start_time": "2021-11-17T21:15:42.059Z"
   },
   {
    "duration": 4,
    "start_time": "2021-11-17T21:15:51.995Z"
   },
   {
    "duration": 3,
    "start_time": "2021-11-17T21:15:53.923Z"
   },
   {
    "duration": 3,
    "start_time": "2021-11-17T21:15:55.282Z"
   },
   {
    "duration": 3,
    "start_time": "2021-11-17T21:16:28.492Z"
   },
   {
    "duration": 3,
    "start_time": "2021-11-17T21:16:32.603Z"
   },
   {
    "duration": 3,
    "start_time": "2021-11-17T21:17:06.941Z"
   },
   {
    "duration": 98,
    "start_time": "2021-11-17T21:18:05.733Z"
   },
   {
    "duration": 4,
    "start_time": "2021-11-17T21:21:35.255Z"
   },
   {
    "duration": 3,
    "start_time": "2021-11-17T21:21:37.804Z"
   },
   {
    "duration": 4,
    "start_time": "2021-11-17T21:23:06.071Z"
   },
   {
    "duration": 3,
    "start_time": "2021-11-17T21:23:24.799Z"
   },
   {
    "duration": 3,
    "start_time": "2021-11-17T21:23:32.591Z"
   },
   {
    "duration": 98,
    "start_time": "2021-11-17T21:28:31.559Z"
   },
   {
    "duration": 3,
    "start_time": "2021-11-17T21:28:45.448Z"
   },
   {
    "duration": 3,
    "start_time": "2021-11-17T21:29:17.303Z"
   },
   {
    "duration": 3,
    "start_time": "2021-11-17T21:29:29.617Z"
   },
   {
    "duration": 3,
    "start_time": "2021-11-17T21:29:32.681Z"
   },
   {
    "duration": 3,
    "start_time": "2021-11-17T21:36:11.474Z"
   },
   {
    "duration": 3,
    "start_time": "2021-11-17T21:36:14.791Z"
   },
   {
    "duration": 3,
    "start_time": "2021-11-17T21:36:53.943Z"
   },
   {
    "duration": 3,
    "start_time": "2021-11-17T21:36:56.165Z"
   },
   {
    "duration": 4,
    "start_time": "2021-11-17T21:37:16.590Z"
   },
   {
    "duration": 3,
    "start_time": "2021-11-17T21:37:22.702Z"
   },
   {
    "duration": 4,
    "start_time": "2021-11-17T21:38:03.479Z"
   },
   {
    "duration": 3,
    "start_time": "2021-11-17T21:38:08.601Z"
   },
   {
    "duration": 3,
    "start_time": "2021-11-17T21:38:12.928Z"
   },
   {
    "duration": 3,
    "start_time": "2021-11-17T21:38:48.896Z"
   },
   {
    "duration": 2,
    "start_time": "2021-11-17T21:38:49.171Z"
   },
   {
    "duration": 4,
    "start_time": "2021-11-17T21:39:57.889Z"
   },
   {
    "duration": 3,
    "start_time": "2021-11-17T21:39:58.057Z"
   },
   {
    "duration": 3,
    "start_time": "2021-11-17T21:41:20.108Z"
   },
   {
    "duration": 3,
    "start_time": "2021-11-17T21:41:20.629Z"
   },
   {
    "duration": 3,
    "start_time": "2021-11-17T21:42:49.136Z"
   },
   {
    "duration": 3,
    "start_time": "2021-11-17T21:43:15.137Z"
   },
   {
    "duration": 4,
    "start_time": "2021-11-17T21:43:16.766Z"
   },
   {
    "duration": 4,
    "start_time": "2021-11-17T21:43:31.711Z"
   },
   {
    "duration": 3,
    "start_time": "2021-11-17T21:43:36.312Z"
   },
   {
    "duration": 4,
    "start_time": "2021-11-17T21:45:08.825Z"
   },
   {
    "duration": 4,
    "start_time": "2021-11-17T21:45:10.119Z"
   },
   {
    "duration": 4,
    "start_time": "2021-11-17T21:45:13.748Z"
   },
   {
    "duration": 3,
    "start_time": "2021-11-17T21:45:22.219Z"
   },
   {
    "duration": 3,
    "start_time": "2021-11-17T21:45:33.412Z"
   },
   {
    "duration": 2,
    "start_time": "2021-11-17T21:46:01.885Z"
   },
   {
    "duration": 3,
    "start_time": "2021-11-17T21:46:03.628Z"
   },
   {
    "duration": 107,
    "start_time": "2021-11-17T21:47:32.512Z"
   },
   {
    "duration": 103,
    "start_time": "2021-11-17T21:50:36.243Z"
   },
   {
    "duration": 3,
    "start_time": "2021-11-18T06:28:31.440Z"
   },
   {
    "duration": 3,
    "start_time": "2021-11-18T06:29:00.168Z"
   },
   {
    "duration": 3,
    "start_time": "2021-11-18T06:31:27.008Z"
   },
   {
    "duration": 2,
    "start_time": "2021-11-18T06:35:34.288Z"
   },
   {
    "duration": 2,
    "start_time": "2021-11-18T06:38:04.527Z"
   },
   {
    "duration": 648,
    "start_time": "2024-11-12T23:40:41.440Z"
   },
   {
    "duration": 244,
    "start_time": "2024-11-12T23:46:58.185Z"
   },
   {
    "duration": 2,
    "start_time": "2024-11-12T23:47:14.313Z"
   },
   {
    "duration": 18,
    "start_time": "2024-11-12T23:47:15.577Z"
   },
   {
    "duration": 96,
    "start_time": "2024-11-12T23:47:22.328Z"
   },
   {
    "duration": 195,
    "start_time": "2024-11-12T23:48:30.849Z"
   },
   {
    "duration": 17,
    "start_time": "2024-11-12T23:50:12.672Z"
   },
   {
    "duration": 9,
    "start_time": "2024-11-12T23:50:28.933Z"
   },
   {
    "duration": 12,
    "start_time": "2024-11-12T23:51:08.555Z"
   },
   {
    "duration": 7,
    "start_time": "2024-11-12T23:51:16.617Z"
   },
   {
    "duration": 9,
    "start_time": "2024-11-12T23:57:19.336Z"
   },
   {
    "duration": 9,
    "start_time": "2024-11-12T23:57:21.498Z"
   },
   {
    "duration": 19,
    "start_time": "2024-11-12T23:58:09.949Z"
   },
   {
    "duration": 7,
    "start_time": "2024-11-12T23:58:15.965Z"
   },
   {
    "duration": 12,
    "start_time": "2024-11-12T23:58:49.079Z"
   },
   {
    "duration": 6,
    "start_time": "2024-11-12T23:58:52.093Z"
   },
   {
    "duration": 14,
    "start_time": "2024-11-12T23:59:10.804Z"
   },
   {
    "duration": 7,
    "start_time": "2024-11-12T23:59:12.975Z"
   },
   {
    "duration": 174,
    "start_time": "2024-11-13T01:57:27.076Z"
   },
   {
    "duration": 12,
    "start_time": "2024-11-13T01:58:00.993Z"
   },
   {
    "duration": 12,
    "start_time": "2024-11-13T01:58:05.838Z"
   },
   {
    "duration": 15,
    "start_time": "2024-11-13T01:58:35.774Z"
   },
   {
    "duration": 12,
    "start_time": "2024-11-13T02:00:14.932Z"
   },
   {
    "duration": 618,
    "start_time": "2024-11-13T02:00:30.935Z"
   },
   {
    "duration": 210,
    "start_time": "2024-11-13T02:00:32.876Z"
   },
   {
    "duration": 8,
    "start_time": "2024-11-13T02:00:37.281Z"
   },
   {
    "duration": 11,
    "start_time": "2024-11-13T02:00:40.871Z"
   },
   {
    "duration": 9,
    "start_time": "2024-11-13T02:00:49.397Z"
   },
   {
    "duration": 9,
    "start_time": "2024-11-13T02:00:51.977Z"
   },
   {
    "duration": 8,
    "start_time": "2024-11-13T02:00:55.366Z"
   },
   {
    "duration": 677,
    "start_time": "2024-11-13T02:01:08.588Z"
   },
   {
    "duration": 150,
    "start_time": "2024-11-13T02:01:09.269Z"
   },
   {
    "duration": 8,
    "start_time": "2024-11-13T02:01:09.421Z"
   },
   {
    "duration": 10,
    "start_time": "2024-11-13T02:01:09.433Z"
   },
   {
    "duration": 6,
    "start_time": "2024-11-13T02:01:09.445Z"
   },
   {
    "duration": 21,
    "start_time": "2024-11-13T02:01:09.454Z"
   },
   {
    "duration": 8,
    "start_time": "2024-11-13T02:01:09.476Z"
   },
   {
    "duration": 14,
    "start_time": "2024-11-13T02:01:09.486Z"
   },
   {
    "duration": 6,
    "start_time": "2024-11-13T02:01:09.502Z"
   },
   {
    "duration": 12,
    "start_time": "2024-11-13T02:01:09.512Z"
   },
   {
    "duration": 45,
    "start_time": "2024-11-13T02:01:09.525Z"
   },
   {
    "duration": 14,
    "start_time": "2024-11-13T02:01:09.572Z"
   },
   {
    "duration": 6,
    "start_time": "2024-11-13T02:01:09.587Z"
   },
   {
    "duration": 2,
    "start_time": "2024-11-13T02:01:09.595Z"
   },
   {
    "duration": 2,
    "start_time": "2024-11-13T02:01:09.598Z"
   },
   {
    "duration": 2,
    "start_time": "2024-11-13T02:01:09.602Z"
   },
   {
    "duration": 2,
    "start_time": "2024-11-13T02:01:09.605Z"
   },
   {
    "duration": 2,
    "start_time": "2024-11-13T02:01:09.609Z"
   },
   {
    "duration": 5,
    "start_time": "2024-11-13T02:01:09.612Z"
   },
   {
    "duration": 2,
    "start_time": "2024-11-13T02:01:09.618Z"
   },
   {
    "duration": 48,
    "start_time": "2024-11-13T02:01:09.622Z"
   },
   {
    "duration": 2,
    "start_time": "2024-11-13T02:01:09.673Z"
   },
   {
    "duration": 2,
    "start_time": "2024-11-13T02:01:09.677Z"
   },
   {
    "duration": 2,
    "start_time": "2024-11-13T02:01:09.681Z"
   },
   {
    "duration": 2,
    "start_time": "2024-11-13T02:01:09.685Z"
   },
   {
    "duration": 3,
    "start_time": "2024-11-13T02:01:09.689Z"
   },
   {
    "duration": 3,
    "start_time": "2024-11-13T02:01:09.693Z"
   },
   {
    "duration": 3,
    "start_time": "2024-11-13T02:01:09.699Z"
   },
   {
    "duration": 2,
    "start_time": "2024-11-13T02:01:09.703Z"
   },
   {
    "duration": 6,
    "start_time": "2024-11-13T02:03:13.630Z"
   },
   {
    "duration": 6,
    "start_time": "2024-11-13T02:04:19.883Z"
   },
   {
    "duration": 645,
    "start_time": "2024-11-13T02:04:28.301Z"
   },
   {
    "duration": 160,
    "start_time": "2024-11-13T02:04:28.948Z"
   },
   {
    "duration": 10,
    "start_time": "2024-11-13T02:04:29.109Z"
   },
   {
    "duration": 11,
    "start_time": "2024-11-13T02:04:29.121Z"
   },
   {
    "duration": 5,
    "start_time": "2024-11-13T02:04:29.133Z"
   },
   {
    "duration": 10,
    "start_time": "2024-11-13T02:04:29.140Z"
   },
   {
    "duration": 8,
    "start_time": "2024-11-13T02:04:29.170Z"
   },
   {
    "duration": 15,
    "start_time": "2024-11-13T02:04:29.180Z"
   },
   {
    "duration": 6,
    "start_time": "2024-11-13T02:04:29.197Z"
   },
   {
    "duration": 12,
    "start_time": "2024-11-13T02:04:29.207Z"
   },
   {
    "duration": 6,
    "start_time": "2024-11-13T02:04:29.220Z"
   },
   {
    "duration": 48,
    "start_time": "2024-11-13T02:04:29.228Z"
   },
   {
    "duration": 6,
    "start_time": "2024-11-13T02:04:29.278Z"
   },
   {
    "duration": 3,
    "start_time": "2024-11-13T02:04:29.286Z"
   },
   {
    "duration": 2,
    "start_time": "2024-11-13T02:04:29.290Z"
   },
   {
    "duration": 2,
    "start_time": "2024-11-13T02:04:29.294Z"
   },
   {
    "duration": 2,
    "start_time": "2024-11-13T02:04:29.298Z"
   },
   {
    "duration": 2,
    "start_time": "2024-11-13T02:04:29.302Z"
   },
   {
    "duration": 3,
    "start_time": "2024-11-13T02:04:29.305Z"
   },
   {
    "duration": 3,
    "start_time": "2024-11-13T02:04:29.309Z"
   },
   {
    "duration": 2,
    "start_time": "2024-11-13T02:04:29.313Z"
   },
   {
    "duration": 3,
    "start_time": "2024-11-13T02:04:29.317Z"
   },
   {
    "duration": 50,
    "start_time": "2024-11-13T02:04:29.321Z"
   },
   {
    "duration": 2,
    "start_time": "2024-11-13T02:04:29.374Z"
   },
   {
    "duration": 2,
    "start_time": "2024-11-13T02:04:29.377Z"
   },
   {
    "duration": 2,
    "start_time": "2024-11-13T02:04:29.381Z"
   },
   {
    "duration": 2,
    "start_time": "2024-11-13T02:04:29.385Z"
   },
   {
    "duration": 1,
    "start_time": "2024-11-13T02:04:29.391Z"
   },
   {
    "duration": 3,
    "start_time": "2024-11-13T02:04:29.394Z"
   },
   {
    "duration": 7,
    "start_time": "2024-11-13T02:08:07.058Z"
   },
   {
    "duration": 648,
    "start_time": "2024-11-13T02:08:25.300Z"
   },
   {
    "duration": 163,
    "start_time": "2024-11-13T02:08:25.950Z"
   },
   {
    "duration": 10,
    "start_time": "2024-11-13T02:08:26.114Z"
   },
   {
    "duration": 11,
    "start_time": "2024-11-13T02:08:26.127Z"
   },
   {
    "duration": 6,
    "start_time": "2024-11-13T02:08:26.140Z"
   },
   {
    "duration": 27,
    "start_time": "2024-11-13T02:08:26.148Z"
   },
   {
    "duration": 9,
    "start_time": "2024-11-13T02:08:26.177Z"
   },
   {
    "duration": 21,
    "start_time": "2024-11-13T02:08:26.188Z"
   },
   {
    "duration": 10,
    "start_time": "2024-11-13T02:08:26.211Z"
   },
   {
    "duration": 12,
    "start_time": "2024-11-13T02:08:26.224Z"
   },
   {
    "duration": 34,
    "start_time": "2024-11-13T02:08:26.238Z"
   },
   {
    "duration": 15,
    "start_time": "2024-11-13T02:08:26.275Z"
   },
   {
    "duration": 6,
    "start_time": "2024-11-13T02:08:26.292Z"
   },
   {
    "duration": 2,
    "start_time": "2024-11-13T02:08:26.301Z"
   },
   {
    "duration": 2,
    "start_time": "2024-11-13T02:08:26.306Z"
   },
   {
    "duration": 2,
    "start_time": "2024-11-13T02:08:26.310Z"
   },
   {
    "duration": 2,
    "start_time": "2024-11-13T02:08:26.314Z"
   },
   {
    "duration": 2,
    "start_time": "2024-11-13T02:08:26.318Z"
   },
   {
    "duration": 3,
    "start_time": "2024-11-13T02:08:26.322Z"
   },
   {
    "duration": 42,
    "start_time": "2024-11-13T02:08:26.329Z"
   },
   {
    "duration": 3,
    "start_time": "2024-11-13T02:08:26.373Z"
   },
   {
    "duration": 3,
    "start_time": "2024-11-13T02:08:26.377Z"
   },
   {
    "duration": 3,
    "start_time": "2024-11-13T02:08:26.381Z"
   },
   {
    "duration": 3,
    "start_time": "2024-11-13T02:08:26.386Z"
   },
   {
    "duration": 2,
    "start_time": "2024-11-13T02:08:26.390Z"
   },
   {
    "duration": 2,
    "start_time": "2024-11-13T02:08:26.394Z"
   },
   {
    "duration": 2,
    "start_time": "2024-11-13T02:08:26.398Z"
   },
   {
    "duration": 2,
    "start_time": "2024-11-13T02:08:26.404Z"
   },
   {
    "duration": 2,
    "start_time": "2024-11-13T02:08:26.407Z"
   },
   {
    "duration": 589,
    "start_time": "2024-11-13T02:12:18.743Z"
   },
   {
    "duration": 156,
    "start_time": "2024-11-13T02:12:19.334Z"
   },
   {
    "duration": 10,
    "start_time": "2024-11-13T02:12:19.491Z"
   },
   {
    "duration": 11,
    "start_time": "2024-11-13T02:12:19.504Z"
   },
   {
    "duration": 6,
    "start_time": "2024-11-13T02:12:19.516Z"
   },
   {
    "duration": 8,
    "start_time": "2024-11-13T02:12:19.524Z"
   },
   {
    "duration": 8,
    "start_time": "2024-11-13T02:12:19.535Z"
   },
   {
    "duration": 15,
    "start_time": "2024-11-13T02:12:19.570Z"
   },
   {
    "duration": 7,
    "start_time": "2024-11-13T02:12:19.586Z"
   },
   {
    "duration": 11,
    "start_time": "2024-11-13T02:12:19.596Z"
   },
   {
    "duration": 6,
    "start_time": "2024-11-13T02:12:19.608Z"
   },
   {
    "duration": 13,
    "start_time": "2024-11-13T02:12:19.616Z"
   },
   {
    "duration": 6,
    "start_time": "2024-11-13T02:12:19.630Z"
   },
   {
    "duration": 2,
    "start_time": "2024-11-13T02:12:19.670Z"
   },
   {
    "duration": 2,
    "start_time": "2024-11-13T02:12:19.674Z"
   },
   {
    "duration": 2,
    "start_time": "2024-11-13T02:12:19.678Z"
   },
   {
    "duration": 3,
    "start_time": "2024-11-13T02:12:19.681Z"
   },
   {
    "duration": 2,
    "start_time": "2024-11-13T02:12:19.686Z"
   },
   {
    "duration": 2,
    "start_time": "2024-11-13T02:12:19.690Z"
   },
   {
    "duration": 3,
    "start_time": "2024-11-13T02:12:19.693Z"
   },
   {
    "duration": 2,
    "start_time": "2024-11-13T02:12:19.698Z"
   },
   {
    "duration": 2,
    "start_time": "2024-11-13T02:12:19.703Z"
   },
   {
    "duration": 7,
    "start_time": "2024-11-13T02:12:19.706Z"
   },
   {
    "duration": 2,
    "start_time": "2024-11-13T02:12:19.715Z"
   },
   {
    "duration": 3,
    "start_time": "2024-11-13T02:12:19.719Z"
   },
   {
    "duration": 46,
    "start_time": "2024-11-13T02:12:19.724Z"
   },
   {
    "duration": 3,
    "start_time": "2024-11-13T02:12:19.773Z"
   },
   {
    "duration": 2,
    "start_time": "2024-11-13T02:12:19.780Z"
   },
   {
    "duration": 2,
    "start_time": "2024-11-13T02:12:19.783Z"
   },
   {
    "duration": 598,
    "start_time": "2024-11-13T02:13:03.968Z"
   },
   {
    "duration": 162,
    "start_time": "2024-11-13T02:13:04.571Z"
   },
   {
    "duration": 10,
    "start_time": "2024-11-13T02:13:04.735Z"
   },
   {
    "duration": 10,
    "start_time": "2024-11-13T02:13:04.748Z"
   },
   {
    "duration": 8,
    "start_time": "2024-11-13T02:13:04.770Z"
   },
   {
    "duration": 10,
    "start_time": "2024-11-13T02:13:04.781Z"
   },
   {
    "duration": 10,
    "start_time": "2024-11-13T02:13:04.794Z"
   },
   {
    "duration": 18,
    "start_time": "2024-11-13T02:13:04.806Z"
   },
   {
    "duration": 13,
    "start_time": "2024-11-13T02:13:04.825Z"
   },
   {
    "duration": 41,
    "start_time": "2024-11-13T02:13:04.841Z"
   },
   {
    "duration": 6,
    "start_time": "2024-11-13T02:13:04.884Z"
   },
   {
    "duration": 14,
    "start_time": "2024-11-13T02:13:04.892Z"
   },
   {
    "duration": 6,
    "start_time": "2024-11-13T02:13:04.908Z"
   },
   {
    "duration": 2,
    "start_time": "2024-11-13T02:13:04.917Z"
   },
   {
    "duration": 2,
    "start_time": "2024-11-13T02:13:04.920Z"
   },
   {
    "duration": 3,
    "start_time": "2024-11-13T02:13:04.924Z"
   },
   {
    "duration": 43,
    "start_time": "2024-11-13T02:13:04.928Z"
   },
   {
    "duration": 3,
    "start_time": "2024-11-13T02:13:04.973Z"
   },
   {
    "duration": 2,
    "start_time": "2024-11-13T02:13:04.978Z"
   },
   {
    "duration": 3,
    "start_time": "2024-11-13T02:13:04.981Z"
   },
   {
    "duration": 3,
    "start_time": "2024-11-13T02:13:04.985Z"
   },
   {
    "duration": 3,
    "start_time": "2024-11-13T02:13:04.989Z"
   },
   {
    "duration": 3,
    "start_time": "2024-11-13T02:13:04.993Z"
   },
   {
    "duration": 2,
    "start_time": "2024-11-13T02:13:04.997Z"
   },
   {
    "duration": 2,
    "start_time": "2024-11-13T02:13:05.001Z"
   },
   {
    "duration": 3,
    "start_time": "2024-11-13T02:13:05.005Z"
   },
   {
    "duration": 3,
    "start_time": "2024-11-13T02:13:05.009Z"
   },
   {
    "duration": 3,
    "start_time": "2024-11-13T02:13:05.015Z"
   },
   {
    "duration": 2,
    "start_time": "2024-11-13T02:13:05.071Z"
   },
   {
    "duration": 160,
    "start_time": "2024-11-13T02:14:06.901Z"
   },
   {
    "duration": 631,
    "start_time": "2024-11-13T02:14:12.588Z"
   },
   {
    "duration": 163,
    "start_time": "2024-11-13T02:14:13.222Z"
   },
   {
    "duration": 9,
    "start_time": "2024-11-13T02:14:13.387Z"
   },
   {
    "duration": 11,
    "start_time": "2024-11-13T02:14:13.398Z"
   },
   {
    "duration": 5,
    "start_time": "2024-11-13T02:14:13.411Z"
   },
   {
    "duration": 9,
    "start_time": "2024-11-13T02:14:13.418Z"
   },
   {
    "duration": 8,
    "start_time": "2024-11-13T02:14:13.428Z"
   },
   {
    "duration": 40,
    "start_time": "2024-11-13T02:14:13.437Z"
   },
   {
    "duration": 7,
    "start_time": "2024-11-13T02:14:13.479Z"
   },
   {
    "duration": 12,
    "start_time": "2024-11-13T02:14:13.487Z"
   },
   {
    "duration": 6,
    "start_time": "2024-11-13T02:14:13.500Z"
   },
   {
    "duration": 13,
    "start_time": "2024-11-13T02:14:13.507Z"
   },
   {
    "duration": 7,
    "start_time": "2024-11-13T02:14:13.522Z"
   },
   {
    "duration": 2,
    "start_time": "2024-11-13T02:14:13.532Z"
   },
   {
    "duration": 37,
    "start_time": "2024-11-13T02:14:13.535Z"
   },
   {
    "duration": 3,
    "start_time": "2024-11-13T02:14:13.573Z"
   },
   {
    "duration": 3,
    "start_time": "2024-11-13T02:14:13.577Z"
   },
   {
    "duration": 3,
    "start_time": "2024-11-13T02:14:13.581Z"
   },
   {
    "duration": 2,
    "start_time": "2024-11-13T02:14:13.586Z"
   },
   {
    "duration": 4,
    "start_time": "2024-11-13T02:14:13.589Z"
   },
   {
    "duration": 2,
    "start_time": "2024-11-13T02:14:13.596Z"
   },
   {
    "duration": 2,
    "start_time": "2024-11-13T02:14:13.600Z"
   },
   {
    "duration": 2,
    "start_time": "2024-11-13T02:14:13.604Z"
   },
   {
    "duration": 3,
    "start_time": "2024-11-13T02:14:13.607Z"
   },
   {
    "duration": 2,
    "start_time": "2024-11-13T02:14:13.612Z"
   },
   {
    "duration": 3,
    "start_time": "2024-11-13T02:14:13.616Z"
   },
   {
    "duration": 50,
    "start_time": "2024-11-13T02:14:13.620Z"
   },
   {
    "duration": 3,
    "start_time": "2024-11-13T02:14:13.672Z"
   },
   {
    "duration": 3,
    "start_time": "2024-11-13T02:14:13.676Z"
   },
   {
    "duration": 654,
    "start_time": "2024-11-13T02:14:49.086Z"
   },
   {
    "duration": 156,
    "start_time": "2024-11-13T02:14:49.742Z"
   },
   {
    "duration": 9,
    "start_time": "2024-11-13T02:14:49.899Z"
   },
   {
    "duration": 10,
    "start_time": "2024-11-13T02:14:49.911Z"
   },
   {
    "duration": 4,
    "start_time": "2024-11-13T02:14:49.923Z"
   },
   {
    "duration": 8,
    "start_time": "2024-11-13T02:14:49.929Z"
   },
   {
    "duration": 8,
    "start_time": "2024-11-13T02:14:51.463Z"
   },
   {
    "duration": 14,
    "start_time": "2024-11-13T02:14:51.474Z"
   },
   {
    "duration": 6,
    "start_time": "2024-11-13T02:14:51.490Z"
   },
   {
    "duration": 12,
    "start_time": "2024-11-13T02:14:51.498Z"
   },
   {
    "duration": 5,
    "start_time": "2024-11-13T02:14:51.512Z"
   },
   {
    "duration": 14,
    "start_time": "2024-11-13T02:14:51.518Z"
   },
   {
    "duration": 7,
    "start_time": "2024-11-13T02:14:51.533Z"
   },
   {
    "duration": 6,
    "start_time": "2024-11-13T02:14:51.571Z"
   },
   {
    "duration": 3,
    "start_time": "2024-11-13T02:14:51.580Z"
   },
   {
    "duration": 2,
    "start_time": "2024-11-13T02:14:51.588Z"
   },
   {
    "duration": 2,
    "start_time": "2024-11-13T02:14:51.593Z"
   },
   {
    "duration": 3,
    "start_time": "2024-11-13T02:14:51.597Z"
   },
   {
    "duration": 3,
    "start_time": "2024-11-13T02:14:51.601Z"
   },
   {
    "duration": 2,
    "start_time": "2024-11-13T02:14:51.606Z"
   },
   {
    "duration": 7,
    "start_time": "2024-11-13T02:14:51.610Z"
   },
   {
    "duration": 2,
    "start_time": "2024-11-13T02:14:51.619Z"
   },
   {
    "duration": 2,
    "start_time": "2024-11-13T02:14:51.623Z"
   },
   {
    "duration": 3,
    "start_time": "2024-11-13T02:14:51.627Z"
   },
   {
    "duration": 2,
    "start_time": "2024-11-13T02:14:51.715Z"
   },
   {
    "duration": 2,
    "start_time": "2024-11-13T02:14:51.721Z"
   },
   {
    "duration": 2,
    "start_time": "2024-11-13T02:14:51.724Z"
   },
   {
    "duration": 3,
    "start_time": "2024-11-13T02:14:51.728Z"
   },
   {
    "duration": 3,
    "start_time": "2024-11-13T02:14:51.732Z"
   },
   {
    "duration": 613,
    "start_time": "2024-11-13T02:16:13.114Z"
   },
   {
    "duration": 160,
    "start_time": "2024-11-13T02:16:13.729Z"
   },
   {
    "duration": 10,
    "start_time": "2024-11-13T02:16:13.890Z"
   },
   {
    "duration": 11,
    "start_time": "2024-11-13T02:16:13.903Z"
   },
   {
    "duration": 4,
    "start_time": "2024-11-13T02:16:13.916Z"
   },
   {
    "duration": 9,
    "start_time": "2024-11-13T02:16:13.922Z"
   },
   {
    "duration": 10,
    "start_time": "2024-11-13T02:16:13.932Z"
   },
   {
    "duration": 15,
    "start_time": "2024-11-13T02:16:13.971Z"
   },
   {
    "duration": 7,
    "start_time": "2024-11-13T02:16:13.988Z"
   },
   {
    "duration": 12,
    "start_time": "2024-11-13T02:16:13.999Z"
   },
   {
    "duration": 6,
    "start_time": "2024-11-13T02:16:14.012Z"
   },
   {
    "duration": 13,
    "start_time": "2024-11-13T02:16:14.020Z"
   },
   {
    "duration": 40,
    "start_time": "2024-11-13T02:16:14.035Z"
   },
   {
    "duration": 2,
    "start_time": "2024-11-13T02:16:14.076Z"
   },
   {
    "duration": 2,
    "start_time": "2024-11-13T02:16:14.081Z"
   },
   {
    "duration": 3,
    "start_time": "2024-11-13T02:16:14.084Z"
   },
   {
    "duration": 2,
    "start_time": "2024-11-13T02:16:14.088Z"
   },
   {
    "duration": 2,
    "start_time": "2024-11-13T02:16:14.092Z"
   },
   {
    "duration": 2,
    "start_time": "2024-11-13T02:16:14.096Z"
   },
   {
    "duration": 3,
    "start_time": "2024-11-13T02:16:14.100Z"
   },
   {
    "duration": 3,
    "start_time": "2024-11-13T02:16:14.104Z"
   },
   {
    "duration": 3,
    "start_time": "2024-11-13T02:16:14.108Z"
   },
   {
    "duration": 2,
    "start_time": "2024-11-13T02:16:14.112Z"
   },
   {
    "duration": 3,
    "start_time": "2024-11-13T02:16:14.116Z"
   },
   {
    "duration": 2,
    "start_time": "2024-11-13T02:16:14.120Z"
   },
   {
    "duration": 3,
    "start_time": "2024-11-13T02:16:14.171Z"
   },
   {
    "duration": 2,
    "start_time": "2024-11-13T02:16:14.176Z"
   },
   {
    "duration": 2,
    "start_time": "2024-11-13T02:16:14.182Z"
   },
   {
    "duration": 3,
    "start_time": "2024-11-13T02:16:14.186Z"
   },
   {
    "duration": 635,
    "start_time": "2024-11-13T02:19:19.791Z"
   },
   {
    "duration": 163,
    "start_time": "2024-11-13T02:19:20.428Z"
   },
   {
    "duration": 10,
    "start_time": "2024-11-13T02:19:20.593Z"
   },
   {
    "duration": 10,
    "start_time": "2024-11-13T02:19:20.606Z"
   },
   {
    "duration": 2,
    "start_time": "2024-11-13T02:19:20.618Z"
   },
   {
    "duration": 8,
    "start_time": "2024-11-13T02:19:20.621Z"
   },
   {
    "duration": 40,
    "start_time": "2024-11-13T02:19:20.630Z"
   },
   {
    "duration": 16,
    "start_time": "2024-11-13T02:19:20.671Z"
   },
   {
    "duration": 7,
    "start_time": "2024-11-13T02:19:20.688Z"
   },
   {
    "duration": 12,
    "start_time": "2024-11-13T02:19:20.698Z"
   },
   {
    "duration": 6,
    "start_time": "2024-11-13T02:19:20.712Z"
   },
   {
    "duration": 15,
    "start_time": "2024-11-13T02:19:20.720Z"
   },
   {
    "duration": 37,
    "start_time": "2024-11-13T02:19:20.737Z"
   },
   {
    "duration": 2,
    "start_time": "2024-11-13T02:19:20.777Z"
   },
   {
    "duration": 2,
    "start_time": "2024-11-13T02:19:20.781Z"
   },
   {
    "duration": 3,
    "start_time": "2024-11-13T02:19:20.785Z"
   },
   {
    "duration": 3,
    "start_time": "2024-11-13T02:19:20.789Z"
   },
   {
    "duration": 2,
    "start_time": "2024-11-13T02:19:20.793Z"
   },
   {
    "duration": 2,
    "start_time": "2024-11-13T02:19:20.797Z"
   },
   {
    "duration": 2,
    "start_time": "2024-11-13T02:19:20.801Z"
   },
   {
    "duration": 2,
    "start_time": "2024-11-13T02:19:20.804Z"
   },
   {
    "duration": 2,
    "start_time": "2024-11-13T02:19:20.808Z"
   },
   {
    "duration": 2,
    "start_time": "2024-11-13T02:19:20.812Z"
   },
   {
    "duration": 2,
    "start_time": "2024-11-13T02:19:20.816Z"
   },
   {
    "duration": 2,
    "start_time": "2024-11-13T02:19:20.870Z"
   },
   {
    "duration": 3,
    "start_time": "2024-11-13T02:19:20.874Z"
   },
   {
    "duration": 2,
    "start_time": "2024-11-13T02:19:20.878Z"
   },
   {
    "duration": 2,
    "start_time": "2024-11-13T02:19:20.884Z"
   },
   {
    "duration": 2,
    "start_time": "2024-11-13T02:19:20.887Z"
   },
   {
    "duration": 3,
    "start_time": "2024-11-13T02:22:33.095Z"
   },
   {
    "duration": 8,
    "start_time": "2024-11-13T02:22:41.082Z"
   },
   {
    "duration": 11,
    "start_time": "2024-11-13T02:22:54.381Z"
   },
   {
    "duration": 625,
    "start_time": "2024-11-13T02:24:27.212Z"
   },
   {
    "duration": 157,
    "start_time": "2024-11-13T02:24:27.839Z"
   },
   {
    "duration": 10,
    "start_time": "2024-11-13T02:24:27.998Z"
   },
   {
    "duration": 10,
    "start_time": "2024-11-13T02:24:28.011Z"
   },
   {
    "duration": 8,
    "start_time": "2024-11-13T02:24:28.022Z"
   },
   {
    "duration": 8,
    "start_time": "2024-11-13T02:24:28.032Z"
   },
   {
    "duration": 32,
    "start_time": "2024-11-13T02:24:28.042Z"
   },
   {
    "duration": 14,
    "start_time": "2024-11-13T02:24:28.076Z"
   },
   {
    "duration": 6,
    "start_time": "2024-11-13T02:24:28.092Z"
   },
   {
    "duration": 11,
    "start_time": "2024-11-13T02:24:28.102Z"
   },
   {
    "duration": 7,
    "start_time": "2024-11-13T02:24:28.115Z"
   },
   {
    "duration": 46,
    "start_time": "2024-11-13T02:24:28.124Z"
   },
   {
    "duration": 9,
    "start_time": "2024-11-13T02:24:28.172Z"
   },
   {
    "duration": 3,
    "start_time": "2024-11-13T02:24:28.182Z"
   },
   {
    "duration": 4,
    "start_time": "2024-11-13T02:24:28.187Z"
   },
   {
    "duration": 2,
    "start_time": "2024-11-13T02:24:28.194Z"
   },
   {
    "duration": 3,
    "start_time": "2024-11-13T02:24:28.197Z"
   },
   {
    "duration": 3,
    "start_time": "2024-11-13T02:24:28.201Z"
   },
   {
    "duration": 2,
    "start_time": "2024-11-13T02:24:28.206Z"
   },
   {
    "duration": 2,
    "start_time": "2024-11-13T02:24:28.210Z"
   },
   {
    "duration": 3,
    "start_time": "2024-11-13T02:24:28.214Z"
   },
   {
    "duration": 2,
    "start_time": "2024-11-13T02:24:28.218Z"
   },
   {
    "duration": 48,
    "start_time": "2024-11-13T02:24:28.222Z"
   },
   {
    "duration": 2,
    "start_time": "2024-11-13T02:24:28.272Z"
   },
   {
    "duration": 2,
    "start_time": "2024-11-13T02:24:28.276Z"
   },
   {
    "duration": 2,
    "start_time": "2024-11-13T02:24:28.280Z"
   },
   {
    "duration": 3,
    "start_time": "2024-11-13T02:24:28.283Z"
   },
   {
    "duration": 2,
    "start_time": "2024-11-13T02:24:28.290Z"
   },
   {
    "duration": 3,
    "start_time": "2024-11-13T02:24:28.293Z"
   },
   {
    "duration": 8,
    "start_time": "2024-11-13T02:26:44.848Z"
   },
   {
    "duration": 8,
    "start_time": "2024-11-13T02:30:17.329Z"
   },
   {
    "duration": 621,
    "start_time": "2024-11-13T02:30:23.718Z"
   },
   {
    "duration": 165,
    "start_time": "2024-11-13T02:30:24.342Z"
   },
   {
    "duration": 11,
    "start_time": "2024-11-13T02:30:24.509Z"
   },
   {
    "duration": 10,
    "start_time": "2024-11-13T02:30:24.522Z"
   },
   {
    "duration": 7,
    "start_time": "2024-11-13T02:30:24.534Z"
   },
   {
    "duration": 27,
    "start_time": "2024-11-13T02:30:24.543Z"
   },
   {
    "duration": 11,
    "start_time": "2024-11-13T02:30:24.572Z"
   },
   {
    "duration": 22,
    "start_time": "2024-11-13T02:30:24.584Z"
   },
   {
    "duration": 6,
    "start_time": "2024-11-13T02:30:24.608Z"
   },
   {
    "duration": 13,
    "start_time": "2024-11-13T02:30:24.617Z"
   },
   {
    "duration": 38,
    "start_time": "2024-11-13T02:30:24.632Z"
   },
   {
    "duration": 17,
    "start_time": "2024-11-13T02:30:24.672Z"
   },
   {
    "duration": 8,
    "start_time": "2024-11-13T02:30:24.691Z"
   },
   {
    "duration": 3,
    "start_time": "2024-11-13T02:30:24.701Z"
   },
   {
    "duration": 2,
    "start_time": "2024-11-13T02:30:24.706Z"
   },
   {
    "duration": 4,
    "start_time": "2024-11-13T02:30:24.710Z"
   },
   {
    "duration": 5,
    "start_time": "2024-11-13T02:30:24.715Z"
   },
   {
    "duration": 3,
    "start_time": "2024-11-13T02:30:24.722Z"
   },
   {
    "duration": 3,
    "start_time": "2024-11-13T02:30:24.727Z"
   },
   {
    "duration": 2,
    "start_time": "2024-11-13T02:30:24.771Z"
   },
   {
    "duration": 2,
    "start_time": "2024-11-13T02:30:24.776Z"
   },
   {
    "duration": 2,
    "start_time": "2024-11-13T02:30:24.780Z"
   },
   {
    "duration": 2,
    "start_time": "2024-11-13T02:30:24.784Z"
   },
   {
    "duration": 2,
    "start_time": "2024-11-13T02:30:24.789Z"
   },
   {
    "duration": 3,
    "start_time": "2024-11-13T02:30:24.793Z"
   },
   {
    "duration": 2,
    "start_time": "2024-11-13T02:30:24.798Z"
   },
   {
    "duration": 2,
    "start_time": "2024-11-13T02:30:24.803Z"
   },
   {
    "duration": 2,
    "start_time": "2024-11-13T02:30:24.808Z"
   },
   {
    "duration": 2,
    "start_time": "2024-11-13T02:30:24.812Z"
   },
   {
    "duration": 8,
    "start_time": "2024-11-13T02:32:37.743Z"
   },
   {
    "duration": 8,
    "start_time": "2024-11-13T02:48:40.942Z"
   },
   {
    "duration": 13,
    "start_time": "2024-11-13T02:48:45.441Z"
   },
   {
    "duration": 8,
    "start_time": "2024-11-13T02:49:00.544Z"
   },
   {
    "duration": 8,
    "start_time": "2024-11-13T02:49:02.788Z"
   },
   {
    "duration": 4,
    "start_time": "2024-11-13T03:05:50.207Z"
   },
   {
    "duration": 5,
    "start_time": "2024-11-13T03:06:15.680Z"
   },
   {
    "duration": 6,
    "start_time": "2024-11-13T03:06:18.212Z"
   },
   {
    "duration": 11,
    "start_time": "2024-11-13T03:06:29.903Z"
   },
   {
    "duration": 273,
    "start_time": "2024-11-13T03:12:37.631Z"
   },
   {
    "duration": 19,
    "start_time": "2024-11-13T03:12:48.024Z"
   },
   {
    "duration": 19,
    "start_time": "2024-11-13T03:13:12.926Z"
   },
   {
    "duration": 18,
    "start_time": "2024-11-13T03:13:13.873Z"
   },
   {
    "duration": 20,
    "start_time": "2024-11-13T03:13:14.695Z"
   },
   {
    "duration": 19,
    "start_time": "2024-11-13T03:13:36.194Z"
   },
   {
    "duration": 17,
    "start_time": "2024-11-13T03:13:59.431Z"
   },
   {
    "duration": 309,
    "start_time": "2024-11-13T03:15:09.779Z"
   },
   {
    "duration": 117,
    "start_time": "2024-11-13T03:15:15.988Z"
   },
   {
    "duration": 116,
    "start_time": "2024-11-13T03:15:27.344Z"
   },
   {
    "duration": 165,
    "start_time": "2024-11-13T03:15:33.125Z"
   },
   {
    "duration": 116,
    "start_time": "2024-11-13T03:15:41.199Z"
   },
   {
    "duration": 116,
    "start_time": "2024-11-13T03:15:48.962Z"
   },
   {
    "duration": 599,
    "start_time": "2024-11-13T03:15:58.743Z"
   },
   {
    "duration": 158,
    "start_time": "2024-11-13T03:15:59.344Z"
   },
   {
    "duration": 9,
    "start_time": "2024-11-13T03:15:59.504Z"
   },
   {
    "duration": 9,
    "start_time": "2024-11-13T03:15:59.517Z"
   },
   {
    "duration": 7,
    "start_time": "2024-11-13T03:15:59.528Z"
   },
   {
    "duration": 8,
    "start_time": "2024-11-13T03:15:59.537Z"
   },
   {
    "duration": 29,
    "start_time": "2024-11-13T03:15:59.547Z"
   },
   {
    "duration": 18,
    "start_time": "2024-11-13T03:15:59.577Z"
   },
   {
    "duration": 15,
    "start_time": "2024-11-13T03:15:59.596Z"
   },
   {
    "duration": 6,
    "start_time": "2024-11-13T03:15:59.614Z"
   },
   {
    "duration": 11,
    "start_time": "2024-11-13T03:15:59.622Z"
   },
   {
    "duration": 38,
    "start_time": "2024-11-13T03:15:59.634Z"
   },
   {
    "duration": 12,
    "start_time": "2024-11-13T03:15:59.674Z"
   },
   {
    "duration": 7,
    "start_time": "2024-11-13T03:15:59.688Z"
   },
   {
    "duration": 2,
    "start_time": "2024-11-13T03:15:59.696Z"
   },
   {
    "duration": 3,
    "start_time": "2024-11-13T03:15:59.700Z"
   },
   {
    "duration": 2,
    "start_time": "2024-11-13T03:15:59.705Z"
   },
   {
    "duration": 3,
    "start_time": "2024-11-13T03:15:59.709Z"
   },
   {
    "duration": 3,
    "start_time": "2024-11-13T03:15:59.713Z"
   },
   {
    "duration": 3,
    "start_time": "2024-11-13T03:15:59.717Z"
   },
   {
    "duration": 2,
    "start_time": "2024-11-13T03:15:59.722Z"
   },
   {
    "duration": 3,
    "start_time": "2024-11-13T03:15:59.725Z"
   },
   {
    "duration": 2,
    "start_time": "2024-11-13T03:15:59.771Z"
   },
   {
    "duration": 2,
    "start_time": "2024-11-13T03:15:59.775Z"
   },
   {
    "duration": 3,
    "start_time": "2024-11-13T03:15:59.779Z"
   },
   {
    "duration": 2,
    "start_time": "2024-11-13T03:15:59.784Z"
   },
   {
    "duration": 2,
    "start_time": "2024-11-13T03:15:59.788Z"
   },
   {
    "duration": 2,
    "start_time": "2024-11-13T03:15:59.793Z"
   },
   {
    "duration": 2,
    "start_time": "2024-11-13T03:15:59.797Z"
   },
   {
    "duration": 2,
    "start_time": "2024-11-13T03:15:59.801Z"
   },
   {
    "duration": 551,
    "start_time": "2024-11-13T03:16:56.585Z"
   },
   {
    "duration": 645,
    "start_time": "2024-11-13T03:17:01.884Z"
   },
   {
    "duration": 156,
    "start_time": "2024-11-13T03:17:02.532Z"
   },
   {
    "duration": 10,
    "start_time": "2024-11-13T03:17:02.690Z"
   },
   {
    "duration": 10,
    "start_time": "2024-11-13T03:17:02.703Z"
   },
   {
    "duration": 8,
    "start_time": "2024-11-13T03:17:02.714Z"
   },
   {
    "duration": 8,
    "start_time": "2024-11-13T03:17:02.724Z"
   },
   {
    "duration": 10,
    "start_time": "2024-11-13T03:17:02.733Z"
   },
   {
    "duration": 558,
    "start_time": "2024-11-13T03:17:02.744Z"
   },
   {
    "duration": 0,
    "start_time": "2024-11-13T03:17:03.305Z"
   },
   {
    "duration": 0,
    "start_time": "2024-11-13T03:17:03.306Z"
   },
   {
    "duration": 0,
    "start_time": "2024-11-13T03:17:03.307Z"
   },
   {
    "duration": 0,
    "start_time": "2024-11-13T03:17:03.309Z"
   },
   {
    "duration": 0,
    "start_time": "2024-11-13T03:17:03.310Z"
   },
   {
    "duration": 0,
    "start_time": "2024-11-13T03:17:03.311Z"
   },
   {
    "duration": 0,
    "start_time": "2024-11-13T03:17:03.312Z"
   },
   {
    "duration": 0,
    "start_time": "2024-11-13T03:17:03.313Z"
   },
   {
    "duration": 0,
    "start_time": "2024-11-13T03:17:03.314Z"
   },
   {
    "duration": 0,
    "start_time": "2024-11-13T03:17:03.315Z"
   },
   {
    "duration": 0,
    "start_time": "2024-11-13T03:17:03.316Z"
   },
   {
    "duration": 0,
    "start_time": "2024-11-13T03:17:03.317Z"
   },
   {
    "duration": 0,
    "start_time": "2024-11-13T03:17:03.317Z"
   },
   {
    "duration": 0,
    "start_time": "2024-11-13T03:17:03.318Z"
   },
   {
    "duration": 0,
    "start_time": "2024-11-13T03:17:03.319Z"
   },
   {
    "duration": 0,
    "start_time": "2024-11-13T03:17:03.320Z"
   },
   {
    "duration": 0,
    "start_time": "2024-11-13T03:17:03.321Z"
   },
   {
    "duration": 0,
    "start_time": "2024-11-13T03:17:03.322Z"
   },
   {
    "duration": 0,
    "start_time": "2024-11-13T03:17:03.323Z"
   },
   {
    "duration": 0,
    "start_time": "2024-11-13T03:17:03.324Z"
   },
   {
    "duration": 0,
    "start_time": "2024-11-13T03:17:03.326Z"
   },
   {
    "duration": 0,
    "start_time": "2024-11-13T03:17:03.327Z"
   },
   {
    "duration": 117,
    "start_time": "2024-11-13T03:17:28.633Z"
   },
   {
    "duration": 632,
    "start_time": "2024-11-13T03:17:34.011Z"
   },
   {
    "duration": 156,
    "start_time": "2024-11-13T03:17:34.645Z"
   },
   {
    "duration": 11,
    "start_time": "2024-11-13T03:17:34.802Z"
   },
   {
    "duration": 11,
    "start_time": "2024-11-13T03:17:34.816Z"
   },
   {
    "duration": 8,
    "start_time": "2024-11-13T03:17:34.829Z"
   },
   {
    "duration": 12,
    "start_time": "2024-11-13T03:17:34.838Z"
   },
   {
    "duration": 25,
    "start_time": "2024-11-13T03:17:34.851Z"
   },
   {
    "duration": 19,
    "start_time": "2024-11-13T03:17:34.877Z"
   },
   {
    "duration": 20,
    "start_time": "2024-11-13T03:17:34.897Z"
   },
   {
    "duration": 9,
    "start_time": "2024-11-13T03:17:34.921Z"
   },
   {
    "duration": 40,
    "start_time": "2024-11-13T03:17:34.931Z"
   },
   {
    "duration": 6,
    "start_time": "2024-11-13T03:17:34.972Z"
   },
   {
    "duration": 13,
    "start_time": "2024-11-13T03:17:34.980Z"
   },
   {
    "duration": 6,
    "start_time": "2024-11-13T03:17:34.995Z"
   },
   {
    "duration": 2,
    "start_time": "2024-11-13T03:17:35.003Z"
   },
   {
    "duration": 3,
    "start_time": "2024-11-13T03:17:35.007Z"
   },
   {
    "duration": 5,
    "start_time": "2024-11-13T03:17:35.012Z"
   },
   {
    "duration": 4,
    "start_time": "2024-11-13T03:17:35.018Z"
   },
   {
    "duration": 3,
    "start_time": "2024-11-13T03:17:35.024Z"
   },
   {
    "duration": 42,
    "start_time": "2024-11-13T03:17:35.028Z"
   },
   {
    "duration": 2,
    "start_time": "2024-11-13T03:17:35.072Z"
   },
   {
    "duration": 5,
    "start_time": "2024-11-13T03:17:35.075Z"
   },
   {
    "duration": 3,
    "start_time": "2024-11-13T03:17:35.081Z"
   },
   {
    "duration": 4,
    "start_time": "2024-11-13T03:17:35.085Z"
   },
   {
    "duration": 3,
    "start_time": "2024-11-13T03:17:35.091Z"
   },
   {
    "duration": 4,
    "start_time": "2024-11-13T03:17:35.095Z"
   },
   {
    "duration": 3,
    "start_time": "2024-11-13T03:17:35.101Z"
   },
   {
    "duration": 1,
    "start_time": "2024-11-13T03:17:35.108Z"
   },
   {
    "duration": 5,
    "start_time": "2024-11-13T03:17:35.111Z"
   },
   {
    "duration": 4,
    "start_time": "2024-11-13T03:17:35.117Z"
   },
   {
    "duration": 538,
    "start_time": "2024-11-13T03:17:59.119Z"
   },
   {
    "duration": 622,
    "start_time": "2024-11-13T03:18:05.511Z"
   },
   {
    "duration": 158,
    "start_time": "2024-11-13T03:18:06.136Z"
   },
   {
    "duration": 10,
    "start_time": "2024-11-13T03:18:06.296Z"
   },
   {
    "duration": 11,
    "start_time": "2024-11-13T03:18:06.309Z"
   },
   {
    "duration": 10,
    "start_time": "2024-11-13T03:18:06.321Z"
   },
   {
    "duration": 17,
    "start_time": "2024-11-13T03:18:06.333Z"
   },
   {
    "duration": 25,
    "start_time": "2024-11-13T03:18:06.351Z"
   },
   {
    "duration": 18,
    "start_time": "2024-11-13T03:18:06.378Z"
   },
   {
    "duration": 15,
    "start_time": "2024-11-13T03:18:06.397Z"
   },
   {
    "duration": 6,
    "start_time": "2024-11-13T03:18:06.415Z"
   },
   {
    "duration": 11,
    "start_time": "2024-11-13T03:18:06.423Z"
   },
   {
    "duration": 36,
    "start_time": "2024-11-13T03:18:06.435Z"
   },
   {
    "duration": 13,
    "start_time": "2024-11-13T03:18:06.473Z"
   },
   {
    "duration": 6,
    "start_time": "2024-11-13T03:18:06.488Z"
   },
   {
    "duration": 2,
    "start_time": "2024-11-13T03:18:06.496Z"
   },
   {
    "duration": 2,
    "start_time": "2024-11-13T03:18:06.500Z"
   },
   {
    "duration": 2,
    "start_time": "2024-11-13T03:18:06.504Z"
   },
   {
    "duration": 3,
    "start_time": "2024-11-13T03:18:06.507Z"
   },
   {
    "duration": 2,
    "start_time": "2024-11-13T03:18:06.512Z"
   },
   {
    "duration": 2,
    "start_time": "2024-11-13T03:18:06.516Z"
   },
   {
    "duration": 50,
    "start_time": "2024-11-13T03:18:06.520Z"
   },
   {
    "duration": 2,
    "start_time": "2024-11-13T03:18:06.573Z"
   },
   {
    "duration": 2,
    "start_time": "2024-11-13T03:18:06.577Z"
   },
   {
    "duration": 3,
    "start_time": "2024-11-13T03:18:06.580Z"
   },
   {
    "duration": 3,
    "start_time": "2024-11-13T03:18:06.584Z"
   },
   {
    "duration": 2,
    "start_time": "2024-11-13T03:18:06.590Z"
   },
   {
    "duration": 2,
    "start_time": "2024-11-13T03:18:06.594Z"
   },
   {
    "duration": 2,
    "start_time": "2024-11-13T03:18:06.600Z"
   },
   {
    "duration": 2,
    "start_time": "2024-11-13T03:18:06.603Z"
   },
   {
    "duration": 2,
    "start_time": "2024-11-13T03:18:06.607Z"
   },
   {
    "duration": 629,
    "start_time": "2024-11-13T03:18:25.278Z"
   },
   {
    "duration": 175,
    "start_time": "2024-11-13T03:18:25.909Z"
   },
   {
    "duration": 11,
    "start_time": "2024-11-13T03:18:26.086Z"
   },
   {
    "duration": 11,
    "start_time": "2024-11-13T03:18:26.100Z"
   },
   {
    "duration": 8,
    "start_time": "2024-11-13T03:18:26.112Z"
   },
   {
    "duration": 7,
    "start_time": "2024-11-13T03:18:26.122Z"
   },
   {
    "duration": 10,
    "start_time": "2024-11-13T03:18:26.131Z"
   },
   {
    "duration": 585,
    "start_time": "2024-11-13T03:18:26.142Z"
   },
   {
    "duration": 0,
    "start_time": "2024-11-13T03:18:26.730Z"
   },
   {
    "duration": 0,
    "start_time": "2024-11-13T03:18:26.731Z"
   },
   {
    "duration": 0,
    "start_time": "2024-11-13T03:18:26.732Z"
   },
   {
    "duration": 0,
    "start_time": "2024-11-13T03:18:26.733Z"
   },
   {
    "duration": 0,
    "start_time": "2024-11-13T03:18:26.734Z"
   },
   {
    "duration": 0,
    "start_time": "2024-11-13T03:18:26.735Z"
   },
   {
    "duration": 0,
    "start_time": "2024-11-13T03:18:26.737Z"
   },
   {
    "duration": 0,
    "start_time": "2024-11-13T03:18:26.739Z"
   },
   {
    "duration": 0,
    "start_time": "2024-11-13T03:18:26.740Z"
   },
   {
    "duration": 0,
    "start_time": "2024-11-13T03:18:26.741Z"
   },
   {
    "duration": 0,
    "start_time": "2024-11-13T03:18:26.742Z"
   },
   {
    "duration": 0,
    "start_time": "2024-11-13T03:18:26.743Z"
   },
   {
    "duration": 0,
    "start_time": "2024-11-13T03:18:26.745Z"
   },
   {
    "duration": 0,
    "start_time": "2024-11-13T03:18:26.746Z"
   },
   {
    "duration": 0,
    "start_time": "2024-11-13T03:18:26.770Z"
   },
   {
    "duration": 0,
    "start_time": "2024-11-13T03:18:26.771Z"
   },
   {
    "duration": 0,
    "start_time": "2024-11-13T03:18:26.772Z"
   },
   {
    "duration": 0,
    "start_time": "2024-11-13T03:18:26.773Z"
   },
   {
    "duration": 0,
    "start_time": "2024-11-13T03:18:26.777Z"
   },
   {
    "duration": 0,
    "start_time": "2024-11-13T03:18:26.779Z"
   },
   {
    "duration": 0,
    "start_time": "2024-11-13T03:18:26.780Z"
   },
   {
    "duration": 0,
    "start_time": "2024-11-13T03:18:26.782Z"
   },
   {
    "duration": 117,
    "start_time": "2024-11-13T03:20:01.377Z"
   },
   {
    "duration": 628,
    "start_time": "2024-11-13T03:20:06.124Z"
   },
   {
    "duration": 165,
    "start_time": "2024-11-13T03:20:06.754Z"
   },
   {
    "duration": 10,
    "start_time": "2024-11-13T03:20:06.920Z"
   },
   {
    "duration": 10,
    "start_time": "2024-11-13T03:20:06.933Z"
   },
   {
    "duration": 7,
    "start_time": "2024-11-13T03:20:06.945Z"
   },
   {
    "duration": 22,
    "start_time": "2024-11-13T03:20:06.954Z"
   },
   {
    "duration": 9,
    "start_time": "2024-11-13T03:20:06.978Z"
   },
   {
    "duration": 17,
    "start_time": "2024-11-13T03:20:06.988Z"
   },
   {
    "duration": 15,
    "start_time": "2024-11-13T03:20:07.006Z"
   },
   {
    "duration": 6,
    "start_time": "2024-11-13T03:20:07.024Z"
   },
   {
    "duration": 43,
    "start_time": "2024-11-13T03:20:07.031Z"
   },
   {
    "duration": 6,
    "start_time": "2024-11-13T03:20:07.076Z"
   },
   {
    "duration": 14,
    "start_time": "2024-11-13T03:20:07.084Z"
   },
   {
    "duration": 5,
    "start_time": "2024-11-13T03:20:07.100Z"
   },
   {
    "duration": 2,
    "start_time": "2024-11-13T03:20:07.107Z"
   },
   {
    "duration": 2,
    "start_time": "2024-11-13T03:20:07.111Z"
   },
   {
    "duration": 2,
    "start_time": "2024-11-13T03:20:07.116Z"
   },
   {
    "duration": 2,
    "start_time": "2024-11-13T03:20:07.119Z"
   },
   {
    "duration": 2,
    "start_time": "2024-11-13T03:20:07.123Z"
   },
   {
    "duration": 45,
    "start_time": "2024-11-13T03:20:07.127Z"
   },
   {
    "duration": 9,
    "start_time": "2024-11-13T03:20:07.176Z"
   },
   {
    "duration": 3,
    "start_time": "2024-11-13T03:20:07.187Z"
   },
   {
    "duration": 2,
    "start_time": "2024-11-13T03:20:07.192Z"
   },
   {
    "duration": 3,
    "start_time": "2024-11-13T03:20:07.195Z"
   },
   {
    "duration": 3,
    "start_time": "2024-11-13T03:20:07.199Z"
   },
   {
    "duration": 3,
    "start_time": "2024-11-13T03:20:07.203Z"
   },
   {
    "duration": 2,
    "start_time": "2024-11-13T03:20:07.207Z"
   },
   {
    "duration": 2,
    "start_time": "2024-11-13T03:20:07.214Z"
   },
   {
    "duration": 2,
    "start_time": "2024-11-13T03:20:07.218Z"
   },
   {
    "duration": 2,
    "start_time": "2024-11-13T03:20:07.222Z"
   },
   {
    "duration": 17,
    "start_time": "2024-11-13T03:20:32.679Z"
   },
   {
    "duration": 18,
    "start_time": "2024-11-13T03:21:14.949Z"
   },
   {
    "duration": 17,
    "start_time": "2024-11-13T03:21:16.077Z"
   },
   {
    "duration": 7,
    "start_time": "2024-11-13T18:41:59.304Z"
   },
   {
    "duration": 160,
    "start_time": "2024-11-13T18:42:06.612Z"
   },
   {
    "duration": 615,
    "start_time": "2024-11-13T18:42:11.907Z"
   },
   {
    "duration": 236,
    "start_time": "2024-11-13T18:42:12.524Z"
   },
   {
    "duration": 10,
    "start_time": "2024-11-13T18:42:12.762Z"
   },
   {
    "duration": 13,
    "start_time": "2024-11-13T18:42:12.774Z"
   },
   {
    "duration": 8,
    "start_time": "2024-11-13T18:42:12.789Z"
   },
   {
    "duration": 8,
    "start_time": "2024-11-13T18:42:12.799Z"
   },
   {
    "duration": 25,
    "start_time": "2024-11-13T18:42:12.809Z"
   },
   {
    "duration": 18,
    "start_time": "2024-11-13T18:42:12.836Z"
   },
   {
    "duration": 16,
    "start_time": "2024-11-13T18:42:12.856Z"
   },
   {
    "duration": 6,
    "start_time": "2024-11-13T18:42:12.876Z"
   },
   {
    "duration": 47,
    "start_time": "2024-11-13T18:42:12.884Z"
   },
   {
    "duration": 9,
    "start_time": "2024-11-13T18:42:12.933Z"
   },
   {
    "duration": 16,
    "start_time": "2024-11-13T18:42:12.944Z"
   },
   {
    "duration": 8,
    "start_time": "2024-11-13T18:42:12.963Z"
   },
   {
    "duration": 2,
    "start_time": "2024-11-13T18:42:12.973Z"
   },
   {
    "duration": 2,
    "start_time": "2024-11-13T18:42:12.977Z"
   },
   {
    "duration": 2,
    "start_time": "2024-11-13T18:42:12.981Z"
   },
   {
    "duration": 2,
    "start_time": "2024-11-13T18:42:12.985Z"
   },
   {
    "duration": 3,
    "start_time": "2024-11-13T18:42:12.989Z"
   },
   {
    "duration": 5,
    "start_time": "2024-11-13T18:42:13.032Z"
   },
   {
    "duration": 3,
    "start_time": "2024-11-13T18:42:13.038Z"
   },
   {
    "duration": 2,
    "start_time": "2024-11-13T18:42:13.044Z"
   },
   {
    "duration": 3,
    "start_time": "2024-11-13T18:42:13.047Z"
   },
   {
    "duration": 3,
    "start_time": "2024-11-13T18:42:13.052Z"
   },
   {
    "duration": 2,
    "start_time": "2024-11-13T18:42:13.057Z"
   },
   {
    "duration": 3,
    "start_time": "2024-11-13T18:42:13.061Z"
   },
   {
    "duration": 2,
    "start_time": "2024-11-13T18:42:13.066Z"
   },
   {
    "duration": 1,
    "start_time": "2024-11-13T18:42:13.072Z"
   },
   {
    "duration": 4,
    "start_time": "2024-11-13T18:42:13.075Z"
   },
   {
    "duration": 3,
    "start_time": "2024-11-13T18:42:13.081Z"
   },
   {
    "duration": 18,
    "start_time": "2024-11-13T18:42:42.799Z"
   },
   {
    "duration": 617,
    "start_time": "2024-11-13T18:42:58.040Z"
   },
   {
    "duration": 163,
    "start_time": "2024-11-13T18:42:58.660Z"
   },
   {
    "duration": 11,
    "start_time": "2024-11-13T18:42:58.824Z"
   },
   {
    "duration": 11,
    "start_time": "2024-11-13T18:42:58.838Z"
   },
   {
    "duration": 7,
    "start_time": "2024-11-13T18:42:58.850Z"
   },
   {
    "duration": 9,
    "start_time": "2024-11-13T18:42:58.859Z"
   },
   {
    "duration": 9,
    "start_time": "2024-11-13T18:42:58.869Z"
   },
   {
    "duration": 55,
    "start_time": "2024-11-13T18:42:58.879Z"
   },
   {
    "duration": 15,
    "start_time": "2024-11-13T18:42:58.936Z"
   },
   {
    "duration": 7,
    "start_time": "2024-11-13T18:42:58.954Z"
   },
   {
    "duration": 13,
    "start_time": "2024-11-13T18:42:58.963Z"
   },
   {
    "duration": 9,
    "start_time": "2024-11-13T18:42:58.978Z"
   },
   {
    "duration": 47,
    "start_time": "2024-11-13T18:42:58.989Z"
   },
   {
    "duration": 6,
    "start_time": "2024-11-13T18:42:59.038Z"
   },
   {
    "duration": 2,
    "start_time": "2024-11-13T18:42:59.046Z"
   },
   {
    "duration": 3,
    "start_time": "2024-11-13T18:42:59.050Z"
   },
   {
    "duration": 2,
    "start_time": "2024-11-13T18:42:59.055Z"
   },
   {
    "duration": 2,
    "start_time": "2024-11-13T18:42:59.059Z"
   },
   {
    "duration": 3,
    "start_time": "2024-11-13T18:42:59.062Z"
   },
   {
    "duration": 2,
    "start_time": "2024-11-13T18:42:59.067Z"
   },
   {
    "duration": 3,
    "start_time": "2024-11-13T18:42:59.071Z"
   },
   {
    "duration": 3,
    "start_time": "2024-11-13T18:42:59.075Z"
   },
   {
    "duration": 1,
    "start_time": "2024-11-13T18:42:59.080Z"
   },
   {
    "duration": 3,
    "start_time": "2024-11-13T18:42:59.083Z"
   },
   {
    "duration": 46,
    "start_time": "2024-11-13T18:42:59.087Z"
   },
   {
    "duration": 2,
    "start_time": "2024-11-13T18:42:59.135Z"
   },
   {
    "duration": 3,
    "start_time": "2024-11-13T18:42:59.139Z"
   },
   {
    "duration": 2,
    "start_time": "2024-11-13T18:42:59.146Z"
   },
   {
    "duration": 2,
    "start_time": "2024-11-13T18:42:59.150Z"
   },
   {
    "duration": 3,
    "start_time": "2024-11-13T18:42:59.154Z"
   },
   {
    "duration": 16,
    "start_time": "2024-11-13T18:43:39.247Z"
   },
   {
    "duration": 648,
    "start_time": "2024-11-13T18:44:04.761Z"
   },
   {
    "duration": 175,
    "start_time": "2024-11-13T18:44:05.411Z"
   },
   {
    "duration": 10,
    "start_time": "2024-11-13T18:44:05.587Z"
   },
   {
    "duration": 11,
    "start_time": "2024-11-13T18:44:05.600Z"
   },
   {
    "duration": 19,
    "start_time": "2024-11-13T18:44:05.614Z"
   },
   {
    "duration": 8,
    "start_time": "2024-11-13T18:44:05.636Z"
   },
   {
    "duration": 9,
    "start_time": "2024-11-13T18:44:05.645Z"
   },
   {
    "duration": 16,
    "start_time": "2024-11-13T18:44:05.656Z"
   },
   {
    "duration": 15,
    "start_time": "2024-11-13T18:44:05.674Z"
   },
   {
    "duration": 41,
    "start_time": "2024-11-13T18:44:05.691Z"
   },
   {
    "duration": 12,
    "start_time": "2024-11-13T18:44:05.734Z"
   },
   {
    "duration": 5,
    "start_time": "2024-11-13T18:44:05.748Z"
   },
   {
    "duration": 14,
    "start_time": "2024-11-13T18:44:05.755Z"
   },
   {
    "duration": 7,
    "start_time": "2024-11-13T18:44:05.772Z"
   },
   {
    "duration": 2,
    "start_time": "2024-11-13T18:44:05.781Z"
   },
   {
    "duration": 3,
    "start_time": "2024-11-13T18:44:05.785Z"
   },
   {
    "duration": 42,
    "start_time": "2024-11-13T18:44:05.789Z"
   },
   {
    "duration": 3,
    "start_time": "2024-11-13T18:44:05.833Z"
   },
   {
    "duration": 2,
    "start_time": "2024-11-13T18:44:05.838Z"
   },
   {
    "duration": 3,
    "start_time": "2024-11-13T18:44:05.842Z"
   },
   {
    "duration": 2,
    "start_time": "2024-11-13T18:44:05.847Z"
   },
   {
    "duration": 2,
    "start_time": "2024-11-13T18:44:05.851Z"
   },
   {
    "duration": 2,
    "start_time": "2024-11-13T18:44:05.855Z"
   },
   {
    "duration": 2,
    "start_time": "2024-11-13T18:44:05.859Z"
   },
   {
    "duration": 2,
    "start_time": "2024-11-13T18:44:05.863Z"
   },
   {
    "duration": 2,
    "start_time": "2024-11-13T18:44:05.867Z"
   },
   {
    "duration": 2,
    "start_time": "2024-11-13T18:44:05.871Z"
   },
   {
    "duration": 3,
    "start_time": "2024-11-13T18:44:05.875Z"
   },
   {
    "duration": 3,
    "start_time": "2024-11-13T18:44:05.879Z"
   },
   {
    "duration": 50,
    "start_time": "2024-11-13T18:44:05.883Z"
   },
   {
    "duration": 16,
    "start_time": "2024-11-13T18:44:20.585Z"
   },
   {
    "duration": 2,
    "start_time": "2024-11-13T18:44:29.066Z"
   },
   {
    "duration": 163,
    "start_time": "2024-11-13T18:44:30.781Z"
   },
   {
    "duration": 9,
    "start_time": "2024-11-13T18:44:33.536Z"
   },
   {
    "duration": 7,
    "start_time": "2024-11-13T18:44:35.240Z"
   },
   {
    "duration": 8,
    "start_time": "2024-11-13T18:44:38.036Z"
   },
   {
    "duration": 8,
    "start_time": "2024-11-13T18:44:41.560Z"
   },
   {
    "duration": 9,
    "start_time": "2024-11-13T18:44:45.311Z"
   },
   {
    "duration": 19,
    "start_time": "2024-11-13T18:44:48.136Z"
   },
   {
    "duration": 17,
    "start_time": "2024-11-13T18:44:58.976Z"
   },
   {
    "duration": 17,
    "start_time": "2024-11-13T18:45:00.182Z"
   },
   {
    "duration": 11,
    "start_time": "2024-11-13T18:45:08.965Z"
   },
   {
    "duration": 16,
    "start_time": "2024-11-13T18:45:14.738Z"
   },
   {
    "duration": 16,
    "start_time": "2024-11-13T18:45:30.178Z"
   },
   {
    "duration": 8,
    "start_time": "2024-11-13T18:45:33.538Z"
   },
   {
    "duration": 603,
    "start_time": "2024-11-13T18:45:37.923Z"
   },
   {
    "duration": 159,
    "start_time": "2024-11-13T18:45:38.531Z"
   },
   {
    "duration": 10,
    "start_time": "2024-11-13T18:45:38.692Z"
   },
   {
    "duration": 10,
    "start_time": "2024-11-13T18:45:38.704Z"
   },
   {
    "duration": 20,
    "start_time": "2024-11-13T18:45:38.716Z"
   },
   {
    "duration": 11,
    "start_time": "2024-11-13T18:45:38.737Z"
   },
   {
    "duration": 13,
    "start_time": "2024-11-13T18:45:38.750Z"
   },
   {
    "duration": 14,
    "start_time": "2024-11-13T18:45:38.765Z"
   },
   {
    "duration": 16,
    "start_time": "2024-11-13T18:45:38.781Z"
   },
   {
    "duration": 31,
    "start_time": "2024-11-13T18:45:38.801Z"
   },
   {
    "duration": 13,
    "start_time": "2024-11-13T18:45:38.833Z"
   },
   {
    "duration": 6,
    "start_time": "2024-11-13T18:45:38.848Z"
   },
   {
    "duration": 17,
    "start_time": "2024-11-13T18:45:38.856Z"
   },
   {
    "duration": 6,
    "start_time": "2024-11-13T18:45:38.875Z"
   },
   {
    "duration": 2,
    "start_time": "2024-11-13T18:45:38.883Z"
   },
   {
    "duration": 2,
    "start_time": "2024-11-13T18:45:38.887Z"
   },
   {
    "duration": 2,
    "start_time": "2024-11-13T18:45:38.891Z"
   },
   {
    "duration": 2,
    "start_time": "2024-11-13T18:45:38.932Z"
   },
   {
    "duration": 3,
    "start_time": "2024-11-13T18:45:38.936Z"
   },
   {
    "duration": 3,
    "start_time": "2024-11-13T18:45:38.940Z"
   },
   {
    "duration": 3,
    "start_time": "2024-11-13T18:45:38.944Z"
   },
   {
    "duration": 2,
    "start_time": "2024-11-13T18:45:38.949Z"
   },
   {
    "duration": 3,
    "start_time": "2024-11-13T18:45:38.953Z"
   },
   {
    "duration": 2,
    "start_time": "2024-11-13T18:45:38.958Z"
   },
   {
    "duration": 2,
    "start_time": "2024-11-13T18:45:38.962Z"
   },
   {
    "duration": 2,
    "start_time": "2024-11-13T18:45:38.966Z"
   },
   {
    "duration": 2,
    "start_time": "2024-11-13T18:45:38.970Z"
   },
   {
    "duration": 2,
    "start_time": "2024-11-13T18:45:38.975Z"
   },
   {
    "duration": 2,
    "start_time": "2024-11-13T18:45:38.979Z"
   },
   {
    "duration": 50,
    "start_time": "2024-11-13T18:45:38.983Z"
   },
   {
    "duration": 18,
    "start_time": "2024-11-13T18:46:00.525Z"
   },
   {
    "duration": 174,
    "start_time": "2024-11-13T21:49:54.672Z"
   },
   {
    "duration": 11,
    "start_time": "2024-11-13T21:49:59.684Z"
   },
   {
    "duration": 606,
    "start_time": "2024-11-13T21:50:17.590Z"
   },
   {
    "duration": 213,
    "start_time": "2024-11-13T21:50:18.198Z"
   },
   {
    "duration": 10,
    "start_time": "2024-11-13T21:50:18.413Z"
   },
   {
    "duration": 11,
    "start_time": "2024-11-13T21:50:18.425Z"
   },
   {
    "duration": 8,
    "start_time": "2024-11-13T21:50:18.438Z"
   },
   {
    "duration": 9,
    "start_time": "2024-11-13T21:50:18.448Z"
   },
   {
    "duration": 9,
    "start_time": "2024-11-13T21:50:18.459Z"
   },
   {
    "duration": 54,
    "start_time": "2024-11-13T21:50:18.470Z"
   },
   {
    "duration": 16,
    "start_time": "2024-11-13T21:50:18.526Z"
   },
   {
    "duration": 10,
    "start_time": "2024-11-13T21:50:18.544Z"
   },
   {
    "duration": 11,
    "start_time": "2024-11-13T21:50:18.555Z"
   },
   {
    "duration": 6,
    "start_time": "2024-11-13T21:50:18.568Z"
   },
   {
    "duration": 48,
    "start_time": "2024-11-13T21:50:18.576Z"
   },
   {
    "duration": 6,
    "start_time": "2024-11-13T21:50:18.626Z"
   },
   {
    "duration": 3,
    "start_time": "2024-11-13T21:50:18.633Z"
   },
   {
    "duration": 3,
    "start_time": "2024-11-13T21:50:18.637Z"
   },
   {
    "duration": 3,
    "start_time": "2024-11-13T21:50:18.642Z"
   },
   {
    "duration": 3,
    "start_time": "2024-11-13T21:50:18.647Z"
   },
   {
    "duration": 2,
    "start_time": "2024-11-13T21:50:18.652Z"
   },
   {
    "duration": 3,
    "start_time": "2024-11-13T21:50:18.656Z"
   },
   {
    "duration": 2,
    "start_time": "2024-11-13T21:50:18.661Z"
   },
   {
    "duration": 2,
    "start_time": "2024-11-13T21:50:18.665Z"
   },
   {
    "duration": 43,
    "start_time": "2024-11-13T21:50:18.669Z"
   },
   {
    "duration": 2,
    "start_time": "2024-11-13T21:50:18.714Z"
   },
   {
    "duration": 3,
    "start_time": "2024-11-13T21:50:18.718Z"
   },
   {
    "duration": 2,
    "start_time": "2024-11-13T21:50:18.723Z"
   },
   {
    "duration": 2,
    "start_time": "2024-11-13T21:50:18.727Z"
   },
   {
    "duration": 3,
    "start_time": "2024-11-13T21:50:18.732Z"
   },
   {
    "duration": 3,
    "start_time": "2024-11-13T21:50:18.736Z"
   },
   {
    "duration": 3,
    "start_time": "2024-11-13T21:50:18.740Z"
   },
   {
    "duration": 8,
    "start_time": "2024-11-13T21:54:18.625Z"
   },
   {
    "duration": 8,
    "start_time": "2024-11-13T21:54:27.018Z"
   },
   {
    "duration": 9,
    "start_time": "2024-11-13T21:54:29.839Z"
   },
   {
    "duration": 9,
    "start_time": "2024-11-13T21:54:30.773Z"
   },
   {
    "duration": 8,
    "start_time": "2024-11-13T21:54:33.408Z"
   },
   {
    "duration": 10,
    "start_time": "2024-11-13T21:54:34.726Z"
   },
   {
    "duration": 9,
    "start_time": "2024-11-13T21:54:36.187Z"
   },
   {
    "duration": 9,
    "start_time": "2024-11-13T21:54:37.187Z"
   },
   {
    "duration": 11,
    "start_time": "2024-11-13T21:54:37.947Z"
   },
   {
    "duration": 6,
    "start_time": "2024-11-13T23:05:55.105Z"
   },
   {
    "duration": 10,
    "start_time": "2024-11-13T23:11:36.892Z"
   },
   {
    "duration": 11,
    "start_time": "2024-11-13T23:11:42.564Z"
   },
   {
    "duration": 16,
    "start_time": "2024-11-13T23:11:59.379Z"
   },
   {
    "duration": 13,
    "start_time": "2024-11-13T23:12:09.769Z"
   },
   {
    "duration": 16,
    "start_time": "2024-11-13T23:41:34.743Z"
   },
   {
    "duration": 12,
    "start_time": "2024-11-13T23:41:38.148Z"
   },
   {
    "duration": 70,
    "start_time": "2024-11-13T23:41:56.796Z"
   },
   {
    "duration": 20,
    "start_time": "2024-11-13T23:42:15.702Z"
   },
   {
    "duration": 17,
    "start_time": "2024-11-13T23:46:56.926Z"
   },
   {
    "duration": 20,
    "start_time": "2024-11-13T23:50:04.279Z"
   },
   {
    "duration": 5,
    "start_time": "2024-11-14T02:33:19.264Z"
   },
   {
    "duration": 6,
    "start_time": "2024-11-14T02:33:26.880Z"
   },
   {
    "duration": 3,
    "start_time": "2024-11-14T02:33:37.906Z"
   },
   {
    "duration": 3,
    "start_time": "2024-11-14T02:34:03.293Z"
   },
   {
    "duration": 3,
    "start_time": "2024-11-14T02:34:08.196Z"
   },
   {
    "duration": 4,
    "start_time": "2024-11-14T02:39:31.553Z"
   },
   {
    "duration": 3,
    "start_time": "2024-11-14T02:40:23.041Z"
   },
   {
    "duration": 3,
    "start_time": "2024-11-14T02:42:09.019Z"
   },
   {
    "duration": 3,
    "start_time": "2024-11-14T02:42:20.804Z"
   },
   {
    "duration": 3,
    "start_time": "2024-11-14T02:43:01.099Z"
   },
   {
    "duration": 2,
    "start_time": "2024-11-14T02:43:31.797Z"
   },
   {
    "duration": 4,
    "start_time": "2024-11-14T02:44:50.174Z"
   },
   {
    "duration": 3,
    "start_time": "2024-11-14T02:46:05.973Z"
   },
   {
    "duration": 4,
    "start_time": "2024-11-14T02:46:12.473Z"
   },
   {
    "duration": 4,
    "start_time": "2024-11-14T02:46:16.683Z"
   },
   {
    "duration": 4,
    "start_time": "2024-11-14T02:47:26.608Z"
   },
   {
    "duration": 4,
    "start_time": "2024-11-14T02:47:36.050Z"
   },
   {
    "duration": 4,
    "start_time": "2024-11-14T02:48:14.450Z"
   },
   {
    "duration": 3,
    "start_time": "2024-11-14T02:49:02.770Z"
   },
   {
    "duration": 4,
    "start_time": "2024-11-14T02:49:24.887Z"
   },
   {
    "duration": 5,
    "start_time": "2024-11-14T02:49:34.732Z"
   },
   {
    "duration": 4,
    "start_time": "2024-11-14T02:49:59.133Z"
   },
   {
    "duration": 3,
    "start_time": "2024-11-14T02:50:09.692Z"
   },
   {
    "duration": 4,
    "start_time": "2024-11-14T02:50:25.098Z"
   },
   {
    "duration": 5,
    "start_time": "2024-11-14T02:50:46.390Z"
   },
   {
    "duration": 4,
    "start_time": "2024-11-14T02:51:28.388Z"
   },
   {
    "duration": 3,
    "start_time": "2024-11-14T02:51:37.858Z"
   },
   {
    "duration": 3,
    "start_time": "2024-11-14T02:52:11.114Z"
   },
   {
    "duration": 5,
    "start_time": "2024-11-14T02:52:21.482Z"
   },
   {
    "duration": 3,
    "start_time": "2024-11-14T02:52:31.715Z"
   },
   {
    "duration": 3,
    "start_time": "2024-11-14T02:52:45.381Z"
   },
   {
    "duration": 623,
    "start_time": "2024-11-14T12:33:36.167Z"
   },
   {
    "duration": 219,
    "start_time": "2024-11-14T12:33:36.792Z"
   },
   {
    "duration": 13,
    "start_time": "2024-11-14T12:33:37.012Z"
   },
   {
    "duration": 10,
    "start_time": "2024-11-14T12:33:37.027Z"
   },
   {
    "duration": 7,
    "start_time": "2024-11-14T12:33:37.039Z"
   },
   {
    "duration": 8,
    "start_time": "2024-11-14T12:33:37.047Z"
   },
   {
    "duration": 7,
    "start_time": "2024-11-14T12:33:37.058Z"
   },
   {
    "duration": 16,
    "start_time": "2024-11-14T12:33:37.067Z"
   },
   {
    "duration": 45,
    "start_time": "2024-11-14T12:33:37.085Z"
   },
   {
    "duration": 9,
    "start_time": "2024-11-14T12:33:37.133Z"
   },
   {
    "duration": 25,
    "start_time": "2024-11-14T12:33:37.143Z"
   },
   {
    "duration": 12,
    "start_time": "2024-11-14T12:33:37.169Z"
   },
   {
    "duration": 6,
    "start_time": "2024-11-14T12:33:37.182Z"
   },
   {
    "duration": 47,
    "start_time": "2024-11-14T12:33:37.190Z"
   },
   {
    "duration": 13,
    "start_time": "2024-11-14T12:33:37.239Z"
   },
   {
    "duration": 6,
    "start_time": "2024-11-14T12:33:37.254Z"
   },
   {
    "duration": 20,
    "start_time": "2024-11-14T12:33:37.262Z"
   },
   {
    "duration": 3,
    "start_time": "2024-11-14T12:33:37.283Z"
   },
   {
    "duration": 3,
    "start_time": "2024-11-14T12:33:37.288Z"
   },
   {
    "duration": 2,
    "start_time": "2024-11-14T12:33:37.325Z"
   },
   {
    "duration": 3,
    "start_time": "2024-11-14T12:33:37.328Z"
   },
   {
    "duration": 2,
    "start_time": "2024-11-14T12:33:37.333Z"
   },
   {
    "duration": 3,
    "start_time": "2024-11-14T12:33:37.336Z"
   },
   {
    "duration": 4,
    "start_time": "2024-11-14T12:33:37.342Z"
   },
   {
    "duration": 3,
    "start_time": "2024-11-14T12:33:37.347Z"
   },
   {
    "duration": 2,
    "start_time": "2024-11-14T12:33:37.352Z"
   },
   {
    "duration": 2,
    "start_time": "2024-11-14T12:33:37.357Z"
   },
   {
    "duration": 2,
    "start_time": "2024-11-14T12:33:37.363Z"
   },
   {
    "duration": 3,
    "start_time": "2024-11-14T12:33:37.366Z"
   },
   {
    "duration": 2,
    "start_time": "2024-11-14T12:33:37.371Z"
   },
   {
    "duration": 3,
    "start_time": "2024-11-14T12:33:37.374Z"
   },
   {
    "duration": 2,
    "start_time": "2024-11-14T12:33:37.425Z"
   },
   {
    "duration": 3,
    "start_time": "2024-11-14T12:33:37.428Z"
   },
   {
    "duration": 623,
    "start_time": "2024-11-14T12:34:37.671Z"
   },
   {
    "duration": 162,
    "start_time": "2024-11-14T12:34:38.296Z"
   },
   {
    "duration": 10,
    "start_time": "2024-11-14T12:34:38.460Z"
   },
   {
    "duration": 10,
    "start_time": "2024-11-14T12:34:38.472Z"
   },
   {
    "duration": 7,
    "start_time": "2024-11-14T12:34:38.484Z"
   },
   {
    "duration": 8,
    "start_time": "2024-11-14T12:34:38.493Z"
   },
   {
    "duration": 8,
    "start_time": "2024-11-14T12:34:38.524Z"
   },
   {
    "duration": 16,
    "start_time": "2024-11-14T12:34:38.534Z"
   },
   {
    "duration": 14,
    "start_time": "2024-11-14T12:34:38.552Z"
   },
   {
    "duration": 9,
    "start_time": "2024-11-14T12:34:38.569Z"
   },
   {
    "duration": 57,
    "start_time": "2024-11-14T12:34:38.580Z"
   },
   {
    "duration": 12,
    "start_time": "2024-11-14T12:34:38.639Z"
   },
   {
    "duration": 6,
    "start_time": "2024-11-14T12:34:38.653Z"
   },
   {
    "duration": 16,
    "start_time": "2024-11-14T12:34:38.660Z"
   },
   {
    "duration": 13,
    "start_time": "2024-11-14T12:34:38.678Z"
   },
   {
    "duration": 33,
    "start_time": "2024-11-14T12:34:38.693Z"
   },
   {
    "duration": 20,
    "start_time": "2024-11-14T12:34:38.728Z"
   },
   {
    "duration": 3,
    "start_time": "2024-11-14T12:34:38.750Z"
   },
   {
    "duration": 4,
    "start_time": "2024-11-14T12:34:38.754Z"
   },
   {
    "duration": 3,
    "start_time": "2024-11-14T12:34:38.759Z"
   },
   {
    "duration": 3,
    "start_time": "2024-11-14T12:34:38.764Z"
   },
   {
    "duration": 3,
    "start_time": "2024-11-14T12:34:38.768Z"
   },
   {
    "duration": 3,
    "start_time": "2024-11-14T12:34:38.772Z"
   },
   {
    "duration": 3,
    "start_time": "2024-11-14T12:34:38.776Z"
   },
   {
    "duration": 3,
    "start_time": "2024-11-14T12:34:38.781Z"
   },
   {
    "duration": 41,
    "start_time": "2024-11-14T12:34:38.785Z"
   },
   {
    "duration": 2,
    "start_time": "2024-11-14T12:34:38.828Z"
   },
   {
    "duration": 2,
    "start_time": "2024-11-14T12:34:38.835Z"
   },
   {
    "duration": 3,
    "start_time": "2024-11-14T12:34:38.839Z"
   },
   {
    "duration": 3,
    "start_time": "2024-11-14T12:34:38.843Z"
   },
   {
    "duration": 3,
    "start_time": "2024-11-14T12:34:38.847Z"
   },
   {
    "duration": 2,
    "start_time": "2024-11-14T12:34:38.852Z"
   },
   {
    "duration": 3,
    "start_time": "2024-11-14T12:34:38.855Z"
   },
   {
    "duration": 257,
    "start_time": "2024-11-14T15:49:29.269Z"
   },
   {
    "duration": 412,
    "start_time": "2024-11-14T15:49:47.528Z"
   },
   {
    "duration": 155,
    "start_time": "2024-11-14T15:52:20.594Z"
   },
   {
    "duration": 40,
    "start_time": "2024-11-14T15:53:02.023Z"
   },
   {
    "duration": 642,
    "start_time": "2024-11-14T15:53:07.834Z"
   },
   {
    "duration": 160,
    "start_time": "2024-11-14T15:53:08.478Z"
   },
   {
    "duration": 10,
    "start_time": "2024-11-14T15:53:08.640Z"
   },
   {
    "duration": 12,
    "start_time": "2024-11-14T15:53:08.652Z"
   },
   {
    "duration": 7,
    "start_time": "2024-11-14T15:53:08.665Z"
   },
   {
    "duration": 7,
    "start_time": "2024-11-14T15:53:08.674Z"
   },
   {
    "duration": 9,
    "start_time": "2024-11-14T15:53:08.683Z"
   },
   {
    "duration": 40,
    "start_time": "2024-11-14T15:53:08.694Z"
   },
   {
    "duration": 15,
    "start_time": "2024-11-14T15:53:08.735Z"
   },
   {
    "duration": 8,
    "start_time": "2024-11-14T15:53:08.753Z"
   },
   {
    "duration": 25,
    "start_time": "2024-11-14T15:53:08.762Z"
   },
   {
    "duration": 40,
    "start_time": "2024-11-14T15:53:08.789Z"
   },
   {
    "duration": 6,
    "start_time": "2024-11-14T15:53:08.830Z"
   },
   {
    "duration": 16,
    "start_time": "2024-11-14T15:53:08.838Z"
   },
   {
    "duration": 13,
    "start_time": "2024-11-14T15:53:08.855Z"
   },
   {
    "duration": 7,
    "start_time": "2024-11-14T15:53:08.869Z"
   },
   {
    "duration": 49,
    "start_time": "2024-11-14T15:53:08.877Z"
   },
   {
    "duration": 3,
    "start_time": "2024-11-14T15:53:08.928Z"
   },
   {
    "duration": 548,
    "start_time": "2024-11-14T15:53:08.932Z"
   },
   {
    "duration": 0,
    "start_time": "2024-11-14T15:53:09.482Z"
   },
   {
    "duration": 0,
    "start_time": "2024-11-14T15:53:09.483Z"
   },
   {
    "duration": 0,
    "start_time": "2024-11-14T15:53:09.484Z"
   },
   {
    "duration": 0,
    "start_time": "2024-11-14T15:53:09.485Z"
   },
   {
    "duration": 0,
    "start_time": "2024-11-14T15:53:09.486Z"
   },
   {
    "duration": 1,
    "start_time": "2024-11-14T15:53:09.487Z"
   },
   {
    "duration": 0,
    "start_time": "2024-11-14T15:53:09.489Z"
   },
   {
    "duration": 0,
    "start_time": "2024-11-14T15:53:09.490Z"
   },
   {
    "duration": 0,
    "start_time": "2024-11-14T15:53:09.491Z"
   },
   {
    "duration": 0,
    "start_time": "2024-11-14T15:53:09.492Z"
   },
   {
    "duration": 0,
    "start_time": "2024-11-14T15:53:09.493Z"
   },
   {
    "duration": 0,
    "start_time": "2024-11-14T15:53:09.494Z"
   },
   {
    "duration": 0,
    "start_time": "2024-11-14T15:53:09.496Z"
   },
   {
    "duration": 0,
    "start_time": "2024-11-14T15:53:09.496Z"
   },
   {
    "duration": 42,
    "start_time": "2024-11-14T15:53:46.674Z"
   },
   {
    "duration": 10,
    "start_time": "2024-11-14T15:54:11.156Z"
   },
   {
    "duration": 11,
    "start_time": "2024-11-14T15:54:22.441Z"
   },
   {
    "duration": 8,
    "start_time": "2024-11-14T15:55:52.520Z"
   },
   {
    "duration": 7,
    "start_time": "2024-11-14T15:57:09.780Z"
   },
   {
    "duration": 659,
    "start_time": "2024-11-14T21:14:47.340Z"
   },
   {
    "duration": 161,
    "start_time": "2024-11-14T21:14:48.001Z"
   },
   {
    "duration": 10,
    "start_time": "2024-11-14T21:14:48.164Z"
   },
   {
    "duration": 15,
    "start_time": "2024-11-14T21:14:48.176Z"
   },
   {
    "duration": 9,
    "start_time": "2024-11-14T21:14:48.192Z"
   },
   {
    "duration": 22,
    "start_time": "2024-11-14T21:14:48.203Z"
   },
   {
    "duration": 10,
    "start_time": "2024-11-14T21:14:48.228Z"
   },
   {
    "duration": 24,
    "start_time": "2024-11-14T21:14:48.240Z"
   },
   {
    "duration": 17,
    "start_time": "2024-11-14T21:14:48.266Z"
   },
   {
    "duration": 9,
    "start_time": "2024-11-14T21:14:48.287Z"
   },
   {
    "duration": 28,
    "start_time": "2024-11-14T21:14:48.323Z"
   },
   {
    "duration": 12,
    "start_time": "2024-11-14T21:14:48.354Z"
   },
   {
    "duration": 6,
    "start_time": "2024-11-14T21:14:48.368Z"
   },
   {
    "duration": 16,
    "start_time": "2024-11-14T21:14:48.377Z"
   },
   {
    "duration": 38,
    "start_time": "2024-11-14T21:14:48.394Z"
   },
   {
    "duration": 6,
    "start_time": "2024-11-14T21:14:48.433Z"
   },
   {
    "duration": 20,
    "start_time": "2024-11-14T21:14:48.441Z"
   },
   {
    "duration": 15,
    "start_time": "2024-11-14T21:14:48.463Z"
   },
   {
    "duration": 3,
    "start_time": "2024-11-14T21:14:48.479Z"
   },
   {
    "duration": 40,
    "start_time": "2024-11-14T21:14:48.484Z"
   },
   {
    "duration": 7,
    "start_time": "2024-11-14T21:14:48.525Z"
   },
   {
    "duration": 6,
    "start_time": "2024-11-14T21:14:48.534Z"
   },
   {
    "duration": 2,
    "start_time": "2024-11-14T21:14:48.542Z"
   },
   {
    "duration": 2,
    "start_time": "2024-11-14T21:14:48.546Z"
   },
   {
    "duration": 2,
    "start_time": "2024-11-14T21:14:48.550Z"
   },
   {
    "duration": 3,
    "start_time": "2024-11-14T21:14:48.554Z"
   },
   {
    "duration": 3,
    "start_time": "2024-11-14T21:14:48.558Z"
   },
   {
    "duration": 2,
    "start_time": "2024-11-14T21:14:48.564Z"
   },
   {
    "duration": 2,
    "start_time": "2024-11-14T21:14:48.568Z"
   },
   {
    "duration": 3,
    "start_time": "2024-11-14T21:14:48.572Z"
   },
   {
    "duration": 3,
    "start_time": "2024-11-14T21:14:48.624Z"
   },
   {
    "duration": 3,
    "start_time": "2024-11-14T21:14:48.629Z"
   },
   {
    "duration": 2,
    "start_time": "2024-11-14T21:14:48.634Z"
   },
   {
    "duration": 3,
    "start_time": "2024-11-14T21:14:48.637Z"
   },
   {
    "duration": 22,
    "start_time": "2024-11-14T21:16:27.380Z"
   },
   {
    "duration": 21,
    "start_time": "2024-11-14T21:16:32.388Z"
   },
   {
    "duration": 526,
    "start_time": "2024-11-14T21:27:01.195Z"
   },
   {
    "duration": 10,
    "start_time": "2024-11-14T21:28:19.141Z"
   },
   {
    "duration": 13,
    "start_time": "2024-11-14T21:29:15.767Z"
   },
   {
    "duration": 18,
    "start_time": "2024-11-14T21:29:44.559Z"
   },
   {
    "duration": 9,
    "start_time": "2024-11-14T21:30:01.255Z"
   },
   {
    "duration": 591,
    "start_time": "2024-11-14T21:31:07.121Z"
   },
   {
    "duration": 170,
    "start_time": "2024-11-14T21:31:07.714Z"
   },
   {
    "duration": 11,
    "start_time": "2024-11-14T21:31:07.886Z"
   },
   {
    "duration": 11,
    "start_time": "2024-11-14T21:31:07.898Z"
   },
   {
    "duration": 15,
    "start_time": "2024-11-14T21:31:07.910Z"
   },
   {
    "duration": 9,
    "start_time": "2024-11-14T21:31:07.927Z"
   },
   {
    "duration": 8,
    "start_time": "2024-11-14T21:31:07.938Z"
   },
   {
    "duration": 16,
    "start_time": "2024-11-14T21:31:07.947Z"
   },
   {
    "duration": 15,
    "start_time": "2024-11-14T21:31:07.965Z"
   },
   {
    "duration": 41,
    "start_time": "2024-11-14T21:31:07.984Z"
   },
   {
    "duration": 27,
    "start_time": "2024-11-14T21:31:08.027Z"
   },
   {
    "duration": 11,
    "start_time": "2024-11-14T21:31:08.056Z"
   },
   {
    "duration": 8,
    "start_time": "2024-11-14T21:31:08.068Z"
   },
   {
    "duration": 16,
    "start_time": "2024-11-14T21:31:08.078Z"
   },
   {
    "duration": 42,
    "start_time": "2024-11-14T21:31:08.096Z"
   },
   {
    "duration": 6,
    "start_time": "2024-11-14T21:31:08.140Z"
   },
   {
    "duration": 19,
    "start_time": "2024-11-14T21:31:08.148Z"
   },
   {
    "duration": 23,
    "start_time": "2024-11-14T21:31:08.169Z"
   },
   {
    "duration": 31,
    "start_time": "2024-11-14T21:31:08.193Z"
   },
   {
    "duration": 15,
    "start_time": "2024-11-14T21:31:08.225Z"
   },
   {
    "duration": 8,
    "start_time": "2024-11-14T21:31:08.242Z"
   },
   {
    "duration": 10,
    "start_time": "2024-11-14T21:31:08.252Z"
   },
   {
    "duration": 18,
    "start_time": "2024-11-14T21:31:08.264Z"
   },
   {
    "duration": 3,
    "start_time": "2024-11-14T21:31:08.284Z"
   },
   {
    "duration": 37,
    "start_time": "2024-11-14T21:31:08.288Z"
   },
   {
    "duration": 5,
    "start_time": "2024-11-14T21:31:08.326Z"
   },
   {
    "duration": 3,
    "start_time": "2024-11-14T21:31:08.332Z"
   },
   {
    "duration": 2,
    "start_time": "2024-11-14T21:31:08.338Z"
   },
   {
    "duration": 3,
    "start_time": "2024-11-14T21:31:08.342Z"
   },
   {
    "duration": 3,
    "start_time": "2024-11-14T21:31:08.346Z"
   },
   {
    "duration": 2,
    "start_time": "2024-11-14T21:31:08.351Z"
   },
   {
    "duration": 3,
    "start_time": "2024-11-14T21:31:08.530Z"
   },
   {
    "duration": 4,
    "start_time": "2024-11-14T21:31:08.535Z"
   },
   {
    "duration": 2,
    "start_time": "2024-11-14T21:31:08.540Z"
   },
   {
    "duration": 619,
    "start_time": "2024-11-14T21:41:08.736Z"
   },
   {
    "duration": 13,
    "start_time": "2024-11-14T21:41:21.423Z"
   },
   {
    "duration": 20,
    "start_time": "2024-11-14T21:41:27.947Z"
   },
   {
    "duration": 26,
    "start_time": "2024-11-14T21:42:28.719Z"
   },
   {
    "duration": 27,
    "start_time": "2024-11-14T21:42:38.030Z"
   },
   {
    "duration": 617,
    "start_time": "2024-11-14T21:42:50.372Z"
   },
   {
    "duration": 165,
    "start_time": "2024-11-14T21:42:50.991Z"
   },
   {
    "duration": 11,
    "start_time": "2024-11-14T21:42:51.157Z"
   },
   {
    "duration": 20,
    "start_time": "2024-11-14T21:42:51.170Z"
   },
   {
    "duration": 9,
    "start_time": "2024-11-14T21:42:51.193Z"
   },
   {
    "duration": 8,
    "start_time": "2024-11-14T21:42:51.205Z"
   },
   {
    "duration": 12,
    "start_time": "2024-11-14T21:42:51.215Z"
   },
   {
    "duration": 17,
    "start_time": "2024-11-14T21:42:51.229Z"
   },
   {
    "duration": 15,
    "start_time": "2024-11-14T21:42:51.248Z"
   },
   {
    "duration": 9,
    "start_time": "2024-11-14T21:42:51.266Z"
   },
   {
    "duration": 65,
    "start_time": "2024-11-14T21:42:51.276Z"
   },
   {
    "duration": 26,
    "start_time": "2024-11-14T21:42:51.343Z"
   },
   {
    "duration": 12,
    "start_time": "2024-11-14T21:42:51.371Z"
   },
   {
    "duration": 5,
    "start_time": "2024-11-14T21:42:51.385Z"
   },
   {
    "duration": 37,
    "start_time": "2024-11-14T21:42:51.392Z"
   },
   {
    "duration": 18,
    "start_time": "2024-11-14T21:42:51.430Z"
   },
   {
    "duration": 13,
    "start_time": "2024-11-14T21:42:51.450Z"
   },
   {
    "duration": 5,
    "start_time": "2024-11-14T21:42:51.465Z"
   },
   {
    "duration": 19,
    "start_time": "2024-11-14T21:42:51.472Z"
   },
   {
    "duration": 51,
    "start_time": "2024-11-14T21:42:51.493Z"
   },
   {
    "duration": 3,
    "start_time": "2024-11-14T21:42:51.545Z"
   },
   {
    "duration": 10,
    "start_time": "2024-11-14T21:42:51.550Z"
   },
   {
    "duration": 7,
    "start_time": "2024-11-14T21:42:51.562Z"
   },
   {
    "duration": 9,
    "start_time": "2024-11-14T21:42:51.570Z"
   },
   {
    "duration": 48,
    "start_time": "2024-11-14T21:42:51.580Z"
   },
   {
    "duration": 2,
    "start_time": "2024-11-14T21:42:51.629Z"
   },
   {
    "duration": 3,
    "start_time": "2024-11-14T21:42:51.633Z"
   },
   {
    "duration": 2,
    "start_time": "2024-11-14T21:42:51.639Z"
   },
   {
    "duration": 3,
    "start_time": "2024-11-14T21:42:51.642Z"
   },
   {
    "duration": 3,
    "start_time": "2024-11-14T21:42:51.647Z"
   },
   {
    "duration": 2,
    "start_time": "2024-11-14T21:42:51.652Z"
   },
   {
    "duration": 2,
    "start_time": "2024-11-14T21:42:51.656Z"
   },
   {
    "duration": 3,
    "start_time": "2024-11-14T21:42:51.660Z"
   },
   {
    "duration": 4,
    "start_time": "2024-11-14T21:42:51.665Z"
   },
   {
    "duration": 1,
    "start_time": "2024-11-14T21:42:51.672Z"
   },
   {
    "duration": 3,
    "start_time": "2024-11-14T21:42:51.675Z"
   },
   {
    "duration": 120,
    "start_time": "2024-11-14T21:50:32.023Z"
   },
   {
    "duration": 21,
    "start_time": "2024-11-14T21:52:00.785Z"
   },
   {
    "duration": 19,
    "start_time": "2024-11-14T21:53:10.795Z"
   },
   {
    "duration": 586,
    "start_time": "2024-11-14T21:55:11.891Z"
   },
   {
    "duration": 170,
    "start_time": "2024-11-14T21:55:12.479Z"
   },
   {
    "duration": 10,
    "start_time": "2024-11-14T21:55:12.650Z"
   },
   {
    "duration": 10,
    "start_time": "2024-11-14T21:55:12.662Z"
   },
   {
    "duration": 7,
    "start_time": "2024-11-14T21:55:12.673Z"
   },
   {
    "duration": 9,
    "start_time": "2024-11-14T21:55:12.682Z"
   },
   {
    "duration": 9,
    "start_time": "2024-11-14T21:55:12.692Z"
   },
   {
    "duration": 16,
    "start_time": "2024-11-14T21:55:12.724Z"
   },
   {
    "duration": 15,
    "start_time": "2024-11-14T21:55:12.742Z"
   },
   {
    "duration": 8,
    "start_time": "2024-11-14T21:55:12.760Z"
   },
   {
    "duration": 24,
    "start_time": "2024-11-14T21:55:12.770Z"
   },
   {
    "duration": 50,
    "start_time": "2024-11-14T21:55:12.796Z"
   },
   {
    "duration": 11,
    "start_time": "2024-11-14T21:55:12.848Z"
   },
   {
    "duration": 5,
    "start_time": "2024-11-14T21:55:12.861Z"
   },
   {
    "duration": 16,
    "start_time": "2024-11-14T21:55:12.868Z"
   },
   {
    "duration": 49,
    "start_time": "2024-11-14T21:55:12.885Z"
   },
   {
    "duration": 12,
    "start_time": "2024-11-14T21:55:12.936Z"
   },
   {
    "duration": 6,
    "start_time": "2024-11-14T21:55:12.950Z"
   },
   {
    "duration": 20,
    "start_time": "2024-11-14T21:55:12.958Z"
   },
   {
    "duration": 50,
    "start_time": "2024-11-14T21:55:12.979Z"
   },
   {
    "duration": 3,
    "start_time": "2024-11-14T21:55:13.031Z"
   },
   {
    "duration": 11,
    "start_time": "2024-11-14T21:55:13.035Z"
   },
   {
    "duration": 6,
    "start_time": "2024-11-14T21:55:13.048Z"
   },
   {
    "duration": 7,
    "start_time": "2024-11-14T21:55:13.056Z"
   },
   {
    "duration": 15,
    "start_time": "2024-11-14T21:55:13.064Z"
   },
   {
    "duration": 468,
    "start_time": "2024-11-14T21:55:13.081Z"
   },
   {
    "duration": 3,
    "start_time": "2024-11-14T21:55:13.550Z"
   },
   {
    "duration": 2,
    "start_time": "2024-11-14T21:55:13.557Z"
   },
   {
    "duration": 4,
    "start_time": "2024-11-14T21:55:13.561Z"
   },
   {
    "duration": 2,
    "start_time": "2024-11-14T21:55:13.567Z"
   },
   {
    "duration": 4,
    "start_time": "2024-11-14T21:55:13.570Z"
   },
   {
    "duration": 2,
    "start_time": "2024-11-14T21:55:13.635Z"
   },
   {
    "duration": 2,
    "start_time": "2024-11-14T21:55:13.639Z"
   },
   {
    "duration": 2,
    "start_time": "2024-11-14T21:55:13.643Z"
   },
   {
    "duration": 3,
    "start_time": "2024-11-14T21:55:13.647Z"
   },
   {
    "duration": 2,
    "start_time": "2024-11-14T21:55:13.652Z"
   },
   {
    "duration": 156,
    "start_time": "2024-11-14T21:55:51.421Z"
   },
   {
    "duration": 638,
    "start_time": "2024-11-14T21:56:16.458Z"
   },
   {
    "duration": 219,
    "start_time": "2024-11-14T21:56:17.098Z"
   },
   {
    "duration": 10,
    "start_time": "2024-11-14T21:56:17.319Z"
   },
   {
    "duration": 12,
    "start_time": "2024-11-14T21:56:17.330Z"
   },
   {
    "duration": 7,
    "start_time": "2024-11-14T21:56:17.345Z"
   },
   {
    "duration": 7,
    "start_time": "2024-11-14T21:56:17.355Z"
   },
   {
    "duration": 8,
    "start_time": "2024-11-14T21:56:17.364Z"
   },
   {
    "duration": 17,
    "start_time": "2024-11-14T21:56:17.373Z"
   },
   {
    "duration": 16,
    "start_time": "2024-11-14T21:56:17.425Z"
   },
   {
    "duration": 9,
    "start_time": "2024-11-14T21:56:17.442Z"
   },
   {
    "duration": 24,
    "start_time": "2024-11-14T21:56:17.454Z"
   },
   {
    "duration": 53,
    "start_time": "2024-11-14T21:56:17.480Z"
   },
   {
    "duration": 13,
    "start_time": "2024-11-14T21:56:17.535Z"
   },
   {
    "duration": 6,
    "start_time": "2024-11-14T21:56:17.552Z"
   },
   {
    "duration": 17,
    "start_time": "2024-11-14T21:56:17.560Z"
   },
   {
    "duration": 46,
    "start_time": "2024-11-14T21:56:17.579Z"
   },
   {
    "duration": 18,
    "start_time": "2024-11-14T21:56:17.627Z"
   },
   {
    "duration": 7,
    "start_time": "2024-11-14T21:56:17.646Z"
   },
   {
    "duration": 22,
    "start_time": "2024-11-14T21:56:17.656Z"
   },
   {
    "duration": 46,
    "start_time": "2024-11-14T21:56:17.679Z"
   },
   {
    "duration": 4,
    "start_time": "2024-11-14T21:56:17.727Z"
   },
   {
    "duration": 12,
    "start_time": "2024-11-14T21:56:17.733Z"
   },
   {
    "duration": 7,
    "start_time": "2024-11-14T21:56:17.746Z"
   },
   {
    "duration": 7,
    "start_time": "2024-11-14T21:56:17.755Z"
   },
   {
    "duration": 16,
    "start_time": "2024-11-14T21:56:17.764Z"
   },
   {
    "duration": 604,
    "start_time": "2024-11-14T21:56:46.387Z"
   },
   {
    "duration": 202,
    "start_time": "2024-11-14T21:56:46.993Z"
   },
   {
    "duration": 10,
    "start_time": "2024-11-14T21:56:47.197Z"
   },
   {
    "duration": 10,
    "start_time": "2024-11-14T21:56:47.210Z"
   },
   {
    "duration": 7,
    "start_time": "2024-11-14T21:56:47.222Z"
   },
   {
    "duration": 8,
    "start_time": "2024-11-14T21:56:47.230Z"
   },
   {
    "duration": 9,
    "start_time": "2024-11-14T21:56:47.240Z"
   },
   {
    "duration": 16,
    "start_time": "2024-11-14T21:56:47.251Z"
   },
   {
    "duration": 15,
    "start_time": "2024-11-14T21:56:47.268Z"
   },
   {
    "duration": 42,
    "start_time": "2024-11-14T21:56:47.285Z"
   },
   {
    "duration": 25,
    "start_time": "2024-11-14T21:56:47.328Z"
   },
   {
    "duration": 24,
    "start_time": "2024-11-14T21:56:47.355Z"
   },
   {
    "duration": 12,
    "start_time": "2024-11-14T21:56:47.381Z"
   },
   {
    "duration": 30,
    "start_time": "2024-11-14T21:56:47.395Z"
   },
   {
    "duration": 17,
    "start_time": "2024-11-14T21:56:47.426Z"
   },
   {
    "duration": 19,
    "start_time": "2024-11-14T21:56:47.446Z"
   },
   {
    "duration": 15,
    "start_time": "2024-11-14T21:56:47.468Z"
   },
   {
    "duration": 7,
    "start_time": "2024-11-14T21:56:47.485Z"
   },
   {
    "duration": 27,
    "start_time": "2024-11-14T21:56:47.524Z"
   },
   {
    "duration": 22,
    "start_time": "2024-11-14T21:56:47.553Z"
   },
   {
    "duration": 3,
    "start_time": "2024-11-14T21:56:47.576Z"
   },
   {
    "duration": 12,
    "start_time": "2024-11-14T21:56:47.581Z"
   },
   {
    "duration": 34,
    "start_time": "2024-11-14T21:56:47.595Z"
   },
   {
    "duration": 9,
    "start_time": "2024-11-14T21:56:47.631Z"
   },
   {
    "duration": 16,
    "start_time": "2024-11-14T21:56:47.642Z"
   },
   {
    "duration": 157,
    "start_time": "2024-11-14T21:57:01.772Z"
   },
   {
    "duration": 599,
    "start_time": "2024-11-14T21:58:14.005Z"
   },
   {
    "duration": 204,
    "start_time": "2024-11-14T21:58:14.606Z"
   },
   {
    "duration": 11,
    "start_time": "2024-11-14T21:58:14.812Z"
   },
   {
    "duration": 10,
    "start_time": "2024-11-14T21:58:14.825Z"
   },
   {
    "duration": 8,
    "start_time": "2024-11-14T21:58:14.836Z"
   },
   {
    "duration": 8,
    "start_time": "2024-11-14T21:58:14.846Z"
   },
   {
    "duration": 8,
    "start_time": "2024-11-14T21:58:14.855Z"
   },
   {
    "duration": 16,
    "start_time": "2024-11-14T21:58:14.865Z"
   },
   {
    "duration": 43,
    "start_time": "2024-11-14T21:58:14.883Z"
   },
   {
    "duration": 9,
    "start_time": "2024-11-14T21:58:14.930Z"
   },
   {
    "duration": 25,
    "start_time": "2024-11-14T21:58:14.940Z"
   },
   {
    "duration": 25,
    "start_time": "2024-11-14T21:58:14.967Z"
   },
   {
    "duration": 31,
    "start_time": "2024-11-14T21:58:14.994Z"
   },
   {
    "duration": 7,
    "start_time": "2024-11-14T21:58:15.026Z"
   },
   {
    "duration": 17,
    "start_time": "2024-11-14T21:58:15.034Z"
   },
   {
    "duration": 17,
    "start_time": "2024-11-14T21:58:15.052Z"
   },
   {
    "duration": 13,
    "start_time": "2024-11-14T21:58:15.071Z"
   },
   {
    "duration": 40,
    "start_time": "2024-11-14T21:58:15.085Z"
   },
   {
    "duration": 19,
    "start_time": "2024-11-14T21:58:15.127Z"
   },
   {
    "duration": 21,
    "start_time": "2024-11-14T21:58:15.148Z"
   },
   {
    "duration": 3,
    "start_time": "2024-11-14T21:58:15.171Z"
   },
   {
    "duration": 12,
    "start_time": "2024-11-14T21:58:15.175Z"
   },
   {
    "duration": 35,
    "start_time": "2024-11-14T21:58:15.189Z"
   },
   {
    "duration": 9,
    "start_time": "2024-11-14T21:58:15.227Z"
   },
   {
    "duration": 15,
    "start_time": "2024-11-14T21:58:15.237Z"
   },
   {
    "duration": 159,
    "start_time": "2024-11-14T21:59:00.775Z"
   },
   {
    "duration": 13,
    "start_time": "2024-11-14T21:59:21.087Z"
   },
   {
    "duration": 13,
    "start_time": "2024-11-14T21:59:49.784Z"
   },
   {
    "duration": 588,
    "start_time": "2024-11-14T21:59:56.120Z"
   },
   {
    "duration": 207,
    "start_time": "2024-11-14T21:59:59.134Z"
   },
   {
    "duration": 16,
    "start_time": "2024-11-14T22:00:13.892Z"
   },
   {
    "duration": 14,
    "start_time": "2024-11-14T22:00:16.264Z"
   },
   {
    "duration": 29,
    "start_time": "2024-11-14T22:00:19.359Z"
   },
   {
    "duration": 26,
    "start_time": "2024-11-14T22:00:27.250Z"
   },
   {
    "duration": 75,
    "start_time": "2024-11-14T22:00:39.335Z"
   },
   {
    "duration": 20,
    "start_time": "2024-11-14T22:01:13.956Z"
   },
   {
    "duration": 20,
    "start_time": "2024-11-14T22:02:59.819Z"
   },
   {
    "duration": 602,
    "start_time": "2024-11-14T22:03:04.530Z"
   },
   {
    "duration": 154,
    "start_time": "2024-11-14T22:03:05.134Z"
   },
   {
    "duration": 11,
    "start_time": "2024-11-14T22:03:05.290Z"
   },
   {
    "duration": 10,
    "start_time": "2024-11-14T22:03:05.303Z"
   },
   {
    "duration": 7,
    "start_time": "2024-11-14T22:03:05.324Z"
   },
   {
    "duration": 8,
    "start_time": "2024-11-14T22:03:05.333Z"
   },
   {
    "duration": 9,
    "start_time": "2024-11-14T22:03:05.343Z"
   },
   {
    "duration": 17,
    "start_time": "2024-11-14T22:03:05.353Z"
   },
   {
    "duration": 15,
    "start_time": "2024-11-14T22:03:05.371Z"
   },
   {
    "duration": 9,
    "start_time": "2024-11-14T22:03:05.424Z"
   },
   {
    "duration": 25,
    "start_time": "2024-11-14T22:03:05.434Z"
   },
   {
    "duration": 25,
    "start_time": "2024-11-14T22:03:05.461Z"
   },
   {
    "duration": 11,
    "start_time": "2024-11-14T22:03:05.488Z"
   },
   {
    "duration": 30,
    "start_time": "2024-11-14T22:03:05.500Z"
   },
   {
    "duration": 21,
    "start_time": "2024-11-14T22:03:05.533Z"
   },
   {
    "duration": 22,
    "start_time": "2024-11-14T22:03:05.556Z"
   },
   {
    "duration": 15,
    "start_time": "2024-11-14T22:03:05.580Z"
   },
   {
    "duration": 32,
    "start_time": "2024-11-14T22:03:05.596Z"
   },
   {
    "duration": 20,
    "start_time": "2024-11-14T22:03:05.631Z"
   },
   {
    "duration": 21,
    "start_time": "2024-11-14T22:03:05.653Z"
   },
   {
    "duration": 3,
    "start_time": "2024-11-14T22:03:05.676Z"
   },
   {
    "duration": 43,
    "start_time": "2024-11-14T22:03:05.680Z"
   },
   {
    "duration": 8,
    "start_time": "2024-11-14T22:03:05.725Z"
   },
   {
    "duration": 9,
    "start_time": "2024-11-14T22:03:05.734Z"
   },
   {
    "duration": 16,
    "start_time": "2024-11-14T22:03:05.745Z"
   },
   {
    "duration": 606,
    "start_time": "2024-11-14T22:03:20.890Z"
   },
   {
    "duration": 209,
    "start_time": "2024-11-14T22:03:21.499Z"
   },
   {
    "duration": 11,
    "start_time": "2024-11-14T22:03:21.710Z"
   },
   {
    "duration": 11,
    "start_time": "2024-11-14T22:03:21.723Z"
   },
   {
    "duration": 8,
    "start_time": "2024-11-14T22:03:21.736Z"
   },
   {
    "duration": 8,
    "start_time": "2024-11-14T22:03:21.745Z"
   },
   {
    "duration": 9,
    "start_time": "2024-11-14T22:03:21.755Z"
   },
   {
    "duration": 16,
    "start_time": "2024-11-14T22:03:21.765Z"
   },
   {
    "duration": 47,
    "start_time": "2024-11-14T22:03:21.783Z"
   },
   {
    "duration": 9,
    "start_time": "2024-11-14T22:03:21.833Z"
   },
   {
    "duration": 25,
    "start_time": "2024-11-14T22:03:21.844Z"
   },
   {
    "duration": 54,
    "start_time": "2024-11-14T22:03:21.871Z"
   },
   {
    "duration": 14,
    "start_time": "2024-11-14T22:03:21.927Z"
   },
   {
    "duration": 6,
    "start_time": "2024-11-14T22:03:21.942Z"
   },
   {
    "duration": 16,
    "start_time": "2024-11-14T22:03:21.950Z"
   },
   {
    "duration": 18,
    "start_time": "2024-11-14T22:03:21.968Z"
   },
   {
    "duration": 46,
    "start_time": "2024-11-14T22:03:21.987Z"
   },
   {
    "duration": 6,
    "start_time": "2024-11-14T22:03:22.034Z"
   },
   {
    "duration": 19,
    "start_time": "2024-11-14T22:03:22.042Z"
   },
   {
    "duration": 21,
    "start_time": "2024-11-14T22:03:22.063Z"
   },
   {
    "duration": 2,
    "start_time": "2024-11-14T22:03:22.086Z"
   },
   {
    "duration": 44,
    "start_time": "2024-11-14T22:03:22.090Z"
   },
   {
    "duration": 7,
    "start_time": "2024-11-14T22:03:22.135Z"
   },
   {
    "duration": 7,
    "start_time": "2024-11-14T22:03:22.144Z"
   },
   {
    "duration": 14,
    "start_time": "2024-11-14T22:03:22.153Z"
   },
   {
    "duration": 2,
    "start_time": "2024-11-14T22:03:22.169Z"
   },
   {
    "duration": 2,
    "start_time": "2024-11-14T22:03:22.173Z"
   },
   {
    "duration": 2,
    "start_time": "2024-11-14T22:03:22.180Z"
   },
   {
    "duration": 42,
    "start_time": "2024-11-14T22:03:22.183Z"
   },
   {
    "duration": 2,
    "start_time": "2024-11-14T22:03:22.227Z"
   },
   {
    "duration": 3,
    "start_time": "2024-11-14T22:03:22.231Z"
   },
   {
    "duration": 3,
    "start_time": "2024-11-14T22:03:22.236Z"
   },
   {
    "duration": 3,
    "start_time": "2024-11-14T22:03:22.240Z"
   },
   {
    "duration": 2,
    "start_time": "2024-11-14T22:03:22.245Z"
   },
   {
    "duration": 3,
    "start_time": "2024-11-14T22:03:22.249Z"
   },
   {
    "duration": 3,
    "start_time": "2024-11-14T22:03:22.254Z"
   },
   {
    "duration": 420,
    "start_time": "2024-11-14T22:04:35.111Z"
   },
   {
    "duration": 441,
    "start_time": "2024-11-14T22:04:52.321Z"
   },
   {
    "duration": 162,
    "start_time": "2024-11-14T22:06:10.924Z"
   },
   {
    "duration": 639,
    "start_time": "2024-11-14T22:06:21.157Z"
   },
   {
    "duration": 219,
    "start_time": "2024-11-14T22:06:21.799Z"
   },
   {
    "duration": 11,
    "start_time": "2024-11-14T22:06:22.020Z"
   },
   {
    "duration": 11,
    "start_time": "2024-11-14T22:06:22.033Z"
   },
   {
    "duration": 7,
    "start_time": "2024-11-14T22:06:22.046Z"
   },
   {
    "duration": 9,
    "start_time": "2024-11-14T22:06:22.054Z"
   },
   {
    "duration": 9,
    "start_time": "2024-11-14T22:06:22.065Z"
   },
   {
    "duration": 17,
    "start_time": "2024-11-14T22:06:22.075Z"
   },
   {
    "duration": 15,
    "start_time": "2024-11-14T22:06:22.124Z"
   },
   {
    "duration": 9,
    "start_time": "2024-11-14T22:06:22.140Z"
   },
   {
    "duration": 25,
    "start_time": "2024-11-14T22:06:22.150Z"
   },
   {
    "duration": 49,
    "start_time": "2024-11-14T22:06:22.177Z"
   },
   {
    "duration": 12,
    "start_time": "2024-11-14T22:06:22.228Z"
   },
   {
    "duration": 9,
    "start_time": "2024-11-14T22:06:22.244Z"
   },
   {
    "duration": 23,
    "start_time": "2024-11-14T22:06:22.255Z"
   },
   {
    "duration": 45,
    "start_time": "2024-11-14T22:06:22.280Z"
   },
   {
    "duration": 14,
    "start_time": "2024-11-14T22:06:22.327Z"
   },
   {
    "duration": 6,
    "start_time": "2024-11-14T22:06:22.343Z"
   },
   {
    "duration": 20,
    "start_time": "2024-11-14T22:06:22.351Z"
   },
   {
    "duration": 21,
    "start_time": "2024-11-14T22:06:22.373Z"
   },
   {
    "duration": 4,
    "start_time": "2024-11-14T22:06:22.423Z"
   },
   {
    "duration": 11,
    "start_time": "2024-11-14T22:06:22.428Z"
   },
   {
    "duration": 7,
    "start_time": "2024-11-14T22:06:22.440Z"
   },
   {
    "duration": 8,
    "start_time": "2024-11-14T22:06:22.449Z"
   },
   {
    "duration": 14,
    "start_time": "2024-11-14T22:06:22.459Z"
   },
   {
    "duration": 467,
    "start_time": "2024-11-14T22:06:22.475Z"
   },
   {
    "duration": 2,
    "start_time": "2024-11-14T22:06:22.944Z"
   },
   {
    "duration": 3,
    "start_time": "2024-11-14T22:06:22.948Z"
   },
   {
    "duration": 2,
    "start_time": "2024-11-14T22:06:22.953Z"
   },
   {
    "duration": 3,
    "start_time": "2024-11-14T22:06:22.957Z"
   },
   {
    "duration": 2,
    "start_time": "2024-11-14T22:06:22.962Z"
   },
   {
    "duration": 3,
    "start_time": "2024-11-14T22:06:22.966Z"
   },
   {
    "duration": 3,
    "start_time": "2024-11-14T22:06:22.970Z"
   },
   {
    "duration": 2,
    "start_time": "2024-11-14T22:06:22.975Z"
   },
   {
    "duration": 3,
    "start_time": "2024-11-14T22:06:22.978Z"
   },
   {
    "duration": 43,
    "start_time": "2024-11-14T22:06:22.982Z"
   },
   {
    "duration": 14,
    "start_time": "2024-11-14T22:16:38.348Z"
   },
   {
    "duration": 7,
    "start_time": "2024-11-14T22:17:05.743Z"
   },
   {
    "duration": 300,
    "start_time": "2024-11-14T22:17:22.455Z"
   },
   {
    "duration": 26,
    "start_time": "2024-11-14T22:21:10.186Z"
   },
   {
    "duration": 15,
    "start_time": "2024-11-14T22:21:30.229Z"
   },
   {
    "duration": 8,
    "start_time": "2024-11-14T22:22:20.463Z"
   },
   {
    "duration": 229,
    "start_time": "2024-11-14T22:23:29.255Z"
   },
   {
    "duration": 11,
    "start_time": "2024-11-14T22:24:12.595Z"
   },
   {
    "duration": 15,
    "start_time": "2024-11-14T22:24:40.494Z"
   },
   {
    "duration": 15,
    "start_time": "2024-11-14T22:25:30.941Z"
   },
   {
    "duration": 11,
    "start_time": "2024-11-14T22:59:56.543Z"
   },
   {
    "duration": 840,
    "start_time": "2024-11-14T23:00:16.495Z"
   },
   {
    "duration": 30,
    "start_time": "2024-11-14T23:01:17.854Z"
   },
   {
    "duration": 12,
    "start_time": "2024-11-14T23:03:18.246Z"
   },
   {
    "duration": 11,
    "start_time": "2024-11-14T23:03:27.928Z"
   },
   {
    "duration": 11,
    "start_time": "2024-11-14T23:04:07.359Z"
   },
   {
    "duration": 18,
    "start_time": "2024-11-14T23:09:12.328Z"
   },
   {
    "duration": 9,
    "start_time": "2024-11-14T23:10:20.933Z"
   },
   {
    "duration": 11,
    "start_time": "2024-11-14T23:11:04.645Z"
   },
   {
    "duration": 26,
    "start_time": "2024-11-14T23:12:23.176Z"
   },
   {
    "duration": 10,
    "start_time": "2024-11-14T23:17:44.442Z"
   },
   {
    "duration": 11,
    "start_time": "2024-11-14T23:17:44.465Z"
   },
   {
    "duration": 643,
    "start_time": "2024-11-14T23:17:49.692Z"
   },
   {
    "duration": 164,
    "start_time": "2024-11-14T23:17:50.338Z"
   },
   {
    "duration": 10,
    "start_time": "2024-11-14T23:17:50.504Z"
   },
   {
    "duration": 14,
    "start_time": "2024-11-14T23:17:50.516Z"
   },
   {
    "duration": 8,
    "start_time": "2024-11-14T23:17:50.532Z"
   },
   {
    "duration": 8,
    "start_time": "2024-11-14T23:17:50.541Z"
   },
   {
    "duration": 10,
    "start_time": "2024-11-14T23:17:50.551Z"
   },
   {
    "duration": 20,
    "start_time": "2024-11-14T23:17:50.563Z"
   },
   {
    "duration": 48,
    "start_time": "2024-11-14T23:17:50.586Z"
   },
   {
    "duration": 11,
    "start_time": "2024-11-14T23:17:50.636Z"
   },
   {
    "duration": 37,
    "start_time": "2024-11-14T23:17:50.648Z"
   },
   {
    "duration": 56,
    "start_time": "2024-11-14T23:17:50.687Z"
   },
   {
    "duration": 12,
    "start_time": "2024-11-14T23:17:50.745Z"
   },
   {
    "duration": 7,
    "start_time": "2024-11-14T23:17:50.761Z"
   },
   {
    "duration": 16,
    "start_time": "2024-11-14T23:17:50.770Z"
   },
   {
    "duration": 44,
    "start_time": "2024-11-14T23:17:50.788Z"
   },
   {
    "duration": 14,
    "start_time": "2024-11-14T23:17:50.834Z"
   },
   {
    "duration": 8,
    "start_time": "2024-11-14T23:17:50.849Z"
   },
   {
    "duration": 29,
    "start_time": "2024-11-14T23:17:50.859Z"
   },
   {
    "duration": 46,
    "start_time": "2024-11-14T23:17:50.889Z"
   },
   {
    "duration": 3,
    "start_time": "2024-11-14T23:17:50.937Z"
   },
   {
    "duration": 23,
    "start_time": "2024-11-14T23:17:50.942Z"
   },
   {
    "duration": 18,
    "start_time": "2024-11-14T23:17:50.967Z"
   },
   {
    "duration": 10,
    "start_time": "2024-11-14T23:17:50.987Z"
   },
   {
    "duration": 10,
    "start_time": "2024-11-14T23:17:51.025Z"
   },
   {
    "duration": 19,
    "start_time": "2024-11-14T23:17:51.037Z"
   },
   {
    "duration": 3,
    "start_time": "2024-11-14T23:17:51.058Z"
   },
   {
    "duration": 3,
    "start_time": "2024-11-14T23:17:51.062Z"
   },
   {
    "duration": 2,
    "start_time": "2024-11-14T23:17:51.067Z"
   },
   {
    "duration": 3,
    "start_time": "2024-11-14T23:17:51.071Z"
   },
   {
    "duration": 2,
    "start_time": "2024-11-14T23:17:51.076Z"
   },
   {
    "duration": 3,
    "start_time": "2024-11-14T23:17:51.080Z"
   },
   {
    "duration": 3,
    "start_time": "2024-11-14T23:17:51.124Z"
   },
   {
    "duration": 3,
    "start_time": "2024-11-14T23:17:51.128Z"
   },
   {
    "duration": 3,
    "start_time": "2024-11-14T23:17:51.133Z"
   },
   {
    "duration": 8,
    "start_time": "2024-11-14T23:17:51.139Z"
   },
   {
    "duration": 21,
    "start_time": "2024-11-14T23:18:51.471Z"
   },
   {
    "duration": 27,
    "start_time": "2024-11-14T23:21:49.504Z"
   },
   {
    "duration": 42,
    "start_time": "2024-11-14T23:22:00.662Z"
   },
   {
    "duration": 28,
    "start_time": "2024-11-14T23:22:24.654Z"
   },
   {
    "duration": 632,
    "start_time": "2024-11-14T23:22:29.946Z"
   },
   {
    "duration": 182,
    "start_time": "2024-11-14T23:22:30.580Z"
   },
   {
    "duration": 10,
    "start_time": "2024-11-14T23:22:30.764Z"
   },
   {
    "duration": 11,
    "start_time": "2024-11-14T23:22:30.776Z"
   },
   {
    "duration": 7,
    "start_time": "2024-11-14T23:22:30.790Z"
   },
   {
    "duration": 27,
    "start_time": "2024-11-14T23:22:30.799Z"
   },
   {
    "duration": 9,
    "start_time": "2024-11-14T23:22:30.828Z"
   },
   {
    "duration": 19,
    "start_time": "2024-11-14T23:22:30.840Z"
   },
   {
    "duration": 15,
    "start_time": "2024-11-14T23:22:30.860Z"
   },
   {
    "duration": 11,
    "start_time": "2024-11-14T23:22:30.878Z"
   },
   {
    "duration": 54,
    "start_time": "2024-11-14T23:22:30.891Z"
   },
   {
    "duration": 26,
    "start_time": "2024-11-14T23:22:30.947Z"
   },
   {
    "duration": 11,
    "start_time": "2024-11-14T23:22:30.975Z"
   },
   {
    "duration": 7,
    "start_time": "2024-11-14T23:22:30.988Z"
   },
   {
    "duration": 42,
    "start_time": "2024-11-14T23:22:30.998Z"
   },
   {
    "duration": 17,
    "start_time": "2024-11-14T23:22:31.042Z"
   },
   {
    "duration": 13,
    "start_time": "2024-11-14T23:22:31.061Z"
   },
   {
    "duration": 8,
    "start_time": "2024-11-14T23:22:31.075Z"
   },
   {
    "duration": 57,
    "start_time": "2024-11-14T23:22:31.084Z"
   },
   {
    "duration": 21,
    "start_time": "2024-11-14T23:22:31.143Z"
   },
   {
    "duration": 3,
    "start_time": "2024-11-14T23:22:31.166Z"
   },
   {
    "duration": 25,
    "start_time": "2024-11-14T23:22:31.170Z"
   },
   {
    "duration": 37,
    "start_time": "2024-11-14T23:22:31.199Z"
   },
   {
    "duration": 14,
    "start_time": "2024-11-14T23:22:31.238Z"
   },
   {
    "duration": 11,
    "start_time": "2024-11-14T23:22:31.256Z"
   },
   {
    "duration": 22,
    "start_time": "2024-11-14T23:22:31.269Z"
   },
   {
    "duration": 3,
    "start_time": "2024-11-14T23:22:31.292Z"
   },
   {
    "duration": 31,
    "start_time": "2024-11-14T23:22:31.298Z"
   },
   {
    "duration": 8,
    "start_time": "2024-11-14T23:22:31.330Z"
   },
   {
    "duration": 3,
    "start_time": "2024-11-14T23:22:31.340Z"
   },
   {
    "duration": 4,
    "start_time": "2024-11-14T23:22:31.345Z"
   },
   {
    "duration": 4,
    "start_time": "2024-11-14T23:22:31.351Z"
   },
   {
    "duration": 5,
    "start_time": "2024-11-14T23:22:31.357Z"
   },
   {
    "duration": 5,
    "start_time": "2024-11-14T23:22:31.364Z"
   },
   {
    "duration": 3,
    "start_time": "2024-11-14T23:22:31.370Z"
   },
   {
    "duration": 4,
    "start_time": "2024-11-14T23:22:31.374Z"
   },
   {
    "duration": 17,
    "start_time": "2024-11-15T01:42:57.588Z"
   },
   {
    "duration": 29,
    "start_time": "2024-11-15T01:43:10.924Z"
   },
   {
    "duration": 3,
    "start_time": "2024-11-15T01:50:34.269Z"
   },
   {
    "duration": 9,
    "start_time": "2024-11-15T01:50:41.374Z"
   },
   {
    "duration": 7,
    "start_time": "2024-11-15T01:51:33.879Z"
   },
   {
    "duration": 17,
    "start_time": "2024-11-15T01:51:50.711Z"
   },
   {
    "duration": 8,
    "start_time": "2024-11-15T01:52:48.088Z"
   },
   {
    "duration": 14,
    "start_time": "2024-11-15T01:52:58.623Z"
   },
   {
    "duration": 636,
    "start_time": "2024-11-15T01:53:32.693Z"
   },
   {
    "duration": 12,
    "start_time": "2024-11-15T01:54:49.212Z"
   },
   {
    "duration": 11,
    "start_time": "2024-11-15T01:54:54.243Z"
   },
   {
    "duration": 17,
    "start_time": "2024-11-15T01:56:48.186Z"
   },
   {
    "duration": 16,
    "start_time": "2024-11-15T01:58:52.172Z"
   },
   {
    "duration": 18,
    "start_time": "2024-11-15T02:00:27.663Z"
   },
   {
    "duration": 17,
    "start_time": "2024-11-15T02:01:08.118Z"
   },
   {
    "duration": 190,
    "start_time": "2024-11-15T02:13:06.231Z"
   },
   {
    "duration": 52,
    "start_time": "2024-11-15T02:13:19.692Z"
   },
   {
    "duration": 18,
    "start_time": "2024-11-15T02:14:14.399Z"
   },
   {
    "duration": 54,
    "start_time": "2024-11-15T02:14:45.282Z"
   },
   {
    "duration": 120,
    "start_time": "2024-11-15T02:15:33.518Z"
   },
   {
    "duration": 17,
    "start_time": "2024-11-15T02:16:04.997Z"
   },
   {
    "duration": 51,
    "start_time": "2024-11-15T02:16:26.787Z"
   },
   {
    "duration": 19,
    "start_time": "2024-11-15T02:17:23.685Z"
   },
   {
    "duration": 20,
    "start_time": "2024-11-15T02:17:48.952Z"
   },
   {
    "duration": 29,
    "start_time": "2024-11-15T02:18:01.072Z"
   },
   {
    "duration": 33,
    "start_time": "2024-11-15T02:18:18.732Z"
   },
   {
    "duration": 19,
    "start_time": "2024-11-15T02:25:33.298Z"
   },
   {
    "duration": 30,
    "start_time": "2024-11-15T02:25:42.881Z"
   },
   {
    "duration": 17,
    "start_time": "2024-11-15T02:25:47.154Z"
   },
   {
    "duration": 718,
    "start_time": "2024-11-15T02:25:56.964Z"
   },
   {
    "duration": 361,
    "start_time": "2024-11-15T02:25:57.688Z"
   },
   {
    "duration": 16,
    "start_time": "2024-11-15T02:25:58.056Z"
   },
   {
    "duration": 31,
    "start_time": "2024-11-15T02:25:58.081Z"
   },
   {
    "duration": 12,
    "start_time": "2024-11-15T02:25:58.116Z"
   },
   {
    "duration": 9,
    "start_time": "2024-11-15T02:25:58.130Z"
   },
   {
    "duration": 11,
    "start_time": "2024-11-15T02:25:58.141Z"
   },
   {
    "duration": 12,
    "start_time": "2024-11-15T02:25:58.154Z"
   },
   {
    "duration": 86,
    "start_time": "2024-11-15T02:25:58.169Z"
   },
   {
    "duration": 25,
    "start_time": "2024-11-15T02:25:58.262Z"
   },
   {
    "duration": 16,
    "start_time": "2024-11-15T02:25:58.292Z"
   },
   {
    "duration": 52,
    "start_time": "2024-11-15T02:25:58.313Z"
   },
   {
    "duration": 28,
    "start_time": "2024-11-15T02:25:58.371Z"
   },
   {
    "duration": 12,
    "start_time": "2024-11-15T02:25:58.404Z"
   },
   {
    "duration": 16,
    "start_time": "2024-11-15T02:25:58.418Z"
   },
   {
    "duration": 23,
    "start_time": "2024-11-15T02:25:58.436Z"
   },
   {
    "duration": 22,
    "start_time": "2024-11-15T02:25:58.461Z"
   },
   {
    "duration": 15,
    "start_time": "2024-11-15T02:25:58.486Z"
   },
   {
    "duration": 9,
    "start_time": "2024-11-15T02:25:58.504Z"
   },
   {
    "duration": 32,
    "start_time": "2024-11-15T02:25:58.515Z"
   },
   {
    "duration": 25,
    "start_time": "2024-11-15T02:25:58.549Z"
   },
   {
    "duration": 6,
    "start_time": "2024-11-15T02:25:58.577Z"
   },
   {
    "duration": 26,
    "start_time": "2024-11-15T02:25:58.586Z"
   },
   {
    "duration": 26,
    "start_time": "2024-11-15T02:25:58.616Z"
   },
   {
    "duration": 15,
    "start_time": "2024-11-15T02:25:58.644Z"
   },
   {
    "duration": 11,
    "start_time": "2024-11-15T02:25:58.661Z"
   },
   {
    "duration": 35,
    "start_time": "2024-11-15T02:25:58.675Z"
   },
   {
    "duration": 40,
    "start_time": "2024-11-15T02:25:58.725Z"
   },
   {
    "duration": 293,
    "start_time": "2024-11-15T02:25:58.767Z"
   },
   {
    "duration": 0,
    "start_time": "2024-11-15T02:25:59.062Z"
   },
   {
    "duration": 0,
    "start_time": "2024-11-15T02:25:59.063Z"
   },
   {
    "duration": 0,
    "start_time": "2024-11-15T02:25:59.064Z"
   },
   {
    "duration": 0,
    "start_time": "2024-11-15T02:25:59.067Z"
   },
   {
    "duration": 0,
    "start_time": "2024-11-15T02:25:59.068Z"
   },
   {
    "duration": 1,
    "start_time": "2024-11-15T02:25:59.069Z"
   },
   {
    "duration": 0,
    "start_time": "2024-11-15T02:25:59.071Z"
   },
   {
    "duration": 0,
    "start_time": "2024-11-15T02:25:59.072Z"
   },
   {
    "duration": 19,
    "start_time": "2024-11-15T02:26:18.074Z"
   },
   {
    "duration": 16,
    "start_time": "2024-11-15T02:26:42.150Z"
   },
   {
    "duration": 6,
    "start_time": "2024-11-15T02:29:45.379Z"
   },
   {
    "duration": 20,
    "start_time": "2024-11-15T02:29:54.017Z"
   },
   {
    "duration": 20,
    "start_time": "2024-11-15T02:31:35.875Z"
   },
   {
    "duration": 18,
    "start_time": "2024-11-15T02:32:11.746Z"
   },
   {
    "duration": 20,
    "start_time": "2024-11-15T02:33:22.812Z"
   },
   {
    "duration": 331,
    "start_time": "2024-11-15T02:33:54.078Z"
   },
   {
    "duration": 4,
    "start_time": "2024-11-15T02:34:36.276Z"
   },
   {
    "duration": 325,
    "start_time": "2024-11-15T02:35:58.405Z"
   },
   {
    "duration": 164,
    "start_time": "2024-11-15T02:36:50.780Z"
   },
   {
    "duration": 161,
    "start_time": "2024-11-15T12:19:50.003Z"
   },
   {
    "duration": 580,
    "start_time": "2024-11-15T12:19:55.603Z"
   },
   {
    "duration": 214,
    "start_time": "2024-11-15T12:19:56.185Z"
   },
   {
    "duration": 10,
    "start_time": "2024-11-15T12:19:56.400Z"
   },
   {
    "duration": 11,
    "start_time": "2024-11-15T12:19:56.413Z"
   },
   {
    "duration": 7,
    "start_time": "2024-11-15T12:19:56.427Z"
   },
   {
    "duration": 10,
    "start_time": "2024-11-15T12:19:56.436Z"
   },
   {
    "duration": 11,
    "start_time": "2024-11-15T12:19:56.447Z"
   },
   {
    "duration": 8,
    "start_time": "2024-11-15T12:19:56.460Z"
   },
   {
    "duration": 50,
    "start_time": "2024-11-15T12:19:56.470Z"
   },
   {
    "duration": 15,
    "start_time": "2024-11-15T12:19:56.522Z"
   },
   {
    "duration": 9,
    "start_time": "2024-11-15T12:19:56.538Z"
   },
   {
    "duration": 25,
    "start_time": "2024-11-15T12:19:56.549Z"
   },
   {
    "duration": 56,
    "start_time": "2024-11-15T12:19:56.575Z"
   },
   {
    "duration": 12,
    "start_time": "2024-11-15T12:19:56.633Z"
   },
   {
    "duration": 5,
    "start_time": "2024-11-15T12:19:56.647Z"
   },
   {
    "duration": 16,
    "start_time": "2024-11-15T12:19:56.654Z"
   },
   {
    "duration": 48,
    "start_time": "2024-11-15T12:19:56.671Z"
   },
   {
    "duration": 13,
    "start_time": "2024-11-15T12:19:56.720Z"
   },
   {
    "duration": 7,
    "start_time": "2024-11-15T12:19:56.734Z"
   },
   {
    "duration": 20,
    "start_time": "2024-11-15T12:19:56.742Z"
   },
   {
    "duration": 51,
    "start_time": "2024-11-15T12:19:56.764Z"
   },
   {
    "duration": 3,
    "start_time": "2024-11-15T12:19:56.818Z"
   },
   {
    "duration": 18,
    "start_time": "2024-11-15T12:19:56.822Z"
   },
   {
    "duration": 13,
    "start_time": "2024-11-15T12:19:56.842Z"
   },
   {
    "duration": 12,
    "start_time": "2024-11-15T12:19:56.857Z"
   },
   {
    "duration": 38,
    "start_time": "2024-11-15T12:19:56.870Z"
   },
   {
    "duration": 23,
    "start_time": "2024-11-15T12:19:56.910Z"
   },
   {
    "duration": 24,
    "start_time": "2024-11-15T12:19:56.938Z"
   },
   {
    "duration": 181,
    "start_time": "2024-11-15T12:19:56.964Z"
   },
   {
    "duration": 2,
    "start_time": "2024-11-15T12:19:57.147Z"
   },
   {
    "duration": 3,
    "start_time": "2024-11-15T12:19:57.151Z"
   },
   {
    "duration": 3,
    "start_time": "2024-11-15T12:19:57.155Z"
   },
   {
    "duration": 3,
    "start_time": "2024-11-15T12:19:57.159Z"
   },
   {
    "duration": 3,
    "start_time": "2024-11-15T12:19:57.163Z"
   },
   {
    "duration": 3,
    "start_time": "2024-11-15T12:19:57.167Z"
   },
   {
    "duration": 36,
    "start_time": "2024-11-15T12:19:57.172Z"
   },
   {
    "duration": 3,
    "start_time": "2024-11-15T12:19:57.209Z"
   },
   {
    "duration": 633,
    "start_time": "2024-11-15T13:11:39.333Z"
   },
   {
    "duration": 156,
    "start_time": "2024-11-15T13:11:39.968Z"
   },
   {
    "duration": 10,
    "start_time": "2024-11-15T13:11:40.126Z"
   },
   {
    "duration": 11,
    "start_time": "2024-11-15T13:11:40.138Z"
   },
   {
    "duration": 7,
    "start_time": "2024-11-15T13:11:40.151Z"
   },
   {
    "duration": 8,
    "start_time": "2024-11-15T13:11:40.160Z"
   },
   {
    "duration": 36,
    "start_time": "2024-11-15T13:11:40.169Z"
   },
   {
    "duration": 8,
    "start_time": "2024-11-15T13:11:40.206Z"
   },
   {
    "duration": 16,
    "start_time": "2024-11-15T13:11:40.216Z"
   },
   {
    "duration": 15,
    "start_time": "2024-11-15T13:11:40.235Z"
   },
   {
    "duration": 9,
    "start_time": "2024-11-15T13:11:40.252Z"
   },
   {
    "duration": 54,
    "start_time": "2024-11-15T13:11:40.262Z"
   },
   {
    "duration": 26,
    "start_time": "2024-11-15T13:11:40.318Z"
   },
   {
    "duration": 11,
    "start_time": "2024-11-15T13:11:40.346Z"
   },
   {
    "duration": 6,
    "start_time": "2024-11-15T13:11:40.358Z"
   },
   {
    "duration": 45,
    "start_time": "2024-11-15T13:11:40.366Z"
   },
   {
    "duration": 19,
    "start_time": "2024-11-15T13:11:40.413Z"
   },
   {
    "duration": 14,
    "start_time": "2024-11-15T13:11:40.433Z"
   },
   {
    "duration": 6,
    "start_time": "2024-11-15T13:11:40.448Z"
   },
   {
    "duration": 20,
    "start_time": "2024-11-15T13:11:40.456Z"
   },
   {
    "duration": 47,
    "start_time": "2024-11-15T13:11:40.478Z"
   },
   {
    "duration": 3,
    "start_time": "2024-11-15T13:11:40.527Z"
   },
   {
    "duration": 18,
    "start_time": "2024-11-15T13:11:40.532Z"
   },
   {
    "duration": 14,
    "start_time": "2024-11-15T13:11:40.552Z"
   },
   {
    "duration": 50,
    "start_time": "2024-11-15T13:11:40.568Z"
   },
   {
    "duration": 12,
    "start_time": "2024-11-15T13:11:40.620Z"
   },
   {
    "duration": 23,
    "start_time": "2024-11-15T13:11:40.633Z"
   },
   {
    "duration": 48,
    "start_time": "2024-11-15T13:11:40.661Z"
   },
   {
    "duration": 155,
    "start_time": "2024-11-15T13:11:40.711Z"
   },
   {
    "duration": 4,
    "start_time": "2024-11-15T13:11:40.868Z"
   },
   {
    "duration": 3,
    "start_time": "2024-11-15T13:11:42.714Z"
   },
   {
    "duration": 3,
    "start_time": "2024-11-15T13:11:42.719Z"
   },
   {
    "duration": 4,
    "start_time": "2024-11-15T13:11:42.723Z"
   },
   {
    "duration": 2,
    "start_time": "2024-11-15T13:11:42.729Z"
   },
   {
    "duration": 3,
    "start_time": "2024-11-15T13:11:42.733Z"
   },
   {
    "duration": 3,
    "start_time": "2024-11-15T13:11:42.737Z"
   },
   {
    "duration": 2,
    "start_time": "2024-11-15T13:11:42.741Z"
   },
   {
    "duration": 665,
    "start_time": "2024-11-15T14:11:21.123Z"
   },
   {
    "duration": 162,
    "start_time": "2024-11-15T14:11:21.790Z"
   },
   {
    "duration": 10,
    "start_time": "2024-11-15T14:11:21.954Z"
   },
   {
    "duration": 10,
    "start_time": "2024-11-15T14:11:21.968Z"
   },
   {
    "duration": 8,
    "start_time": "2024-11-15T14:11:21.979Z"
   },
   {
    "duration": 22,
    "start_time": "2024-11-15T14:11:21.989Z"
   },
   {
    "duration": 9,
    "start_time": "2024-11-15T14:11:22.013Z"
   },
   {
    "duration": 13,
    "start_time": "2024-11-15T14:11:22.024Z"
   },
   {
    "duration": 17,
    "start_time": "2024-11-15T14:11:22.039Z"
   },
   {
    "duration": 15,
    "start_time": "2024-11-15T14:11:22.059Z"
   },
   {
    "duration": 39,
    "start_time": "2024-11-15T14:11:22.075Z"
   },
   {
    "duration": 27,
    "start_time": "2024-11-15T14:11:22.116Z"
   },
   {
    "duration": 26,
    "start_time": "2024-11-15T14:11:22.144Z"
   },
   {
    "duration": 38,
    "start_time": "2024-11-15T14:11:22.172Z"
   },
   {
    "duration": 6,
    "start_time": "2024-11-15T14:11:22.211Z"
   },
   {
    "duration": 17,
    "start_time": "2024-11-15T14:11:22.219Z"
   },
   {
    "duration": 18,
    "start_time": "2024-11-15T14:11:22.238Z"
   },
   {
    "duration": 47,
    "start_time": "2024-11-15T14:11:22.258Z"
   },
   {
    "duration": 7,
    "start_time": "2024-11-15T14:11:22.307Z"
   },
   {
    "duration": 21,
    "start_time": "2024-11-15T14:11:22.315Z"
   },
   {
    "duration": 22,
    "start_time": "2024-11-15T14:11:22.338Z"
   },
   {
    "duration": 3,
    "start_time": "2024-11-15T14:11:22.362Z"
   },
   {
    "duration": 51,
    "start_time": "2024-11-15T14:11:22.366Z"
   },
   {
    "duration": 19,
    "start_time": "2024-11-15T14:11:22.419Z"
   },
   {
    "duration": 17,
    "start_time": "2024-11-15T14:11:22.440Z"
   },
   {
    "duration": 10,
    "start_time": "2024-11-15T14:11:22.459Z"
   },
   {
    "duration": 48,
    "start_time": "2024-11-15T14:11:22.471Z"
   },
   {
    "duration": 24,
    "start_time": "2024-11-15T14:11:22.524Z"
   },
   {
    "duration": 174,
    "start_time": "2024-11-15T14:11:22.549Z"
   },
   {
    "duration": 2,
    "start_time": "2024-11-15T14:11:22.725Z"
   },
   {
    "duration": 2,
    "start_time": "2024-11-15T14:11:22.729Z"
   },
   {
    "duration": 2,
    "start_time": "2024-11-15T14:11:22.733Z"
   },
   {
    "duration": 2,
    "start_time": "2024-11-15T14:11:22.737Z"
   },
   {
    "duration": 3,
    "start_time": "2024-11-15T14:11:22.740Z"
   },
   {
    "duration": 2,
    "start_time": "2024-11-15T14:11:22.745Z"
   },
   {
    "duration": 2,
    "start_time": "2024-11-15T14:11:22.749Z"
   },
   {
    "duration": 2,
    "start_time": "2024-11-15T14:11:22.753Z"
   },
   {
    "duration": 5,
    "start_time": "2024-11-15T14:43:52.294Z"
   },
   {
    "duration": 18,
    "start_time": "2024-11-15T15:04:05.500Z"
   },
   {
    "duration": 12,
    "start_time": "2024-11-15T15:04:49.863Z"
   },
   {
    "duration": 12,
    "start_time": "2024-11-15T15:06:17.490Z"
   },
   {
    "duration": 12,
    "start_time": "2024-11-15T15:06:47.874Z"
   },
   {
    "duration": 19,
    "start_time": "2024-11-15T15:13:04.981Z"
   },
   {
    "duration": 12,
    "start_time": "2024-11-15T15:13:20.555Z"
   },
   {
    "duration": 13,
    "start_time": "2024-11-15T15:14:54.504Z"
   },
   {
    "duration": 642,
    "start_time": "2024-11-15T15:15:11.947Z"
   },
   {
    "duration": 166,
    "start_time": "2024-11-15T15:15:12.591Z"
   },
   {
    "duration": 10,
    "start_time": "2024-11-15T15:15:12.758Z"
   },
   {
    "duration": 11,
    "start_time": "2024-11-15T15:15:12.770Z"
   },
   {
    "duration": 7,
    "start_time": "2024-11-15T15:15:12.783Z"
   },
   {
    "duration": 21,
    "start_time": "2024-11-15T15:15:12.791Z"
   },
   {
    "duration": 10,
    "start_time": "2024-11-15T15:15:12.814Z"
   },
   {
    "duration": 8,
    "start_time": "2024-11-15T15:15:12.826Z"
   },
   {
    "duration": 15,
    "start_time": "2024-11-15T15:15:12.836Z"
   },
   {
    "duration": 14,
    "start_time": "2024-11-15T15:15:12.854Z"
   },
   {
    "duration": 44,
    "start_time": "2024-11-15T15:15:12.870Z"
   },
   {
    "duration": 26,
    "start_time": "2024-11-15T15:15:12.916Z"
   },
   {
    "duration": 24,
    "start_time": "2024-11-15T15:15:12.944Z"
   },
   {
    "duration": 11,
    "start_time": "2024-11-15T15:15:12.970Z"
   },
   {
    "duration": 27,
    "start_time": "2024-11-15T15:15:12.983Z"
   },
   {
    "duration": 20,
    "start_time": "2024-11-15T15:15:13.012Z"
   },
   {
    "duration": 17,
    "start_time": "2024-11-15T15:15:13.034Z"
   },
   {
    "duration": 13,
    "start_time": "2024-11-15T15:15:13.053Z"
   },
   {
    "duration": 6,
    "start_time": "2024-11-15T15:15:13.068Z"
   },
   {
    "duration": 23,
    "start_time": "2024-11-15T15:15:13.105Z"
   },
   {
    "duration": 22,
    "start_time": "2024-11-15T15:15:13.130Z"
   },
   {
    "duration": 3,
    "start_time": "2024-11-15T15:15:13.153Z"
   },
   {
    "duration": 17,
    "start_time": "2024-11-15T15:15:13.158Z"
   },
   {
    "duration": 40,
    "start_time": "2024-11-15T15:15:13.177Z"
   },
   {
    "duration": 12,
    "start_time": "2024-11-15T15:15:13.218Z"
   },
   {
    "duration": 9,
    "start_time": "2024-11-15T15:15:13.232Z"
   },
   {
    "duration": 22,
    "start_time": "2024-11-15T15:15:13.242Z"
   },
   {
    "duration": 54,
    "start_time": "2024-11-15T15:15:13.268Z"
   },
   {
    "duration": 654,
    "start_time": "2024-11-15T15:15:13.324Z"
   },
   {
    "duration": 0,
    "start_time": "2024-11-15T15:15:13.980Z"
   },
   {
    "duration": 0,
    "start_time": "2024-11-15T15:15:13.981Z"
   },
   {
    "duration": 0,
    "start_time": "2024-11-15T15:15:13.983Z"
   },
   {
    "duration": 0,
    "start_time": "2024-11-15T15:15:13.984Z"
   },
   {
    "duration": 0,
    "start_time": "2024-11-15T15:15:13.985Z"
   },
   {
    "duration": 0,
    "start_time": "2024-11-15T15:15:13.986Z"
   },
   {
    "duration": 0,
    "start_time": "2024-11-15T15:15:13.987Z"
   },
   {
    "duration": 0,
    "start_time": "2024-11-15T15:15:14.005Z"
   },
   {
    "duration": 12,
    "start_time": "2024-11-15T15:15:45.843Z"
   },
   {
    "duration": 14,
    "start_time": "2024-11-15T15:17:44.138Z"
   },
   {
    "duration": 17,
    "start_time": "2024-11-15T15:25:18.219Z"
   },
   {
    "duration": 14,
    "start_time": "2024-11-15T15:25:29.392Z"
   },
   {
    "duration": 14,
    "start_time": "2024-11-15T15:25:38.339Z"
   },
   {
    "duration": 15,
    "start_time": "2024-11-15T15:26:06.042Z"
   },
   {
    "duration": 17,
    "start_time": "2024-11-15T15:27:18.499Z"
   },
   {
    "duration": 17,
    "start_time": "2024-11-15T15:27:32.103Z"
   },
   {
    "duration": 2612,
    "start_time": "2024-11-15T15:28:26.016Z"
   },
   {
    "duration": 165,
    "start_time": "2024-11-15T15:28:28.630Z"
   },
   {
    "duration": 11,
    "start_time": "2024-11-15T15:28:28.796Z"
   },
   {
    "duration": 9,
    "start_time": "2024-11-15T15:28:28.810Z"
   },
   {
    "duration": 8,
    "start_time": "2024-11-15T15:28:28.820Z"
   },
   {
    "duration": 7,
    "start_time": "2024-11-15T15:28:28.830Z"
   },
   {
    "duration": 9,
    "start_time": "2024-11-15T15:28:28.838Z"
   },
   {
    "duration": 9,
    "start_time": "2024-11-15T15:28:28.848Z"
   },
   {
    "duration": 53,
    "start_time": "2024-11-15T15:28:28.859Z"
   },
   {
    "duration": 15,
    "start_time": "2024-11-15T15:28:28.915Z"
   },
   {
    "duration": 9,
    "start_time": "2024-11-15T15:28:28.932Z"
   },
   {
    "duration": 25,
    "start_time": "2024-11-15T15:28:28.943Z"
   },
   {
    "duration": 51,
    "start_time": "2024-11-15T15:28:28.970Z"
   },
   {
    "duration": 11,
    "start_time": "2024-11-15T15:28:29.023Z"
   },
   {
    "duration": 6,
    "start_time": "2024-11-15T15:28:29.036Z"
   },
   {
    "duration": 17,
    "start_time": "2024-11-15T15:28:29.043Z"
   },
   {
    "duration": 47,
    "start_time": "2024-11-15T15:28:29.061Z"
   },
   {
    "duration": 14,
    "start_time": "2024-11-15T15:28:29.110Z"
   },
   {
    "duration": 6,
    "start_time": "2024-11-15T15:28:29.126Z"
   },
   {
    "duration": 20,
    "start_time": "2024-11-15T15:28:29.134Z"
   },
   {
    "duration": 51,
    "start_time": "2024-11-15T15:28:29.156Z"
   },
   {
    "duration": 3,
    "start_time": "2024-11-15T15:28:29.209Z"
   },
   {
    "duration": 18,
    "start_time": "2024-11-15T15:28:29.214Z"
   },
   {
    "duration": 13,
    "start_time": "2024-11-15T15:28:29.233Z"
   },
   {
    "duration": 12,
    "start_time": "2024-11-15T15:28:29.248Z"
   },
   {
    "duration": 10,
    "start_time": "2024-11-15T15:28:29.261Z"
   },
   {
    "duration": 23,
    "start_time": "2024-11-15T15:28:29.306Z"
   },
   {
    "duration": 24,
    "start_time": "2024-11-15T15:28:29.333Z"
   },
   {
    "duration": 17,
    "start_time": "2024-11-15T15:28:29.358Z"
   },
   {
    "duration": 2,
    "start_time": "2024-11-15T15:28:29.377Z"
   },
   {
    "duration": 2,
    "start_time": "2024-11-15T15:28:29.405Z"
   },
   {
    "duration": 3,
    "start_time": "2024-11-15T15:28:29.409Z"
   },
   {
    "duration": 3,
    "start_time": "2024-11-15T15:28:29.413Z"
   },
   {
    "duration": 2,
    "start_time": "2024-11-15T15:28:29.418Z"
   },
   {
    "duration": 2,
    "start_time": "2024-11-15T15:28:29.422Z"
   },
   {
    "duration": 3,
    "start_time": "2024-11-15T15:28:29.426Z"
   },
   {
    "duration": 2,
    "start_time": "2024-11-15T15:28:29.431Z"
   },
   {
    "duration": 10,
    "start_time": "2024-11-15T15:29:36.304Z"
   },
   {
    "duration": 11,
    "start_time": "2024-11-15T15:29:54.329Z"
   },
   {
    "duration": 9,
    "start_time": "2024-11-15T15:30:10.758Z"
   },
   {
    "duration": 2527,
    "start_time": "2024-11-15T19:55:09.608Z"
   },
   {
    "duration": 237,
    "start_time": "2024-11-15T19:55:12.140Z"
   },
   {
    "duration": 13,
    "start_time": "2024-11-15T19:55:12.379Z"
   },
   {
    "duration": 12,
    "start_time": "2024-11-15T19:55:12.395Z"
   },
   {
    "duration": 8,
    "start_time": "2024-11-15T19:55:12.409Z"
   },
   {
    "duration": 7,
    "start_time": "2024-11-15T19:55:12.420Z"
   },
   {
    "duration": 8,
    "start_time": "2024-11-15T19:55:12.429Z"
   },
   {
    "duration": 41,
    "start_time": "2024-11-15T19:55:12.438Z"
   },
   {
    "duration": 20,
    "start_time": "2024-11-15T19:55:12.482Z"
   },
   {
    "duration": 18,
    "start_time": "2024-11-15T19:55:12.506Z"
   },
   {
    "duration": 13,
    "start_time": "2024-11-15T19:55:12.527Z"
   },
   {
    "duration": 60,
    "start_time": "2024-11-15T19:55:12.542Z"
   },
   {
    "duration": 25,
    "start_time": "2024-11-15T19:55:12.603Z"
   },
   {
    "duration": 14,
    "start_time": "2024-11-15T19:55:12.629Z"
   },
   {
    "duration": 31,
    "start_time": "2024-11-15T19:55:12.645Z"
   },
   {
    "duration": 16,
    "start_time": "2024-11-15T19:55:12.678Z"
   },
   {
    "duration": 18,
    "start_time": "2024-11-15T19:55:12.696Z"
   },
   {
    "duration": 14,
    "start_time": "2024-11-15T19:55:12.717Z"
   },
   {
    "duration": 8,
    "start_time": "2024-11-15T19:55:12.732Z"
   },
   {
    "duration": 21,
    "start_time": "2024-11-15T19:55:12.770Z"
   },
   {
    "duration": 21,
    "start_time": "2024-11-15T19:55:12.792Z"
   },
   {
    "duration": 3,
    "start_time": "2024-11-15T19:55:12.815Z"
   },
   {
    "duration": 18,
    "start_time": "2024-11-15T19:55:12.820Z"
   },
   {
    "duration": 41,
    "start_time": "2024-11-15T19:55:12.839Z"
   },
   {
    "duration": 11,
    "start_time": "2024-11-15T19:55:12.881Z"
   },
   {
    "duration": 10,
    "start_time": "2024-11-15T19:55:12.894Z"
   },
   {
    "duration": 22,
    "start_time": "2024-11-15T19:55:12.906Z"
   },
   {
    "duration": 54,
    "start_time": "2024-11-15T19:55:12.932Z"
   },
   {
    "duration": 16,
    "start_time": "2024-11-15T19:55:12.987Z"
   },
   {
    "duration": 10,
    "start_time": "2024-11-15T19:55:13.004Z"
   },
   {
    "duration": 3,
    "start_time": "2024-11-15T19:55:13.015Z"
   },
   {
    "duration": 3,
    "start_time": "2024-11-15T19:55:13.019Z"
   },
   {
    "duration": 2,
    "start_time": "2024-11-15T19:55:13.024Z"
   },
   {
    "duration": 3,
    "start_time": "2024-11-15T19:55:13.027Z"
   },
   {
    "duration": 3,
    "start_time": "2024-11-15T19:55:13.031Z"
   },
   {
    "duration": 36,
    "start_time": "2024-11-15T19:55:13.035Z"
   },
   {
    "duration": 2,
    "start_time": "2024-11-15T19:55:13.074Z"
   },
   {
    "duration": 220,
    "start_time": "2024-11-15T20:04:09.890Z"
   },
   {
    "duration": 176,
    "start_time": "2024-11-15T20:04:16.008Z"
   },
   {
    "duration": 13,
    "start_time": "2024-11-15T20:06:42.562Z"
   },
   {
    "duration": 16,
    "start_time": "2024-11-15T20:06:50.346Z"
   },
   {
    "duration": 15,
    "start_time": "2024-11-15T20:09:54.466Z"
   },
   {
    "duration": 196,
    "start_time": "2024-11-15T20:11:37.599Z"
   },
   {
    "duration": 267,
    "start_time": "2024-11-15T20:12:00.256Z"
   },
   {
    "duration": 229,
    "start_time": "2024-11-15T20:12:17.261Z"
   },
   {
    "duration": 21,
    "start_time": "2024-11-15T21:54:45.464Z"
   },
   {
    "duration": 857,
    "start_time": "2024-11-15T21:55:18.409Z"
   },
   {
    "duration": 817,
    "start_time": "2024-11-15T21:55:30.831Z"
   },
   {
    "duration": 161,
    "start_time": "2024-11-15T21:55:31.650Z"
   },
   {
    "duration": 9,
    "start_time": "2024-11-15T21:55:31.813Z"
   },
   {
    "duration": 9,
    "start_time": "2024-11-15T21:55:31.824Z"
   },
   {
    "duration": 7,
    "start_time": "2024-11-15T21:55:31.835Z"
   },
   {
    "duration": 9,
    "start_time": "2024-11-15T21:55:31.843Z"
   },
   {
    "duration": 8,
    "start_time": "2024-11-15T21:55:31.870Z"
   },
   {
    "duration": 9,
    "start_time": "2024-11-15T21:55:31.880Z"
   },
   {
    "duration": 16,
    "start_time": "2024-11-15T21:55:31.891Z"
   },
   {
    "duration": 15,
    "start_time": "2024-11-15T21:55:31.910Z"
   },
   {
    "duration": 9,
    "start_time": "2024-11-15T21:55:31.926Z"
   },
   {
    "duration": 25,
    "start_time": "2024-11-15T21:55:31.970Z"
   },
   {
    "duration": 25,
    "start_time": "2024-11-15T21:55:31.997Z"
   },
   {
    "duration": 11,
    "start_time": "2024-11-15T21:55:32.023Z"
   },
   {
    "duration": 6,
    "start_time": "2024-11-15T21:55:32.036Z"
   },
   {
    "duration": 16,
    "start_time": "2024-11-15T21:55:32.070Z"
   },
   {
    "duration": 18,
    "start_time": "2024-11-15T21:55:32.088Z"
   },
   {
    "duration": 14,
    "start_time": "2024-11-15T21:55:32.107Z"
   },
   {
    "duration": 7,
    "start_time": "2024-11-15T21:55:32.122Z"
   },
   {
    "duration": 50,
    "start_time": "2024-11-15T21:55:32.131Z"
   },
   {
    "duration": 22,
    "start_time": "2024-11-15T21:55:32.183Z"
   },
   {
    "duration": 3,
    "start_time": "2024-11-15T21:55:32.207Z"
   },
   {
    "duration": 19,
    "start_time": "2024-11-15T21:55:32.211Z"
   },
   {
    "duration": 43,
    "start_time": "2024-11-15T21:55:32.231Z"
   },
   {
    "duration": 12,
    "start_time": "2024-11-15T21:55:32.275Z"
   },
   {
    "duration": 9,
    "start_time": "2024-11-15T21:55:32.288Z"
   },
   {
    "duration": 21,
    "start_time": "2024-11-15T21:55:32.299Z"
   },
   {
    "duration": 53,
    "start_time": "2024-11-15T21:55:32.325Z"
   },
   {
    "duration": 16,
    "start_time": "2024-11-15T21:55:32.380Z"
   },
   {
    "duration": 377,
    "start_time": "2024-11-15T21:55:32.398Z"
   },
   {
    "duration": 3,
    "start_time": "2024-11-15T21:55:32.777Z"
   },
   {
    "duration": 3,
    "start_time": "2024-11-15T21:55:32.781Z"
   },
   {
    "duration": 3,
    "start_time": "2024-11-15T21:55:32.786Z"
   },
   {
    "duration": 3,
    "start_time": "2024-11-15T21:55:32.790Z"
   },
   {
    "duration": 3,
    "start_time": "2024-11-15T21:55:32.794Z"
   },
   {
    "duration": 3,
    "start_time": "2024-11-15T21:55:32.798Z"
   },
   {
    "duration": 2,
    "start_time": "2024-11-15T21:55:32.802Z"
   },
   {
    "duration": 7,
    "start_time": "2024-11-15T22:22:00.841Z"
   },
   {
    "duration": 865,
    "start_time": "2024-11-15T22:22:08.595Z"
   },
   {
    "duration": 316,
    "start_time": "2024-11-15T22:22:16.534Z"
   },
   {
    "duration": 293,
    "start_time": "2024-11-15T22:30:59.656Z"
   },
   {
    "duration": 313,
    "start_time": "2024-11-15T22:31:52.125Z"
   },
   {
    "duration": 33,
    "start_time": "2024-11-15T22:32:27.309Z"
   },
   {
    "duration": 30,
    "start_time": "2024-11-15T22:32:32.268Z"
   },
   {
    "duration": 30,
    "start_time": "2024-11-15T22:32:44.743Z"
   },
   {
    "duration": 287,
    "start_time": "2024-11-15T22:32:50.004Z"
   },
   {
    "duration": 302,
    "start_time": "2024-11-15T22:33:12.452Z"
   },
   {
    "duration": 9,
    "start_time": "2024-11-15T22:34:53.192Z"
   },
   {
    "duration": 105,
    "start_time": "2024-11-15T22:35:38.826Z"
   },
   {
    "duration": 113,
    "start_time": "2024-11-15T22:36:04.503Z"
   },
   {
    "duration": 288,
    "start_time": "2024-11-15T22:37:14.390Z"
   },
   {
    "duration": 710,
    "start_time": "2024-11-15T22:42:20.823Z"
   },
   {
    "duration": 91,
    "start_time": "2024-11-15T22:42:40.435Z"
   },
   {
    "duration": 93,
    "start_time": "2024-11-15T22:42:44.286Z"
   },
   {
    "duration": 14,
    "start_time": "2024-11-15T22:42:55.865Z"
   },
   {
    "duration": 14,
    "start_time": "2024-11-15T22:44:01.457Z"
   },
   {
    "duration": 204,
    "start_time": "2024-11-15T22:44:30.113Z"
   },
   {
    "duration": 8,
    "start_time": "2024-11-15T22:44:42.727Z"
   },
   {
    "duration": 8,
    "start_time": "2024-11-15T22:45:13.518Z"
   },
   {
    "duration": 301,
    "start_time": "2024-11-15T22:47:25.072Z"
   },
   {
    "duration": 300,
    "start_time": "2024-11-15T22:50:32.177Z"
   },
   {
    "duration": 545,
    "start_time": "2024-11-15T22:54:30.688Z"
   },
   {
    "duration": 466,
    "start_time": "2024-11-15T22:54:52.295Z"
   },
   {
    "duration": 152,
    "start_time": "2024-11-15T22:56:41.652Z"
   },
   {
    "duration": 12,
    "start_time": "2024-11-15T22:59:02.411Z"
   },
   {
    "duration": 148,
    "start_time": "2024-11-15T22:59:15.615Z"
   },
   {
    "duration": 164,
    "start_time": "2024-11-15T23:04:15.252Z"
   },
   {
    "duration": 166,
    "start_time": "2024-11-15T23:06:42.421Z"
   },
   {
    "duration": 164,
    "start_time": "2024-11-15T23:08:35.650Z"
   },
   {
    "duration": 165,
    "start_time": "2024-11-15T23:08:44.932Z"
   },
   {
    "duration": 6,
    "start_time": "2024-11-15T23:09:52.195Z"
   },
   {
    "duration": 7,
    "start_time": "2024-11-15T23:10:18.281Z"
   },
   {
    "duration": 7,
    "start_time": "2024-11-15T23:10:56.174Z"
   },
   {
    "duration": 8,
    "start_time": "2024-11-15T23:11:19.347Z"
   },
   {
    "duration": 252,
    "start_time": "2024-11-15T23:14:07.588Z"
   },
   {
    "duration": 824,
    "start_time": "2024-11-15T23:37:54.225Z"
   },
   {
    "duration": 159,
    "start_time": "2024-11-15T23:37:55.051Z"
   },
   {
    "duration": 10,
    "start_time": "2024-11-15T23:37:55.212Z"
   },
   {
    "duration": 10,
    "start_time": "2024-11-15T23:37:55.224Z"
   },
   {
    "duration": 7,
    "start_time": "2024-11-15T23:37:55.235Z"
   },
   {
    "duration": 27,
    "start_time": "2024-11-15T23:37:55.244Z"
   },
   {
    "duration": 8,
    "start_time": "2024-11-15T23:37:55.272Z"
   },
   {
    "duration": 8,
    "start_time": "2024-11-15T23:37:55.282Z"
   },
   {
    "duration": 16,
    "start_time": "2024-11-15T23:37:55.292Z"
   },
   {
    "duration": 15,
    "start_time": "2024-11-15T23:37:55.312Z"
   },
   {
    "duration": 43,
    "start_time": "2024-11-15T23:37:55.328Z"
   },
   {
    "duration": 25,
    "start_time": "2024-11-15T23:37:55.373Z"
   },
   {
    "duration": 25,
    "start_time": "2024-11-15T23:37:55.400Z"
   },
   {
    "duration": 12,
    "start_time": "2024-11-15T23:37:55.426Z"
   },
   {
    "duration": 32,
    "start_time": "2024-11-15T23:37:55.439Z"
   },
   {
    "duration": 15,
    "start_time": "2024-11-15T23:37:55.473Z"
   },
   {
    "duration": 17,
    "start_time": "2024-11-15T23:37:55.490Z"
   },
   {
    "duration": 14,
    "start_time": "2024-11-15T23:37:55.509Z"
   },
   {
    "duration": 7,
    "start_time": "2024-11-15T23:37:55.524Z"
   },
   {
    "duration": 49,
    "start_time": "2024-11-15T23:37:55.533Z"
   },
   {
    "duration": 21,
    "start_time": "2024-11-15T23:37:55.584Z"
   },
   {
    "duration": 4,
    "start_time": "2024-11-15T23:37:55.607Z"
   },
   {
    "duration": 17,
    "start_time": "2024-11-15T23:37:55.612Z"
   },
   {
    "duration": 44,
    "start_time": "2024-11-15T23:37:55.631Z"
   },
   {
    "duration": 12,
    "start_time": "2024-11-15T23:37:55.676Z"
   },
   {
    "duration": 10,
    "start_time": "2024-11-15T23:37:55.689Z"
   },
   {
    "duration": 22,
    "start_time": "2024-11-15T23:37:55.700Z"
   },
   {
    "duration": 48,
    "start_time": "2024-11-15T23:37:55.726Z"
   },
   {
    "duration": 17,
    "start_time": "2024-11-15T23:37:55.775Z"
   },
   {
    "duration": 198,
    "start_time": "2024-11-15T23:37:55.794Z"
   },
   {
    "duration": 277,
    "start_time": "2024-11-15T23:37:55.994Z"
   },
   {
    "duration": 0,
    "start_time": "2024-11-15T23:37:56.273Z"
   },
   {
    "duration": 0,
    "start_time": "2024-11-15T23:37:56.275Z"
   },
   {
    "duration": 0,
    "start_time": "2024-11-15T23:37:56.276Z"
   },
   {
    "duration": 0,
    "start_time": "2024-11-15T23:37:56.278Z"
   },
   {
    "duration": 0,
    "start_time": "2024-11-15T23:37:56.279Z"
   },
   {
    "duration": 0,
    "start_time": "2024-11-15T23:37:56.281Z"
   },
   {
    "duration": 11,
    "start_time": "2024-11-15T23:38:13.040Z"
   },
   {
    "duration": 255,
    "start_time": "2024-11-15T23:39:11.104Z"
   },
   {
    "duration": 242,
    "start_time": "2024-11-15T23:39:27.990Z"
   },
   {
    "duration": 240,
    "start_time": "2024-11-15T23:40:21.815Z"
   },
   {
    "duration": 168,
    "start_time": "2024-11-15T23:40:37.345Z"
   },
   {
    "duration": 171,
    "start_time": "2024-11-15T23:40:57.238Z"
   },
   {
    "duration": 234,
    "start_time": "2024-11-15T23:42:10.930Z"
   },
   {
    "duration": 473,
    "start_time": "2024-11-15T23:42:45.917Z"
   },
   {
    "duration": 179,
    "start_time": "2024-11-15T23:43:07.045Z"
   },
   {
    "duration": 163,
    "start_time": "2024-11-15T23:43:15.554Z"
   },
   {
    "duration": 191,
    "start_time": "2024-11-15T23:43:25.566Z"
   },
   {
    "duration": 176,
    "start_time": "2024-11-15T23:43:31.875Z"
   },
   {
    "duration": 193,
    "start_time": "2024-11-15T23:43:40.851Z"
   },
   {
    "duration": 206,
    "start_time": "2024-11-15T23:44:21.844Z"
   },
   {
    "duration": 199,
    "start_time": "2024-11-15T23:44:34.537Z"
   },
   {
    "duration": 191,
    "start_time": "2024-11-15T23:45:08.337Z"
   },
   {
    "duration": 787,
    "start_time": "2024-11-15T23:45:10.566Z"
   },
   {
    "duration": 160,
    "start_time": "2024-11-15T23:45:11.355Z"
   },
   {
    "duration": 9,
    "start_time": "2024-11-15T23:45:11.517Z"
   },
   {
    "duration": 9,
    "start_time": "2024-11-15T23:45:11.529Z"
   },
   {
    "duration": 7,
    "start_time": "2024-11-15T23:45:11.540Z"
   },
   {
    "duration": 26,
    "start_time": "2024-11-15T23:45:11.549Z"
   },
   {
    "duration": 9,
    "start_time": "2024-11-15T23:45:11.576Z"
   },
   {
    "duration": 8,
    "start_time": "2024-11-15T23:45:11.587Z"
   },
   {
    "duration": 16,
    "start_time": "2024-11-15T23:45:11.597Z"
   },
   {
    "duration": 14,
    "start_time": "2024-11-15T23:45:11.617Z"
   },
   {
    "duration": 42,
    "start_time": "2024-11-15T23:45:11.632Z"
   },
   {
    "duration": 25,
    "start_time": "2024-11-15T23:45:11.676Z"
   },
   {
    "duration": 27,
    "start_time": "2024-11-15T23:45:11.703Z"
   },
   {
    "duration": 12,
    "start_time": "2024-11-15T23:45:11.732Z"
   },
   {
    "duration": 6,
    "start_time": "2024-11-15T23:45:11.769Z"
   },
   {
    "duration": 16,
    "start_time": "2024-11-15T23:45:11.777Z"
   },
   {
    "duration": 17,
    "start_time": "2024-11-15T23:45:11.794Z"
   },
   {
    "duration": 13,
    "start_time": "2024-11-15T23:45:11.813Z"
   },
   {
    "duration": 7,
    "start_time": "2024-11-15T23:45:11.827Z"
   },
   {
    "duration": 49,
    "start_time": "2024-11-15T23:45:11.835Z"
   },
   {
    "duration": 22,
    "start_time": "2024-11-15T23:45:11.885Z"
   },
   {
    "duration": 3,
    "start_time": "2024-11-15T23:45:11.908Z"
   },
   {
    "duration": 17,
    "start_time": "2024-11-15T23:45:11.913Z"
   },
   {
    "duration": 43,
    "start_time": "2024-11-15T23:45:11.932Z"
   },
   {
    "duration": 12,
    "start_time": "2024-11-15T23:45:11.977Z"
   },
   {
    "duration": 10,
    "start_time": "2024-11-15T23:45:11.991Z"
   },
   {
    "duration": 21,
    "start_time": "2024-11-15T23:45:12.003Z"
   },
   {
    "duration": 52,
    "start_time": "2024-11-15T23:45:12.028Z"
   },
   {
    "duration": 16,
    "start_time": "2024-11-15T23:45:12.081Z"
   },
   {
    "duration": 201,
    "start_time": "2024-11-15T23:45:12.099Z"
   },
   {
    "duration": 214,
    "start_time": "2024-11-15T23:45:12.302Z"
   },
   {
    "duration": 2,
    "start_time": "2024-11-15T23:45:12.518Z"
   },
   {
    "duration": 2,
    "start_time": "2024-11-15T23:45:12.522Z"
   },
   {
    "duration": 3,
    "start_time": "2024-11-15T23:45:12.526Z"
   },
   {
    "duration": 3,
    "start_time": "2024-11-15T23:45:12.530Z"
   },
   {
    "duration": 2,
    "start_time": "2024-11-15T23:45:12.534Z"
   },
   {
    "duration": 33,
    "start_time": "2024-11-15T23:45:12.538Z"
   },
   {
    "duration": 243,
    "start_time": "2024-11-15T23:46:42.889Z"
   },
   {
    "duration": 197,
    "start_time": "2024-11-15T23:49:54.559Z"
   },
   {
    "duration": 740,
    "start_time": "2024-11-15T23:50:49.667Z"
   },
   {
    "duration": 189,
    "start_time": "2024-11-15T23:50:59.222Z"
   },
   {
    "duration": 201,
    "start_time": "2024-11-15T23:51:03.534Z"
   },
   {
    "duration": 264,
    "start_time": "2024-11-15T23:51:08.617Z"
   },
   {
    "duration": 205,
    "start_time": "2024-11-15T23:51:27.852Z"
   },
   {
    "duration": 205,
    "start_time": "2024-11-15T23:52:26.407Z"
   },
   {
    "duration": 199,
    "start_time": "2024-11-15T23:52:49.926Z"
   },
   {
    "duration": 201,
    "start_time": "2024-11-15T23:53:21.744Z"
   },
   {
    "duration": 356,
    "start_time": "2024-11-15T23:57:13.460Z"
   },
   {
    "duration": 0,
    "start_time": "2024-11-15T23:58:29.789Z"
   },
   {
    "duration": 201,
    "start_time": "2024-11-15T23:58:39.279Z"
   },
   {
    "duration": 485,
    "start_time": "2024-11-15T23:59:15.204Z"
   },
   {
    "duration": 848,
    "start_time": "2024-11-16T00:06:44.604Z"
   },
   {
    "duration": 161,
    "start_time": "2024-11-16T00:06:45.454Z"
   },
   {
    "duration": 10,
    "start_time": "2024-11-16T00:06:45.616Z"
   },
   {
    "duration": 9,
    "start_time": "2024-11-16T00:06:45.628Z"
   },
   {
    "duration": 9,
    "start_time": "2024-11-16T00:06:45.638Z"
   },
   {
    "duration": 23,
    "start_time": "2024-11-16T00:06:45.648Z"
   },
   {
    "duration": 8,
    "start_time": "2024-11-16T00:06:45.673Z"
   },
   {
    "duration": 9,
    "start_time": "2024-11-16T00:06:45.683Z"
   },
   {
    "duration": 21,
    "start_time": "2024-11-16T00:06:45.694Z"
   },
   {
    "duration": 16,
    "start_time": "2024-11-16T00:06:45.719Z"
   },
   {
    "duration": 42,
    "start_time": "2024-11-16T00:06:45.737Z"
   },
   {
    "duration": 25,
    "start_time": "2024-11-16T00:06:45.781Z"
   },
   {
    "duration": 25,
    "start_time": "2024-11-16T00:06:45.808Z"
   },
   {
    "duration": 36,
    "start_time": "2024-11-16T00:06:45.835Z"
   },
   {
    "duration": 6,
    "start_time": "2024-11-16T00:06:45.873Z"
   },
   {
    "duration": 16,
    "start_time": "2024-11-16T00:06:45.881Z"
   },
   {
    "duration": 17,
    "start_time": "2024-11-16T00:06:45.899Z"
   },
   {
    "duration": 12,
    "start_time": "2024-11-16T00:06:45.918Z"
   },
   {
    "duration": 6,
    "start_time": "2024-11-16T00:06:45.932Z"
   },
   {
    "duration": 21,
    "start_time": "2024-11-16T00:06:45.970Z"
   },
   {
    "duration": 22,
    "start_time": "2024-11-16T00:06:45.993Z"
   },
   {
    "duration": 3,
    "start_time": "2024-11-16T00:06:46.017Z"
   },
   {
    "duration": 18,
    "start_time": "2024-11-16T00:06:46.022Z"
   },
   {
    "duration": 38,
    "start_time": "2024-11-16T00:06:46.043Z"
   },
   {
    "duration": 12,
    "start_time": "2024-11-16T00:06:46.083Z"
   },
   {
    "duration": 9,
    "start_time": "2024-11-16T00:06:46.097Z"
   },
   {
    "duration": 21,
    "start_time": "2024-11-16T00:06:46.108Z"
   },
   {
    "duration": 51,
    "start_time": "2024-11-16T00:06:46.133Z"
   },
   {
    "duration": 17,
    "start_time": "2024-11-16T00:06:46.186Z"
   },
   {
    "duration": 221,
    "start_time": "2024-11-16T00:06:46.204Z"
   },
   {
    "duration": 334,
    "start_time": "2024-11-16T00:06:46.427Z"
   },
   {
    "duration": 3,
    "start_time": "2024-11-16T00:06:46.770Z"
   },
   {
    "duration": 5,
    "start_time": "2024-11-16T00:06:46.775Z"
   },
   {
    "duration": 5,
    "start_time": "2024-11-16T00:06:46.782Z"
   },
   {
    "duration": 2,
    "start_time": "2024-11-16T00:06:46.790Z"
   },
   {
    "duration": 3,
    "start_time": "2024-11-16T00:06:46.794Z"
   },
   {
    "duration": 3,
    "start_time": "2024-11-16T00:06:46.799Z"
   },
   {
    "duration": 832,
    "start_time": "2024-11-16T00:08:11.709Z"
   },
   {
    "duration": 158,
    "start_time": "2024-11-16T00:08:12.543Z"
   },
   {
    "duration": 9,
    "start_time": "2024-11-16T00:08:12.703Z"
   },
   {
    "duration": 9,
    "start_time": "2024-11-16T00:08:12.714Z"
   },
   {
    "duration": 7,
    "start_time": "2024-11-16T00:08:12.725Z"
   },
   {
    "duration": 8,
    "start_time": "2024-11-16T00:08:12.733Z"
   },
   {
    "duration": 33,
    "start_time": "2024-11-16T00:08:12.742Z"
   },
   {
    "duration": 7,
    "start_time": "2024-11-16T00:08:12.777Z"
   },
   {
    "duration": 16,
    "start_time": "2024-11-16T00:08:12.786Z"
   },
   {
    "duration": 14,
    "start_time": "2024-11-16T00:08:12.806Z"
   },
   {
    "duration": 9,
    "start_time": "2024-11-16T00:08:12.822Z"
   },
   {
    "duration": 57,
    "start_time": "2024-11-16T00:08:12.833Z"
   },
   {
    "duration": 25,
    "start_time": "2024-11-16T00:08:12.891Z"
   },
   {
    "duration": 11,
    "start_time": "2024-11-16T00:08:12.918Z"
   },
   {
    "duration": 5,
    "start_time": "2024-11-16T00:08:12.931Z"
   },
   {
    "duration": 48,
    "start_time": "2024-11-16T00:08:12.938Z"
   },
   {
    "duration": 18,
    "start_time": "2024-11-16T00:08:12.987Z"
   },
   {
    "duration": 13,
    "start_time": "2024-11-16T00:08:13.007Z"
   },
   {
    "duration": 7,
    "start_time": "2024-11-16T00:08:13.021Z"
   },
   {
    "duration": 49,
    "start_time": "2024-11-16T00:08:13.029Z"
   },
   {
    "duration": 22,
    "start_time": "2024-11-16T00:08:13.079Z"
   },
   {
    "duration": 3,
    "start_time": "2024-11-16T00:08:13.102Z"
   },
   {
    "duration": 17,
    "start_time": "2024-11-16T00:08:13.107Z"
   },
   {
    "duration": 13,
    "start_time": "2024-11-16T00:08:13.125Z"
   },
   {
    "duration": 39,
    "start_time": "2024-11-16T00:08:13.140Z"
   },
   {
    "duration": 10,
    "start_time": "2024-11-16T00:08:13.181Z"
   },
   {
    "duration": 22,
    "start_time": "2024-11-16T00:08:13.192Z"
   },
   {
    "duration": 23,
    "start_time": "2024-11-16T00:08:13.218Z"
   },
   {
    "duration": 41,
    "start_time": "2024-11-16T00:08:13.242Z"
   },
   {
    "duration": 194,
    "start_time": "2024-11-16T00:08:13.284Z"
   },
   {
    "duration": 267,
    "start_time": "2024-11-16T00:08:13.481Z"
   },
   {
    "duration": 2,
    "start_time": "2024-11-16T00:08:13.750Z"
   },
   {
    "duration": 17,
    "start_time": "2024-11-16T00:08:13.753Z"
   },
   {
    "duration": 2,
    "start_time": "2024-11-16T00:08:13.772Z"
   },
   {
    "duration": 2,
    "start_time": "2024-11-16T00:08:13.776Z"
   },
   {
    "duration": 2,
    "start_time": "2024-11-16T00:08:13.780Z"
   },
   {
    "duration": 2,
    "start_time": "2024-11-16T00:08:13.784Z"
   },
   {
    "duration": 798,
    "start_time": "2024-11-16T00:08:19.546Z"
   },
   {
    "duration": 166,
    "start_time": "2024-11-16T00:08:20.346Z"
   },
   {
    "duration": 9,
    "start_time": "2024-11-16T00:08:20.513Z"
   },
   {
    "duration": 10,
    "start_time": "2024-11-16T00:08:20.524Z"
   },
   {
    "duration": 7,
    "start_time": "2024-11-16T00:08:20.536Z"
   },
   {
    "duration": 24,
    "start_time": "2024-11-16T00:08:20.545Z"
   },
   {
    "duration": 8,
    "start_time": "2024-11-16T00:08:20.571Z"
   },
   {
    "duration": 8,
    "start_time": "2024-11-16T00:08:20.581Z"
   },
   {
    "duration": 16,
    "start_time": "2024-11-16T00:08:20.591Z"
   },
   {
    "duration": 14,
    "start_time": "2024-11-16T00:08:20.609Z"
   },
   {
    "duration": 10,
    "start_time": "2024-11-16T00:08:20.624Z"
   },
   {
    "duration": 61,
    "start_time": "2024-11-16T00:08:20.635Z"
   },
   {
    "duration": 26,
    "start_time": "2024-11-16T00:08:20.698Z"
   },
   {
    "duration": 13,
    "start_time": "2024-11-16T00:08:20.727Z"
   },
   {
    "duration": 29,
    "start_time": "2024-11-16T00:08:20.742Z"
   },
   {
    "duration": 17,
    "start_time": "2024-11-16T00:08:20.773Z"
   },
   {
    "duration": 19,
    "start_time": "2024-11-16T00:08:20.791Z"
   },
   {
    "duration": 14,
    "start_time": "2024-11-16T00:08:20.811Z"
   },
   {
    "duration": 7,
    "start_time": "2024-11-16T00:08:20.826Z"
   },
   {
    "duration": 49,
    "start_time": "2024-11-16T00:08:20.835Z"
   },
   {
    "duration": 22,
    "start_time": "2024-11-16T00:08:20.886Z"
   },
   {
    "duration": 3,
    "start_time": "2024-11-16T00:08:20.910Z"
   },
   {
    "duration": 17,
    "start_time": "2024-11-16T00:08:20.915Z"
   },
   {
    "duration": 41,
    "start_time": "2024-11-16T00:08:20.934Z"
   },
   {
    "duration": 11,
    "start_time": "2024-11-16T00:08:20.977Z"
   },
   {
    "duration": 9,
    "start_time": "2024-11-16T00:08:20.990Z"
   },
   {
    "duration": 21,
    "start_time": "2024-11-16T00:08:21.001Z"
   },
   {
    "duration": 52,
    "start_time": "2024-11-16T00:08:21.024Z"
   },
   {
    "duration": 16,
    "start_time": "2024-11-16T00:08:21.078Z"
   },
   {
    "duration": 209,
    "start_time": "2024-11-16T00:08:21.096Z"
   },
   {
    "duration": 291,
    "start_time": "2024-11-16T00:08:21.307Z"
   },
   {
    "duration": 5,
    "start_time": "2024-11-16T00:08:21.600Z"
   },
   {
    "duration": 3,
    "start_time": "2024-11-16T00:08:21.607Z"
   },
   {
    "duration": 3,
    "start_time": "2024-11-16T00:08:21.612Z"
   },
   {
    "duration": 2,
    "start_time": "2024-11-16T00:08:21.617Z"
   },
   {
    "duration": 2,
    "start_time": "2024-11-16T00:08:21.622Z"
   },
   {
    "duration": 2,
    "start_time": "2024-11-16T00:08:21.627Z"
   },
   {
    "duration": 301,
    "start_time": "2024-11-16T00:08:51.848Z"
   },
   {
    "duration": 255,
    "start_time": "2024-11-16T00:09:17.588Z"
   },
   {
    "duration": 887,
    "start_time": "2024-11-16T00:10:24.601Z"
   },
   {
    "duration": 166,
    "start_time": "2024-11-16T00:10:25.490Z"
   },
   {
    "duration": 12,
    "start_time": "2024-11-16T00:10:25.658Z"
   },
   {
    "duration": 9,
    "start_time": "2024-11-16T00:10:25.673Z"
   },
   {
    "duration": 8,
    "start_time": "2024-11-16T00:10:25.684Z"
   },
   {
    "duration": 8,
    "start_time": "2024-11-16T00:10:25.693Z"
   },
   {
    "duration": 9,
    "start_time": "2024-11-16T00:10:25.703Z"
   },
   {
    "duration": 10,
    "start_time": "2024-11-16T00:10:25.713Z"
   },
   {
    "duration": 50,
    "start_time": "2024-11-16T00:10:25.724Z"
   },
   {
    "duration": 18,
    "start_time": "2024-11-16T00:10:25.777Z"
   },
   {
    "duration": 12,
    "start_time": "2024-11-16T00:10:25.798Z"
   },
   {
    "duration": 30,
    "start_time": "2024-11-16T00:10:25.811Z"
   },
   {
    "duration": 28,
    "start_time": "2024-11-16T00:10:25.870Z"
   },
   {
    "duration": 15,
    "start_time": "2024-11-16T00:10:25.899Z"
   },
   {
    "duration": 7,
    "start_time": "2024-11-16T00:10:25.916Z"
   },
   {
    "duration": 47,
    "start_time": "2024-11-16T00:10:25.925Z"
   },
   {
    "duration": 18,
    "start_time": "2024-11-16T00:10:25.975Z"
   },
   {
    "duration": 13,
    "start_time": "2024-11-16T00:10:25.995Z"
   },
   {
    "duration": 10,
    "start_time": "2024-11-16T00:10:26.011Z"
   },
   {
    "duration": 21,
    "start_time": "2024-11-16T00:10:26.024Z"
   },
   {
    "duration": 26,
    "start_time": "2024-11-16T00:10:26.069Z"
   },
   {
    "duration": 3,
    "start_time": "2024-11-16T00:10:26.097Z"
   },
   {
    "duration": 23,
    "start_time": "2024-11-16T00:10:26.102Z"
   },
   {
    "duration": 17,
    "start_time": "2024-11-16T00:10:26.127Z"
   },
   {
    "duration": 17,
    "start_time": "2024-11-16T00:10:26.171Z"
   },
   {
    "duration": 11,
    "start_time": "2024-11-16T00:10:26.189Z"
   },
   {
    "duration": 28,
    "start_time": "2024-11-16T00:10:26.203Z"
   },
   {
    "duration": 51,
    "start_time": "2024-11-16T00:10:26.236Z"
   },
   {
    "duration": 16,
    "start_time": "2024-11-16T00:10:26.289Z"
   },
   {
    "duration": 215,
    "start_time": "2024-11-16T00:10:26.307Z"
   },
   {
    "duration": 326,
    "start_time": "2024-11-16T00:10:26.524Z"
   },
   {
    "duration": 2,
    "start_time": "2024-11-16T00:10:26.852Z"
   },
   {
    "duration": 15,
    "start_time": "2024-11-16T00:10:26.856Z"
   },
   {
    "duration": 3,
    "start_time": "2024-11-16T00:10:26.873Z"
   },
   {
    "duration": 2,
    "start_time": "2024-11-16T00:10:26.878Z"
   },
   {
    "duration": 2,
    "start_time": "2024-11-16T00:10:26.882Z"
   },
   {
    "duration": 2,
    "start_time": "2024-11-16T00:10:26.885Z"
   },
   {
    "duration": 311,
    "start_time": "2024-11-16T00:11:10.273Z"
   },
   {
    "duration": 266,
    "start_time": "2024-11-16T00:11:38.272Z"
   },
   {
    "duration": 163,
    "start_time": "2024-11-16T00:12:11.381Z"
   },
   {
    "duration": 9,
    "start_time": "2024-11-16T00:13:52.201Z"
   },
   {
    "duration": 10,
    "start_time": "2024-11-16T00:17:21.236Z"
   },
   {
    "duration": 282,
    "start_time": "2024-11-16T00:19:08.676Z"
   },
   {
    "duration": 304,
    "start_time": "2024-11-16T00:19:28.434Z"
   },
   {
    "duration": 290,
    "start_time": "2024-11-16T00:19:31.661Z"
   },
   {
    "duration": 285,
    "start_time": "2024-11-16T00:19:54.474Z"
   },
   {
    "duration": 9,
    "start_time": "2024-11-16T00:21:03.846Z"
   },
   {
    "duration": 2492,
    "start_time": "2024-11-17T22:08:37.408Z"
   },
   {
    "duration": 212,
    "start_time": "2024-11-17T22:08:39.902Z"
   },
   {
    "duration": 9,
    "start_time": "2024-11-17T22:08:40.116Z"
   },
   {
    "duration": 9,
    "start_time": "2024-11-17T22:08:40.128Z"
   },
   {
    "duration": 7,
    "start_time": "2024-11-17T22:08:40.138Z"
   },
   {
    "duration": 7,
    "start_time": "2024-11-17T22:08:40.148Z"
   },
   {
    "duration": 8,
    "start_time": "2024-11-17T22:08:40.157Z"
   },
   {
    "duration": 8,
    "start_time": "2024-11-17T22:08:40.168Z"
   },
   {
    "duration": 48,
    "start_time": "2024-11-17T22:08:40.177Z"
   },
   {
    "duration": 14,
    "start_time": "2024-11-17T22:08:40.229Z"
   },
   {
    "duration": 10,
    "start_time": "2024-11-17T22:08:40.244Z"
   },
   {
    "duration": 25,
    "start_time": "2024-11-17T22:08:40.256Z"
   },
   {
    "duration": 24,
    "start_time": "2024-11-17T22:08:40.308Z"
   },
   {
    "duration": 12,
    "start_time": "2024-11-17T22:08:40.334Z"
   },
   {
    "duration": 6,
    "start_time": "2024-11-17T22:08:40.347Z"
   },
   {
    "duration": 17,
    "start_time": "2024-11-17T22:08:40.355Z"
   },
   {
    "duration": 50,
    "start_time": "2024-11-17T22:08:40.373Z"
   },
   {
    "duration": 13,
    "start_time": "2024-11-17T22:08:40.425Z"
   },
   {
    "duration": 6,
    "start_time": "2024-11-17T22:08:40.439Z"
   },
   {
    "duration": 20,
    "start_time": "2024-11-17T22:08:40.447Z"
   },
   {
    "duration": 45,
    "start_time": "2024-11-17T22:08:40.469Z"
   },
   {
    "duration": 2,
    "start_time": "2024-11-17T22:08:40.517Z"
   },
   {
    "duration": 18,
    "start_time": "2024-11-17T22:08:40.520Z"
   },
   {
    "duration": 13,
    "start_time": "2024-11-17T22:08:40.539Z"
   },
   {
    "duration": 11,
    "start_time": "2024-11-17T22:08:40.554Z"
   },
   {
    "duration": 12,
    "start_time": "2024-11-17T22:08:40.568Z"
   },
   {
    "duration": 22,
    "start_time": "2024-11-17T22:08:40.608Z"
   },
   {
    "duration": 25,
    "start_time": "2024-11-17T22:08:40.634Z"
   },
   {
    "duration": 18,
    "start_time": "2024-11-17T22:08:40.660Z"
   },
   {
    "duration": 209,
    "start_time": "2024-11-17T22:08:40.679Z"
   },
   {
    "duration": 173,
    "start_time": "2024-11-17T22:08:40.889Z"
   },
   {
    "duration": 9,
    "start_time": "2024-11-17T22:08:41.064Z"
   },
   {
    "duration": 479,
    "start_time": "2024-11-17T22:08:41.074Z"
   },
   {
    "duration": 8,
    "start_time": "2024-11-17T22:08:41.555Z"
   },
   {
    "duration": 3,
    "start_time": "2024-11-17T22:08:41.565Z"
   },
   {
    "duration": 2,
    "start_time": "2024-11-17T22:08:41.570Z"
   },
   {
    "duration": 3,
    "start_time": "2024-11-17T22:08:41.573Z"
   },
   {
    "duration": 168,
    "start_time": "2024-11-18T13:23:05.871Z"
   },
   {
    "duration": 2527,
    "start_time": "2024-11-18T13:23:12.859Z"
   },
   {
    "duration": 210,
    "start_time": "2024-11-18T13:23:15.389Z"
   },
   {
    "duration": 10,
    "start_time": "2024-11-18T13:23:15.600Z"
   },
   {
    "duration": 9,
    "start_time": "2024-11-18T13:23:15.613Z"
   },
   {
    "duration": 8,
    "start_time": "2024-11-18T13:23:15.623Z"
   },
   {
    "duration": 8,
    "start_time": "2024-11-18T13:23:15.632Z"
   },
   {
    "duration": 8,
    "start_time": "2024-11-18T13:23:15.641Z"
   },
   {
    "duration": 8,
    "start_time": "2024-11-18T13:23:15.650Z"
   },
   {
    "duration": 15,
    "start_time": "2024-11-18T13:23:15.660Z"
   },
   {
    "duration": 14,
    "start_time": "2024-11-18T13:23:15.709Z"
   },
   {
    "duration": 9,
    "start_time": "2024-11-18T13:23:15.724Z"
   },
   {
    "duration": 24,
    "start_time": "2024-11-18T13:23:15.735Z"
   },
   {
    "duration": 48,
    "start_time": "2024-11-18T13:23:15.761Z"
   },
   {
    "duration": 12,
    "start_time": "2024-11-18T13:23:15.811Z"
   },
   {
    "duration": 6,
    "start_time": "2024-11-18T13:23:15.824Z"
   },
   {
    "duration": 16,
    "start_time": "2024-11-18T13:23:15.831Z"
   },
   {
    "duration": 19,
    "start_time": "2024-11-18T13:23:15.849Z"
   },
   {
    "duration": 42,
    "start_time": "2024-11-18T13:23:15.869Z"
   },
   {
    "duration": 6,
    "start_time": "2024-11-18T13:23:15.912Z"
   },
   {
    "duration": 20,
    "start_time": "2024-11-18T13:23:15.920Z"
   },
   {
    "duration": 21,
    "start_time": "2024-11-18T13:23:15.942Z"
   },
   {
    "duration": 6,
    "start_time": "2024-11-18T13:23:15.965Z"
   },
   {
    "duration": 42,
    "start_time": "2024-11-18T13:23:15.972Z"
   },
   {
    "duration": 12,
    "start_time": "2024-11-18T13:23:16.015Z"
   },
   {
    "duration": 11,
    "start_time": "2024-11-18T13:23:16.029Z"
   },
   {
    "duration": 9,
    "start_time": "2024-11-18T13:23:16.041Z"
   },
   {
    "duration": 22,
    "start_time": "2024-11-18T13:23:16.052Z"
   },
   {
    "duration": 23,
    "start_time": "2024-11-18T13:23:16.110Z"
   },
   {
    "duration": 17,
    "start_time": "2024-11-18T13:23:16.134Z"
   },
   {
    "duration": 216,
    "start_time": "2024-11-18T13:23:16.153Z"
   },
   {
    "duration": 167,
    "start_time": "2024-11-18T13:23:16.371Z"
   },
   {
    "duration": 9,
    "start_time": "2024-11-18T13:23:16.540Z"
   },
   {
    "duration": 436,
    "start_time": "2024-11-18T13:23:16.550Z"
   },
   {
    "duration": 9,
    "start_time": "2024-11-18T13:23:16.988Z"
   },
   {
    "duration": 11,
    "start_time": "2024-11-18T13:23:16.998Z"
   },
   {
    "duration": 2,
    "start_time": "2024-11-18T13:23:17.012Z"
   },
   {
    "duration": 3,
    "start_time": "2024-11-18T13:23:17.015Z"
   },
   {
    "duration": 421,
    "start_time": "2024-11-18T13:24:20.515Z"
   },
   {
    "duration": 369,
    "start_time": "2024-11-18T13:24:37.725Z"
   },
   {
    "duration": 309,
    "start_time": "2024-11-18T13:24:52.058Z"
   },
   {
    "duration": 243,
    "start_time": "2024-11-18T13:25:14.689Z"
   },
   {
    "duration": 296,
    "start_time": "2024-11-18T13:26:23.582Z"
   },
   {
    "duration": 317,
    "start_time": "2024-11-18T13:26:39.450Z"
   },
   {
    "duration": 288,
    "start_time": "2024-11-18T13:27:07.797Z"
   },
   {
    "duration": 289,
    "start_time": "2024-11-18T13:28:43.665Z"
   },
   {
    "duration": 8,
    "start_time": "2024-11-18T13:31:28.843Z"
   },
   {
    "duration": 219,
    "start_time": "2024-11-18T13:31:36.294Z"
   },
   {
    "duration": 9,
    "start_time": "2024-11-18T13:31:51.344Z"
   },
   {
    "duration": 7,
    "start_time": "2024-11-18T13:32:31.954Z"
   },
   {
    "duration": 8,
    "start_time": "2024-11-18T13:32:34.011Z"
   },
   {
    "duration": 175,
    "start_time": "2024-11-18T14:41:47.767Z"
   },
   {
    "duration": 156,
    "start_time": "2024-11-18T14:41:59.986Z"
   },
   {
    "duration": 142,
    "start_time": "2024-11-18T14:44:45.259Z"
   },
   {
    "duration": 108,
    "start_time": "2024-11-18T14:46:46.932Z"
   },
   {
    "duration": 136,
    "start_time": "2024-11-18T14:46:53.883Z"
   },
   {
    "duration": 174,
    "start_time": "2024-11-18T14:47:10.924Z"
   },
   {
    "duration": 326,
    "start_time": "2024-11-18T14:47:35.155Z"
   },
   {
    "duration": 117,
    "start_time": "2024-11-18T14:48:33.068Z"
   },
   {
    "duration": 204,
    "start_time": "2024-11-18T14:48:43.947Z"
   },
   {
    "duration": 222,
    "start_time": "2024-11-18T14:48:57.206Z"
   },
   {
    "duration": 23,
    "start_time": "2024-11-18T14:54:12.069Z"
   },
   {
    "duration": 20,
    "start_time": "2024-11-18T14:54:59.271Z"
   },
   {
    "duration": 184,
    "start_time": "2024-11-18T14:58:06.570Z"
   },
   {
    "duration": 94,
    "start_time": "2024-11-18T15:02:03.544Z"
   },
   {
    "duration": 83,
    "start_time": "2024-11-18T15:02:32.650Z"
   },
   {
    "duration": 95,
    "start_time": "2024-11-18T15:02:45.987Z"
   },
   {
    "duration": 415,
    "start_time": "2024-11-18T15:03:09.811Z"
   },
   {
    "duration": 98,
    "start_time": "2024-11-18T15:03:17.849Z"
   },
   {
    "duration": 83,
    "start_time": "2024-11-18T15:13:56.371Z"
   },
   {
    "duration": 87,
    "start_time": "2024-11-18T15:14:04.322Z"
   },
   {
    "duration": 74,
    "start_time": "2024-11-18T15:15:15.925Z"
   },
   {
    "duration": 174,
    "start_time": "2024-11-18T15:17:51.928Z"
   },
   {
    "duration": 176,
    "start_time": "2024-11-18T15:18:05.619Z"
   },
   {
    "duration": 382,
    "start_time": "2024-11-18T15:19:14.781Z"
   },
   {
    "duration": 286,
    "start_time": "2024-11-18T15:19:42.424Z"
   },
   {
    "duration": 198,
    "start_time": "2024-11-18T15:19:54.126Z"
   },
   {
    "duration": 87,
    "start_time": "2024-11-18T15:20:06.762Z"
   },
   {
    "duration": 13,
    "start_time": "2024-11-18T15:25:57.189Z"
   },
   {
    "duration": 17,
    "start_time": "2024-11-18T15:32:54.324Z"
   },
   {
    "duration": 10,
    "start_time": "2024-11-18T15:33:20.900Z"
   },
   {
    "duration": 9,
    "start_time": "2024-11-18T15:34:02.683Z"
   },
   {
    "duration": 214,
    "start_time": "2024-11-18T15:35:08.974Z"
   },
   {
    "duration": 1030,
    "start_time": "2024-11-18T15:35:42.552Z"
   },
   {
    "duration": 144,
    "start_time": "2024-11-18T15:35:59.012Z"
   },
   {
    "duration": 129,
    "start_time": "2024-11-18T15:37:00.302Z"
   },
   {
    "duration": 166,
    "start_time": "2024-11-18T15:37:23.488Z"
   },
   {
    "duration": 180,
    "start_time": "2024-11-18T15:38:07.121Z"
   },
   {
    "duration": 324,
    "start_time": "2024-11-18T15:38:26.985Z"
   },
   {
    "duration": 186,
    "start_time": "2024-11-18T15:38:41.083Z"
   },
   {
    "duration": 216,
    "start_time": "2024-11-18T15:39:01.038Z"
   },
   {
    "duration": 193,
    "start_time": "2024-11-18T15:39:18.017Z"
   },
   {
    "duration": 20,
    "start_time": "2024-11-18T15:43:30.039Z"
   },
   {
    "duration": 629,
    "start_time": "2024-11-18T15:45:09.695Z"
   },
   {
    "duration": 798,
    "start_time": "2024-11-18T15:45:44.500Z"
   },
   {
    "duration": 169,
    "start_time": "2024-11-18T15:45:45.301Z"
   },
   {
    "duration": 12,
    "start_time": "2024-11-18T15:45:45.473Z"
   },
   {
    "duration": 11,
    "start_time": "2024-11-18T15:45:45.487Z"
   },
   {
    "duration": 13,
    "start_time": "2024-11-18T15:45:45.500Z"
   },
   {
    "duration": 8,
    "start_time": "2024-11-18T15:45:45.515Z"
   },
   {
    "duration": 9,
    "start_time": "2024-11-18T15:45:45.525Z"
   },
   {
    "duration": 9,
    "start_time": "2024-11-18T15:45:45.536Z"
   },
   {
    "duration": 18,
    "start_time": "2024-11-18T15:45:45.546Z"
   },
   {
    "duration": 44,
    "start_time": "2024-11-18T15:45:45.570Z"
   },
   {
    "duration": 11,
    "start_time": "2024-11-18T15:45:45.615Z"
   },
   {
    "duration": 25,
    "start_time": "2024-11-18T15:45:45.628Z"
   },
   {
    "duration": 32,
    "start_time": "2024-11-18T15:45:45.654Z"
   },
   {
    "duration": 34,
    "start_time": "2024-11-18T15:45:45.687Z"
   },
   {
    "duration": 6,
    "start_time": "2024-11-18T15:45:45.723Z"
   },
   {
    "duration": 16,
    "start_time": "2024-11-18T15:45:45.731Z"
   },
   {
    "duration": 20,
    "start_time": "2024-11-18T15:45:45.749Z"
   },
   {
    "duration": 43,
    "start_time": "2024-11-18T15:45:45.771Z"
   },
   {
    "duration": 7,
    "start_time": "2024-11-18T15:45:45.816Z"
   },
   {
    "duration": 28,
    "start_time": "2024-11-18T15:45:45.825Z"
   },
   {
    "duration": 27,
    "start_time": "2024-11-18T15:45:45.855Z"
   },
   {
    "duration": 3,
    "start_time": "2024-11-18T15:45:45.883Z"
   },
   {
    "duration": 43,
    "start_time": "2024-11-18T15:45:45.887Z"
   },
   {
    "duration": 13,
    "start_time": "2024-11-18T15:45:45.931Z"
   },
   {
    "duration": 14,
    "start_time": "2024-11-18T15:45:45.946Z"
   },
   {
    "duration": 12,
    "start_time": "2024-11-18T15:45:45.961Z"
   },
   {
    "duration": 52,
    "start_time": "2024-11-18T15:45:45.976Z"
   },
   {
    "duration": 829,
    "start_time": "2024-11-18T15:45:46.033Z"
   },
   {
    "duration": 0,
    "start_time": "2024-11-18T15:45:46.864Z"
   },
   {
    "duration": 0,
    "start_time": "2024-11-18T15:45:46.865Z"
   },
   {
    "duration": 0,
    "start_time": "2024-11-18T15:45:46.866Z"
   },
   {
    "duration": 0,
    "start_time": "2024-11-18T15:45:46.868Z"
   },
   {
    "duration": 0,
    "start_time": "2024-11-18T15:45:46.869Z"
   },
   {
    "duration": 0,
    "start_time": "2024-11-18T15:45:46.870Z"
   },
   {
    "duration": 0,
    "start_time": "2024-11-18T15:45:46.871Z"
   },
   {
    "duration": 0,
    "start_time": "2024-11-18T15:45:46.872Z"
   },
   {
    "duration": 0,
    "start_time": "2024-11-18T15:45:46.873Z"
   },
   {
    "duration": 0,
    "start_time": "2024-11-18T15:45:46.874Z"
   },
   {
    "duration": 29,
    "start_time": "2024-11-18T15:46:15.876Z"
   },
   {
    "duration": 31,
    "start_time": "2024-11-18T15:47:58.432Z"
   },
   {
    "duration": 27,
    "start_time": "2024-11-18T15:48:03.436Z"
   },
   {
    "duration": 28,
    "start_time": "2024-11-18T15:48:08.861Z"
   },
   {
    "duration": 56,
    "start_time": "2024-11-18T15:49:50.271Z"
   },
   {
    "duration": 25,
    "start_time": "2024-11-18T15:50:52.743Z"
   },
   {
    "duration": 857,
    "start_time": "2024-11-18T15:51:05.072Z"
   },
   {
    "duration": 157,
    "start_time": "2024-11-18T15:51:05.932Z"
   },
   {
    "duration": 9,
    "start_time": "2024-11-18T15:51:06.091Z"
   },
   {
    "duration": 13,
    "start_time": "2024-11-18T15:51:06.102Z"
   },
   {
    "duration": 8,
    "start_time": "2024-11-18T15:51:06.118Z"
   },
   {
    "duration": 8,
    "start_time": "2024-11-18T15:51:06.127Z"
   },
   {
    "duration": 9,
    "start_time": "2024-11-18T15:51:06.137Z"
   },
   {
    "duration": 8,
    "start_time": "2024-11-18T15:51:06.147Z"
   },
   {
    "duration": 52,
    "start_time": "2024-11-18T15:51:06.157Z"
   },
   {
    "duration": 15,
    "start_time": "2024-11-18T15:51:06.210Z"
   },
   {
    "duration": 9,
    "start_time": "2024-11-18T15:51:06.227Z"
   },
   {
    "duration": 26,
    "start_time": "2024-11-18T15:51:06.237Z"
   },
   {
    "duration": 50,
    "start_time": "2024-11-18T15:51:06.265Z"
   },
   {
    "duration": 13,
    "start_time": "2024-11-18T15:51:06.319Z"
   },
   {
    "duration": 5,
    "start_time": "2024-11-18T15:51:06.334Z"
   },
   {
    "duration": 17,
    "start_time": "2024-11-18T15:51:06.341Z"
   },
   {
    "duration": 18,
    "start_time": "2024-11-18T15:51:06.360Z"
   },
   {
    "duration": 14,
    "start_time": "2024-11-18T15:51:06.409Z"
   },
   {
    "duration": 7,
    "start_time": "2024-11-18T15:51:06.424Z"
   },
   {
    "duration": 20,
    "start_time": "2024-11-18T15:51:06.432Z"
   },
   {
    "duration": 21,
    "start_time": "2024-11-18T15:51:06.453Z"
   },
   {
    "duration": 3,
    "start_time": "2024-11-18T15:51:06.476Z"
   },
   {
    "duration": 44,
    "start_time": "2024-11-18T15:51:06.480Z"
   },
   {
    "duration": 13,
    "start_time": "2024-11-18T15:51:06.526Z"
   },
   {
    "duration": 13,
    "start_time": "2024-11-18T15:51:06.542Z"
   },
   {
    "duration": 9,
    "start_time": "2024-11-18T15:51:06.557Z"
   },
   {
    "duration": 54,
    "start_time": "2024-11-18T15:51:06.569Z"
   },
   {
    "duration": 26,
    "start_time": "2024-11-18T15:51:06.624Z"
   },
   {
    "duration": 20,
    "start_time": "2024-11-18T15:51:06.652Z"
   },
   {
    "duration": 211,
    "start_time": "2024-11-18T15:51:06.673Z"
   },
   {
    "duration": 300,
    "start_time": "2024-11-18T15:51:06.886Z"
   },
   {
    "duration": 19,
    "start_time": "2024-11-18T15:51:07.195Z"
   },
   {
    "duration": 145,
    "start_time": "2024-11-18T15:51:07.217Z"
   },
   {
    "duration": 245,
    "start_time": "2024-11-18T15:51:07.363Z"
   },
   {
    "duration": 0,
    "start_time": "2024-11-18T15:51:07.611Z"
   },
   {
    "duration": 0,
    "start_time": "2024-11-18T15:51:07.612Z"
   },
   {
    "duration": 0,
    "start_time": "2024-11-18T15:51:07.613Z"
   },
   {
    "duration": 0,
    "start_time": "2024-11-18T15:51:07.614Z"
   },
   {
    "duration": 73,
    "start_time": "2024-11-18T15:51:43.905Z"
   },
   {
    "duration": 82,
    "start_time": "2024-11-18T15:51:57.993Z"
   },
   {
    "duration": 19,
    "start_time": "2024-11-18T15:52:38.519Z"
   },
   {
    "duration": 383,
    "start_time": "2024-11-18T15:52:42.657Z"
   },
   {
    "duration": 19,
    "start_time": "2024-11-18T15:53:16.216Z"
   },
   {
    "duration": 203,
    "start_time": "2024-11-18T15:53:23.547Z"
   },
   {
    "duration": 199,
    "start_time": "2024-11-18T15:54:11.517Z"
   },
   {
    "duration": 7,
    "start_time": "2024-11-18T15:55:20.738Z"
   },
   {
    "duration": 17,
    "start_time": "2024-11-18T15:55:25.439Z"
   },
   {
    "duration": 9,
    "start_time": "2024-11-18T15:55:42.270Z"
   },
   {
    "duration": 206,
    "start_time": "2024-11-18T15:55:48.423Z"
   },
   {
    "duration": 15,
    "start_time": "2024-11-18T15:55:54.745Z"
   },
   {
    "duration": 15,
    "start_time": "2024-11-18T15:56:34.279Z"
   },
   {
    "duration": 9,
    "start_time": "2024-11-18T15:56:43.572Z"
   },
   {
    "duration": 11,
    "start_time": "2024-11-18T15:57:04.148Z"
   },
   {
    "duration": 110,
    "start_time": "2024-11-18T15:57:31.479Z"
   },
   {
    "duration": 98,
    "start_time": "2024-11-18T15:57:44.369Z"
   },
   {
    "duration": 160,
    "start_time": "2024-11-18T17:40:00.322Z"
   },
   {
    "duration": 883,
    "start_time": "2024-11-18T17:40:05.569Z"
   },
   {
    "duration": 161,
    "start_time": "2024-11-18T17:40:06.456Z"
   },
   {
    "duration": 9,
    "start_time": "2024-11-18T17:40:06.619Z"
   },
   {
    "duration": 9,
    "start_time": "2024-11-18T17:40:06.630Z"
   },
   {
    "duration": 8,
    "start_time": "2024-11-18T17:40:06.640Z"
   },
   {
    "duration": 8,
    "start_time": "2024-11-18T17:40:06.650Z"
   },
   {
    "duration": 8,
    "start_time": "2024-11-18T17:40:06.660Z"
   },
   {
    "duration": 41,
    "start_time": "2024-11-18T17:40:06.669Z"
   },
   {
    "duration": 20,
    "start_time": "2024-11-18T17:40:06.712Z"
   },
   {
    "duration": 19,
    "start_time": "2024-11-18T17:40:06.735Z"
   },
   {
    "duration": 10,
    "start_time": "2024-11-18T17:40:06.756Z"
   },
   {
    "duration": 47,
    "start_time": "2024-11-18T17:40:06.768Z"
   },
   {
    "duration": 31,
    "start_time": "2024-11-18T17:40:06.816Z"
   },
   {
    "duration": 12,
    "start_time": "2024-11-18T17:40:06.849Z"
   },
   {
    "duration": 7,
    "start_time": "2024-11-18T17:40:06.863Z"
   },
   {
    "duration": 46,
    "start_time": "2024-11-18T17:40:06.872Z"
   },
   {
    "duration": 17,
    "start_time": "2024-11-18T17:40:06.920Z"
   },
   {
    "duration": 14,
    "start_time": "2024-11-18T17:40:06.939Z"
   },
   {
    "duration": 8,
    "start_time": "2024-11-18T17:40:06.955Z"
   },
   {
    "duration": 47,
    "start_time": "2024-11-18T17:40:06.964Z"
   },
   {
    "duration": 27,
    "start_time": "2024-11-18T17:40:07.013Z"
   },
   {
    "duration": 6,
    "start_time": "2024-11-18T17:40:07.041Z"
   },
   {
    "duration": 17,
    "start_time": "2024-11-18T17:40:07.048Z"
   },
   {
    "duration": 14,
    "start_time": "2024-11-18T17:40:07.067Z"
   },
   {
    "duration": 33,
    "start_time": "2024-11-18T17:40:07.083Z"
   },
   {
    "duration": 12,
    "start_time": "2024-11-18T17:40:07.117Z"
   },
   {
    "duration": 21,
    "start_time": "2024-11-18T17:40:07.130Z"
   },
   {
    "duration": 59,
    "start_time": "2024-11-18T17:40:07.155Z"
   },
   {
    "duration": 23,
    "start_time": "2024-11-18T17:40:07.219Z"
   },
   {
    "duration": 211,
    "start_time": "2024-11-18T17:40:07.245Z"
   },
   {
    "duration": 325,
    "start_time": "2024-11-18T17:40:07.458Z"
   },
   {
    "duration": 11,
    "start_time": "2024-11-18T17:40:07.785Z"
   },
   {
    "duration": 616,
    "start_time": "2024-11-18T17:40:07.798Z"
   },
   {
    "duration": 0,
    "start_time": "2024-11-18T17:40:08.416Z"
   },
   {
    "duration": 0,
    "start_time": "2024-11-18T17:40:08.418Z"
   },
   {
    "duration": 0,
    "start_time": "2024-11-18T17:40:08.419Z"
   },
   {
    "duration": 0,
    "start_time": "2024-11-18T17:40:08.420Z"
   },
   {
    "duration": 0,
    "start_time": "2024-11-18T17:40:08.420Z"
   },
   {
    "duration": 0,
    "start_time": "2024-11-18T17:40:08.421Z"
   },
   {
    "duration": 0,
    "start_time": "2024-11-18T17:40:08.422Z"
   },
   {
    "duration": 248,
    "start_time": "2024-11-18T18:17:31.830Z"
   },
   {
    "duration": 368,
    "start_time": "2024-11-18T18:17:59.689Z"
   },
   {
    "duration": 285,
    "start_time": "2024-11-18T18:18:08.589Z"
   },
   {
    "duration": 322,
    "start_time": "2024-11-18T18:19:50.054Z"
   },
   {
    "duration": 267,
    "start_time": "2024-11-18T19:21:40.265Z"
   },
   {
    "duration": 254,
    "start_time": "2024-11-18T19:21:58.519Z"
   },
   {
    "duration": 872,
    "start_time": "2024-11-18T19:22:49.742Z"
   },
   {
    "duration": 155,
    "start_time": "2024-11-18T19:22:50.616Z"
   },
   {
    "duration": 10,
    "start_time": "2024-11-18T19:22:50.773Z"
   },
   {
    "duration": 10,
    "start_time": "2024-11-18T19:22:50.785Z"
   },
   {
    "duration": 19,
    "start_time": "2024-11-18T19:22:50.796Z"
   },
   {
    "duration": 9,
    "start_time": "2024-11-18T19:22:50.816Z"
   },
   {
    "duration": 8,
    "start_time": "2024-11-18T19:22:50.827Z"
   },
   {
    "duration": 9,
    "start_time": "2024-11-18T19:22:50.838Z"
   },
   {
    "duration": 18,
    "start_time": "2024-11-18T19:22:50.849Z"
   },
   {
    "duration": 48,
    "start_time": "2024-11-18T19:22:50.871Z"
   },
   {
    "duration": 11,
    "start_time": "2024-11-18T19:22:50.921Z"
   },
   {
    "duration": 39,
    "start_time": "2024-11-18T19:22:50.934Z"
   },
   {
    "duration": 46,
    "start_time": "2024-11-18T19:22:50.975Z"
   },
   {
    "duration": 14,
    "start_time": "2024-11-18T19:22:51.023Z"
   },
   {
    "duration": 7,
    "start_time": "2024-11-18T19:22:51.039Z"
   },
   {
    "duration": 16,
    "start_time": "2024-11-18T19:22:51.048Z"
   },
   {
    "duration": 19,
    "start_time": "2024-11-18T19:22:51.067Z"
   },
   {
    "duration": 34,
    "start_time": "2024-11-18T19:22:51.087Z"
   },
   {
    "duration": 8,
    "start_time": "2024-11-18T19:22:51.123Z"
   },
   {
    "duration": 20,
    "start_time": "2024-11-18T19:22:51.133Z"
   },
   {
    "duration": 27,
    "start_time": "2024-11-18T19:22:51.154Z"
   },
   {
    "duration": 3,
    "start_time": "2024-11-18T19:22:51.209Z"
   },
   {
    "duration": 51,
    "start_time": "2024-11-18T19:22:51.214Z"
   },
   {
    "duration": 31,
    "start_time": "2024-11-18T19:22:51.267Z"
   },
   {
    "duration": 26,
    "start_time": "2024-11-18T19:22:51.300Z"
   },
   {
    "duration": 11,
    "start_time": "2024-11-18T19:22:51.328Z"
   },
   {
    "duration": 23,
    "start_time": "2024-11-18T19:22:51.342Z"
   },
   {
    "duration": 25,
    "start_time": "2024-11-18T19:22:51.370Z"
   },
   {
    "duration": 29,
    "start_time": "2024-11-18T19:22:51.396Z"
   },
   {
    "duration": 201,
    "start_time": "2024-11-18T19:22:51.426Z"
   },
   {
    "duration": 248,
    "start_time": "2024-11-18T19:22:51.629Z"
   },
   {
    "duration": 10,
    "start_time": "2024-11-18T19:22:51.880Z"
   },
   {
    "duration": 609,
    "start_time": "2024-11-18T19:22:51.892Z"
   },
   {
    "duration": 0,
    "start_time": "2024-11-18T19:22:52.509Z"
   },
   {
    "duration": 0,
    "start_time": "2024-11-18T19:22:52.510Z"
   },
   {
    "duration": 0,
    "start_time": "2024-11-18T19:22:52.511Z"
   },
   {
    "duration": 0,
    "start_time": "2024-11-18T19:22:52.513Z"
   },
   {
    "duration": 0,
    "start_time": "2024-11-18T19:22:52.514Z"
   },
   {
    "duration": 0,
    "start_time": "2024-11-18T19:22:52.516Z"
   },
   {
    "duration": 0,
    "start_time": "2024-11-18T19:22:52.517Z"
   },
   {
    "duration": 5,
    "start_time": "2024-11-18T19:44:37.212Z"
   },
   {
    "duration": 27,
    "start_time": "2024-11-18T19:44:50.275Z"
   },
   {
    "duration": 126,
    "start_time": "2024-11-18T19:46:31.259Z"
   },
   {
    "duration": 113,
    "start_time": "2024-11-18T19:46:42.318Z"
   },
   {
    "duration": 466,
    "start_time": "2024-11-18T19:53:34.938Z"
   },
   {
    "duration": 56,
    "start_time": "2024-11-18T19:54:30.517Z"
   },
   {
    "duration": 7,
    "start_time": "2024-11-18T19:55:42.288Z"
   },
   {
    "duration": 132,
    "start_time": "2024-11-18T19:56:09.211Z"
   },
   {
    "duration": 57,
    "start_time": "2024-11-18T19:56:21.594Z"
   },
   {
    "duration": 59,
    "start_time": "2024-11-18T19:57:24.322Z"
   },
   {
    "duration": 9,
    "start_time": "2024-11-18T19:59:41.179Z"
   },
   {
    "duration": 165,
    "start_time": "2024-11-18T19:59:42.645Z"
   },
   {
    "duration": 185,
    "start_time": "2024-11-18T20:13:12.329Z"
   },
   {
    "duration": 179,
    "start_time": "2024-11-18T20:13:36.657Z"
   },
   {
    "duration": 190,
    "start_time": "2024-11-18T20:14:00.297Z"
   },
   {
    "duration": 180,
    "start_time": "2024-11-18T20:15:22.735Z"
   },
   {
    "duration": 1021,
    "start_time": "2024-11-18T20:15:53.287Z"
   },
   {
    "duration": 816,
    "start_time": "2024-11-18T21:06:29.674Z"
   },
   {
    "duration": 158,
    "start_time": "2024-11-18T21:06:30.492Z"
   },
   {
    "duration": 9,
    "start_time": "2024-11-18T21:06:30.652Z"
   },
   {
    "duration": 10,
    "start_time": "2024-11-18T21:06:30.664Z"
   },
   {
    "duration": 8,
    "start_time": "2024-11-18T21:06:30.675Z"
   },
   {
    "duration": 25,
    "start_time": "2024-11-18T21:06:30.685Z"
   },
   {
    "duration": 8,
    "start_time": "2024-11-18T21:06:30.711Z"
   },
   {
    "duration": 9,
    "start_time": "2024-11-18T21:06:30.720Z"
   },
   {
    "duration": 18,
    "start_time": "2024-11-18T21:06:30.730Z"
   },
   {
    "duration": 15,
    "start_time": "2024-11-18T21:06:30.751Z"
   },
   {
    "duration": 44,
    "start_time": "2024-11-18T21:06:30.769Z"
   },
   {
    "duration": 25,
    "start_time": "2024-11-18T21:06:30.815Z"
   },
   {
    "duration": 25,
    "start_time": "2024-11-18T21:06:30.842Z"
   },
   {
    "duration": 15,
    "start_time": "2024-11-18T21:06:30.897Z"
   },
   {
    "duration": 5,
    "start_time": "2024-11-18T21:06:30.914Z"
   },
   {
    "duration": 16,
    "start_time": "2024-11-18T21:06:30.921Z"
   },
   {
    "duration": 18,
    "start_time": "2024-11-18T21:06:30.939Z"
   },
   {
    "duration": 14,
    "start_time": "2024-11-18T21:06:30.960Z"
   },
   {
    "duration": 35,
    "start_time": "2024-11-18T21:06:30.975Z"
   },
   {
    "duration": 19,
    "start_time": "2024-11-18T21:06:31.011Z"
   },
   {
    "duration": 22,
    "start_time": "2024-11-18T21:06:31.032Z"
   },
   {
    "duration": 3,
    "start_time": "2024-11-18T21:06:31.056Z"
   },
   {
    "duration": 18,
    "start_time": "2024-11-18T21:06:31.061Z"
   },
   {
    "duration": 39,
    "start_time": "2024-11-18T21:06:31.081Z"
   },
   {
    "duration": 12,
    "start_time": "2024-11-18T21:06:31.122Z"
   },
   {
    "duration": 9,
    "start_time": "2024-11-18T21:06:31.136Z"
   },
   {
    "duration": 23,
    "start_time": "2024-11-18T21:06:31.148Z"
   },
   {
    "duration": 53,
    "start_time": "2024-11-18T21:06:31.174Z"
   },
   {
    "duration": 16,
    "start_time": "2024-11-18T21:06:31.229Z"
   },
   {
    "duration": 8,
    "start_time": "2024-11-18T21:06:31.247Z"
   },
   {
    "duration": 183,
    "start_time": "2024-11-18T21:06:31.507Z"
   },
   {
    "duration": 206,
    "start_time": "2024-11-18T21:06:31.692Z"
   },
   {
    "duration": 15,
    "start_time": "2024-11-18T21:06:31.900Z"
   },
   {
    "duration": 594,
    "start_time": "2024-11-18T21:06:31.916Z"
   },
   {
    "duration": 0,
    "start_time": "2024-11-18T21:06:32.512Z"
   },
   {
    "duration": 0,
    "start_time": "2024-11-18T21:06:32.513Z"
   },
   {
    "duration": 0,
    "start_time": "2024-11-18T21:06:32.514Z"
   },
   {
    "duration": 0,
    "start_time": "2024-11-18T21:06:32.516Z"
   },
   {
    "duration": 0,
    "start_time": "2024-11-18T21:06:32.517Z"
   },
   {
    "duration": 0,
    "start_time": "2024-11-18T21:06:32.518Z"
   },
   {
    "duration": 0,
    "start_time": "2024-11-18T21:06:32.519Z"
   },
   {
    "duration": 163,
    "start_time": "2024-11-18T21:08:01.412Z"
   },
   {
    "duration": 222,
    "start_time": "2024-11-18T21:08:25.569Z"
   },
   {
    "duration": 914,
    "start_time": "2024-11-18T21:09:29.375Z"
   },
   {
    "duration": 1526,
    "start_time": "2024-11-18T21:09:47.116Z"
   },
   {
    "duration": 939,
    "start_time": "2024-11-18T21:10:26.531Z"
   },
   {
    "duration": 499,
    "start_time": "2024-11-18T21:11:09.663Z"
   },
   {
    "duration": 137,
    "start_time": "2024-11-18T21:23:57.480Z"
   },
   {
    "duration": 182,
    "start_time": "2024-11-18T21:24:10.643Z"
   },
   {
    "duration": 174,
    "start_time": "2024-11-18T21:24:21.009Z"
   },
   {
    "duration": 424,
    "start_time": "2024-11-18T21:25:46.749Z"
   },
   {
    "duration": 387,
    "start_time": "2024-11-18T21:26:04.204Z"
   },
   {
    "duration": 127,
    "start_time": "2024-11-18T21:26:28.784Z"
   },
   {
    "duration": 192,
    "start_time": "2024-11-18T21:26:37.072Z"
   },
   {
    "duration": 161,
    "start_time": "2024-11-18T21:26:46.183Z"
   },
   {
    "duration": 874,
    "start_time": "2024-11-18T21:26:57.622Z"
   },
   {
    "duration": 172,
    "start_time": "2024-11-18T21:26:58.498Z"
   },
   {
    "duration": 12,
    "start_time": "2024-11-18T21:26:58.672Z"
   },
   {
    "duration": 12,
    "start_time": "2024-11-18T21:26:58.688Z"
   },
   {
    "duration": 14,
    "start_time": "2024-11-18T21:26:58.702Z"
   },
   {
    "duration": 8,
    "start_time": "2024-11-18T21:26:58.717Z"
   },
   {
    "duration": 8,
    "start_time": "2024-11-18T21:26:58.727Z"
   },
   {
    "duration": 8,
    "start_time": "2024-11-18T21:26:58.736Z"
   },
   {
    "duration": 17,
    "start_time": "2024-11-18T21:26:58.745Z"
   },
   {
    "duration": 48,
    "start_time": "2024-11-18T21:26:58.766Z"
   },
   {
    "duration": 10,
    "start_time": "2024-11-18T21:26:58.816Z"
   },
   {
    "duration": 26,
    "start_time": "2024-11-18T21:26:58.827Z"
   },
   {
    "duration": 25,
    "start_time": "2024-11-18T21:26:58.855Z"
   },
   {
    "duration": 32,
    "start_time": "2024-11-18T21:26:58.882Z"
   },
   {
    "duration": 5,
    "start_time": "2024-11-18T21:26:58.916Z"
   },
   {
    "duration": 16,
    "start_time": "2024-11-18T21:26:58.923Z"
   },
   {
    "duration": 18,
    "start_time": "2024-11-18T21:26:58.940Z"
   },
   {
    "duration": 13,
    "start_time": "2024-11-18T21:26:58.959Z"
   },
   {
    "duration": 36,
    "start_time": "2024-11-18T21:26:58.974Z"
   },
   {
    "duration": 20,
    "start_time": "2024-11-18T21:26:59.011Z"
   },
   {
    "duration": 21,
    "start_time": "2024-11-18T21:26:59.032Z"
   },
   {
    "duration": 3,
    "start_time": "2024-11-18T21:26:59.055Z"
   },
   {
    "duration": 17,
    "start_time": "2024-11-18T21:26:59.060Z"
   },
   {
    "duration": 43,
    "start_time": "2024-11-18T21:26:59.078Z"
   },
   {
    "duration": 12,
    "start_time": "2024-11-18T21:26:59.122Z"
   },
   {
    "duration": 9,
    "start_time": "2024-11-18T21:26:59.135Z"
   },
   {
    "duration": 22,
    "start_time": "2024-11-18T21:26:59.146Z"
   },
   {
    "duration": 51,
    "start_time": "2024-11-18T21:26:59.173Z"
   },
   {
    "duration": 17,
    "start_time": "2024-11-18T21:26:59.226Z"
   },
   {
    "duration": 7,
    "start_time": "2024-11-18T21:26:59.245Z"
   },
   {
    "duration": 205,
    "start_time": "2024-11-18T21:26:59.253Z"
   },
   {
    "duration": 171,
    "start_time": "2024-11-18T21:26:59.459Z"
   },
   {
    "duration": 13,
    "start_time": "2024-11-18T21:26:59.632Z"
   },
   {
    "duration": 607,
    "start_time": "2024-11-18T21:26:59.647Z"
   },
   {
    "duration": 0,
    "start_time": "2024-11-18T21:27:00.256Z"
   },
   {
    "duration": 0,
    "start_time": "2024-11-18T21:27:00.257Z"
   },
   {
    "duration": 0,
    "start_time": "2024-11-18T21:27:00.258Z"
   },
   {
    "duration": 0,
    "start_time": "2024-11-18T21:27:00.259Z"
   },
   {
    "duration": 0,
    "start_time": "2024-11-18T21:27:00.260Z"
   },
   {
    "duration": 0,
    "start_time": "2024-11-18T21:27:00.261Z"
   },
   {
    "duration": 0,
    "start_time": "2024-11-18T21:27:00.262Z"
   },
   {
    "duration": 184,
    "start_time": "2024-11-18T21:34:11.258Z"
   },
   {
    "duration": 2643,
    "start_time": "2024-11-18T22:03:15.369Z"
   },
   {
    "duration": 211,
    "start_time": "2024-11-18T22:03:18.014Z"
   },
   {
    "duration": 10,
    "start_time": "2024-11-18T22:03:18.226Z"
   },
   {
    "duration": 9,
    "start_time": "2024-11-18T22:03:18.238Z"
   },
   {
    "duration": 7,
    "start_time": "2024-11-18T22:03:18.248Z"
   },
   {
    "duration": 7,
    "start_time": "2024-11-18T22:03:18.257Z"
   },
   {
    "duration": 7,
    "start_time": "2024-11-18T22:03:18.267Z"
   },
   {
    "duration": 34,
    "start_time": "2024-11-18T22:03:18.275Z"
   },
   {
    "duration": 16,
    "start_time": "2024-11-18T22:03:18.311Z"
   },
   {
    "duration": 14,
    "start_time": "2024-11-18T22:03:18.332Z"
   },
   {
    "duration": 9,
    "start_time": "2024-11-18T22:03:18.348Z"
   },
   {
    "duration": 57,
    "start_time": "2024-11-18T22:03:18.358Z"
   },
   {
    "duration": 29,
    "start_time": "2024-11-18T22:03:18.417Z"
   },
   {
    "duration": 12,
    "start_time": "2024-11-18T22:03:18.447Z"
   },
   {
    "duration": 5,
    "start_time": "2024-11-18T22:03:18.461Z"
   },
   {
    "duration": 42,
    "start_time": "2024-11-18T22:03:18.467Z"
   },
   {
    "duration": 18,
    "start_time": "2024-11-18T22:03:18.510Z"
   },
   {
    "duration": 13,
    "start_time": "2024-11-18T22:03:18.530Z"
   },
   {
    "duration": 7,
    "start_time": "2024-11-18T22:03:18.545Z"
   },
   {
    "duration": 22,
    "start_time": "2024-11-18T22:03:18.554Z"
   },
   {
    "duration": 22,
    "start_time": "2024-11-18T22:03:18.608Z"
   },
   {
    "duration": 3,
    "start_time": "2024-11-18T22:03:18.631Z"
   },
   {
    "duration": 19,
    "start_time": "2024-11-18T22:03:18.636Z"
   },
   {
    "duration": 18,
    "start_time": "2024-11-18T22:03:18.657Z"
   },
   {
    "duration": 37,
    "start_time": "2024-11-18T22:03:18.677Z"
   },
   {
    "duration": 10,
    "start_time": "2024-11-18T22:03:18.715Z"
   },
   {
    "duration": 22,
    "start_time": "2024-11-18T22:03:18.727Z"
   },
   {
    "duration": 24,
    "start_time": "2024-11-18T22:03:18.753Z"
   },
   {
    "duration": 42,
    "start_time": "2024-11-18T22:03:18.779Z"
   },
   {
    "duration": 7,
    "start_time": "2024-11-18T22:03:18.823Z"
   },
   {
    "duration": 192,
    "start_time": "2024-11-18T22:03:18.831Z"
   },
   {
    "duration": 389,
    "start_time": "2024-11-18T22:03:19.024Z"
   },
   {
    "duration": 0,
    "start_time": "2024-11-18T22:03:19.415Z"
   },
   {
    "duration": 0,
    "start_time": "2024-11-18T22:03:19.417Z"
   },
   {
    "duration": 0,
    "start_time": "2024-11-18T22:03:19.418Z"
   },
   {
    "duration": 0,
    "start_time": "2024-11-18T22:03:19.418Z"
   },
   {
    "duration": 0,
    "start_time": "2024-11-18T22:03:19.419Z"
   },
   {
    "duration": 0,
    "start_time": "2024-11-18T22:03:19.421Z"
   },
   {
    "duration": 0,
    "start_time": "2024-11-18T22:03:19.422Z"
   },
   {
    "duration": 0,
    "start_time": "2024-11-18T22:03:19.423Z"
   },
   {
    "duration": 0,
    "start_time": "2024-11-18T22:03:19.424Z"
   },
   {
    "duration": 191,
    "start_time": "2024-11-18T22:05:02.860Z"
   },
   {
    "duration": 171,
    "start_time": "2024-11-18T22:05:53.764Z"
   },
   {
    "duration": 171,
    "start_time": "2024-11-18T22:06:56.838Z"
   },
   {
    "duration": 186,
    "start_time": "2024-11-18T22:08:25.422Z"
   },
   {
    "duration": 190,
    "start_time": "2024-11-18T22:08:34.707Z"
   },
   {
    "duration": 163,
    "start_time": "2024-11-18T22:09:03.436Z"
   },
   {
    "duration": 189,
    "start_time": "2024-11-18T22:09:37.045Z"
   },
   {
    "duration": 169,
    "start_time": "2024-11-18T22:09:44.510Z"
   },
   {
    "duration": 186,
    "start_time": "2024-11-18T22:10:22.645Z"
   },
   {
    "duration": 250,
    "start_time": "2024-11-18T22:10:54.666Z"
   },
   {
    "duration": 180,
    "start_time": "2024-11-18T22:11:00.720Z"
   },
   {
    "duration": 178,
    "start_time": "2024-11-18T22:11:10.033Z"
   },
   {
    "duration": 182,
    "start_time": "2024-11-18T22:11:36.141Z"
   },
   {
    "duration": 179,
    "start_time": "2024-11-18T22:11:47.557Z"
   },
   {
    "duration": 161,
    "start_time": "2024-11-18T22:12:08.493Z"
   },
   {
    "duration": 162,
    "start_time": "2024-11-18T22:12:14.866Z"
   },
   {
    "duration": 166,
    "start_time": "2024-11-18T22:12:21.357Z"
   },
   {
    "duration": 186,
    "start_time": "2024-11-18T22:13:57.536Z"
   },
   {
    "duration": 164,
    "start_time": "2024-11-18T22:14:26.375Z"
   },
   {
    "duration": 19,
    "start_time": "2024-11-18T22:22:13.558Z"
   },
   {
    "duration": 22,
    "start_time": "2024-11-18T22:22:24.217Z"
   },
   {
    "duration": 8,
    "start_time": "2024-11-18T22:22:32.661Z"
   },
   {
    "duration": 303,
    "start_time": "2024-11-18T22:23:35.437Z"
   },
   {
    "duration": 229,
    "start_time": "2024-11-18T22:23:59.714Z"
   },
   {
    "duration": 215,
    "start_time": "2024-11-18T22:25:38.173Z"
   },
   {
    "duration": 224,
    "start_time": "2024-11-18T22:25:47.644Z"
   },
   {
    "duration": 8,
    "start_time": "2024-11-18T22:33:04.234Z"
   },
   {
    "duration": 207,
    "start_time": "2024-11-18T22:33:57.908Z"
   },
   {
    "duration": 24,
    "start_time": "2024-11-18T22:36:51.353Z"
   },
   {
    "duration": 19,
    "start_time": "2024-11-18T22:37:51.310Z"
   },
   {
    "duration": 877,
    "start_time": "2024-11-18T22:38:23.240Z"
   },
   {
    "duration": 157,
    "start_time": "2024-11-18T22:38:24.120Z"
   },
   {
    "duration": 9,
    "start_time": "2024-11-18T22:38:24.278Z"
   },
   {
    "duration": 20,
    "start_time": "2024-11-18T22:38:24.290Z"
   },
   {
    "duration": 7,
    "start_time": "2024-11-18T22:38:24.311Z"
   },
   {
    "duration": 8,
    "start_time": "2024-11-18T22:38:24.320Z"
   },
   {
    "duration": 7,
    "start_time": "2024-11-18T22:38:24.331Z"
   },
   {
    "duration": 8,
    "start_time": "2024-11-18T22:38:24.340Z"
   },
   {
    "duration": 17,
    "start_time": "2024-11-18T22:38:24.350Z"
   },
   {
    "duration": 16,
    "start_time": "2024-11-18T22:38:24.408Z"
   },
   {
    "duration": 10,
    "start_time": "2024-11-18T22:38:24.425Z"
   },
   {
    "duration": 25,
    "start_time": "2024-11-18T22:38:24.436Z"
   },
   {
    "duration": 47,
    "start_time": "2024-11-18T22:38:24.462Z"
   },
   {
    "duration": 12,
    "start_time": "2024-11-18T22:38:24.511Z"
   },
   {
    "duration": 5,
    "start_time": "2024-11-18T22:38:24.525Z"
   },
   {
    "duration": 16,
    "start_time": "2024-11-18T22:38:24.532Z"
   },
   {
    "duration": 17,
    "start_time": "2024-11-18T22:38:24.550Z"
   },
   {
    "duration": 41,
    "start_time": "2024-11-18T22:38:24.569Z"
   },
   {
    "duration": 6,
    "start_time": "2024-11-18T22:38:24.612Z"
   },
   {
    "duration": 19,
    "start_time": "2024-11-18T22:38:24.620Z"
   },
   {
    "duration": 21,
    "start_time": "2024-11-18T22:38:24.640Z"
   },
   {
    "duration": 2,
    "start_time": "2024-11-18T22:38:24.663Z"
   },
   {
    "duration": 49,
    "start_time": "2024-11-18T22:38:24.667Z"
   },
   {
    "duration": 13,
    "start_time": "2024-11-18T22:38:24.717Z"
   },
   {
    "duration": 12,
    "start_time": "2024-11-18T22:38:24.732Z"
   },
   {
    "duration": 10,
    "start_time": "2024-11-18T22:38:24.745Z"
   },
   {
    "duration": 23,
    "start_time": "2024-11-18T22:38:24.756Z"
   },
   {
    "duration": 24,
    "start_time": "2024-11-18T22:38:24.809Z"
   },
   {
    "duration": 17,
    "start_time": "2024-11-18T22:38:24.834Z"
   },
   {
    "duration": 8,
    "start_time": "2024-11-18T22:38:24.852Z"
   },
   {
    "duration": 212,
    "start_time": "2024-11-18T22:38:24.862Z"
   },
   {
    "duration": 166,
    "start_time": "2024-11-18T22:38:25.077Z"
   },
   {
    "duration": 9,
    "start_time": "2024-11-18T22:38:25.246Z"
   },
   {
    "duration": 299,
    "start_time": "2024-11-18T22:38:25.256Z"
   },
   {
    "duration": 9,
    "start_time": "2024-11-18T22:38:25.557Z"
   },
   {
    "duration": 203,
    "start_time": "2024-11-18T22:38:25.569Z"
   },
   {
    "duration": 454,
    "start_time": "2024-11-18T22:38:25.774Z"
   },
   {
    "duration": 0,
    "start_time": "2024-11-18T22:38:26.230Z"
   },
   {
    "duration": 0,
    "start_time": "2024-11-18T22:38:26.231Z"
   },
   {
    "duration": 0,
    "start_time": "2024-11-18T22:38:26.233Z"
   },
   {
    "duration": 0,
    "start_time": "2024-11-18T22:38:26.234Z"
   },
   {
    "duration": 0,
    "start_time": "2024-11-18T22:38:26.236Z"
   },
   {
    "duration": 10,
    "start_time": "2024-11-18T22:39:09.777Z"
   },
   {
    "duration": 196,
    "start_time": "2024-11-18T22:39:12.086Z"
   },
   {
    "duration": 196,
    "start_time": "2024-11-18T22:39:20.713Z"
   },
   {
    "duration": 21,
    "start_time": "2024-11-18T22:39:24.004Z"
   },
   {
    "duration": 852,
    "start_time": "2024-11-18T22:40:08.657Z"
   },
   {
    "duration": 154,
    "start_time": "2024-11-18T22:40:09.511Z"
   },
   {
    "duration": 9,
    "start_time": "2024-11-18T22:40:09.666Z"
   },
   {
    "duration": 8,
    "start_time": "2024-11-18T22:40:09.678Z"
   },
   {
    "duration": 7,
    "start_time": "2024-11-18T22:40:09.688Z"
   },
   {
    "duration": 7,
    "start_time": "2024-11-18T22:40:09.709Z"
   },
   {
    "duration": 7,
    "start_time": "2024-11-18T22:40:09.718Z"
   },
   {
    "duration": 8,
    "start_time": "2024-11-18T22:40:09.727Z"
   },
   {
    "duration": 17,
    "start_time": "2024-11-18T22:40:09.737Z"
   },
   {
    "duration": 50,
    "start_time": "2024-11-18T22:40:09.759Z"
   },
   {
    "duration": 10,
    "start_time": "2024-11-18T22:40:09.810Z"
   },
   {
    "duration": 25,
    "start_time": "2024-11-18T22:40:09.822Z"
   },
   {
    "duration": 25,
    "start_time": "2024-11-18T22:40:09.849Z"
   },
   {
    "duration": 38,
    "start_time": "2024-11-18T22:40:09.875Z"
   },
   {
    "duration": 6,
    "start_time": "2024-11-18T22:40:09.914Z"
   },
   {
    "duration": 16,
    "start_time": "2024-11-18T22:40:09.921Z"
   },
   {
    "duration": 18,
    "start_time": "2024-11-18T22:40:09.939Z"
   },
   {
    "duration": 14,
    "start_time": "2024-11-18T22:40:09.959Z"
   },
   {
    "duration": 39,
    "start_time": "2024-11-18T22:40:09.974Z"
   },
   {
    "duration": 20,
    "start_time": "2024-11-18T22:40:10.014Z"
   },
   {
    "duration": 22,
    "start_time": "2024-11-18T22:40:10.035Z"
   },
   {
    "duration": 4,
    "start_time": "2024-11-18T22:40:10.058Z"
   },
   {
    "duration": 17,
    "start_time": "2024-11-18T22:40:10.064Z"
   },
   {
    "duration": 36,
    "start_time": "2024-11-18T22:40:10.082Z"
   },
   {
    "duration": 11,
    "start_time": "2024-11-18T22:40:10.120Z"
   },
   {
    "duration": 9,
    "start_time": "2024-11-18T22:40:10.132Z"
   },
   {
    "duration": 23,
    "start_time": "2024-11-18T22:40:10.142Z"
   },
   {
    "duration": 52,
    "start_time": "2024-11-18T22:40:10.170Z"
   },
   {
    "duration": 20,
    "start_time": "2024-11-18T22:40:10.224Z"
   },
   {
    "duration": 9,
    "start_time": "2024-11-18T22:40:10.246Z"
   },
   {
    "duration": 199,
    "start_time": "2024-11-18T22:40:10.257Z"
   },
   {
    "duration": 174,
    "start_time": "2024-11-18T22:40:10.458Z"
   },
   {
    "duration": 8,
    "start_time": "2024-11-18T22:40:10.633Z"
   },
   {
    "duration": 278,
    "start_time": "2024-11-18T22:40:10.643Z"
   },
   {
    "duration": 232,
    "start_time": "2024-11-18T22:40:10.923Z"
   },
   {
    "duration": 0,
    "start_time": "2024-11-18T22:40:11.157Z"
   },
   {
    "duration": 0,
    "start_time": "2024-11-18T22:40:11.158Z"
   },
   {
    "duration": 0,
    "start_time": "2024-11-18T22:40:11.160Z"
   },
   {
    "duration": 0,
    "start_time": "2024-11-18T22:40:11.162Z"
   },
   {
    "duration": 0,
    "start_time": "2024-11-18T22:40:11.163Z"
   },
   {
    "duration": 0,
    "start_time": "2024-11-18T22:40:11.164Z"
   },
   {
    "duration": 0,
    "start_time": "2024-11-18T22:40:11.166Z"
   },
   {
    "duration": 10,
    "start_time": "2024-11-18T22:40:25.797Z"
   },
   {
    "duration": 193,
    "start_time": "2024-11-18T22:40:29.032Z"
   },
   {
    "duration": 212,
    "start_time": "2024-11-18T22:40:31.697Z"
   },
   {
    "duration": 162,
    "start_time": "2024-11-18T22:42:59.132Z"
   },
   {
    "duration": 202,
    "start_time": "2024-11-18T22:43:21.910Z"
   },
   {
    "duration": 94,
    "start_time": "2024-11-18T22:44:28.330Z"
   },
   {
    "duration": 5,
    "start_time": "2024-11-18T22:44:58.325Z"
   },
   {
    "duration": 206,
    "start_time": "2024-11-18T22:45:07.605Z"
   },
   {
    "duration": 657,
    "start_time": "2024-11-18T22:46:06.597Z"
   },
   {
    "duration": 193,
    "start_time": "2024-11-18T22:46:21.462Z"
   },
   {
    "duration": 195,
    "start_time": "2024-11-18T22:46:55.229Z"
   },
   {
    "duration": 9,
    "start_time": "2024-11-18T22:49:26.973Z"
   },
   {
    "duration": 109,
    "start_time": "2024-11-18T22:49:28.453Z"
   },
   {
    "duration": 5,
    "start_time": "2024-11-18T23:21:25.966Z"
   },
   {
    "duration": 7,
    "start_time": "2024-11-18T23:21:52.362Z"
   },
   {
    "duration": 6,
    "start_time": "2024-11-18T23:22:02.135Z"
   },
   {
    "duration": 15,
    "start_time": "2024-11-18T23:22:47.347Z"
   },
   {
    "duration": 816,
    "start_time": "2024-11-18T23:23:32.786Z"
   },
   {
    "duration": 186,
    "start_time": "2024-11-18T23:23:33.604Z"
   },
   {
    "duration": 10,
    "start_time": "2024-11-18T23:23:33.792Z"
   },
   {
    "duration": 10,
    "start_time": "2024-11-18T23:23:33.806Z"
   },
   {
    "duration": 8,
    "start_time": "2024-11-18T23:23:33.818Z"
   },
   {
    "duration": 9,
    "start_time": "2024-11-18T23:23:33.828Z"
   },
   {
    "duration": 9,
    "start_time": "2024-11-18T23:23:33.839Z"
   },
   {
    "duration": 11,
    "start_time": "2024-11-18T23:23:33.850Z"
   },
   {
    "duration": 46,
    "start_time": "2024-11-18T23:23:33.865Z"
   },
   {
    "duration": 21,
    "start_time": "2024-11-18T23:23:33.914Z"
   },
   {
    "duration": 12,
    "start_time": "2024-11-18T23:23:33.937Z"
   },
   {
    "duration": 58,
    "start_time": "2024-11-18T23:23:33.951Z"
   },
   {
    "duration": 31,
    "start_time": "2024-11-18T23:23:34.011Z"
   },
   {
    "duration": 12,
    "start_time": "2024-11-18T23:23:34.045Z"
   },
   {
    "duration": 8,
    "start_time": "2024-11-18T23:23:34.059Z"
   },
   {
    "duration": 41,
    "start_time": "2024-11-18T23:23:34.069Z"
   },
   {
    "duration": 18,
    "start_time": "2024-11-18T23:23:34.112Z"
   },
   {
    "duration": 16,
    "start_time": "2024-11-18T23:23:34.132Z"
   },
   {
    "duration": 7,
    "start_time": "2024-11-18T23:23:34.151Z"
   },
   {
    "duration": 21,
    "start_time": "2024-11-18T23:23:34.160Z"
   },
   {
    "duration": 43,
    "start_time": "2024-11-18T23:23:34.184Z"
   },
   {
    "duration": 4,
    "start_time": "2024-11-18T23:23:34.230Z"
   },
   {
    "duration": 20,
    "start_time": "2024-11-18T23:23:34.235Z"
   },
   {
    "duration": 14,
    "start_time": "2024-11-18T23:23:34.256Z"
   },
   {
    "duration": 41,
    "start_time": "2024-11-18T23:23:34.271Z"
   },
   {
    "duration": 9,
    "start_time": "2024-11-18T23:23:34.314Z"
   },
   {
    "duration": 26,
    "start_time": "2024-11-18T23:23:34.325Z"
   },
   {
    "duration": 26,
    "start_time": "2024-11-18T23:23:34.355Z"
   },
   {
    "duration": 41,
    "start_time": "2024-11-18T23:23:34.383Z"
   },
   {
    "duration": 10,
    "start_time": "2024-11-18T23:23:34.426Z"
   },
   {
    "duration": 197,
    "start_time": "2024-11-18T23:23:34.437Z"
   },
   {
    "duration": 196,
    "start_time": "2024-11-18T23:23:34.636Z"
   },
   {
    "duration": 10,
    "start_time": "2024-11-18T23:23:34.833Z"
   },
   {
    "duration": 286,
    "start_time": "2024-11-18T23:23:34.845Z"
   },
   {
    "duration": 9,
    "start_time": "2024-11-18T23:23:35.132Z"
   },
   {
    "duration": 218,
    "start_time": "2024-11-18T23:23:35.143Z"
   },
   {
    "duration": 7,
    "start_time": "2024-11-18T23:23:35.367Z"
   },
   {
    "duration": 0,
    "start_time": "2024-11-18T23:23:35.375Z"
   },
   {
    "duration": 0,
    "start_time": "2024-11-18T23:23:35.377Z"
   },
   {
    "duration": 0,
    "start_time": "2024-11-18T23:23:35.378Z"
   },
   {
    "duration": 0,
    "start_time": "2024-11-18T23:23:35.379Z"
   },
   {
    "duration": 0,
    "start_time": "2024-11-18T23:23:35.380Z"
   },
   {
    "duration": 0,
    "start_time": "2024-11-18T23:23:35.381Z"
   },
   {
    "duration": 9,
    "start_time": "2024-11-18T23:24:17.650Z"
   },
   {
    "duration": 121,
    "start_time": "2024-11-18T23:24:20.313Z"
   },
   {
    "duration": 8,
    "start_time": "2024-11-18T23:24:22.246Z"
   },
   {
    "duration": 5,
    "start_time": "2024-11-18T23:24:25.809Z"
   },
   {
    "duration": 833,
    "start_time": "2024-11-19T01:14:32.467Z"
   },
   {
    "duration": 165,
    "start_time": "2024-11-19T01:14:33.302Z"
   },
   {
    "duration": 10,
    "start_time": "2024-11-19T01:14:33.468Z"
   },
   {
    "duration": 9,
    "start_time": "2024-11-19T01:14:33.480Z"
   },
   {
    "duration": 7,
    "start_time": "2024-11-19T01:14:33.491Z"
   },
   {
    "duration": 16,
    "start_time": "2024-11-19T01:14:33.499Z"
   },
   {
    "duration": 8,
    "start_time": "2024-11-19T01:14:33.516Z"
   },
   {
    "duration": 7,
    "start_time": "2024-11-19T01:14:33.526Z"
   },
   {
    "duration": 16,
    "start_time": "2024-11-19T01:14:33.535Z"
   },
   {
    "duration": 16,
    "start_time": "2024-11-19T01:14:33.555Z"
   },
   {
    "duration": 45,
    "start_time": "2024-11-19T01:14:33.572Z"
   },
   {
    "duration": 26,
    "start_time": "2024-11-19T01:14:33.618Z"
   },
   {
    "duration": 25,
    "start_time": "2024-11-19T01:14:33.645Z"
   },
   {
    "duration": 13,
    "start_time": "2024-11-19T01:14:33.671Z"
   },
   {
    "duration": 26,
    "start_time": "2024-11-19T01:14:33.686Z"
   },
   {
    "duration": 17,
    "start_time": "2024-11-19T01:14:33.714Z"
   },
   {
    "duration": 18,
    "start_time": "2024-11-19T01:14:33.732Z"
   },
   {
    "duration": 13,
    "start_time": "2024-11-19T01:14:33.752Z"
   },
   {
    "duration": 9,
    "start_time": "2024-11-19T01:14:33.767Z"
   },
   {
    "duration": 22,
    "start_time": "2024-11-19T01:14:33.810Z"
   },
   {
    "duration": 23,
    "start_time": "2024-11-19T01:14:33.834Z"
   },
   {
    "duration": 3,
    "start_time": "2024-11-19T01:14:33.858Z"
   },
   {
    "duration": 17,
    "start_time": "2024-11-19T01:14:33.863Z"
   },
   {
    "duration": 38,
    "start_time": "2024-11-19T01:14:33.882Z"
   },
   {
    "duration": 12,
    "start_time": "2024-11-19T01:14:33.921Z"
   },
   {
    "duration": 9,
    "start_time": "2024-11-19T01:14:33.935Z"
   },
   {
    "duration": 23,
    "start_time": "2024-11-19T01:14:33.946Z"
   },
   {
    "duration": 53,
    "start_time": "2024-11-19T01:14:33.973Z"
   },
   {
    "duration": 16,
    "start_time": "2024-11-19T01:14:34.027Z"
   },
   {
    "duration": 7,
    "start_time": "2024-11-19T01:14:34.045Z"
   },
   {
    "duration": 206,
    "start_time": "2024-11-19T01:14:34.053Z"
   },
   {
    "duration": 177,
    "start_time": "2024-11-19T01:14:34.261Z"
   },
   {
    "duration": 8,
    "start_time": "2024-11-19T01:14:34.440Z"
   },
   {
    "duration": 281,
    "start_time": "2024-11-19T01:14:34.450Z"
   },
   {
    "duration": 8,
    "start_time": "2024-11-19T01:14:34.733Z"
   },
   {
    "duration": 211,
    "start_time": "2024-11-19T01:14:34.742Z"
   },
   {
    "duration": 2,
    "start_time": "2024-11-19T01:14:34.955Z"
   },
   {
    "duration": 8,
    "start_time": "2024-11-19T01:14:34.959Z"
   },
   {
    "duration": 108,
    "start_time": "2024-11-19T01:14:34.969Z"
   },
   {
    "duration": 7,
    "start_time": "2024-11-19T01:14:35.079Z"
   },
   {
    "duration": 3,
    "start_time": "2024-11-19T01:14:35.087Z"
   },
   {
    "duration": 17,
    "start_time": "2024-11-19T01:14:35.092Z"
   },
   {
    "duration": 128,
    "start_time": "2024-11-19T01:20:11.199Z"
   },
   {
    "duration": 8,
    "start_time": "2024-11-19T01:20:19.632Z"
   },
   {
    "duration": 8,
    "start_time": "2024-11-19T01:23:53.309Z"
   },
   {
    "duration": 4,
    "start_time": "2024-11-19T01:24:00.646Z"
   },
   {
    "duration": 520,
    "start_time": "2024-11-19T01:26:26.168Z"
   },
   {
    "duration": 228,
    "start_time": "2024-11-19T01:33:47.747Z"
   },
   {
    "duration": 869,
    "start_time": "2024-11-19T01:38:28.240Z"
   },
   {
    "duration": 163,
    "start_time": "2024-11-19T01:38:29.111Z"
   },
   {
    "duration": 9,
    "start_time": "2024-11-19T01:38:29.276Z"
   },
   {
    "duration": 10,
    "start_time": "2024-11-19T01:38:29.287Z"
   },
   {
    "duration": 16,
    "start_time": "2024-11-19T01:38:29.299Z"
   },
   {
    "duration": 8,
    "start_time": "2024-11-19T01:38:29.317Z"
   },
   {
    "duration": 8,
    "start_time": "2024-11-19T01:38:29.326Z"
   },
   {
    "duration": 8,
    "start_time": "2024-11-19T01:38:29.336Z"
   },
   {
    "duration": 17,
    "start_time": "2024-11-19T01:38:29.346Z"
   },
   {
    "duration": 49,
    "start_time": "2024-11-19T01:38:29.366Z"
   },
   {
    "duration": 10,
    "start_time": "2024-11-19T01:38:29.418Z"
   },
   {
    "duration": 27,
    "start_time": "2024-11-19T01:38:29.430Z"
   },
   {
    "duration": 51,
    "start_time": "2024-11-19T01:38:29.459Z"
   },
   {
    "duration": 14,
    "start_time": "2024-11-19T01:38:29.514Z"
   },
   {
    "duration": 9,
    "start_time": "2024-11-19T01:38:29.530Z"
   },
   {
    "duration": 17,
    "start_time": "2024-11-19T01:38:29.541Z"
   },
   {
    "duration": 20,
    "start_time": "2024-11-19T01:38:29.560Z"
   },
   {
    "duration": 15,
    "start_time": "2024-11-19T01:38:29.609Z"
   },
   {
    "duration": 6,
    "start_time": "2024-11-19T01:38:29.626Z"
   },
   {
    "duration": 20,
    "start_time": "2024-11-19T01:38:29.634Z"
   },
   {
    "duration": 23,
    "start_time": "2024-11-19T01:38:29.656Z"
   },
   {
    "duration": 29,
    "start_time": "2024-11-19T01:38:29.681Z"
   },
   {
    "duration": 18,
    "start_time": "2024-11-19T01:38:29.712Z"
   },
   {
    "duration": 13,
    "start_time": "2024-11-19T01:38:29.732Z"
   },
   {
    "duration": 14,
    "start_time": "2024-11-19T01:38:29.746Z"
   },
   {
    "duration": 12,
    "start_time": "2024-11-19T01:38:29.762Z"
   },
   {
    "duration": 53,
    "start_time": "2024-11-19T01:38:29.776Z"
   },
   {
    "duration": 23,
    "start_time": "2024-11-19T01:38:29.831Z"
   },
   {
    "duration": 16,
    "start_time": "2024-11-19T01:38:29.856Z"
   },
   {
    "duration": 35,
    "start_time": "2024-11-19T01:38:29.873Z"
   },
   {
    "duration": 179,
    "start_time": "2024-11-19T01:38:29.910Z"
   },
   {
    "duration": 171,
    "start_time": "2024-11-19T01:38:30.091Z"
   },
   {
    "duration": 8,
    "start_time": "2024-11-19T01:38:30.264Z"
   },
   {
    "duration": 281,
    "start_time": "2024-11-19T01:38:30.274Z"
   },
   {
    "duration": 9,
    "start_time": "2024-11-19T01:38:30.557Z"
   },
   {
    "duration": 218,
    "start_time": "2024-11-19T01:38:30.568Z"
   },
   {
    "duration": 3,
    "start_time": "2024-11-19T01:38:30.787Z"
   },
   {
    "duration": 23,
    "start_time": "2024-11-19T01:38:30.792Z"
   },
   {
    "duration": 101,
    "start_time": "2024-11-19T01:38:30.816Z"
   },
   {
    "duration": 8,
    "start_time": "2024-11-19T01:38:30.918Z"
   },
   {
    "duration": 4,
    "start_time": "2024-11-19T01:38:30.929Z"
   },
   {
    "duration": 5,
    "start_time": "2024-11-19T01:38:30.934Z"
   },
   {
    "duration": 230,
    "start_time": "2024-11-19T01:39:57.631Z"
   },
   {
    "duration": 10,
    "start_time": "2024-11-19T01:40:42.718Z"
   },
   {
    "duration": 41,
    "start_time": "2024-11-19T01:41:38.593Z"
   },
   {
    "duration": 29,
    "start_time": "2024-11-19T01:44:26.890Z"
   },
   {
    "duration": 38,
    "start_time": "2024-11-19T01:45:23.893Z"
   },
   {
    "duration": 428,
    "start_time": "2024-11-19T01:46:28.694Z"
   },
   {
    "duration": 44,
    "start_time": "2024-11-19T01:46:34.257Z"
   },
   {
    "duration": 238,
    "start_time": "2024-11-19T01:49:01.441Z"
   },
   {
    "duration": 27,
    "start_time": "2024-11-19T01:49:04.404Z"
   },
   {
    "duration": 835,
    "start_time": "2024-11-19T01:49:28.684Z"
   },
   {
    "duration": 164,
    "start_time": "2024-11-19T01:49:29.520Z"
   },
   {
    "duration": 10,
    "start_time": "2024-11-19T01:49:29.685Z"
   },
   {
    "duration": 13,
    "start_time": "2024-11-19T01:49:29.696Z"
   },
   {
    "duration": 7,
    "start_time": "2024-11-19T01:49:29.712Z"
   },
   {
    "duration": 7,
    "start_time": "2024-11-19T01:49:29.721Z"
   },
   {
    "duration": 8,
    "start_time": "2024-11-19T01:49:29.730Z"
   },
   {
    "duration": 8,
    "start_time": "2024-11-19T01:49:29.739Z"
   },
   {
    "duration": 20,
    "start_time": "2024-11-19T01:49:29.749Z"
   },
   {
    "duration": 51,
    "start_time": "2024-11-19T01:49:29.771Z"
   },
   {
    "duration": 9,
    "start_time": "2024-11-19T01:49:29.824Z"
   },
   {
    "duration": 25,
    "start_time": "2024-11-19T01:49:29.834Z"
   },
   {
    "duration": 27,
    "start_time": "2024-11-19T01:49:29.861Z"
   },
   {
    "duration": 15,
    "start_time": "2024-11-19T01:49:29.912Z"
   },
   {
    "duration": 7,
    "start_time": "2024-11-19T01:49:29.930Z"
   },
   {
    "duration": 16,
    "start_time": "2024-11-19T01:49:29.939Z"
   },
   {
    "duration": 18,
    "start_time": "2024-11-19T01:49:29.956Z"
   },
   {
    "duration": 43,
    "start_time": "2024-11-19T01:49:29.976Z"
   },
   {
    "duration": 6,
    "start_time": "2024-11-19T01:49:30.021Z"
   },
   {
    "duration": 20,
    "start_time": "2024-11-19T01:49:30.030Z"
   },
   {
    "duration": 23,
    "start_time": "2024-11-19T01:49:30.053Z"
   },
   {
    "duration": 3,
    "start_time": "2024-11-19T01:49:30.078Z"
   },
   {
    "duration": 19,
    "start_time": "2024-11-19T01:49:30.109Z"
   },
   {
    "duration": 13,
    "start_time": "2024-11-19T01:49:30.130Z"
   },
   {
    "duration": 12,
    "start_time": "2024-11-19T01:49:30.145Z"
   },
   {
    "duration": 10,
    "start_time": "2024-11-19T01:49:30.159Z"
   },
   {
    "duration": 55,
    "start_time": "2024-11-19T01:49:30.170Z"
   },
   {
    "duration": 37,
    "start_time": "2024-11-19T01:49:30.227Z"
   },
   {
    "duration": 16,
    "start_time": "2024-11-19T01:49:30.266Z"
   },
   {
    "duration": 28,
    "start_time": "2024-11-19T01:49:30.284Z"
   },
   {
    "duration": 192,
    "start_time": "2024-11-19T01:49:30.313Z"
   },
   {
    "duration": 168,
    "start_time": "2024-11-19T01:49:30.508Z"
   },
   {
    "duration": 8,
    "start_time": "2024-11-19T01:49:30.678Z"
   },
   {
    "duration": 292,
    "start_time": "2024-11-19T01:49:30.687Z"
   },
   {
    "duration": 8,
    "start_time": "2024-11-19T01:49:30.981Z"
   },
   {
    "duration": 209,
    "start_time": "2024-11-19T01:49:30.991Z"
   },
   {
    "duration": 2,
    "start_time": "2024-11-19T01:49:31.202Z"
   },
   {
    "duration": 13,
    "start_time": "2024-11-19T01:49:31.205Z"
   },
   {
    "duration": 104,
    "start_time": "2024-11-19T01:49:31.219Z"
   },
   {
    "duration": 7,
    "start_time": "2024-11-19T01:49:31.325Z"
   },
   {
    "duration": 3,
    "start_time": "2024-11-19T01:49:31.336Z"
   },
   {
    "duration": 446,
    "start_time": "2024-11-19T01:49:31.341Z"
   },
   {
    "duration": 22,
    "start_time": "2024-11-19T01:50:09.758Z"
   },
   {
    "duration": 16,
    "start_time": "2024-11-19T01:50:18.293Z"
   },
   {
    "duration": 16,
    "start_time": "2024-11-19T01:50:40.915Z"
   },
   {
    "duration": 4,
    "start_time": "2024-11-19T01:50:46.484Z"
   },
   {
    "duration": 16,
    "start_time": "2024-11-19T01:50:56.541Z"
   },
   {
    "duration": 2654,
    "start_time": "2024-11-19T14:48:09.725Z"
   },
   {
    "duration": 231,
    "start_time": "2024-11-19T14:48:12.381Z"
   },
   {
    "duration": 10,
    "start_time": "2024-11-19T14:48:12.614Z"
   },
   {
    "duration": 9,
    "start_time": "2024-11-19T14:48:12.626Z"
   },
   {
    "duration": 8,
    "start_time": "2024-11-19T14:48:12.637Z"
   },
   {
    "duration": 8,
    "start_time": "2024-11-19T14:48:12.647Z"
   },
   {
    "duration": 10,
    "start_time": "2024-11-19T14:48:12.657Z"
   },
   {
    "duration": 9,
    "start_time": "2024-11-19T14:48:12.669Z"
   },
   {
    "duration": 18,
    "start_time": "2024-11-19T14:48:12.680Z"
   },
   {
    "duration": 44,
    "start_time": "2024-11-19T14:48:12.701Z"
   },
   {
    "duration": 11,
    "start_time": "2024-11-19T14:48:12.747Z"
   },
   {
    "duration": 27,
    "start_time": "2024-11-19T14:48:12.760Z"
   },
   {
    "duration": 55,
    "start_time": "2024-11-19T14:48:12.789Z"
   },
   {
    "duration": 13,
    "start_time": "2024-11-19T14:48:12.846Z"
   },
   {
    "duration": 6,
    "start_time": "2024-11-19T14:48:12.861Z"
   },
   {
    "duration": 18,
    "start_time": "2024-11-19T14:48:12.869Z"
   },
   {
    "duration": 18,
    "start_time": "2024-11-19T14:48:12.889Z"
   },
   {
    "duration": 46,
    "start_time": "2024-11-19T14:48:12.909Z"
   },
   {
    "duration": 11,
    "start_time": "2024-11-19T14:48:12.957Z"
   },
   {
    "duration": 24,
    "start_time": "2024-11-19T14:48:12.971Z"
   },
   {
    "duration": 47,
    "start_time": "2024-11-19T14:48:12.997Z"
   },
   {
    "duration": 3,
    "start_time": "2024-11-19T14:48:13.046Z"
   },
   {
    "duration": 20,
    "start_time": "2024-11-19T14:48:13.050Z"
   },
   {
    "duration": 14,
    "start_time": "2024-11-19T14:48:13.072Z"
   },
   {
    "duration": 12,
    "start_time": "2024-11-19T14:48:13.088Z"
   },
   {
    "duration": 47,
    "start_time": "2024-11-19T14:48:13.102Z"
   },
   {
    "duration": 24,
    "start_time": "2024-11-19T14:48:13.151Z"
   },
   {
    "duration": 38,
    "start_time": "2024-11-19T14:48:13.179Z"
   },
   {
    "duration": 38,
    "start_time": "2024-11-19T14:48:13.219Z"
   },
   {
    "duration": 8,
    "start_time": "2024-11-19T14:48:13.260Z"
   },
   {
    "duration": 200,
    "start_time": "2024-11-19T14:48:13.270Z"
   },
   {
    "duration": 175,
    "start_time": "2024-11-19T14:48:13.472Z"
   },
   {
    "duration": 8,
    "start_time": "2024-11-19T14:48:13.648Z"
   },
   {
    "duration": 241,
    "start_time": "2024-11-19T14:48:13.658Z"
   },
   {
    "duration": 9,
    "start_time": "2024-11-19T14:48:13.901Z"
   },
   {
    "duration": 219,
    "start_time": "2024-11-19T14:48:13.913Z"
   },
   {
    "duration": 7,
    "start_time": "2024-11-19T14:48:14.135Z"
   },
   {
    "duration": 11,
    "start_time": "2024-11-19T14:48:14.144Z"
   },
   {
    "duration": 173,
    "start_time": "2024-11-19T14:48:14.157Z"
   },
   {
    "duration": 14,
    "start_time": "2024-11-19T14:48:14.332Z"
   },
   {
    "duration": 4,
    "start_time": "2024-11-19T14:48:14.348Z"
   },
   {
    "duration": 242,
    "start_time": "2024-11-19T14:48:14.353Z"
   },
   {
    "duration": 7,
    "start_time": "2024-11-19T14:50:51.531Z"
   },
   {
    "duration": 239,
    "start_time": "2024-11-19T15:28:29.149Z"
   },
   {
    "duration": 228,
    "start_time": "2024-11-19T15:28:42.898Z"
   },
   {
    "duration": 182,
    "start_time": "2024-11-19T16:10:58.052Z"
   },
   {
    "duration": 201,
    "start_time": "2024-11-19T16:11:22.846Z"
   },
   {
    "duration": 179,
    "start_time": "2024-11-19T19:31:12.594Z"
   },
   {
    "duration": 133,
    "start_time": "2024-11-19T19:33:02.980Z"
   },
   {
    "duration": 134,
    "start_time": "2024-11-19T19:35:57.204Z"
   },
   {
    "duration": 145,
    "start_time": "2024-11-19T19:36:09.536Z"
   },
   {
    "duration": 133,
    "start_time": "2024-11-19T19:36:22.308Z"
   },
   {
    "duration": 126,
    "start_time": "2024-11-19T19:36:36.987Z"
   },
   {
    "duration": 139,
    "start_time": "2024-11-19T19:37:22.870Z"
   },
   {
    "duration": 129,
    "start_time": "2024-11-19T19:37:57.764Z"
   },
   {
    "duration": 129,
    "start_time": "2024-11-19T19:38:08.455Z"
   },
   {
    "duration": 135,
    "start_time": "2024-11-19T19:38:13.467Z"
   },
   {
    "duration": 138,
    "start_time": "2024-11-19T19:38:18.439Z"
   },
   {
    "duration": 860,
    "start_time": "2024-11-19T19:38:34.173Z"
   },
   {
    "duration": 164,
    "start_time": "2024-11-19T19:38:35.035Z"
   },
   {
    "duration": 9,
    "start_time": "2024-11-19T19:38:35.201Z"
   },
   {
    "duration": 10,
    "start_time": "2024-11-19T19:38:35.212Z"
   },
   {
    "duration": 25,
    "start_time": "2024-11-19T19:38:35.223Z"
   },
   {
    "duration": 7,
    "start_time": "2024-11-19T19:38:35.250Z"
   },
   {
    "duration": 8,
    "start_time": "2024-11-19T19:38:35.259Z"
   },
   {
    "duration": 9,
    "start_time": "2024-11-19T19:38:35.269Z"
   },
   {
    "duration": 17,
    "start_time": "2024-11-19T19:38:35.279Z"
   },
   {
    "duration": 50,
    "start_time": "2024-11-19T19:38:35.299Z"
   },
   {
    "duration": 9,
    "start_time": "2024-11-19T19:38:35.351Z"
   },
   {
    "duration": 26,
    "start_time": "2024-11-19T19:38:35.362Z"
   },
   {
    "duration": 25,
    "start_time": "2024-11-19T19:38:35.389Z"
   },
   {
    "duration": 32,
    "start_time": "2024-11-19T19:38:35.417Z"
   },
   {
    "duration": 9,
    "start_time": "2024-11-19T19:38:35.451Z"
   },
   {
    "duration": 20,
    "start_time": "2024-11-19T19:38:35.462Z"
   },
   {
    "duration": 18,
    "start_time": "2024-11-19T19:38:35.484Z"
   },
   {
    "duration": 42,
    "start_time": "2024-11-19T19:38:35.504Z"
   },
   {
    "duration": 7,
    "start_time": "2024-11-19T19:38:35.547Z"
   },
   {
    "duration": 21,
    "start_time": "2024-11-19T19:38:35.555Z"
   },
   {
    "duration": 22,
    "start_time": "2024-11-19T19:38:35.577Z"
   },
   {
    "duration": 3,
    "start_time": "2024-11-19T19:38:35.601Z"
   },
   {
    "duration": 46,
    "start_time": "2024-11-19T19:38:35.606Z"
   },
   {
    "duration": 13,
    "start_time": "2024-11-19T19:38:35.654Z"
   },
   {
    "duration": 12,
    "start_time": "2024-11-19T19:38:35.668Z"
   },
   {
    "duration": 8,
    "start_time": "2024-11-19T19:38:35.682Z"
   },
   {
    "duration": 52,
    "start_time": "2024-11-19T19:38:35.692Z"
   },
   {
    "duration": 38,
    "start_time": "2024-11-19T19:38:35.748Z"
   },
   {
    "duration": 16,
    "start_time": "2024-11-19T19:38:35.787Z"
   },
   {
    "duration": 8,
    "start_time": "2024-11-19T19:38:35.805Z"
   },
   {
    "duration": 204,
    "start_time": "2024-11-19T19:38:35.815Z"
   },
   {
    "duration": 170,
    "start_time": "2024-11-19T19:38:36.021Z"
   },
   {
    "duration": 8,
    "start_time": "2024-11-19T19:38:36.193Z"
   },
   {
    "duration": 280,
    "start_time": "2024-11-19T19:38:36.202Z"
   },
   {
    "duration": 13,
    "start_time": "2024-11-19T19:38:36.483Z"
   },
   {
    "duration": 216,
    "start_time": "2024-11-19T19:38:36.497Z"
   },
   {
    "duration": 4,
    "start_time": "2024-11-19T19:38:36.714Z"
   },
   {
    "duration": 7,
    "start_time": "2024-11-19T19:38:36.719Z"
   },
   {
    "duration": 117,
    "start_time": "2024-11-19T19:38:36.728Z"
   },
   {
    "duration": 8,
    "start_time": "2024-11-19T19:38:36.846Z"
   },
   {
    "duration": 143,
    "start_time": "2024-11-19T19:38:36.855Z"
   },
   {
    "duration": 3,
    "start_time": "2024-11-19T19:38:37.000Z"
   },
   {
    "duration": 6,
    "start_time": "2024-11-19T19:38:37.005Z"
   },
   {
    "duration": 164,
    "start_time": "2024-11-19T19:42:34.999Z"
   },
   {
    "duration": 173,
    "start_time": "2024-11-19T19:43:40.549Z"
   },
   {
    "duration": 163,
    "start_time": "2024-11-19T19:43:53.260Z"
   },
   {
    "duration": 236,
    "start_time": "2024-11-19T19:44:10.434Z"
   },
   {
    "duration": 192,
    "start_time": "2024-11-19T19:44:30.214Z"
   },
   {
    "duration": 93,
    "start_time": "2024-11-19T20:53:02.381Z"
   },
   {
    "duration": 259,
    "start_time": "2024-11-19T20:58:05.147Z"
   },
   {
    "duration": 250,
    "start_time": "2024-11-19T21:00:09.594Z"
   },
   {
    "duration": 13,
    "start_time": "2024-11-19T21:00:48.232Z"
   },
   {
    "duration": 250,
    "start_time": "2024-11-19T21:01:52.422Z"
   },
   {
    "duration": 129,
    "start_time": "2024-11-19T21:49:16.319Z"
   },
   {
    "duration": 18,
    "start_time": "2024-11-19T21:49:25.056Z"
   },
   {
    "duration": 9,
    "start_time": "2024-11-19T21:49:29.555Z"
   },
   {
    "duration": 8,
    "start_time": "2024-11-19T21:49:55.814Z"
   },
   {
    "duration": 17,
    "start_time": "2024-11-19T21:57:43.141Z"
   },
   {
    "duration": 125,
    "start_time": "2024-11-19T21:57:51.797Z"
   },
   {
    "duration": 125,
    "start_time": "2024-11-19T21:58:23.362Z"
   },
   {
    "duration": 335,
    "start_time": "2024-11-19T21:59:49.272Z"
   },
   {
    "duration": 918,
    "start_time": "2024-11-19T22:00:00.429Z"
   },
   {
    "duration": 310,
    "start_time": "2024-11-19T22:00:18.643Z"
   },
   {
    "duration": 304,
    "start_time": "2024-11-19T22:00:32.760Z"
   },
   {
    "duration": 264,
    "start_time": "2024-11-19T22:03:57.748Z"
   },
   {
    "duration": 360,
    "start_time": "2024-11-19T22:36:40.503Z"
   },
   {
    "duration": 242,
    "start_time": "2024-11-19T22:36:46.862Z"
   },
   {
    "duration": 39,
    "start_time": "2024-11-20T01:23:53.714Z"
   },
   {
    "duration": 43,
    "start_time": "2024-11-20T01:24:36.849Z"
   },
   {
    "duration": 26,
    "start_time": "2024-11-20T01:26:08.492Z"
   },
   {
    "duration": 834,
    "start_time": "2024-11-20T01:28:57.124Z"
   },
   {
    "duration": 175,
    "start_time": "2024-11-20T01:28:57.961Z"
   },
   {
    "duration": 10,
    "start_time": "2024-11-20T01:28:58.137Z"
   },
   {
    "duration": 9,
    "start_time": "2024-11-20T01:28:58.149Z"
   },
   {
    "duration": 8,
    "start_time": "2024-11-20T01:28:58.160Z"
   },
   {
    "duration": 7,
    "start_time": "2024-11-20T01:28:58.170Z"
   },
   {
    "duration": 9,
    "start_time": "2024-11-20T01:28:58.179Z"
   },
   {
    "duration": 9,
    "start_time": "2024-11-20T01:28:58.189Z"
   },
   {
    "duration": 50,
    "start_time": "2024-11-20T01:28:58.200Z"
   },
   {
    "duration": 16,
    "start_time": "2024-11-20T01:28:58.252Z"
   },
   {
    "duration": 10,
    "start_time": "2024-11-20T01:28:58.269Z"
   },
   {
    "duration": 26,
    "start_time": "2024-11-20T01:28:58.281Z"
   },
   {
    "duration": 51,
    "start_time": "2024-11-20T01:28:58.309Z"
   },
   {
    "duration": 12,
    "start_time": "2024-11-20T01:28:58.364Z"
   },
   {
    "duration": 6,
    "start_time": "2024-11-20T01:28:58.377Z"
   },
   {
    "duration": 16,
    "start_time": "2024-11-20T01:28:58.385Z"
   },
   {
    "duration": 70,
    "start_time": "2024-11-20T01:28:58.403Z"
   },
   {
    "duration": 15,
    "start_time": "2024-11-20T01:28:58.475Z"
   },
   {
    "duration": 6,
    "start_time": "2024-11-20T01:28:58.492Z"
   },
   {
    "duration": 21,
    "start_time": "2024-11-20T01:28:58.500Z"
   },
   {
    "duration": 28,
    "start_time": "2024-11-20T01:28:58.524Z"
   },
   {
    "duration": 3,
    "start_time": "2024-11-20T01:28:58.553Z"
   },
   {
    "duration": 20,
    "start_time": "2024-11-20T01:28:58.558Z"
   },
   {
    "duration": 15,
    "start_time": "2024-11-20T01:28:58.579Z"
   },
   {
    "duration": 17,
    "start_time": "2024-11-20T01:28:58.596Z"
   },
   {
    "duration": 13,
    "start_time": "2024-11-20T01:28:58.644Z"
   },
   {
    "duration": 25,
    "start_time": "2024-11-20T01:28:58.659Z"
   },
   {
    "duration": 56,
    "start_time": "2024-11-20T01:28:58.686Z"
   },
   {
    "duration": 25,
    "start_time": "2024-11-20T01:28:58.744Z"
   },
   {
    "duration": 10,
    "start_time": "2024-11-20T01:28:58.771Z"
   },
   {
    "duration": 249,
    "start_time": "2024-11-20T01:28:58.783Z"
   },
   {
    "duration": 225,
    "start_time": "2024-11-20T01:28:59.035Z"
   },
   {
    "duration": 11,
    "start_time": "2024-11-20T01:28:59.262Z"
   },
   {
    "duration": 334,
    "start_time": "2024-11-20T01:28:59.275Z"
   },
   {
    "duration": 10,
    "start_time": "2024-11-20T01:28:59.613Z"
   },
   {
    "duration": 257,
    "start_time": "2024-11-20T01:28:59.625Z"
   },
   {
    "duration": 3,
    "start_time": "2024-11-20T01:28:59.883Z"
   },
   {
    "duration": 13,
    "start_time": "2024-11-20T01:28:59.888Z"
   },
   {
    "duration": 277,
    "start_time": "2024-11-20T01:28:59.903Z"
   },
   {
    "duration": 20,
    "start_time": "2024-11-20T01:29:00.184Z"
   },
   {
    "duration": 367,
    "start_time": "2024-11-20T01:29:00.209Z"
   },
   {
    "duration": 271,
    "start_time": "2024-11-20T01:29:00.578Z"
   },
   {
    "duration": 0,
    "start_time": "2024-11-20T01:29:00.851Z"
   },
   {
    "duration": 878,
    "start_time": "2024-11-20T01:31:54.388Z"
   },
   {
    "duration": 168,
    "start_time": "2024-11-20T01:31:55.268Z"
   },
   {
    "duration": 10,
    "start_time": "2024-11-20T01:31:55.438Z"
   },
   {
    "duration": 10,
    "start_time": "2024-11-20T01:31:55.450Z"
   },
   {
    "duration": 8,
    "start_time": "2024-11-20T01:31:55.462Z"
   },
   {
    "duration": 8,
    "start_time": "2024-11-20T01:31:55.471Z"
   },
   {
    "duration": 8,
    "start_time": "2024-11-20T01:31:55.481Z"
   },
   {
    "duration": 8,
    "start_time": "2024-11-20T01:31:55.491Z"
   },
   {
    "duration": 55,
    "start_time": "2024-11-20T01:31:55.501Z"
   },
   {
    "duration": 16,
    "start_time": "2024-11-20T01:31:55.560Z"
   },
   {
    "duration": 10,
    "start_time": "2024-11-20T01:31:55.577Z"
   },
   {
    "duration": 57,
    "start_time": "2024-11-20T01:31:55.589Z"
   },
   {
    "duration": 26,
    "start_time": "2024-11-20T01:31:55.648Z"
   },
   {
    "duration": 11,
    "start_time": "2024-11-20T01:31:55.677Z"
   },
   {
    "duration": 6,
    "start_time": "2024-11-20T01:31:55.690Z"
   },
   {
    "duration": 17,
    "start_time": "2024-11-20T01:31:55.697Z"
   },
   {
    "duration": 22,
    "start_time": "2024-11-20T01:31:55.742Z"
   },
   {
    "duration": 17,
    "start_time": "2024-11-20T01:31:55.766Z"
   },
   {
    "duration": 9,
    "start_time": "2024-11-20T01:31:55.785Z"
   },
   {
    "duration": 22,
    "start_time": "2024-11-20T01:31:55.797Z"
   },
   {
    "duration": 24,
    "start_time": "2024-11-20T01:31:55.842Z"
   },
   {
    "duration": 3,
    "start_time": "2024-11-20T01:31:55.868Z"
   },
   {
    "duration": 18,
    "start_time": "2024-11-20T01:31:55.873Z"
   },
   {
    "duration": 13,
    "start_time": "2024-11-20T01:31:55.893Z"
   },
   {
    "duration": 46,
    "start_time": "2024-11-20T01:31:55.908Z"
   },
   {
    "duration": 12,
    "start_time": "2024-11-20T01:31:55.956Z"
   },
   {
    "duration": 23,
    "start_time": "2024-11-20T01:31:55.970Z"
   },
   {
    "duration": 46,
    "start_time": "2024-11-20T01:31:55.998Z"
   },
   {
    "duration": 18,
    "start_time": "2024-11-20T01:31:56.045Z"
   },
   {
    "duration": 8,
    "start_time": "2024-11-20T01:31:56.065Z"
   },
   {
    "duration": 208,
    "start_time": "2024-11-20T01:31:56.075Z"
   },
   {
    "duration": 170,
    "start_time": "2024-11-20T01:31:56.285Z"
   },
   {
    "duration": 8,
    "start_time": "2024-11-20T01:31:56.458Z"
   },
   {
    "duration": 299,
    "start_time": "2024-11-20T01:31:56.468Z"
   },
   {
    "duration": 9,
    "start_time": "2024-11-20T01:31:56.769Z"
   },
   {
    "duration": 218,
    "start_time": "2024-11-20T01:31:56.780Z"
   },
   {
    "duration": 3,
    "start_time": "2024-11-20T01:31:56.999Z"
   },
   {
    "duration": 12,
    "start_time": "2024-11-20T01:31:57.003Z"
   },
   {
    "duration": 268,
    "start_time": "2024-11-20T01:31:57.017Z"
   },
   {
    "duration": 18,
    "start_time": "2024-11-20T01:31:57.287Z"
   },
   {
    "duration": 321,
    "start_time": "2024-11-20T01:31:57.306Z"
   },
   {
    "duration": 234,
    "start_time": "2024-11-20T01:31:57.629Z"
   },
   {
    "duration": 0,
    "start_time": "2024-11-20T01:31:57.865Z"
   },
   {
    "duration": 17,
    "start_time": "2024-11-20T01:39:37.391Z"
   },
   {
    "duration": 393,
    "start_time": "2024-11-20T01:40:56.888Z"
   },
   {
    "duration": 292,
    "start_time": "2024-11-20T01:41:05.170Z"
   },
   {
    "duration": 286,
    "start_time": "2024-11-20T01:41:11.973Z"
   },
   {
    "duration": 8,
    "start_time": "2024-11-20T01:43:11.253Z"
   },
   {
    "duration": 15,
    "start_time": "2024-11-20T01:43:27.902Z"
   },
   {
    "duration": 174,
    "start_time": "2024-11-20T13:39:44.751Z"
   },
   {
    "duration": 2604,
    "start_time": "2024-11-20T13:39:52.026Z"
   },
   {
    "duration": 207,
    "start_time": "2024-11-20T13:39:54.632Z"
   },
   {
    "duration": 10,
    "start_time": "2024-11-20T13:39:54.841Z"
   },
   {
    "duration": 10,
    "start_time": "2024-11-20T13:39:54.853Z"
   },
   {
    "duration": 7,
    "start_time": "2024-11-20T13:39:54.866Z"
   },
   {
    "duration": 7,
    "start_time": "2024-11-20T13:39:54.875Z"
   },
   {
    "duration": 28,
    "start_time": "2024-11-20T13:39:54.884Z"
   },
   {
    "duration": 8,
    "start_time": "2024-11-20T13:39:54.914Z"
   },
   {
    "duration": 16,
    "start_time": "2024-11-20T13:39:54.924Z"
   },
   {
    "duration": 14,
    "start_time": "2024-11-20T13:39:54.944Z"
   },
   {
    "duration": 10,
    "start_time": "2024-11-20T13:39:54.960Z"
   },
   {
    "duration": 53,
    "start_time": "2024-11-20T13:39:54.972Z"
   },
   {
    "duration": 25,
    "start_time": "2024-11-20T13:39:55.028Z"
   },
   {
    "duration": 12,
    "start_time": "2024-11-20T13:39:55.055Z"
   },
   {
    "duration": 6,
    "start_time": "2024-11-20T13:39:55.068Z"
   },
   {
    "duration": 46,
    "start_time": "2024-11-20T13:39:55.076Z"
   },
   {
    "duration": 18,
    "start_time": "2024-11-20T13:39:55.123Z"
   },
   {
    "duration": 13,
    "start_time": "2024-11-20T13:39:55.142Z"
   },
   {
    "duration": 6,
    "start_time": "2024-11-20T13:39:55.157Z"
   },
   {
    "duration": 45,
    "start_time": "2024-11-20T13:39:55.165Z"
   },
   {
    "duration": 22,
    "start_time": "2024-11-20T13:39:55.212Z"
   },
   {
    "duration": 3,
    "start_time": "2024-11-20T13:39:55.236Z"
   },
   {
    "duration": 22,
    "start_time": "2024-11-20T13:39:55.240Z"
   },
   {
    "duration": 15,
    "start_time": "2024-11-20T13:39:55.265Z"
   },
   {
    "duration": 37,
    "start_time": "2024-11-20T13:39:55.281Z"
   },
   {
    "duration": 10,
    "start_time": "2024-11-20T13:39:55.319Z"
   },
   {
    "duration": 22,
    "start_time": "2024-11-20T13:39:55.331Z"
   },
   {
    "duration": 57,
    "start_time": "2024-11-20T13:39:55.358Z"
   },
   {
    "duration": 19,
    "start_time": "2024-11-20T13:39:55.417Z"
   },
   {
    "duration": 8,
    "start_time": "2024-11-20T13:39:55.438Z"
   },
   {
    "duration": 202,
    "start_time": "2024-11-20T13:39:55.447Z"
   },
   {
    "duration": 174,
    "start_time": "2024-11-20T13:39:55.651Z"
   },
   {
    "duration": 9,
    "start_time": "2024-11-20T13:39:55.827Z"
   },
   {
    "duration": 239,
    "start_time": "2024-11-20T13:39:55.837Z"
   },
   {
    "duration": 8,
    "start_time": "2024-11-20T13:39:56.078Z"
   },
   {
    "duration": 211,
    "start_time": "2024-11-20T13:39:56.087Z"
   },
   {
    "duration": 9,
    "start_time": "2024-11-20T13:39:56.300Z"
   },
   {
    "duration": 13,
    "start_time": "2024-11-20T13:39:56.311Z"
   },
   {
    "duration": 324,
    "start_time": "2024-11-20T13:39:56.326Z"
   },
   {
    "duration": 671,
    "start_time": "2024-11-20T13:39:56.652Z"
   },
   {
    "duration": 0,
    "start_time": "2024-11-20T13:39:57.326Z"
   },
   {
    "duration": 0,
    "start_time": "2024-11-20T13:39:57.328Z"
   },
   {
    "duration": 0,
    "start_time": "2024-11-20T13:39:57.328Z"
   },
   {
    "duration": 886,
    "start_time": "2024-11-20T13:48:17.131Z"
   },
   {
    "duration": 156,
    "start_time": "2024-11-20T13:48:18.019Z"
   },
   {
    "duration": 9,
    "start_time": "2024-11-20T13:48:18.177Z"
   },
   {
    "duration": 9,
    "start_time": "2024-11-20T13:48:18.188Z"
   },
   {
    "duration": 7,
    "start_time": "2024-11-20T13:48:18.208Z"
   },
   {
    "duration": 8,
    "start_time": "2024-11-20T13:48:18.217Z"
   },
   {
    "duration": 7,
    "start_time": "2024-11-20T13:48:18.227Z"
   },
   {
    "duration": 9,
    "start_time": "2024-11-20T13:48:18.236Z"
   },
   {
    "duration": 16,
    "start_time": "2024-11-20T13:48:18.246Z"
   },
   {
    "duration": 51,
    "start_time": "2024-11-20T13:48:18.264Z"
   },
   {
    "duration": 10,
    "start_time": "2024-11-20T13:48:18.317Z"
   },
   {
    "duration": 26,
    "start_time": "2024-11-20T13:48:18.328Z"
   },
   {
    "duration": 26,
    "start_time": "2024-11-20T13:48:18.356Z"
   },
   {
    "duration": 12,
    "start_time": "2024-11-20T13:48:18.409Z"
   },
   {
    "duration": 7,
    "start_time": "2024-11-20T13:48:18.422Z"
   },
   {
    "duration": 17,
    "start_time": "2024-11-20T13:48:18.431Z"
   },
   {
    "duration": 18,
    "start_time": "2024-11-20T13:48:18.450Z"
   },
   {
    "duration": 41,
    "start_time": "2024-11-20T13:48:18.470Z"
   },
   {
    "duration": 7,
    "start_time": "2024-11-20T13:48:18.513Z"
   },
   {
    "duration": 20,
    "start_time": "2024-11-20T13:48:18.521Z"
   },
   {
    "duration": 23,
    "start_time": "2024-11-20T13:48:18.543Z"
   },
   {
    "duration": 3,
    "start_time": "2024-11-20T13:48:19.044Z"
   },
   {
    "duration": 48,
    "start_time": "2024-11-20T13:48:19.049Z"
   },
   {
    "duration": 23,
    "start_time": "2024-11-20T13:48:19.099Z"
   },
   {
    "duration": 25,
    "start_time": "2024-11-20T13:48:19.124Z"
   },
   {
    "duration": 18,
    "start_time": "2024-11-20T13:48:19.151Z"
   },
   {
    "duration": 23,
    "start_time": "2024-11-20T13:48:19.171Z"
   },
   {
    "duration": 27,
    "start_time": "2024-11-20T13:48:19.195Z"
   },
   {
    "duration": 21,
    "start_time": "2024-11-20T13:48:19.223Z"
   },
   {
    "duration": 7,
    "start_time": "2024-11-20T13:48:19.246Z"
   },
   {
    "duration": 199,
    "start_time": "2024-11-20T13:48:19.255Z"
   },
   {
    "duration": 173,
    "start_time": "2024-11-20T13:48:19.456Z"
   },
   {
    "duration": 8,
    "start_time": "2024-11-20T13:48:19.631Z"
   },
   {
    "duration": 295,
    "start_time": "2024-11-20T13:48:19.641Z"
   },
   {
    "duration": 7,
    "start_time": "2024-11-20T13:48:19.940Z"
   },
   {
    "duration": 220,
    "start_time": "2024-11-20T13:48:19.949Z"
   },
   {
    "duration": 2,
    "start_time": "2024-11-20T13:48:20.171Z"
   },
   {
    "duration": 13,
    "start_time": "2024-11-20T13:48:20.175Z"
   },
   {
    "duration": 278,
    "start_time": "2024-11-20T13:48:20.190Z"
   },
   {
    "duration": 645,
    "start_time": "2024-11-20T13:48:20.470Z"
   },
   {
    "duration": 0,
    "start_time": "2024-11-20T13:48:21.116Z"
   },
   {
    "duration": 0,
    "start_time": "2024-11-20T13:48:21.117Z"
   },
   {
    "duration": 0,
    "start_time": "2024-11-20T13:48:21.119Z"
   },
   {
    "duration": 18,
    "start_time": "2024-11-20T13:52:46.495Z"
   },
   {
    "duration": 102,
    "start_time": "2024-11-20T13:54:06.356Z"
   },
   {
    "duration": 184,
    "start_time": "2024-11-20T13:55:57.698Z"
   },
   {
    "duration": 0,
    "start_time": "2024-11-20T13:56:02.513Z"
   },
   {
    "duration": 0,
    "start_time": "2024-11-20T13:56:02.514Z"
   },
   {
    "duration": 0,
    "start_time": "2024-11-20T13:56:02.516Z"
   },
   {
    "duration": 0,
    "start_time": "2024-11-20T13:56:02.517Z"
   },
   {
    "duration": 0,
    "start_time": "2024-11-20T13:56:02.519Z"
   },
   {
    "duration": 0,
    "start_time": "2024-11-20T13:56:02.520Z"
   },
   {
    "duration": 0,
    "start_time": "2024-11-20T13:56:02.522Z"
   },
   {
    "duration": 0,
    "start_time": "2024-11-20T13:56:02.523Z"
   },
   {
    "duration": 0,
    "start_time": "2024-11-20T13:56:02.524Z"
   },
   {
    "duration": 0,
    "start_time": "2024-11-20T13:56:02.526Z"
   },
   {
    "duration": 0,
    "start_time": "2024-11-20T13:56:02.527Z"
   },
   {
    "duration": 0,
    "start_time": "2024-11-20T13:56:02.529Z"
   },
   {
    "duration": 0,
    "start_time": "2024-11-20T13:56:02.530Z"
   },
   {
    "duration": 0,
    "start_time": "2024-11-20T13:56:02.532Z"
   },
   {
    "duration": 0,
    "start_time": "2024-11-20T13:56:02.533Z"
   },
   {
    "duration": 0,
    "start_time": "2024-11-20T13:56:02.534Z"
   },
   {
    "duration": 0,
    "start_time": "2024-11-20T13:56:02.535Z"
   },
   {
    "duration": 0,
    "start_time": "2024-11-20T13:56:02.537Z"
   },
   {
    "duration": 0,
    "start_time": "2024-11-20T13:56:02.537Z"
   },
   {
    "duration": 0,
    "start_time": "2024-11-20T13:56:02.538Z"
   },
   {
    "duration": 0,
    "start_time": "2024-11-20T13:56:02.539Z"
   },
   {
    "duration": 0,
    "start_time": "2024-11-20T13:56:02.540Z"
   },
   {
    "duration": 0,
    "start_time": "2024-11-20T13:56:02.541Z"
   },
   {
    "duration": 0,
    "start_time": "2024-11-20T13:56:02.543Z"
   },
   {
    "duration": 0,
    "start_time": "2024-11-20T13:56:02.544Z"
   },
   {
    "duration": 12,
    "start_time": "2024-11-20T13:56:03.127Z"
   },
   {
    "duration": 22,
    "start_time": "2024-11-20T13:56:03.141Z"
   },
   {
    "duration": 26,
    "start_time": "2024-11-20T13:56:03.164Z"
   },
   {
    "duration": 31,
    "start_time": "2024-11-20T13:56:03.191Z"
   },
   {
    "duration": 7,
    "start_time": "2024-11-20T13:56:03.224Z"
   },
   {
    "duration": 178,
    "start_time": "2024-11-20T13:56:03.233Z"
   },
   {
    "duration": 837,
    "start_time": "2024-11-20T13:56:45.366Z"
   },
   {
    "duration": 157,
    "start_time": "2024-11-20T13:56:46.205Z"
   },
   {
    "duration": 9,
    "start_time": "2024-11-20T13:56:46.364Z"
   },
   {
    "duration": 10,
    "start_time": "2024-11-20T13:56:46.375Z"
   },
   {
    "duration": 7,
    "start_time": "2024-11-20T13:56:46.387Z"
   },
   {
    "duration": 21,
    "start_time": "2024-11-20T13:56:46.395Z"
   },
   {
    "duration": 8,
    "start_time": "2024-11-20T13:56:46.418Z"
   },
   {
    "duration": 8,
    "start_time": "2024-11-20T13:56:46.428Z"
   },
   {
    "duration": 16,
    "start_time": "2024-11-20T13:56:46.438Z"
   },
   {
    "duration": 15,
    "start_time": "2024-11-20T13:56:46.455Z"
   },
   {
    "duration": 45,
    "start_time": "2024-11-20T13:56:46.472Z"
   },
   {
    "duration": 26,
    "start_time": "2024-11-20T13:56:46.518Z"
   },
   {
    "duration": 26,
    "start_time": "2024-11-20T13:56:46.546Z"
   },
   {
    "duration": 36,
    "start_time": "2024-11-20T13:56:46.575Z"
   },
   {
    "duration": 7,
    "start_time": "2024-11-20T13:56:46.612Z"
   },
   {
    "duration": 16,
    "start_time": "2024-11-20T13:56:46.621Z"
   },
   {
    "duration": 18,
    "start_time": "2024-11-20T13:56:46.639Z"
   },
   {
    "duration": 13,
    "start_time": "2024-11-20T13:56:46.658Z"
   },
   {
    "duration": 6,
    "start_time": "2024-11-20T13:56:46.673Z"
   },
   {
    "duration": 27,
    "start_time": "2024-11-20T13:56:46.709Z"
   },
   {
    "duration": 22,
    "start_time": "2024-11-20T13:56:46.739Z"
   },
   {
    "duration": 3,
    "start_time": "2024-11-20T13:56:46.763Z"
   },
   {
    "duration": 41,
    "start_time": "2024-11-20T13:56:46.768Z"
   },
   {
    "duration": 13,
    "start_time": "2024-11-20T13:56:46.810Z"
   },
   {
    "duration": 12,
    "start_time": "2024-11-20T13:56:46.824Z"
   },
   {
    "duration": 10,
    "start_time": "2024-11-20T13:56:46.837Z"
   },
   {
    "duration": 22,
    "start_time": "2024-11-20T13:56:46.849Z"
   },
   {
    "duration": 57,
    "start_time": "2024-11-20T13:56:46.873Z"
   },
   {
    "duration": 17,
    "start_time": "2024-11-20T13:56:46.932Z"
   },
   {
    "duration": 7,
    "start_time": "2024-11-20T13:56:46.951Z"
   },
   {
    "duration": 173,
    "start_time": "2024-11-20T13:56:48.478Z"
   },
   {
    "duration": 165,
    "start_time": "2024-11-20T13:56:49.118Z"
   },
   {
    "duration": 9,
    "start_time": "2024-11-20T13:56:49.285Z"
   },
   {
    "duration": 282,
    "start_time": "2024-11-20T13:56:49.295Z"
   },
   {
    "duration": 8,
    "start_time": "2024-11-20T13:56:49.579Z"
   },
   {
    "duration": 210,
    "start_time": "2024-11-20T13:56:49.590Z"
   },
   {
    "duration": 9,
    "start_time": "2024-11-20T13:56:49.801Z"
   },
   {
    "duration": 15,
    "start_time": "2024-11-20T13:56:49.812Z"
   },
   {
    "duration": 251,
    "start_time": "2024-11-20T13:56:49.829Z"
   },
   {
    "duration": 647,
    "start_time": "2024-11-20T13:56:50.082Z"
   },
   {
    "duration": 281,
    "start_time": "2024-11-20T13:56:50.822Z"
   },
   {
    "duration": 15,
    "start_time": "2024-11-20T13:56:51.105Z"
   },
   {
    "duration": 6,
    "start_time": "2024-11-20T13:56:51.122Z"
   },
   {
    "duration": 800,
    "start_time": "2024-11-20T14:13:04.109Z"
   },
   {
    "duration": 160,
    "start_time": "2024-11-20T14:13:04.911Z"
   },
   {
    "duration": 10,
    "start_time": "2024-11-20T14:13:05.073Z"
   },
   {
    "duration": 8,
    "start_time": "2024-11-20T14:13:05.085Z"
   },
   {
    "duration": 14,
    "start_time": "2024-11-20T14:13:05.095Z"
   },
   {
    "duration": 7,
    "start_time": "2024-11-20T14:13:05.111Z"
   },
   {
    "duration": 7,
    "start_time": "2024-11-20T14:13:05.120Z"
   },
   {
    "duration": 8,
    "start_time": "2024-11-20T14:13:05.128Z"
   },
   {
    "duration": 17,
    "start_time": "2024-11-20T14:13:05.138Z"
   },
   {
    "duration": 16,
    "start_time": "2024-11-20T14:13:05.157Z"
   },
   {
    "duration": 9,
    "start_time": "2024-11-20T14:13:05.209Z"
   },
   {
    "duration": 25,
    "start_time": "2024-11-20T14:13:05.221Z"
   },
   {
    "duration": 26,
    "start_time": "2024-11-20T14:13:05.248Z"
   },
   {
    "duration": 38,
    "start_time": "2024-11-20T14:13:05.276Z"
   },
   {
    "duration": 6,
    "start_time": "2024-11-20T14:13:05.315Z"
   },
   {
    "duration": 19,
    "start_time": "2024-11-20T14:13:06.013Z"
   },
   {
    "duration": 18,
    "start_time": "2024-11-20T14:13:06.034Z"
   },
   {
    "duration": 13,
    "start_time": "2024-11-20T14:13:06.054Z"
   },
   {
    "duration": 6,
    "start_time": "2024-11-20T14:13:06.069Z"
   },
   {
    "duration": 20,
    "start_time": "2024-11-20T14:13:06.108Z"
   },
   {
    "duration": 22,
    "start_time": "2024-11-20T14:13:06.130Z"
   },
   {
    "duration": 4,
    "start_time": "2024-11-20T14:13:06.153Z"
   },
   {
    "duration": 18,
    "start_time": "2024-11-20T14:13:06.158Z"
   },
   {
    "duration": 37,
    "start_time": "2024-11-20T14:13:06.178Z"
   },
   {
    "duration": 11,
    "start_time": "2024-11-20T14:13:06.216Z"
   },
   {
    "duration": 10,
    "start_time": "2024-11-20T14:13:06.230Z"
   },
   {
    "duration": 22,
    "start_time": "2024-11-20T14:13:06.241Z"
   },
   {
    "duration": 49,
    "start_time": "2024-11-20T14:13:06.265Z"
   },
   {
    "duration": 18,
    "start_time": "2024-11-20T14:13:06.318Z"
   },
   {
    "duration": 8,
    "start_time": "2024-11-20T14:13:06.338Z"
   },
   {
    "duration": 201,
    "start_time": "2024-11-20T14:13:06.348Z"
   },
   {
    "duration": 198,
    "start_time": "2024-11-20T14:13:06.672Z"
   },
   {
    "duration": 9,
    "start_time": "2024-11-20T14:13:06.873Z"
   },
   {
    "duration": 291,
    "start_time": "2024-11-20T14:13:06.883Z"
   },
   {
    "duration": 10,
    "start_time": "2024-11-20T14:13:07.176Z"
   },
   {
    "duration": 264,
    "start_time": "2024-11-20T14:13:07.188Z"
   },
   {
    "duration": 3,
    "start_time": "2024-11-20T14:13:07.454Z"
   },
   {
    "duration": 12,
    "start_time": "2024-11-20T14:13:07.459Z"
   },
   {
    "duration": 279,
    "start_time": "2024-11-20T14:13:07.473Z"
   },
   {
    "duration": 659,
    "start_time": "2024-11-20T14:13:07.754Z"
   },
   {
    "duration": 0,
    "start_time": "2024-11-20T14:13:08.415Z"
   },
   {
    "duration": 0,
    "start_time": "2024-11-20T14:13:08.417Z"
   },
   {
    "duration": 0,
    "start_time": "2024-11-20T14:13:08.418Z"
   },
   {
    "duration": 808,
    "start_time": "2024-11-20T14:13:23.806Z"
   },
   {
    "duration": 162,
    "start_time": "2024-11-20T14:13:24.616Z"
   },
   {
    "duration": 9,
    "start_time": "2024-11-20T14:13:24.779Z"
   },
   {
    "duration": 17,
    "start_time": "2024-11-20T14:13:24.791Z"
   },
   {
    "duration": 8,
    "start_time": "2024-11-20T14:13:24.810Z"
   },
   {
    "duration": 7,
    "start_time": "2024-11-20T14:13:24.820Z"
   },
   {
    "duration": 9,
    "start_time": "2024-11-20T14:13:24.828Z"
   },
   {
    "duration": 8,
    "start_time": "2024-11-20T14:13:24.839Z"
   },
   {
    "duration": 16,
    "start_time": "2024-11-20T14:13:24.848Z"
   },
   {
    "duration": 47,
    "start_time": "2024-11-20T14:13:24.868Z"
   },
   {
    "duration": 10,
    "start_time": "2024-11-20T14:13:24.917Z"
   },
   {
    "duration": 26,
    "start_time": "2024-11-20T14:13:24.929Z"
   },
   {
    "duration": 27,
    "start_time": "2024-11-20T14:13:24.957Z"
   },
   {
    "duration": 13,
    "start_time": "2024-11-20T14:13:25.009Z"
   },
   {
    "duration": 6,
    "start_time": "2024-11-20T14:13:25.025Z"
   },
   {
    "duration": 17,
    "start_time": "2024-11-20T14:13:25.033Z"
   },
   {
    "duration": 18,
    "start_time": "2024-11-20T14:13:25.051Z"
   },
   {
    "duration": 42,
    "start_time": "2024-11-20T14:13:25.071Z"
   },
   {
    "duration": 7,
    "start_time": "2024-11-20T14:13:25.114Z"
   },
   {
    "duration": 27,
    "start_time": "2024-11-20T14:13:25.123Z"
   },
   {
    "duration": 31,
    "start_time": "2024-11-20T14:13:25.152Z"
   },
   {
    "duration": 3,
    "start_time": "2024-11-20T14:13:25.185Z"
   },
   {
    "duration": 27,
    "start_time": "2024-11-20T14:13:25.210Z"
   },
   {
    "duration": 19,
    "start_time": "2024-11-20T14:13:25.239Z"
   },
   {
    "duration": 16,
    "start_time": "2024-11-20T14:13:25.261Z"
   },
   {
    "duration": 37,
    "start_time": "2024-11-20T14:13:25.280Z"
   },
   {
    "duration": 34,
    "start_time": "2024-11-20T14:13:25.319Z"
   },
   {
    "duration": 52,
    "start_time": "2024-11-20T14:13:25.358Z"
   },
   {
    "duration": 23,
    "start_time": "2024-11-20T14:13:25.412Z"
   },
   {
    "duration": 11,
    "start_time": "2024-11-20T14:13:25.437Z"
   },
   {
    "duration": 240,
    "start_time": "2024-11-20T14:13:25.450Z"
   },
   {
    "duration": 199,
    "start_time": "2024-11-20T14:13:25.692Z"
   },
   {
    "duration": 8,
    "start_time": "2024-11-20T14:13:25.892Z"
   },
   {
    "duration": 326,
    "start_time": "2024-11-20T14:13:25.903Z"
   },
   {
    "duration": 9,
    "start_time": "2024-11-20T14:13:26.231Z"
   },
   {
    "duration": 223,
    "start_time": "2024-11-20T14:13:26.243Z"
   },
   {
    "duration": 3,
    "start_time": "2024-11-20T14:13:26.468Z"
   },
   {
    "duration": 15,
    "start_time": "2024-11-20T14:13:26.473Z"
   },
   {
    "duration": 305,
    "start_time": "2024-11-20T14:13:26.489Z"
   },
   {
    "duration": 775,
    "start_time": "2024-11-20T14:13:26.796Z"
   },
   {
    "duration": 0,
    "start_time": "2024-11-20T14:13:27.573Z"
   },
   {
    "duration": 0,
    "start_time": "2024-11-20T14:13:27.574Z"
   },
   {
    "duration": 0,
    "start_time": "2024-11-20T14:13:27.575Z"
   },
   {
    "duration": 21,
    "start_time": "2024-11-20T14:51:18.003Z"
   },
   {
    "duration": 794,
    "start_time": "2024-11-20T15:01:54.999Z"
   },
   {
    "duration": 175,
    "start_time": "2024-11-20T15:01:55.796Z"
   },
   {
    "duration": 9,
    "start_time": "2024-11-20T15:01:55.973Z"
   },
   {
    "duration": 10,
    "start_time": "2024-11-20T15:01:55.985Z"
   },
   {
    "duration": 17,
    "start_time": "2024-11-20T15:01:55.997Z"
   },
   {
    "duration": 8,
    "start_time": "2024-11-20T15:01:56.015Z"
   },
   {
    "duration": 10,
    "start_time": "2024-11-20T15:01:56.025Z"
   },
   {
    "duration": 8,
    "start_time": "2024-11-20T15:01:56.037Z"
   },
   {
    "duration": 17,
    "start_time": "2024-11-20T15:01:56.047Z"
   },
   {
    "duration": 50,
    "start_time": "2024-11-20T15:01:56.066Z"
   },
   {
    "duration": 11,
    "start_time": "2024-11-20T15:01:56.118Z"
   },
   {
    "duration": 28,
    "start_time": "2024-11-20T15:01:56.130Z"
   },
   {
    "duration": 55,
    "start_time": "2024-11-20T15:01:56.161Z"
   },
   {
    "duration": 12,
    "start_time": "2024-11-20T15:01:56.218Z"
   },
   {
    "duration": 6,
    "start_time": "2024-11-20T15:01:56.231Z"
   },
   {
    "duration": 17,
    "start_time": "2024-11-20T15:01:56.239Z"
   },
   {
    "duration": 19,
    "start_time": "2024-11-20T15:01:56.257Z"
   },
   {
    "duration": 15,
    "start_time": "2024-11-20T15:01:56.310Z"
   },
   {
    "duration": 7,
    "start_time": "2024-11-20T15:01:56.328Z"
   },
   {
    "duration": 22,
    "start_time": "2024-11-20T15:01:56.336Z"
   },
   {
    "duration": 54,
    "start_time": "2024-11-20T15:01:56.360Z"
   },
   {
    "duration": 3,
    "start_time": "2024-11-20T15:01:56.415Z"
   },
   {
    "duration": 20,
    "start_time": "2024-11-20T15:01:56.420Z"
   },
   {
    "duration": 14,
    "start_time": "2024-11-20T15:01:56.442Z"
   },
   {
    "duration": 14,
    "start_time": "2024-11-20T15:01:56.458Z"
   },
   {
    "duration": 41,
    "start_time": "2024-11-20T15:01:56.475Z"
   },
   {
    "duration": 24,
    "start_time": "2024-11-20T15:01:56.518Z"
   },
   {
    "duration": 25,
    "start_time": "2024-11-20T15:01:56.543Z"
   },
   {
    "duration": 41,
    "start_time": "2024-11-20T15:01:56.570Z"
   },
   {
    "duration": 19,
    "start_time": "2024-11-20T15:01:56.613Z"
   },
   {
    "duration": 7,
    "start_time": "2024-11-20T15:01:56.634Z"
   },
   {
    "duration": 5,
    "start_time": "2024-11-20T15:01:56.642Z"
   },
   {
    "duration": 198,
    "start_time": "2024-11-20T15:01:56.648Z"
   },
   {
    "duration": 167,
    "start_time": "2024-11-20T15:01:56.849Z"
   },
   {
    "duration": 9,
    "start_time": "2024-11-20T15:01:57.017Z"
   },
   {
    "duration": 279,
    "start_time": "2024-11-20T15:01:58.098Z"
   },
   {
    "duration": 8,
    "start_time": "2024-11-20T15:01:58.379Z"
   },
   {
    "duration": 204,
    "start_time": "2024-11-20T15:01:58.389Z"
   },
   {
    "duration": 3,
    "start_time": "2024-11-20T15:01:58.595Z"
   },
   {
    "duration": 12,
    "start_time": "2024-11-20T15:01:58.609Z"
   },
   {
    "duration": 267,
    "start_time": "2024-11-20T15:01:58.623Z"
   },
   {
    "duration": 698,
    "start_time": "2024-11-20T15:01:58.892Z"
   },
   {
    "duration": 0,
    "start_time": "2024-11-20T15:01:59.592Z"
   },
   {
    "duration": 0,
    "start_time": "2024-11-20T15:01:59.593Z"
   },
   {
    "duration": 0,
    "start_time": "2024-11-20T15:01:59.595Z"
   },
   {
    "duration": 158,
    "start_time": "2024-11-20T15:05:49.865Z"
   },
   {
    "duration": 312,
    "start_time": "2024-11-20T15:06:09.102Z"
   },
   {
    "duration": 831,
    "start_time": "2024-11-20T15:06:29.691Z"
   },
   {
    "duration": 162,
    "start_time": "2024-11-20T15:06:30.524Z"
   },
   {
    "duration": 8,
    "start_time": "2024-11-20T15:06:30.688Z"
   },
   {
    "duration": 16,
    "start_time": "2024-11-20T15:06:30.699Z"
   },
   {
    "duration": 8,
    "start_time": "2024-11-20T15:06:30.717Z"
   },
   {
    "duration": 8,
    "start_time": "2024-11-20T15:06:30.726Z"
   },
   {
    "duration": 8,
    "start_time": "2024-11-20T15:06:30.735Z"
   },
   {
    "duration": 8,
    "start_time": "2024-11-20T15:06:30.747Z"
   },
   {
    "duration": 18,
    "start_time": "2024-11-20T15:06:30.756Z"
   },
   {
    "duration": 16,
    "start_time": "2024-11-20T15:06:30.810Z"
   },
   {
    "duration": 10,
    "start_time": "2024-11-20T15:06:30.828Z"
   },
   {
    "duration": 27,
    "start_time": "2024-11-20T15:06:30.839Z"
   },
   {
    "duration": 52,
    "start_time": "2024-11-20T15:06:30.867Z"
   },
   {
    "duration": 12,
    "start_time": "2024-11-20T15:06:30.920Z"
   },
   {
    "duration": 6,
    "start_time": "2024-11-20T15:06:30.934Z"
   },
   {
    "duration": 17,
    "start_time": "2024-11-20T15:06:30.941Z"
   },
   {
    "duration": 19,
    "start_time": "2024-11-20T15:06:30.959Z"
   },
   {
    "duration": 14,
    "start_time": "2024-11-20T15:06:31.009Z"
   },
   {
    "duration": 6,
    "start_time": "2024-11-20T15:06:31.025Z"
   },
   {
    "duration": 21,
    "start_time": "2024-11-20T15:06:31.033Z"
   },
   {
    "duration": 24,
    "start_time": "2024-11-20T15:06:31.055Z"
   },
   {
    "duration": 29,
    "start_time": "2024-11-20T15:06:31.081Z"
   },
   {
    "duration": 18,
    "start_time": "2024-11-20T15:06:31.112Z"
   },
   {
    "duration": 13,
    "start_time": "2024-11-20T15:06:31.132Z"
   },
   {
    "duration": 12,
    "start_time": "2024-11-20T15:06:31.146Z"
   },
   {
    "duration": 12,
    "start_time": "2024-11-20T15:06:31.160Z"
   },
   {
    "duration": 55,
    "start_time": "2024-11-20T15:06:31.173Z"
   },
   {
    "duration": 25,
    "start_time": "2024-11-20T15:06:31.232Z"
   },
   {
    "duration": 18,
    "start_time": "2024-11-20T15:06:31.258Z"
   },
   {
    "duration": 43,
    "start_time": "2024-11-20T15:06:31.278Z"
   },
   {
    "duration": 9,
    "start_time": "2024-11-20T15:06:31.324Z"
   },
   {
    "duration": 5,
    "start_time": "2024-11-20T15:06:31.334Z"
   },
   {
    "duration": 192,
    "start_time": "2024-11-20T15:06:31.341Z"
   },
   {
    "duration": 286,
    "start_time": "2024-11-20T15:06:31.535Z"
   },
   {
    "duration": 9,
    "start_time": "2024-11-20T15:06:31.823Z"
   },
   {
    "duration": 233,
    "start_time": "2024-11-20T15:06:31.833Z"
   },
   {
    "duration": 8,
    "start_time": "2024-11-20T15:06:32.068Z"
   },
   {
    "duration": 232,
    "start_time": "2024-11-20T15:06:32.078Z"
   },
   {
    "duration": 2,
    "start_time": "2024-11-20T15:06:32.312Z"
   },
   {
    "duration": 12,
    "start_time": "2024-11-20T15:06:32.315Z"
   },
   {
    "duration": 248,
    "start_time": "2024-11-20T15:06:32.329Z"
   },
   {
    "duration": 658,
    "start_time": "2024-11-20T15:06:32.579Z"
   },
   {
    "duration": 0,
    "start_time": "2024-11-20T15:06:33.239Z"
   },
   {
    "duration": 0,
    "start_time": "2024-11-20T15:06:33.240Z"
   },
   {
    "duration": 0,
    "start_time": "2024-11-20T15:06:33.241Z"
   },
   {
    "duration": 249,
    "start_time": "2024-11-20T15:06:54.710Z"
   },
   {
    "duration": 646,
    "start_time": "2024-11-20T15:07:35.536Z"
   },
   {
    "duration": 181,
    "start_time": "2024-11-20T15:07:44.708Z"
   },
   {
    "duration": 158,
    "start_time": "2024-11-20T15:07:53.750Z"
   },
   {
    "duration": 170,
    "start_time": "2024-11-20T15:08:08.401Z"
   },
   {
    "duration": 142,
    "start_time": "2024-11-20T15:08:36.247Z"
   },
   {
    "duration": 161,
    "start_time": "2024-11-20T15:08:48.243Z"
   },
   {
    "duration": 162,
    "start_time": "2024-11-20T15:09:42.666Z"
   },
   {
    "duration": 8,
    "start_time": "2024-11-20T15:11:15.604Z"
   },
   {
    "duration": 8,
    "start_time": "2024-11-20T15:11:34.468Z"
   },
   {
    "duration": 9,
    "start_time": "2024-11-20T15:11:45.867Z"
   },
   {
    "duration": 22,
    "start_time": "2024-11-20T15:12:58.746Z"
   },
   {
    "duration": 11,
    "start_time": "2024-11-20T15:13:09.656Z"
   },
   {
    "duration": 202,
    "start_time": "2024-11-20T15:14:16.011Z"
   },
   {
    "duration": 205,
    "start_time": "2024-11-20T15:14:28.072Z"
   },
   {
    "duration": 205,
    "start_time": "2024-11-20T15:14:38.997Z"
   },
   {
    "duration": 310,
    "start_time": "2024-11-20T15:15:54.803Z"
   },
   {
    "duration": 48,
    "start_time": "2024-11-20T15:16:03.671Z"
   },
   {
    "duration": 204,
    "start_time": "2024-11-20T15:16:15.866Z"
   },
   {
    "duration": 115,
    "start_time": "2024-11-20T15:19:43.497Z"
   },
   {
    "duration": 59,
    "start_time": "2024-11-20T15:20:16.811Z"
   },
   {
    "duration": 12,
    "start_time": "2024-11-20T15:20:23.370Z"
   },
   {
    "duration": 12,
    "start_time": "2024-11-20T15:21:32.146Z"
   },
   {
    "duration": 11,
    "start_time": "2024-11-20T15:21:38.913Z"
   },
   {
    "duration": 13,
    "start_time": "2024-11-20T15:22:07.061Z"
   },
   {
    "duration": 14,
    "start_time": "2024-11-20T15:24:07.672Z"
   },
   {
    "duration": 14,
    "start_time": "2024-11-20T15:24:30.522Z"
   },
   {
    "duration": 199,
    "start_time": "2024-11-20T15:25:06.521Z"
   },
   {
    "duration": 125,
    "start_time": "2024-11-20T15:25:28.570Z"
   },
   {
    "duration": 206,
    "start_time": "2024-11-20T15:25:55.107Z"
   },
   {
    "duration": 53,
    "start_time": "2024-11-20T15:26:29.746Z"
   },
   {
    "duration": 45,
    "start_time": "2024-11-20T15:27:03.076Z"
   },
   {
    "duration": 45,
    "start_time": "2024-11-20T15:27:39.181Z"
   },
   {
    "duration": 110,
    "start_time": "2024-11-20T15:27:46.966Z"
   },
   {
    "duration": 206,
    "start_time": "2024-11-20T15:28:16.341Z"
   },
   {
    "duration": 23,
    "start_time": "2024-11-20T18:58:49.919Z"
   },
   {
    "duration": 21,
    "start_time": "2024-11-20T18:59:25.460Z"
   },
   {
    "duration": 21,
    "start_time": "2024-11-20T18:59:41.795Z"
   },
   {
    "duration": 933,
    "start_time": "2024-11-20T19:00:04.512Z"
   },
   {
    "duration": 165,
    "start_time": "2024-11-20T19:00:05.448Z"
   },
   {
    "duration": 10,
    "start_time": "2024-11-20T19:00:05.614Z"
   },
   {
    "duration": 10,
    "start_time": "2024-11-20T19:00:05.626Z"
   },
   {
    "duration": 8,
    "start_time": "2024-11-20T19:00:05.637Z"
   },
   {
    "duration": 9,
    "start_time": "2024-11-20T19:00:05.647Z"
   },
   {
    "duration": 8,
    "start_time": "2024-11-20T19:00:05.658Z"
   },
   {
    "duration": 42,
    "start_time": "2024-11-20T19:00:05.668Z"
   },
   {
    "duration": 19,
    "start_time": "2024-11-20T19:00:05.712Z"
   },
   {
    "duration": 15,
    "start_time": "2024-11-20T19:00:05.735Z"
   },
   {
    "duration": 10,
    "start_time": "2024-11-20T19:00:05.752Z"
   },
   {
    "duration": 56,
    "start_time": "2024-11-20T19:00:05.765Z"
   },
   {
    "duration": 26,
    "start_time": "2024-11-20T19:00:05.823Z"
   },
   {
    "duration": 12,
    "start_time": "2024-11-20T19:00:05.850Z"
   },
   {
    "duration": 6,
    "start_time": "2024-11-20T19:00:05.863Z"
   },
   {
    "duration": 45,
    "start_time": "2024-11-20T19:00:05.871Z"
   },
   {
    "duration": 19,
    "start_time": "2024-11-20T19:00:05.919Z"
   },
   {
    "duration": 14,
    "start_time": "2024-11-20T19:00:05.939Z"
   },
   {
    "duration": 6,
    "start_time": "2024-11-20T19:00:05.955Z"
   },
   {
    "duration": 51,
    "start_time": "2024-11-20T19:00:05.964Z"
   },
   {
    "duration": 23,
    "start_time": "2024-11-20T19:00:06.017Z"
   },
   {
    "duration": 3,
    "start_time": "2024-11-20T19:00:06.042Z"
   },
   {
    "duration": 23,
    "start_time": "2024-11-20T19:00:06.047Z"
   },
   {
    "duration": 40,
    "start_time": "2024-11-20T19:00:06.072Z"
   },
   {
    "duration": 13,
    "start_time": "2024-11-20T19:00:06.115Z"
   },
   {
    "duration": 10,
    "start_time": "2024-11-20T19:00:06.129Z"
   },
   {
    "duration": 23,
    "start_time": "2024-11-20T19:00:06.141Z"
   },
   {
    "duration": 56,
    "start_time": "2024-11-20T19:00:06.169Z"
   },
   {
    "duration": 18,
    "start_time": "2024-11-20T19:00:06.227Z"
   },
   {
    "duration": 24,
    "start_time": "2024-11-20T19:00:06.247Z"
   },
   {
    "duration": 37,
    "start_time": "2024-11-20T19:00:06.273Z"
   },
   {
    "duration": 6,
    "start_time": "2024-11-20T19:00:06.312Z"
   },
   {
    "duration": 209,
    "start_time": "2024-11-20T19:00:06.320Z"
   },
   {
    "duration": 170,
    "start_time": "2024-11-20T19:00:06.531Z"
   },
   {
    "duration": 14,
    "start_time": "2024-11-20T19:00:06.709Z"
   },
   {
    "duration": 276,
    "start_time": "2024-11-20T19:00:06.725Z"
   },
   {
    "duration": 8,
    "start_time": "2024-11-20T19:00:07.009Z"
   },
   {
    "duration": 224,
    "start_time": "2024-11-20T19:00:07.019Z"
   },
   {
    "duration": 2,
    "start_time": "2024-11-20T19:00:07.245Z"
   },
   {
    "duration": 13,
    "start_time": "2024-11-20T19:00:07.249Z"
   },
   {
    "duration": 269,
    "start_time": "2024-11-20T19:00:07.263Z"
   },
   {
    "duration": 685,
    "start_time": "2024-11-20T19:00:07.534Z"
   },
   {
    "duration": 1,
    "start_time": "2024-11-20T19:00:08.221Z"
   },
   {
    "duration": 0,
    "start_time": "2024-11-20T19:00:08.223Z"
   },
   {
    "duration": 0,
    "start_time": "2024-11-20T19:00:08.224Z"
   },
   {
    "duration": 5,
    "start_time": "2024-11-20T19:03:35.256Z"
   },
   {
    "duration": 5,
    "start_time": "2024-11-20T19:04:37.844Z"
   },
   {
    "duration": 24,
    "start_time": "2024-11-20T19:05:00.387Z"
   },
   {
    "duration": 57,
    "start_time": "2024-11-20T19:05:08.028Z"
   },
   {
    "duration": 57,
    "start_time": "2024-11-20T19:05:12.821Z"
   },
   {
    "duration": 51,
    "start_time": "2024-11-20T19:05:20.993Z"
   },
   {
    "duration": 135,
    "start_time": "2024-11-20T19:05:24.072Z"
   },
   {
    "duration": 12,
    "start_time": "2024-11-20T19:05:48.629Z"
   },
   {
    "duration": 24,
    "start_time": "2024-11-20T19:06:04.208Z"
   },
   {
    "duration": 15,
    "start_time": "2024-11-20T19:06:35.693Z"
   },
   {
    "duration": 6,
    "start_time": "2024-11-20T19:06:44.381Z"
   },
   {
    "duration": 6,
    "start_time": "2024-11-20T19:07:08.890Z"
   },
   {
    "duration": 5,
    "start_time": "2024-11-20T19:07:17.897Z"
   },
   {
    "duration": 5,
    "start_time": "2024-11-20T19:07:26.478Z"
   },
   {
    "duration": 18,
    "start_time": "2024-11-20T19:08:03.446Z"
   },
   {
    "duration": 16,
    "start_time": "2024-11-20T19:08:44.515Z"
   },
   {
    "duration": 17,
    "start_time": "2024-11-20T19:09:16.755Z"
   },
   {
    "duration": 19,
    "start_time": "2024-11-20T19:09:40.413Z"
   },
   {
    "duration": 18,
    "start_time": "2024-11-20T19:10:04.307Z"
   },
   {
    "duration": 18,
    "start_time": "2024-11-20T19:10:22.476Z"
   },
   {
    "duration": 22,
    "start_time": "2024-11-20T19:11:31.039Z"
   },
   {
    "duration": 29,
    "start_time": "2024-11-20T19:14:43.442Z"
   },
   {
    "duration": 31,
    "start_time": "2024-11-20T19:15:30.790Z"
   },
   {
    "duration": 27,
    "start_time": "2024-11-20T19:16:25.308Z"
   },
   {
    "duration": 28,
    "start_time": "2024-11-20T19:17:53.036Z"
   },
   {
    "duration": 27,
    "start_time": "2024-11-20T19:26:13.363Z"
   },
   {
    "duration": 15,
    "start_time": "2024-11-20T19:32:27.681Z"
   },
   {
    "duration": 836,
    "start_time": "2024-11-20T19:33:53.673Z"
   },
   {
    "duration": 157,
    "start_time": "2024-11-20T19:33:54.510Z"
   },
   {
    "duration": 9,
    "start_time": "2024-11-20T19:33:54.670Z"
   },
   {
    "duration": 10,
    "start_time": "2024-11-20T19:33:54.682Z"
   },
   {
    "duration": 20,
    "start_time": "2024-11-20T19:33:54.693Z"
   },
   {
    "duration": 7,
    "start_time": "2024-11-20T19:33:54.715Z"
   },
   {
    "duration": 9,
    "start_time": "2024-11-20T19:33:54.724Z"
   },
   {
    "duration": 7,
    "start_time": "2024-11-20T19:33:54.735Z"
   },
   {
    "duration": 16,
    "start_time": "2024-11-20T19:33:54.744Z"
   },
   {
    "duration": 48,
    "start_time": "2024-11-20T19:33:54.763Z"
   },
   {
    "duration": 12,
    "start_time": "2024-11-20T19:33:54.813Z"
   },
   {
    "duration": 28,
    "start_time": "2024-11-20T19:33:54.826Z"
   },
   {
    "duration": 25,
    "start_time": "2024-11-20T19:33:54.856Z"
   },
   {
    "duration": 37,
    "start_time": "2024-11-20T19:33:54.883Z"
   },
   {
    "duration": 6,
    "start_time": "2024-11-20T19:33:54.921Z"
   },
   {
    "duration": 16,
    "start_time": "2024-11-20T19:33:54.929Z"
   },
   {
    "duration": 18,
    "start_time": "2024-11-20T19:33:54.946Z"
   },
   {
    "duration": 44,
    "start_time": "2024-11-20T19:33:54.965Z"
   },
   {
    "duration": 7,
    "start_time": "2024-11-20T19:33:55.010Z"
   },
   {
    "duration": 20,
    "start_time": "2024-11-20T19:33:55.019Z"
   },
   {
    "duration": 23,
    "start_time": "2024-11-20T19:33:55.040Z"
   },
   {
    "duration": 3,
    "start_time": "2024-11-20T19:33:55.064Z"
   },
   {
    "duration": 46,
    "start_time": "2024-11-20T19:33:55.069Z"
   },
   {
    "duration": 13,
    "start_time": "2024-11-20T19:33:55.116Z"
   },
   {
    "duration": 10,
    "start_time": "2024-11-20T19:33:55.131Z"
   },
   {
    "duration": 9,
    "start_time": "2024-11-20T19:33:55.143Z"
   },
   {
    "duration": 22,
    "start_time": "2024-11-20T19:33:55.154Z"
   },
   {
    "duration": 838,
    "start_time": "2024-11-20T19:34:36.498Z"
   },
   {
    "duration": 167,
    "start_time": "2024-11-20T19:34:37.338Z"
   },
   {
    "duration": 12,
    "start_time": "2024-11-20T19:34:37.507Z"
   },
   {
    "duration": 9,
    "start_time": "2024-11-20T19:34:37.521Z"
   },
   {
    "duration": 7,
    "start_time": "2024-11-20T19:34:37.531Z"
   },
   {
    "duration": 8,
    "start_time": "2024-11-20T19:34:37.540Z"
   },
   {
    "duration": 8,
    "start_time": "2024-11-20T19:34:37.549Z"
   },
   {
    "duration": 8,
    "start_time": "2024-11-20T19:34:37.558Z"
   },
   {
    "duration": 57,
    "start_time": "2024-11-20T19:34:37.568Z"
   },
   {
    "duration": 15,
    "start_time": "2024-11-20T19:34:37.628Z"
   },
   {
    "duration": 10,
    "start_time": "2024-11-20T19:34:37.644Z"
   },
   {
    "duration": 25,
    "start_time": "2024-11-20T19:34:37.655Z"
   },
   {
    "duration": 53,
    "start_time": "2024-11-20T19:34:37.682Z"
   },
   {
    "duration": 12,
    "start_time": "2024-11-20T19:34:37.738Z"
   },
   {
    "duration": 7,
    "start_time": "2024-11-20T19:34:37.751Z"
   },
   {
    "duration": 17,
    "start_time": "2024-11-20T19:34:37.759Z"
   },
   {
    "duration": 49,
    "start_time": "2024-11-20T19:34:37.777Z"
   },
   {
    "duration": 13,
    "start_time": "2024-11-20T19:34:37.828Z"
   },
   {
    "duration": 6,
    "start_time": "2024-11-20T19:34:37.843Z"
   },
   {
    "duration": 20,
    "start_time": "2024-11-20T19:34:37.851Z"
   },
   {
    "duration": 50,
    "start_time": "2024-11-20T19:34:37.873Z"
   },
   {
    "duration": 3,
    "start_time": "2024-11-20T19:34:37.924Z"
   },
   {
    "duration": 18,
    "start_time": "2024-11-20T19:34:37.929Z"
   },
   {
    "duration": 13,
    "start_time": "2024-11-20T19:34:37.948Z"
   },
   {
    "duration": 13,
    "start_time": "2024-11-20T19:34:37.963Z"
   },
   {
    "duration": 39,
    "start_time": "2024-11-20T19:34:37.978Z"
   },
   {
    "duration": 22,
    "start_time": "2024-11-20T19:34:38.019Z"
   },
   {
    "duration": 24,
    "start_time": "2024-11-20T19:34:38.045Z"
   },
   {
    "duration": 39,
    "start_time": "2024-11-20T19:34:38.071Z"
   },
   {
    "duration": 23,
    "start_time": "2024-11-20T19:34:38.111Z"
   },
   {
    "duration": 8,
    "start_time": "2024-11-20T19:34:38.135Z"
   },
   {
    "duration": 5,
    "start_time": "2024-11-20T19:34:38.144Z"
   },
   {
    "duration": 206,
    "start_time": "2024-11-20T19:34:38.150Z"
   },
   {
    "duration": 172,
    "start_time": "2024-11-20T19:34:38.358Z"
   },
   {
    "duration": 14,
    "start_time": "2024-11-20T19:34:38.532Z"
   },
   {
    "duration": 270,
    "start_time": "2024-11-20T19:34:38.547Z"
   },
   {
    "duration": 9,
    "start_time": "2024-11-20T19:34:38.818Z"
   },
   {
    "duration": 213,
    "start_time": "2024-11-20T19:34:38.828Z"
   },
   {
    "duration": 3,
    "start_time": "2024-11-20T19:34:39.043Z"
   },
   {
    "duration": 13,
    "start_time": "2024-11-20T19:34:39.048Z"
   },
   {
    "duration": 258,
    "start_time": "2024-11-20T19:34:39.063Z"
   },
   {
    "duration": 18,
    "start_time": "2024-11-20T19:34:39.322Z"
   },
   {
    "duration": 254,
    "start_time": "2024-11-20T19:34:39.341Z"
   },
   {
    "duration": 0,
    "start_time": "2024-11-20T19:34:39.597Z"
   },
   {
    "duration": 0,
    "start_time": "2024-11-20T19:34:39.598Z"
   },
   {
    "duration": 13,
    "start_time": "2024-11-20T19:50:11.202Z"
   },
   {
    "duration": 13,
    "start_time": "2024-11-20T19:51:07.876Z"
   },
   {
    "duration": 14,
    "start_time": "2024-11-20T19:51:25.615Z"
   },
   {
    "duration": 13,
    "start_time": "2024-11-20T19:53:03.243Z"
   },
   {
    "duration": 182,
    "start_time": "2024-11-20T21:26:05.435Z"
   },
   {
    "duration": 278,
    "start_time": "2024-11-20T21:26:16.465Z"
   },
   {
    "duration": 184,
    "start_time": "2024-11-20T21:26:26.096Z"
   },
   {
    "duration": 187,
    "start_time": "2024-11-20T21:26:51.717Z"
   },
   {
    "duration": 184,
    "start_time": "2024-11-20T21:27:05.585Z"
   },
   {
    "duration": 189,
    "start_time": "2024-11-20T21:27:24.083Z"
   },
   {
    "duration": 840,
    "start_time": "2024-11-20T21:28:38.904Z"
   },
   {
    "duration": 167,
    "start_time": "2024-11-20T21:28:39.746Z"
   },
   {
    "duration": 10,
    "start_time": "2024-11-20T21:28:39.915Z"
   },
   {
    "duration": 10,
    "start_time": "2024-11-20T21:28:39.927Z"
   },
   {
    "duration": 8,
    "start_time": "2024-11-20T21:28:39.938Z"
   },
   {
    "duration": 8,
    "start_time": "2024-11-20T21:28:39.948Z"
   },
   {
    "duration": 9,
    "start_time": "2024-11-20T21:28:39.957Z"
   },
   {
    "duration": 42,
    "start_time": "2024-11-20T21:28:39.968Z"
   },
   {
    "duration": 18,
    "start_time": "2024-11-20T21:28:40.012Z"
   },
   {
    "duration": 14,
    "start_time": "2024-11-20T21:28:40.033Z"
   },
   {
    "duration": 10,
    "start_time": "2024-11-20T21:28:40.049Z"
   },
   {
    "duration": 58,
    "start_time": "2024-11-20T21:28:40.060Z"
   },
   {
    "duration": 25,
    "start_time": "2024-11-20T21:28:40.120Z"
   },
   {
    "duration": 11,
    "start_time": "2024-11-20T21:28:40.148Z"
   },
   {
    "duration": 6,
    "start_time": "2024-11-20T21:28:40.162Z"
   },
   {
    "duration": 16,
    "start_time": "2024-11-20T21:28:40.170Z"
   },
   {
    "duration": 19,
    "start_time": "2024-11-20T21:28:40.210Z"
   },
   {
    "duration": 13,
    "start_time": "2024-11-20T21:28:40.231Z"
   },
   {
    "duration": 7,
    "start_time": "2024-11-20T21:28:40.246Z"
   },
   {
    "duration": 19,
    "start_time": "2024-11-20T21:28:40.256Z"
   },
   {
    "duration": 51,
    "start_time": "2024-11-20T21:28:40.277Z"
   },
   {
    "duration": 3,
    "start_time": "2024-11-20T21:28:40.329Z"
   },
   {
    "duration": 18,
    "start_time": "2024-11-20T21:28:40.334Z"
   },
   {
    "duration": 15,
    "start_time": "2024-11-20T21:28:40.354Z"
   },
   {
    "duration": 37,
    "start_time": "2024-11-20T21:28:40.372Z"
   },
   {
    "duration": 11,
    "start_time": "2024-11-20T21:28:40.410Z"
   },
   {
    "duration": 23,
    "start_time": "2024-11-20T21:28:40.423Z"
   },
   {
    "duration": 26,
    "start_time": "2024-11-20T21:28:40.450Z"
   },
   {
    "duration": 45,
    "start_time": "2024-11-20T21:28:40.478Z"
   },
   {
    "duration": 31,
    "start_time": "2024-11-20T21:28:40.525Z"
   },
   {
    "duration": 9,
    "start_time": "2024-11-20T21:28:40.560Z"
   },
   {
    "duration": 6,
    "start_time": "2024-11-20T21:28:40.571Z"
   },
   {
    "duration": 205,
    "start_time": "2024-11-20T21:28:40.578Z"
   },
   {
    "duration": 167,
    "start_time": "2024-11-20T21:28:40.785Z"
   },
   {
    "duration": 17,
    "start_time": "2024-11-20T21:28:40.954Z"
   },
   {
    "duration": 281,
    "start_time": "2024-11-20T21:28:40.973Z"
   },
   {
    "duration": 9,
    "start_time": "2024-11-20T21:28:41.256Z"
   },
   {
    "duration": 218,
    "start_time": "2024-11-20T21:28:41.266Z"
   },
   {
    "duration": 2,
    "start_time": "2024-11-20T21:28:41.487Z"
   },
   {
    "duration": 24,
    "start_time": "2024-11-20T21:28:41.491Z"
   },
   {
    "duration": 260,
    "start_time": "2024-11-20T21:28:41.516Z"
   },
   {
    "duration": 13,
    "start_time": "2024-11-20T21:28:41.778Z"
   },
   {
    "duration": 237,
    "start_time": "2024-11-20T21:28:41.793Z"
   },
   {
    "duration": 0,
    "start_time": "2024-11-20T21:28:42.031Z"
   },
   {
    "duration": 0,
    "start_time": "2024-11-20T21:28:42.032Z"
   },
   {
    "duration": 185,
    "start_time": "2024-11-20T21:33:32.530Z"
   },
   {
    "duration": 256,
    "start_time": "2024-11-20T21:33:41.601Z"
   },
   {
    "duration": 188,
    "start_time": "2024-11-20T21:33:48.036Z"
   },
   {
    "duration": 870,
    "start_time": "2024-11-20T21:34:00.236Z"
   },
   {
    "duration": 153,
    "start_time": "2024-11-20T21:34:01.109Z"
   },
   {
    "duration": 9,
    "start_time": "2024-11-20T21:34:01.264Z"
   },
   {
    "duration": 10,
    "start_time": "2024-11-20T21:34:01.275Z"
   },
   {
    "duration": 7,
    "start_time": "2024-11-20T21:34:01.287Z"
   },
   {
    "duration": 8,
    "start_time": "2024-11-20T21:34:01.309Z"
   },
   {
    "duration": 9,
    "start_time": "2024-11-20T21:34:01.319Z"
   },
   {
    "duration": 8,
    "start_time": "2024-11-20T21:34:01.329Z"
   },
   {
    "duration": 16,
    "start_time": "2024-11-20T21:34:01.339Z"
   },
   {
    "duration": 16,
    "start_time": "2024-11-20T21:34:01.359Z"
   },
   {
    "duration": 40,
    "start_time": "2024-11-20T21:34:01.377Z"
   },
   {
    "duration": 25,
    "start_time": "2024-11-20T21:34:01.419Z"
   },
   {
    "duration": 26,
    "start_time": "2024-11-20T21:34:01.446Z"
   },
   {
    "duration": 35,
    "start_time": "2024-11-20T21:34:01.474Z"
   },
   {
    "duration": 6,
    "start_time": "2024-11-20T21:34:01.511Z"
   },
   {
    "duration": 16,
    "start_time": "2024-11-20T21:34:01.519Z"
   },
   {
    "duration": 18,
    "start_time": "2024-11-20T21:34:01.537Z"
   },
   {
    "duration": 14,
    "start_time": "2024-11-20T21:34:01.556Z"
   },
   {
    "duration": 6,
    "start_time": "2024-11-20T21:34:01.572Z"
   },
   {
    "duration": 21,
    "start_time": "2024-11-20T21:34:01.609Z"
   },
   {
    "duration": 22,
    "start_time": "2024-11-20T21:34:01.632Z"
   },
   {
    "duration": 3,
    "start_time": "2024-11-20T21:34:01.656Z"
   },
   {
    "duration": 19,
    "start_time": "2024-11-20T21:34:01.661Z"
   },
   {
    "duration": 14,
    "start_time": "2024-11-20T21:34:01.709Z"
   },
   {
    "duration": 12,
    "start_time": "2024-11-20T21:34:01.724Z"
   },
   {
    "duration": 10,
    "start_time": "2024-11-20T21:34:01.737Z"
   },
   {
    "duration": 24,
    "start_time": "2024-11-20T21:34:01.749Z"
   },
   {
    "duration": 25,
    "start_time": "2024-11-20T21:34:01.808Z"
   },
   {
    "duration": 16,
    "start_time": "2024-11-20T21:34:01.835Z"
   },
   {
    "duration": 22,
    "start_time": "2024-11-20T21:34:01.853Z"
   },
   {
    "duration": 35,
    "start_time": "2024-11-20T21:34:01.877Z"
   },
   {
    "duration": 4,
    "start_time": "2024-11-20T21:34:01.914Z"
   },
   {
    "duration": 209,
    "start_time": "2024-11-20T21:34:01.920Z"
   },
   {
    "duration": 166,
    "start_time": "2024-11-20T21:34:02.132Z"
   },
   {
    "duration": 20,
    "start_time": "2024-11-20T21:34:02.300Z"
   },
   {
    "duration": 262,
    "start_time": "2024-11-20T21:34:02.322Z"
   },
   {
    "duration": 8,
    "start_time": "2024-11-20T21:34:02.586Z"
   },
   {
    "duration": 206,
    "start_time": "2024-11-20T21:34:02.596Z"
   },
   {
    "duration": 2,
    "start_time": "2024-11-20T21:34:02.809Z"
   },
   {
    "duration": 11,
    "start_time": "2024-11-20T21:34:02.813Z"
   },
   {
    "duration": 254,
    "start_time": "2024-11-20T21:34:02.825Z"
   },
   {
    "duration": 17,
    "start_time": "2024-11-20T21:34:03.081Z"
   },
   {
    "duration": 237,
    "start_time": "2024-11-20T21:34:03.108Z"
   },
   {
    "duration": 0,
    "start_time": "2024-11-20T21:34:03.347Z"
   },
   {
    "duration": 0,
    "start_time": "2024-11-20T21:34:03.348Z"
   },
   {
    "duration": 16,
    "start_time": "2024-11-20T22:15:05.566Z"
   },
   {
    "duration": 299,
    "start_time": "2024-11-20T22:15:14.830Z"
   },
   {
    "duration": 438,
    "start_time": "2024-11-20T22:15:36.778Z"
   },
   {
    "duration": 424,
    "start_time": "2024-11-20T22:15:51.088Z"
   },
   {
    "duration": 235,
    "start_time": "2024-11-20T22:16:41.943Z"
   },
   {
    "duration": 509,
    "start_time": "2024-11-20T22:19:06.256Z"
   },
   {
    "duration": 427,
    "start_time": "2024-11-20T22:19:34.176Z"
   },
   {
    "duration": 437,
    "start_time": "2024-11-20T22:28:03.044Z"
   },
   {
    "duration": 628,
    "start_time": "2024-11-20T22:30:19.923Z"
   },
   {
    "duration": 797,
    "start_time": "2024-11-20T22:51:14.589Z"
   },
   {
    "duration": 211,
    "start_time": "2024-11-20T22:51:15.389Z"
   },
   {
    "duration": 8,
    "start_time": "2024-11-20T22:51:15.602Z"
   },
   {
    "duration": 10,
    "start_time": "2024-11-20T22:51:15.613Z"
   },
   {
    "duration": 8,
    "start_time": "2024-11-20T22:51:15.624Z"
   },
   {
    "duration": 7,
    "start_time": "2024-11-20T22:51:15.634Z"
   },
   {
    "duration": 9,
    "start_time": "2024-11-20T22:51:15.644Z"
   },
   {
    "duration": 8,
    "start_time": "2024-11-20T22:51:15.654Z"
   },
   {
    "duration": 53,
    "start_time": "2024-11-20T22:51:15.664Z"
   },
   {
    "duration": 17,
    "start_time": "2024-11-20T22:51:15.720Z"
   },
   {
    "duration": 10,
    "start_time": "2024-11-20T22:51:15.738Z"
   },
   {
    "duration": 26,
    "start_time": "2024-11-20T22:51:15.750Z"
   },
   {
    "duration": 50,
    "start_time": "2024-11-20T22:51:15.778Z"
   },
   {
    "duration": 12,
    "start_time": "2024-11-20T22:51:15.829Z"
   },
   {
    "duration": 6,
    "start_time": "2024-11-20T22:51:15.842Z"
   },
   {
    "duration": 16,
    "start_time": "2024-11-20T22:51:15.851Z"
   },
   {
    "duration": 42,
    "start_time": "2024-11-20T22:51:15.868Z"
   },
   {
    "duration": 14,
    "start_time": "2024-11-20T22:51:15.911Z"
   },
   {
    "duration": 6,
    "start_time": "2024-11-20T22:51:15.926Z"
   },
   {
    "duration": 20,
    "start_time": "2024-11-20T22:51:15.934Z"
   },
   {
    "duration": 22,
    "start_time": "2024-11-20T22:51:15.955Z"
   },
   {
    "duration": 31,
    "start_time": "2024-11-20T22:51:15.978Z"
   },
   {
    "duration": 16,
    "start_time": "2024-11-20T22:51:16.011Z"
   },
   {
    "duration": 12,
    "start_time": "2024-11-20T22:51:16.029Z"
   },
   {
    "duration": 12,
    "start_time": "2024-11-20T22:51:16.043Z"
   },
   {
    "duration": 10,
    "start_time": "2024-11-20T22:51:16.056Z"
   },
   {
    "duration": 51,
    "start_time": "2024-11-20T22:51:16.067Z"
   },
   {
    "duration": 24,
    "start_time": "2024-11-20T22:51:16.122Z"
   },
   {
    "duration": 16,
    "start_time": "2024-11-20T22:51:16.483Z"
   },
   {
    "duration": 21,
    "start_time": "2024-11-20T22:51:16.502Z"
   },
   {
    "duration": 7,
    "start_time": "2024-11-20T22:51:16.525Z"
   },
   {
    "duration": 5,
    "start_time": "2024-11-20T22:51:16.533Z"
   },
   {
    "duration": 193,
    "start_time": "2024-11-20T22:51:16.541Z"
   },
   {
    "duration": 173,
    "start_time": "2024-11-20T22:51:16.736Z"
   },
   {
    "duration": 14,
    "start_time": "2024-11-20T22:51:16.910Z"
   },
   {
    "duration": 219,
    "start_time": "2024-11-20T22:51:16.926Z"
   },
   {
    "duration": 260,
    "start_time": "2024-11-20T22:51:17.147Z"
   },
   {
    "duration": 13,
    "start_time": "2024-11-20T22:51:17.410Z"
   },
   {
    "duration": 218,
    "start_time": "2024-11-20T22:51:17.424Z"
   },
   {
    "duration": 2,
    "start_time": "2024-11-20T22:51:17.644Z"
   },
   {
    "duration": 11,
    "start_time": "2024-11-20T22:51:17.649Z"
   },
   {
    "duration": 270,
    "start_time": "2024-11-20T22:51:17.662Z"
   },
   {
    "duration": 13,
    "start_time": "2024-11-20T22:51:17.934Z"
   },
   {
    "duration": 174,
    "start_time": "2024-11-20T22:51:17.948Z"
   },
   {
    "duration": 0,
    "start_time": "2024-11-20T22:51:18.123Z"
   },
   {
    "duration": 0,
    "start_time": "2024-11-20T22:51:18.125Z"
   },
   {
    "duration": 160,
    "start_time": "2024-11-20T23:35:21.460Z"
   },
   {
    "duration": 2583,
    "start_time": "2024-11-20T23:35:39.377Z"
   },
   {
    "duration": 209,
    "start_time": "2024-11-20T23:35:41.962Z"
   },
   {
    "duration": 10,
    "start_time": "2024-11-20T23:35:42.173Z"
   },
   {
    "duration": 10,
    "start_time": "2024-11-20T23:35:42.185Z"
   },
   {
    "duration": 8,
    "start_time": "2024-11-20T23:35:42.197Z"
   },
   {
    "duration": 8,
    "start_time": "2024-11-20T23:35:42.211Z"
   },
   {
    "duration": 9,
    "start_time": "2024-11-20T23:35:42.220Z"
   },
   {
    "duration": 8,
    "start_time": "2024-11-20T23:35:42.231Z"
   },
   {
    "duration": 17,
    "start_time": "2024-11-20T23:35:42.241Z"
   },
   {
    "duration": 15,
    "start_time": "2024-11-20T23:35:42.262Z"
   },
   {
    "duration": 41,
    "start_time": "2024-11-20T23:35:42.279Z"
   },
   {
    "duration": 26,
    "start_time": "2024-11-20T23:35:42.322Z"
   },
   {
    "duration": 26,
    "start_time": "2024-11-20T23:35:42.350Z"
   },
   {
    "duration": 37,
    "start_time": "2024-11-20T23:35:42.378Z"
   },
   {
    "duration": 6,
    "start_time": "2024-11-20T23:35:42.417Z"
   },
   {
    "duration": 16,
    "start_time": "2024-11-20T23:35:42.426Z"
   },
   {
    "duration": 19,
    "start_time": "2024-11-20T23:35:42.444Z"
   },
   {
    "duration": 14,
    "start_time": "2024-11-20T23:35:42.464Z"
   },
   {
    "duration": 37,
    "start_time": "2024-11-20T23:35:42.480Z"
   },
   {
    "duration": 21,
    "start_time": "2024-11-20T23:35:42.519Z"
   },
   {
    "duration": 25,
    "start_time": "2024-11-20T23:35:42.542Z"
   },
   {
    "duration": 3,
    "start_time": "2024-11-20T23:35:42.570Z"
   },
   {
    "duration": 47,
    "start_time": "2024-11-20T23:35:42.575Z"
   },
   {
    "duration": 13,
    "start_time": "2024-11-20T23:35:42.624Z"
   },
   {
    "duration": 13,
    "start_time": "2024-11-20T23:35:42.639Z"
   },
   {
    "duration": 10,
    "start_time": "2024-11-20T23:35:42.653Z"
   },
   {
    "duration": 53,
    "start_time": "2024-11-20T23:35:42.664Z"
   },
   {
    "duration": 26,
    "start_time": "2024-11-20T23:35:42.722Z"
   },
   {
    "duration": 16,
    "start_time": "2024-11-20T23:35:42.749Z"
   },
   {
    "duration": 48,
    "start_time": "2024-11-20T23:35:42.767Z"
   },
   {
    "duration": 9,
    "start_time": "2024-11-20T23:35:42.817Z"
   },
   {
    "duration": 4,
    "start_time": "2024-11-20T23:35:42.828Z"
   },
   {
    "duration": 206,
    "start_time": "2024-11-20T23:35:42.834Z"
   },
   {
    "duration": 171,
    "start_time": "2024-11-20T23:35:43.042Z"
   },
   {
    "duration": 14,
    "start_time": "2024-11-20T23:35:43.214Z"
   },
   {
    "duration": 216,
    "start_time": "2024-11-20T23:35:43.229Z"
   },
   {
    "duration": 213,
    "start_time": "2024-11-20T23:35:43.447Z"
   },
   {
    "duration": 8,
    "start_time": "2024-11-20T23:35:43.662Z"
   },
   {
    "duration": 280,
    "start_time": "2024-11-20T23:35:43.672Z"
   },
   {
    "duration": 3,
    "start_time": "2024-11-20T23:35:43.954Z"
   },
   {
    "duration": 8,
    "start_time": "2024-11-20T23:35:43.958Z"
   },
   {
    "duration": 7,
    "start_time": "2024-11-20T23:35:43.968Z"
   },
   {
    "duration": 260,
    "start_time": "2024-11-20T23:35:43.977Z"
   },
   {
    "duration": 13,
    "start_time": "2024-11-20T23:35:44.239Z"
   },
   {
    "duration": 232,
    "start_time": "2024-11-20T23:35:44.254Z"
   },
   {
    "duration": 0,
    "start_time": "2024-11-20T23:35:44.488Z"
   },
   {
    "duration": 0,
    "start_time": "2024-11-20T23:35:44.489Z"
   },
   {
    "duration": 822,
    "start_time": "2024-11-20T23:35:59.668Z"
   },
   {
    "duration": 167,
    "start_time": "2024-11-20T23:36:00.492Z"
   },
   {
    "duration": 9,
    "start_time": "2024-11-20T23:36:00.661Z"
   },
   {
    "duration": 10,
    "start_time": "2024-11-20T23:36:00.672Z"
   },
   {
    "duration": 8,
    "start_time": "2024-11-20T23:36:00.684Z"
   },
   {
    "duration": 23,
    "start_time": "2024-11-20T23:36:00.694Z"
   },
   {
    "duration": 8,
    "start_time": "2024-11-20T23:36:00.719Z"
   },
   {
    "duration": 9,
    "start_time": "2024-11-20T23:36:00.729Z"
   },
   {
    "duration": 17,
    "start_time": "2024-11-20T23:36:00.739Z"
   },
   {
    "duration": 14,
    "start_time": "2024-11-20T23:36:00.760Z"
   },
   {
    "duration": 45,
    "start_time": "2024-11-20T23:36:00.775Z"
   },
   {
    "duration": 28,
    "start_time": "2024-11-20T23:36:00.822Z"
   },
   {
    "duration": 26,
    "start_time": "2024-11-20T23:36:00.851Z"
   },
   {
    "duration": 11,
    "start_time": "2024-11-20T23:36:00.879Z"
   },
   {
    "duration": 25,
    "start_time": "2024-11-20T23:36:00.892Z"
   },
   {
    "duration": 17,
    "start_time": "2024-11-20T23:36:00.919Z"
   },
   {
    "duration": 18,
    "start_time": "2024-11-20T23:36:00.938Z"
   },
   {
    "duration": 12,
    "start_time": "2024-11-20T23:36:00.958Z"
   },
   {
    "duration": 7,
    "start_time": "2024-11-20T23:36:00.971Z"
   },
   {
    "duration": 51,
    "start_time": "2024-11-20T23:36:00.980Z"
   },
   {
    "duration": 22,
    "start_time": "2024-11-20T23:36:01.034Z"
   },
   {
    "duration": 3,
    "start_time": "2024-11-20T23:36:01.058Z"
   },
   {
    "duration": 17,
    "start_time": "2024-11-20T23:36:01.063Z"
   },
   {
    "duration": 43,
    "start_time": "2024-11-20T23:36:01.082Z"
   },
   {
    "duration": 12,
    "start_time": "2024-11-20T23:36:01.126Z"
   },
   {
    "duration": 9,
    "start_time": "2024-11-20T23:36:01.140Z"
   },
   {
    "duration": 22,
    "start_time": "2024-11-20T23:36:01.151Z"
   },
   {
    "duration": 56,
    "start_time": "2024-11-20T23:36:01.176Z"
   },
   {
    "duration": 14,
    "start_time": "2024-11-20T23:36:01.234Z"
   },
   {
    "duration": 23,
    "start_time": "2024-11-20T23:36:01.250Z"
   },
   {
    "duration": 8,
    "start_time": "2024-11-20T23:36:01.274Z"
   },
   {
    "duration": 30,
    "start_time": "2024-11-20T23:36:01.284Z"
   },
   {
    "duration": 186,
    "start_time": "2024-11-20T23:36:01.316Z"
   },
   {
    "duration": 173,
    "start_time": "2024-11-20T23:36:01.504Z"
   },
   {
    "duration": 13,
    "start_time": "2024-11-20T23:36:01.679Z"
   },
   {
    "duration": 267,
    "start_time": "2024-11-20T23:36:01.694Z"
   },
   {
    "duration": 215,
    "start_time": "2024-11-20T23:36:01.963Z"
   },
   {
    "duration": 8,
    "start_time": "2024-11-20T23:36:02.180Z"
   },
   {
    "duration": 215,
    "start_time": "2024-11-20T23:36:02.190Z"
   },
   {
    "duration": 2,
    "start_time": "2024-11-20T23:36:02.411Z"
   },
   {
    "duration": 8,
    "start_time": "2024-11-20T23:36:02.415Z"
   },
   {
    "duration": 7,
    "start_time": "2024-11-20T23:36:02.426Z"
   },
   {
    "duration": 279,
    "start_time": "2024-11-20T23:36:02.435Z"
   },
   {
    "duration": 13,
    "start_time": "2024-11-20T23:36:02.715Z"
   },
   {
    "duration": 300,
    "start_time": "2024-11-20T23:36:02.729Z"
   },
   {
    "duration": 0,
    "start_time": "2024-11-20T23:36:03.031Z"
   },
   {
    "duration": 0,
    "start_time": "2024-11-20T23:36:03.033Z"
   },
   {
    "duration": 12,
    "start_time": "2024-11-20T23:36:55.424Z"
   },
   {
    "duration": 257,
    "start_time": "2024-11-20T23:37:38.897Z"
   },
   {
    "duration": 250,
    "start_time": "2024-11-20T23:37:50.340Z"
   },
   {
    "duration": 17,
    "start_time": "2024-11-20T23:38:20.763Z"
   },
   {
    "duration": 12,
    "start_time": "2024-11-20T23:39:22.282Z"
   },
   {
    "duration": 147,
    "start_time": "2024-11-20T23:39:50.464Z"
   },
   {
    "duration": 15,
    "start_time": "2024-11-20T23:41:30.047Z"
   },
   {
    "duration": 8,
    "start_time": "2024-11-20T23:41:32.652Z"
   },
   {
    "duration": 865,
    "start_time": "2024-11-21T01:02:50.150Z"
   },
   {
    "duration": 154,
    "start_time": "2024-11-21T01:02:51.018Z"
   },
   {
    "duration": 9,
    "start_time": "2024-11-21T01:02:51.173Z"
   },
   {
    "duration": 9,
    "start_time": "2024-11-21T01:02:51.185Z"
   },
   {
    "duration": 17,
    "start_time": "2024-11-21T01:02:51.196Z"
   },
   {
    "duration": 8,
    "start_time": "2024-11-21T01:02:51.214Z"
   },
   {
    "duration": 7,
    "start_time": "2024-11-21T01:02:51.224Z"
   },
   {
    "duration": 8,
    "start_time": "2024-11-21T01:02:51.233Z"
   },
   {
    "duration": 15,
    "start_time": "2024-11-21T01:02:51.243Z"
   },
   {
    "duration": 51,
    "start_time": "2024-11-21T01:02:51.262Z"
   },
   {
    "duration": 9,
    "start_time": "2024-11-21T01:02:51.315Z"
   },
   {
    "duration": 26,
    "start_time": "2024-11-21T01:02:51.326Z"
   },
   {
    "duration": 25,
    "start_time": "2024-11-21T01:02:51.353Z"
   },
   {
    "duration": 36,
    "start_time": "2024-11-21T01:02:51.379Z"
   },
   {
    "duration": 5,
    "start_time": "2024-11-21T01:02:51.417Z"
   },
   {
    "duration": 16,
    "start_time": "2024-11-21T01:02:51.424Z"
   },
   {
    "duration": 18,
    "start_time": "2024-11-21T01:02:51.442Z"
   },
   {
    "duration": 13,
    "start_time": "2024-11-21T01:02:51.462Z"
   },
   {
    "duration": 39,
    "start_time": "2024-11-21T01:02:51.477Z"
   },
   {
    "duration": 20,
    "start_time": "2024-11-21T01:02:51.517Z"
   },
   {
    "duration": 21,
    "start_time": "2024-11-21T01:02:51.539Z"
   },
   {
    "duration": 3,
    "start_time": "2024-11-21T01:02:51.562Z"
   },
   {
    "duration": 17,
    "start_time": "2024-11-21T01:02:51.567Z"
   },
   {
    "duration": 13,
    "start_time": "2024-11-21T01:02:51.611Z"
   },
   {
    "duration": 12,
    "start_time": "2024-11-21T01:02:51.625Z"
   },
   {
    "duration": 10,
    "start_time": "2024-11-21T01:02:51.639Z"
   },
   {
    "duration": 22,
    "start_time": "2024-11-21T01:02:51.650Z"
   },
   {
    "duration": 53,
    "start_time": "2024-11-21T01:02:51.676Z"
   },
   {
    "duration": 14,
    "start_time": "2024-11-21T01:02:51.731Z"
   },
   {
    "duration": 22,
    "start_time": "2024-11-21T01:02:51.746Z"
   },
   {
    "duration": 8,
    "start_time": "2024-11-21T01:02:51.769Z"
   },
   {
    "duration": 33,
    "start_time": "2024-11-21T01:02:51.779Z"
   },
   {
    "duration": 190,
    "start_time": "2024-11-21T01:02:51.814Z"
   },
   {
    "duration": 158,
    "start_time": "2024-11-21T01:02:52.011Z"
   },
   {
    "duration": 15,
    "start_time": "2024-11-21T01:02:52.170Z"
   },
   {
    "duration": 263,
    "start_time": "2024-11-21T01:02:52.187Z"
   },
   {
    "duration": 222,
    "start_time": "2024-11-21T01:02:52.452Z"
   },
   {
    "duration": 9,
    "start_time": "2024-11-21T01:02:52.676Z"
   },
   {
    "duration": 209,
    "start_time": "2024-11-21T01:02:52.686Z"
   },
   {
    "duration": 3,
    "start_time": "2024-11-21T01:02:52.896Z"
   },
   {
    "duration": 13,
    "start_time": "2024-11-21T01:02:52.900Z"
   },
   {
    "duration": 7,
    "start_time": "2024-11-21T01:02:52.915Z"
   },
   {
    "duration": 248,
    "start_time": "2024-11-21T01:02:52.924Z"
   },
   {
    "duration": 7,
    "start_time": "2024-11-21T01:02:53.174Z"
   },
   {
    "duration": 31,
    "start_time": "2024-11-21T01:02:53.183Z"
   },
   {
    "duration": 440,
    "start_time": "2024-11-21T01:02:53.216Z"
   },
   {
    "duration": 0,
    "start_time": "2024-11-21T01:02:53.658Z"
   },
   {
    "duration": 0,
    "start_time": "2024-11-21T01:02:53.659Z"
   },
   {
    "duration": 56,
    "start_time": "2024-11-21T01:05:16.696Z"
   },
   {
    "duration": 169,
    "start_time": "2024-11-21T01:06:10.323Z"
   },
   {
    "duration": 584,
    "start_time": "2024-11-21T01:06:36.028Z"
   },
   {
    "duration": 591,
    "start_time": "2024-11-21T01:09:03.163Z"
   },
   {
    "duration": 644,
    "start_time": "2024-11-21T01:13:51.283Z"
   },
   {
    "duration": 592,
    "start_time": "2024-11-21T01:14:01.630Z"
   },
   {
    "duration": 823,
    "start_time": "2024-11-21T01:14:06.690Z"
   },
   {
    "duration": 153,
    "start_time": "2024-11-21T01:14:07.515Z"
   },
   {
    "duration": 8,
    "start_time": "2024-11-21T01:14:07.670Z"
   },
   {
    "duration": 11,
    "start_time": "2024-11-21T01:14:07.680Z"
   },
   {
    "duration": 7,
    "start_time": "2024-11-21T01:14:07.693Z"
   },
   {
    "duration": 17,
    "start_time": "2024-11-21T01:14:07.702Z"
   },
   {
    "duration": 9,
    "start_time": "2024-11-21T01:14:07.721Z"
   },
   {
    "duration": 9,
    "start_time": "2024-11-21T01:14:07.731Z"
   },
   {
    "duration": 15,
    "start_time": "2024-11-21T01:14:07.741Z"
   },
   {
    "duration": 15,
    "start_time": "2024-11-21T01:14:07.757Z"
   },
   {
    "duration": 43,
    "start_time": "2024-11-21T01:14:07.773Z"
   },
   {
    "duration": 24,
    "start_time": "2024-11-21T01:14:07.818Z"
   },
   {
    "duration": 25,
    "start_time": "2024-11-21T01:14:07.844Z"
   },
   {
    "duration": 11,
    "start_time": "2024-11-21T01:14:07.873Z"
   },
   {
    "duration": 30,
    "start_time": "2024-11-21T01:14:07.886Z"
   },
   {
    "duration": 16,
    "start_time": "2024-11-21T01:14:07.918Z"
   },
   {
    "duration": 17,
    "start_time": "2024-11-21T01:14:07.935Z"
   },
   {
    "duration": 13,
    "start_time": "2024-11-21T01:14:07.954Z"
   },
   {
    "duration": 7,
    "start_time": "2024-11-21T01:14:07.968Z"
   },
   {
    "duration": 51,
    "start_time": "2024-11-21T01:14:07.976Z"
   },
   {
    "duration": 24,
    "start_time": "2024-11-21T01:14:08.029Z"
   },
   {
    "duration": 3,
    "start_time": "2024-11-21T01:14:08.054Z"
   },
   {
    "duration": 16,
    "start_time": "2024-11-21T01:14:08.059Z"
   },
   {
    "duration": 45,
    "start_time": "2024-11-21T01:14:08.077Z"
   },
   {
    "duration": 11,
    "start_time": "2024-11-21T01:14:08.124Z"
   },
   {
    "duration": 10,
    "start_time": "2024-11-21T01:14:08.136Z"
   },
   {
    "duration": 22,
    "start_time": "2024-11-21T01:14:08.147Z"
   },
   {
    "duration": 51,
    "start_time": "2024-11-21T01:14:08.170Z"
   },
   {
    "duration": 15,
    "start_time": "2024-11-21T01:14:08.223Z"
   },
   {
    "duration": 21,
    "start_time": "2024-11-21T01:14:08.240Z"
   },
   {
    "duration": 7,
    "start_time": "2024-11-21T01:14:08.263Z"
   },
   {
    "duration": 5,
    "start_time": "2024-11-21T01:14:08.271Z"
   },
   {
    "duration": 202,
    "start_time": "2024-11-21T01:14:08.277Z"
   },
   {
    "duration": 226,
    "start_time": "2024-11-21T01:14:08.481Z"
   },
   {
    "duration": 13,
    "start_time": "2024-11-21T01:14:08.713Z"
   },
   {
    "duration": 209,
    "start_time": "2024-11-21T01:14:08.728Z"
   },
   {
    "duration": 210,
    "start_time": "2024-11-21T01:14:08.938Z"
   },
   {
    "duration": 8,
    "start_time": "2024-11-21T01:14:09.150Z"
   },
   {
    "duration": 206,
    "start_time": "2024-11-21T01:14:09.159Z"
   },
   {
    "duration": 2,
    "start_time": "2024-11-21T01:14:09.367Z"
   },
   {
    "duration": 7,
    "start_time": "2024-11-21T01:14:09.374Z"
   },
   {
    "duration": 7,
    "start_time": "2024-11-21T01:14:09.384Z"
   },
   {
    "duration": 243,
    "start_time": "2024-11-21T01:14:09.412Z"
   },
   {
    "duration": 8,
    "start_time": "2024-11-21T01:14:09.658Z"
   },
   {
    "duration": 14,
    "start_time": "2024-11-21T01:14:09.668Z"
   },
   {
    "duration": 578,
    "start_time": "2024-11-21T01:14:09.684Z"
   },
   {
    "duration": 83,
    "start_time": "2024-11-21T01:14:10.264Z"
   },
   {
    "duration": 6,
    "start_time": "2024-11-21T01:14:10.350Z"
   },
   {
    "duration": 531,
    "start_time": "2024-11-21T01:16:40.608Z"
   },
   {
    "duration": 2551,
    "start_time": "2024-11-21T13:31:54.548Z"
   },
   {
    "duration": 217,
    "start_time": "2024-11-21T13:31:57.102Z"
   },
   {
    "duration": 9,
    "start_time": "2024-11-21T13:31:57.321Z"
   },
   {
    "duration": 10,
    "start_time": "2024-11-21T13:31:57.332Z"
   },
   {
    "duration": 7,
    "start_time": "2024-11-21T13:31:57.344Z"
   },
   {
    "duration": 8,
    "start_time": "2024-11-21T13:31:57.353Z"
   },
   {
    "duration": 16,
    "start_time": "2024-11-21T13:31:57.362Z"
   },
   {
    "duration": 8,
    "start_time": "2024-11-21T13:31:57.380Z"
   },
   {
    "duration": 17,
    "start_time": "2024-11-21T13:31:57.389Z"
   },
   {
    "duration": 15,
    "start_time": "2024-11-21T13:31:57.409Z"
   },
   {
    "duration": 9,
    "start_time": "2024-11-21T13:31:57.425Z"
   },
   {
    "duration": 58,
    "start_time": "2024-11-21T13:31:57.435Z"
   },
   {
    "duration": 24,
    "start_time": "2024-11-21T13:31:57.494Z"
   },
   {
    "duration": 12,
    "start_time": "2024-11-21T13:31:57.520Z"
   },
   {
    "duration": 9,
    "start_time": "2024-11-21T13:31:57.533Z"
   },
   {
    "duration": 40,
    "start_time": "2024-11-21T13:31:57.543Z"
   },
   {
    "duration": 18,
    "start_time": "2024-11-21T13:31:57.585Z"
   },
   {
    "duration": 13,
    "start_time": "2024-11-21T13:31:57.604Z"
   },
   {
    "duration": 6,
    "start_time": "2024-11-21T13:31:57.619Z"
   },
   {
    "duration": 49,
    "start_time": "2024-11-21T13:31:57.627Z"
   },
   {
    "duration": 24,
    "start_time": "2024-11-21T13:31:57.678Z"
   },
   {
    "duration": 3,
    "start_time": "2024-11-21T13:31:57.704Z"
   },
   {
    "duration": 17,
    "start_time": "2024-11-21T13:31:57.709Z"
   },
   {
    "duration": 42,
    "start_time": "2024-11-21T13:31:57.728Z"
   },
   {
    "duration": 12,
    "start_time": "2024-11-21T13:31:57.772Z"
   },
   {
    "duration": 9,
    "start_time": "2024-11-21T13:31:57.787Z"
   },
   {
    "duration": 21,
    "start_time": "2024-11-21T13:31:57.798Z"
   },
   {
    "duration": 54,
    "start_time": "2024-11-21T13:31:57.823Z"
   },
   {
    "duration": 14,
    "start_time": "2024-11-21T13:31:57.878Z"
   },
   {
    "duration": 22,
    "start_time": "2024-11-21T13:31:57.894Z"
   },
   {
    "duration": 7,
    "start_time": "2024-11-21T13:31:57.918Z"
   },
   {
    "duration": 5,
    "start_time": "2024-11-21T13:31:57.926Z"
   },
   {
    "duration": 204,
    "start_time": "2024-11-21T13:31:57.933Z"
   },
   {
    "duration": 165,
    "start_time": "2024-11-21T13:31:58.139Z"
   },
   {
    "duration": 13,
    "start_time": "2024-11-21T13:31:58.306Z"
   },
   {
    "duration": 269,
    "start_time": "2024-11-21T13:31:58.320Z"
   },
   {
    "duration": 218,
    "start_time": "2024-11-21T13:31:58.590Z"
   },
   {
    "duration": 8,
    "start_time": "2024-11-21T13:31:58.809Z"
   },
   {
    "duration": 208,
    "start_time": "2024-11-21T13:31:58.818Z"
   },
   {
    "duration": 2,
    "start_time": "2024-11-21T13:31:59.029Z"
   },
   {
    "duration": 8,
    "start_time": "2024-11-21T13:31:59.033Z"
   },
   {
    "duration": 28,
    "start_time": "2024-11-21T13:31:59.042Z"
   },
   {
    "duration": 251,
    "start_time": "2024-11-21T13:31:59.072Z"
   },
   {
    "duration": 8,
    "start_time": "2024-11-21T13:31:59.326Z"
   },
   {
    "duration": 15,
    "start_time": "2024-11-21T13:31:59.339Z"
   },
   {
    "duration": 673,
    "start_time": "2024-11-21T13:31:59.355Z"
   },
   {
    "duration": 16,
    "start_time": "2024-11-21T13:32:00.030Z"
   },
   {
    "duration": 6,
    "start_time": "2024-11-21T13:32:00.048Z"
   },
   {
    "duration": 163,
    "start_time": "2024-11-21T13:32:23.278Z"
   },
   {
    "duration": 159,
    "start_time": "2024-11-21T13:32:31.043Z"
   },
   {
    "duration": 229,
    "start_time": "2024-11-21T13:32:54.818Z"
   },
   {
    "duration": 156,
    "start_time": "2024-11-21T13:32:58.603Z"
   },
   {
    "duration": 157,
    "start_time": "2024-11-21T13:33:05.348Z"
   },
   {
    "duration": 157,
    "start_time": "2024-11-21T13:33:12.030Z"
   },
   {
    "duration": 162,
    "start_time": "2024-11-21T13:33:16.640Z"
   },
   {
    "duration": 157,
    "start_time": "2024-11-21T13:33:23.648Z"
   },
   {
    "duration": 164,
    "start_time": "2024-11-21T13:33:29.670Z"
   },
   {
    "duration": 160,
    "start_time": "2024-11-21T13:33:43.127Z"
   },
   {
    "duration": 156,
    "start_time": "2024-11-21T13:33:50.082Z"
   },
   {
    "duration": 588,
    "start_time": "2024-11-21T13:45:35.631Z"
   },
   {
    "duration": 236,
    "start_time": "2024-11-21T13:45:49.189Z"
   },
   {
    "duration": 299,
    "start_time": "2024-11-21T13:46:04.476Z"
   },
   {
    "duration": 236,
    "start_time": "2024-11-21T13:46:10.769Z"
   },
   {
    "duration": 73,
    "start_time": "2024-11-21T13:46:14.358Z"
   },
   {
    "duration": 74,
    "start_time": "2024-11-21T13:46:17.909Z"
   },
   {
    "duration": 233,
    "start_time": "2024-11-21T13:46:22.075Z"
   },
   {
    "duration": 599,
    "start_time": "2024-11-21T13:46:35.059Z"
   },
   {
    "duration": 203,
    "start_time": "2024-11-21T13:46:53.099Z"
   },
   {
    "duration": 191,
    "start_time": "2024-11-21T13:47:24.250Z"
   },
   {
    "duration": 16,
    "start_time": "2024-11-21T13:47:49.395Z"
   },
   {
    "duration": 193,
    "start_time": "2024-11-21T13:47:53.716Z"
   },
   {
    "duration": 190,
    "start_time": "2024-11-21T13:48:09.555Z"
   },
   {
    "duration": 298,
    "start_time": "2024-11-21T13:48:28.147Z"
   },
   {
    "duration": 197,
    "start_time": "2024-11-21T13:48:40.613Z"
   },
   {
    "duration": 195,
    "start_time": "2024-11-21T13:48:52.999Z"
   },
   {
    "duration": 205,
    "start_time": "2024-11-21T13:49:07.024Z"
   },
   {
    "duration": 193,
    "start_time": "2024-11-21T13:49:12.506Z"
   },
   {
    "duration": 195,
    "start_time": "2024-11-21T13:49:31.404Z"
   },
   {
    "duration": 194,
    "start_time": "2024-11-21T13:49:43.462Z"
   },
   {
    "duration": 204,
    "start_time": "2024-11-21T13:49:47.450Z"
   },
   {
    "duration": 290,
    "start_time": "2024-11-21T13:49:53.956Z"
   },
   {
    "duration": 193,
    "start_time": "2024-11-21T13:50:05.623Z"
   },
   {
    "duration": 193,
    "start_time": "2024-11-21T13:50:14.129Z"
   },
   {
    "duration": 193,
    "start_time": "2024-11-21T13:50:31.898Z"
   },
   {
    "duration": 5,
    "start_time": "2024-11-21T13:50:46.666Z"
   },
   {
    "duration": 198,
    "start_time": "2024-11-21T13:50:51.302Z"
   },
   {
    "duration": 194,
    "start_time": "2024-11-21T13:51:08.221Z"
   },
   {
    "duration": 4,
    "start_time": "2024-11-21T13:52:10.534Z"
   },
   {
    "duration": 78,
    "start_time": "2024-11-21T13:52:19.137Z"
   },
   {
    "duration": 72,
    "start_time": "2024-11-21T13:52:22.952Z"
   },
   {
    "duration": 210,
    "start_time": "2024-11-21T13:52:30.992Z"
   },
   {
    "duration": 235,
    "start_time": "2024-11-21T13:52:55.479Z"
   },
   {
    "duration": 628,
    "start_time": "2024-11-21T13:53:07.193Z"
   },
   {
    "duration": 640,
    "start_time": "2024-11-21T13:53:36.212Z"
   },
   {
    "duration": 157,
    "start_time": "2024-11-21T13:53:42.292Z"
   },
   {
    "duration": 8,
    "start_time": "2024-11-21T13:56:19.482Z"
   },
   {
    "duration": 8,
    "start_time": "2024-11-21T13:56:33.609Z"
   },
   {
    "duration": 228,
    "start_time": "2024-11-21T13:57:42.353Z"
   },
   {
    "duration": 227,
    "start_time": "2024-11-21T13:58:52.945Z"
   },
   {
    "duration": 227,
    "start_time": "2024-11-21T13:59:10.888Z"
   },
   {
    "duration": 507,
    "start_time": "2024-11-21T14:00:52.418Z"
   },
   {
    "duration": 885,
    "start_time": "2024-11-21T14:02:03.853Z"
   },
   {
    "duration": 581,
    "start_time": "2024-11-21T14:02:50.675Z"
   },
   {
    "duration": 444,
    "start_time": "2024-11-21T14:03:02.814Z"
   },
   {
    "duration": 677,
    "start_time": "2024-11-21T14:04:23.201Z"
   },
   {
    "duration": 313,
    "start_time": "2024-11-21T14:05:07.120Z"
   },
   {
    "duration": 437,
    "start_time": "2024-11-21T14:05:14.225Z"
   },
   {
    "duration": 233,
    "start_time": "2024-11-21T14:06:23.760Z"
   },
   {
    "duration": 546,
    "start_time": "2024-11-21T14:06:33.534Z"
   },
   {
    "duration": 446,
    "start_time": "2024-11-21T14:06:40.899Z"
   },
   {
    "duration": 14,
    "start_time": "2024-11-21T14:08:55.218Z"
   },
   {
    "duration": 13,
    "start_time": "2024-11-21T14:09:13.898Z"
   },
   {
    "duration": 9,
    "start_time": "2024-11-21T14:09:30.018Z"
   },
   {
    "duration": 591,
    "start_time": "2024-11-21T14:10:06.195Z"
   },
   {
    "duration": 5,
    "start_time": "2024-11-21T14:11:11.194Z"
   },
   {
    "duration": 819,
    "start_time": "2024-11-21T14:11:22.444Z"
   },
   {
    "duration": 153,
    "start_time": "2024-11-21T14:11:23.269Z"
   },
   {
    "duration": 9,
    "start_time": "2024-11-21T14:11:23.424Z"
   },
   {
    "duration": 8,
    "start_time": "2024-11-21T14:11:23.436Z"
   },
   {
    "duration": 7,
    "start_time": "2024-11-21T14:11:23.446Z"
   },
   {
    "duration": 7,
    "start_time": "2024-11-21T14:11:23.469Z"
   },
   {
    "duration": 8,
    "start_time": "2024-11-21T14:11:23.478Z"
   },
   {
    "duration": 7,
    "start_time": "2024-11-21T14:11:23.488Z"
   },
   {
    "duration": 16,
    "start_time": "2024-11-21T14:11:23.497Z"
   },
   {
    "duration": 15,
    "start_time": "2024-11-21T14:11:23.516Z"
   },
   {
    "duration": 42,
    "start_time": "2024-11-21T14:11:23.532Z"
   },
   {
    "duration": 26,
    "start_time": "2024-11-21T14:11:23.576Z"
   },
   {
    "duration": 24,
    "start_time": "2024-11-21T14:11:23.603Z"
   },
   {
    "duration": 12,
    "start_time": "2024-11-21T14:11:23.630Z"
   },
   {
    "duration": 30,
    "start_time": "2024-11-21T14:11:23.643Z"
   },
   {
    "duration": 16,
    "start_time": "2024-11-21T14:11:23.675Z"
   },
   {
    "duration": 17,
    "start_time": "2024-11-21T14:11:23.693Z"
   },
   {
    "duration": 13,
    "start_time": "2024-11-21T14:11:23.712Z"
   },
   {
    "duration": 5,
    "start_time": "2024-11-21T14:11:23.728Z"
   },
   {
    "duration": 54,
    "start_time": "2024-11-21T14:11:23.735Z"
   },
   {
    "duration": 23,
    "start_time": "2024-11-21T14:11:23.791Z"
   },
   {
    "duration": 3,
    "start_time": "2024-11-21T14:11:23.816Z"
   },
   {
    "duration": 16,
    "start_time": "2024-11-21T14:11:23.821Z"
   },
   {
    "duration": 38,
    "start_time": "2024-11-21T14:11:23.839Z"
   },
   {
    "duration": 12,
    "start_time": "2024-11-21T14:11:23.878Z"
   },
   {
    "duration": 10,
    "start_time": "2024-11-21T14:11:23.892Z"
   },
   {
    "duration": 22,
    "start_time": "2024-11-21T14:11:23.903Z"
   },
   {
    "duration": 56,
    "start_time": "2024-11-21T14:11:23.930Z"
   },
   {
    "duration": 15,
    "start_time": "2024-11-21T14:11:23.987Z"
   },
   {
    "duration": 22,
    "start_time": "2024-11-21T14:11:24.003Z"
   },
   {
    "duration": 7,
    "start_time": "2024-11-21T14:11:24.026Z"
   },
   {
    "duration": 6,
    "start_time": "2024-11-21T14:11:24.034Z"
   },
   {
    "duration": 180,
    "start_time": "2024-11-21T14:11:24.070Z"
   },
   {
    "duration": 172,
    "start_time": "2024-11-21T14:11:24.252Z"
   },
   {
    "duration": 13,
    "start_time": "2024-11-21T14:11:24.426Z"
   },
   {
    "duration": 261,
    "start_time": "2024-11-21T14:11:24.441Z"
   },
   {
    "duration": 213,
    "start_time": "2024-11-21T14:11:24.704Z"
   },
   {
    "duration": 9,
    "start_time": "2024-11-21T14:11:24.919Z"
   },
   {
    "duration": 210,
    "start_time": "2024-11-21T14:11:24.930Z"
   },
   {
    "duration": 2,
    "start_time": "2024-11-21T14:11:25.143Z"
   },
   {
    "duration": 9,
    "start_time": "2024-11-21T14:11:25.147Z"
   },
   {
    "duration": 8,
    "start_time": "2024-11-21T14:11:25.170Z"
   },
   {
    "duration": 244,
    "start_time": "2024-11-21T14:11:25.179Z"
   },
   {
    "duration": 4,
    "start_time": "2024-11-21T14:11:25.425Z"
   },
   {
    "duration": 0,
    "start_time": "2024-11-21T14:11:25.430Z"
   },
   {
    "duration": 0,
    "start_time": "2024-11-21T14:11:25.431Z"
   },
   {
    "duration": 0,
    "start_time": "2024-11-21T14:11:25.433Z"
   },
   {
    "duration": 0,
    "start_time": "2024-11-21T14:11:25.434Z"
   },
   {
    "duration": 0,
    "start_time": "2024-11-21T14:11:25.435Z"
   },
   {
    "duration": 9,
    "start_time": "2024-11-21T14:11:49.615Z"
   },
   {
    "duration": 13,
    "start_time": "2024-11-21T14:11:55.307Z"
   },
   {
    "duration": 10,
    "start_time": "2024-11-21T14:11:57.562Z"
   },
   {
    "duration": 13,
    "start_time": "2024-11-21T14:12:22.321Z"
   },
   {
    "duration": 426,
    "start_time": "2024-11-21T14:12:43.198Z"
   },
   {
    "duration": 456,
    "start_time": "2024-11-21T14:13:00.002Z"
   },
   {
    "duration": 434,
    "start_time": "2024-11-21T14:13:05.998Z"
   },
   {
    "duration": 518,
    "start_time": "2024-11-21T14:13:13.357Z"
   },
   {
    "duration": 433,
    "start_time": "2024-11-21T14:13:20.382Z"
   },
   {
    "duration": 437,
    "start_time": "2024-11-21T14:13:42.366Z"
   },
   {
    "duration": 1088,
    "start_time": "2024-11-21T14:13:54.180Z"
   },
   {
    "duration": 431,
    "start_time": "2024-11-21T14:13:58.794Z"
   },
   {
    "duration": 473,
    "start_time": "2024-11-21T14:14:09.335Z"
   },
   {
    "duration": 453,
    "start_time": "2024-11-21T14:14:14.091Z"
   },
   {
    "duration": 587,
    "start_time": "2024-11-21T14:14:34.230Z"
   },
   {
    "duration": 440,
    "start_time": "2024-11-21T14:14:39.022Z"
   },
   {
    "duration": 468,
    "start_time": "2024-11-21T14:14:50.360Z"
   },
   {
    "duration": 458,
    "start_time": "2024-11-21T14:14:55.033Z"
   },
   {
    "duration": 466,
    "start_time": "2024-11-21T14:15:07.036Z"
   },
   {
    "duration": 465,
    "start_time": "2024-11-21T14:15:23.944Z"
   },
   {
    "duration": 11,
    "start_time": "2024-11-21T14:27:50.160Z"
   },
   {
    "duration": 7,
    "start_time": "2024-11-21T14:28:37.247Z"
   },
   {
    "duration": 12,
    "start_time": "2024-11-21T14:35:49.798Z"
   },
   {
    "duration": 8,
    "start_time": "2024-11-21T14:36:21.656Z"
   },
   {
    "duration": 112,
    "start_time": "2024-11-21T14:41:16.124Z"
   },
   {
    "duration": 23,
    "start_time": "2024-11-21T14:41:31.193Z"
   },
   {
    "duration": 460,
    "start_time": "2024-11-21T14:41:53.802Z"
   },
   {
    "duration": 41,
    "start_time": "2024-11-21T14:42:48.565Z"
   },
   {
    "duration": 826,
    "start_time": "2024-11-21T14:43:02.239Z"
   },
   {
    "duration": 154,
    "start_time": "2024-11-21T14:43:03.071Z"
   },
   {
    "duration": 9,
    "start_time": "2024-11-21T14:43:03.227Z"
   },
   {
    "duration": 10,
    "start_time": "2024-11-21T14:43:03.239Z"
   },
   {
    "duration": 7,
    "start_time": "2024-11-21T14:43:03.250Z"
   },
   {
    "duration": 6,
    "start_time": "2024-11-21T14:43:03.270Z"
   },
   {
    "duration": 9,
    "start_time": "2024-11-21T14:43:03.278Z"
   },
   {
    "duration": 8,
    "start_time": "2024-11-21T14:43:03.289Z"
   },
   {
    "duration": 16,
    "start_time": "2024-11-21T14:43:03.298Z"
   },
   {
    "duration": 15,
    "start_time": "2024-11-21T14:43:03.317Z"
   },
   {
    "duration": 45,
    "start_time": "2024-11-21T14:43:03.333Z"
   },
   {
    "duration": 25,
    "start_time": "2024-11-21T14:43:03.379Z"
   },
   {
    "duration": 25,
    "start_time": "2024-11-21T14:43:03.406Z"
   },
   {
    "duration": 11,
    "start_time": "2024-11-21T14:43:03.432Z"
   },
   {
    "duration": 29,
    "start_time": "2024-11-21T14:43:03.445Z"
   },
   {
    "duration": 16,
    "start_time": "2024-11-21T14:43:03.475Z"
   },
   {
    "duration": 17,
    "start_time": "2024-11-21T14:43:03.493Z"
   },
   {
    "duration": 13,
    "start_time": "2024-11-21T14:43:03.512Z"
   },
   {
    "duration": 6,
    "start_time": "2024-11-21T14:43:03.527Z"
   },
   {
    "duration": 54,
    "start_time": "2024-11-21T14:43:03.535Z"
   },
   {
    "duration": 22,
    "start_time": "2024-11-21T14:43:03.590Z"
   },
   {
    "duration": 3,
    "start_time": "2024-11-21T14:43:03.613Z"
   },
   {
    "duration": 713,
    "start_time": "2024-11-21T14:43:03.618Z"
   },
   {
    "duration": 0,
    "start_time": "2024-11-21T14:43:04.334Z"
   },
   {
    "duration": 0,
    "start_time": "2024-11-21T14:43:04.335Z"
   },
   {
    "duration": 0,
    "start_time": "2024-11-21T14:43:04.336Z"
   },
   {
    "duration": 0,
    "start_time": "2024-11-21T14:43:04.337Z"
   },
   {
    "duration": 0,
    "start_time": "2024-11-21T14:43:04.338Z"
   },
   {
    "duration": 0,
    "start_time": "2024-11-21T14:43:04.339Z"
   },
   {
    "duration": 0,
    "start_time": "2024-11-21T14:43:04.341Z"
   },
   {
    "duration": 0,
    "start_time": "2024-11-21T14:43:04.342Z"
   },
   {
    "duration": 0,
    "start_time": "2024-11-21T14:43:04.343Z"
   },
   {
    "duration": 0,
    "start_time": "2024-11-21T14:43:04.344Z"
   },
   {
    "duration": 0,
    "start_time": "2024-11-21T14:43:04.346Z"
   },
   {
    "duration": 0,
    "start_time": "2024-11-21T14:43:04.346Z"
   },
   {
    "duration": 0,
    "start_time": "2024-11-21T14:43:04.347Z"
   },
   {
    "duration": 0,
    "start_time": "2024-11-21T14:43:04.371Z"
   },
   {
    "duration": 0,
    "start_time": "2024-11-21T14:43:04.372Z"
   },
   {
    "duration": 0,
    "start_time": "2024-11-21T14:43:04.374Z"
   },
   {
    "duration": 0,
    "start_time": "2024-11-21T14:43:04.375Z"
   },
   {
    "duration": 0,
    "start_time": "2024-11-21T14:43:04.376Z"
   },
   {
    "duration": 0,
    "start_time": "2024-11-21T14:43:04.377Z"
   },
   {
    "duration": 1,
    "start_time": "2024-11-21T14:43:04.378Z"
   },
   {
    "duration": 0,
    "start_time": "2024-11-21T14:43:04.379Z"
   },
   {
    "duration": 1,
    "start_time": "2024-11-21T14:43:04.380Z"
   },
   {
    "duration": 0,
    "start_time": "2024-11-21T14:43:04.382Z"
   },
   {
    "duration": 0,
    "start_time": "2024-11-21T14:43:04.383Z"
   },
   {
    "duration": 0,
    "start_time": "2024-11-21T14:43:04.384Z"
   },
   {
    "duration": 0,
    "start_time": "2024-11-21T14:43:04.385Z"
   },
   {
    "duration": 4,
    "start_time": "2024-11-21T14:43:47.816Z"
   },
   {
    "duration": 14,
    "start_time": "2024-11-21T14:43:54.370Z"
   },
   {
    "duration": 15,
    "start_time": "2024-11-21T14:44:04.998Z"
   },
   {
    "duration": 8,
    "start_time": "2024-11-21T14:44:12.812Z"
   },
   {
    "duration": 15,
    "start_time": "2024-11-21T14:44:30.856Z"
   },
   {
    "duration": 7,
    "start_time": "2024-11-21T14:44:50.222Z"
   },
   {
    "duration": 16,
    "start_time": "2024-11-21T14:45:31.071Z"
   },
   {
    "duration": 17,
    "start_time": "2024-11-21T14:45:42.177Z"
   },
   {
    "duration": 6,
    "start_time": "2024-11-21T14:45:50.657Z"
   },
   {
    "duration": 22,
    "start_time": "2024-11-21T14:46:06.322Z"
   },
   {
    "duration": 6,
    "start_time": "2024-11-21T14:46:17.488Z"
   },
   {
    "duration": 10,
    "start_time": "2024-11-21T14:47:24.610Z"
   },
   {
    "duration": 10,
    "start_time": "2024-11-21T14:47:53.029Z"
   },
   {
    "duration": 5,
    "start_time": "2024-11-21T14:48:21.147Z"
   },
   {
    "duration": 4,
    "start_time": "2024-11-21T14:48:35.784Z"
   },
   {
    "duration": 11,
    "start_time": "2024-11-21T14:49:06.674Z"
   },
   {
    "duration": 10,
    "start_time": "2024-11-21T14:49:19.899Z"
   },
   {
    "duration": 11,
    "start_time": "2024-11-21T14:49:33.625Z"
   },
   {
    "duration": 818,
    "start_time": "2024-11-21T14:50:00.136Z"
   },
   {
    "duration": 156,
    "start_time": "2024-11-21T14:50:00.956Z"
   },
   {
    "duration": 10,
    "start_time": "2024-11-21T14:50:01.114Z"
   },
   {
    "duration": 8,
    "start_time": "2024-11-21T14:50:01.126Z"
   },
   {
    "duration": 8,
    "start_time": "2024-11-21T14:50:01.136Z"
   },
   {
    "duration": 25,
    "start_time": "2024-11-21T14:50:01.146Z"
   },
   {
    "duration": 8,
    "start_time": "2024-11-21T14:50:01.172Z"
   },
   {
    "duration": 8,
    "start_time": "2024-11-21T14:50:01.181Z"
   },
   {
    "duration": 15,
    "start_time": "2024-11-21T14:50:01.192Z"
   },
   {
    "duration": 15,
    "start_time": "2024-11-21T14:50:01.209Z"
   },
   {
    "duration": 9,
    "start_time": "2024-11-21T14:50:01.226Z"
   },
   {
    "duration": 53,
    "start_time": "2024-11-21T14:50:01.237Z"
   },
   {
    "duration": 25,
    "start_time": "2024-11-21T14:50:01.292Z"
   },
   {
    "duration": 11,
    "start_time": "2024-11-21T14:50:01.319Z"
   },
   {
    "duration": 6,
    "start_time": "2024-11-21T14:50:01.333Z"
   },
   {
    "duration": 46,
    "start_time": "2024-11-21T14:50:01.341Z"
   },
   {
    "duration": 18,
    "start_time": "2024-11-21T14:50:01.389Z"
   },
   {
    "duration": 13,
    "start_time": "2024-11-21T14:50:01.408Z"
   },
   {
    "duration": 6,
    "start_time": "2024-11-21T14:50:01.422Z"
   },
   {
    "duration": 49,
    "start_time": "2024-11-21T14:50:01.430Z"
   },
   {
    "duration": 22,
    "start_time": "2024-11-21T14:50:01.481Z"
   },
   {
    "duration": 3,
    "start_time": "2024-11-21T14:50:01.504Z"
   },
   {
    "duration": 11,
    "start_time": "2024-11-21T14:50:01.509Z"
   },
   {
    "duration": 17,
    "start_time": "2024-11-21T14:50:01.522Z"
   },
   {
    "duration": 13,
    "start_time": "2024-11-21T14:50:01.570Z"
   },
   {
    "duration": 12,
    "start_time": "2024-11-21T14:50:01.584Z"
   },
   {
    "duration": 10,
    "start_time": "2024-11-21T14:50:01.597Z"
   },
   {
    "duration": 21,
    "start_time": "2024-11-21T14:50:01.610Z"
   },
   {
    "duration": 52,
    "start_time": "2024-11-21T14:50:01.633Z"
   },
   {
    "duration": 15,
    "start_time": "2024-11-21T14:50:01.686Z"
   },
   {
    "duration": 24,
    "start_time": "2024-11-21T14:50:01.703Z"
   },
   {
    "duration": 7,
    "start_time": "2024-11-21T14:50:01.729Z"
   },
   {
    "duration": 36,
    "start_time": "2024-11-21T14:50:01.738Z"
   },
   {
    "duration": 190,
    "start_time": "2024-11-21T14:50:01.776Z"
   },
   {
    "duration": 165,
    "start_time": "2024-11-21T14:50:01.969Z"
   },
   {
    "duration": 14,
    "start_time": "2024-11-21T14:50:02.136Z"
   },
   {
    "duration": 262,
    "start_time": "2024-11-21T14:50:02.152Z"
   },
   {
    "duration": 211,
    "start_time": "2024-11-21T14:50:02.416Z"
   },
   {
    "duration": 8,
    "start_time": "2024-11-21T14:50:02.629Z"
   },
   {
    "duration": 216,
    "start_time": "2024-11-21T14:50:02.639Z"
   },
   {
    "duration": 16,
    "start_time": "2024-11-21T14:50:02.857Z"
   },
   {
    "duration": 7,
    "start_time": "2024-11-21T14:50:02.875Z"
   },
   {
    "duration": 251,
    "start_time": "2024-11-21T14:50:02.883Z"
   },
   {
    "duration": 13,
    "start_time": "2024-11-21T14:50:03.136Z"
   },
   {
    "duration": 19,
    "start_time": "2024-11-21T14:50:03.151Z"
   },
   {
    "duration": 476,
    "start_time": "2024-11-21T14:50:03.172Z"
   },
   {
    "duration": 8,
    "start_time": "2024-11-21T14:50:03.650Z"
   },
   {
    "duration": 22,
    "start_time": "2024-11-21T14:50:03.660Z"
   },
   {
    "duration": 6,
    "start_time": "2024-11-21T14:50:03.683Z"
   },
   {
    "duration": 10,
    "start_time": "2024-11-21T14:50:17.882Z"
   },
   {
    "duration": 304,
    "start_time": "2024-11-21T14:50:27.687Z"
   },
   {
    "duration": 4,
    "start_time": "2024-11-21T14:50:35.842Z"
   },
   {
    "duration": 4,
    "start_time": "2024-11-21T14:51:23.958Z"
   },
   {
    "duration": 11,
    "start_time": "2024-11-21T14:51:45.383Z"
   },
   {
    "duration": 13,
    "start_time": "2024-11-21T14:51:50.129Z"
   },
   {
    "duration": 805,
    "start_time": "2024-11-21T14:52:03.767Z"
   },
   {
    "duration": 163,
    "start_time": "2024-11-21T14:52:04.574Z"
   },
   {
    "duration": 8,
    "start_time": "2024-11-21T14:52:04.740Z"
   },
   {
    "duration": 9,
    "start_time": "2024-11-21T14:52:04.752Z"
   },
   {
    "duration": 12,
    "start_time": "2024-11-21T14:52:04.762Z"
   },
   {
    "duration": 7,
    "start_time": "2024-11-21T14:52:04.775Z"
   },
   {
    "duration": 9,
    "start_time": "2024-11-21T14:52:04.784Z"
   },
   {
    "duration": 8,
    "start_time": "2024-11-21T14:52:04.794Z"
   },
   {
    "duration": 18,
    "start_time": "2024-11-21T14:52:04.803Z"
   },
   {
    "duration": 56,
    "start_time": "2024-11-21T14:52:04.825Z"
   },
   {
    "duration": 9,
    "start_time": "2024-11-21T14:52:04.883Z"
   },
   {
    "duration": 25,
    "start_time": "2024-11-21T14:52:04.894Z"
   },
   {
    "duration": 25,
    "start_time": "2024-11-21T14:52:04.920Z"
   },
   {
    "duration": 12,
    "start_time": "2024-11-21T14:52:04.969Z"
   },
   {
    "duration": 5,
    "start_time": "2024-11-21T14:52:04.983Z"
   },
   {
    "duration": 15,
    "start_time": "2024-11-21T14:52:04.990Z"
   },
   {
    "duration": 17,
    "start_time": "2024-11-21T14:52:05.006Z"
   },
   {
    "duration": 14,
    "start_time": "2024-11-21T14:52:05.025Z"
   },
   {
    "duration": 38,
    "start_time": "2024-11-21T14:52:05.040Z"
   },
   {
    "duration": 20,
    "start_time": "2024-11-21T14:52:05.080Z"
   },
   {
    "duration": 22,
    "start_time": "2024-11-21T14:52:05.101Z"
   },
   {
    "duration": 3,
    "start_time": "2024-11-21T14:52:05.125Z"
   },
   {
    "duration": 289,
    "start_time": "2024-11-21T14:52:05.130Z"
   },
   {
    "duration": 0,
    "start_time": "2024-11-21T14:52:05.421Z"
   },
   {
    "duration": 0,
    "start_time": "2024-11-21T14:52:05.422Z"
   },
   {
    "duration": 0,
    "start_time": "2024-11-21T14:52:05.424Z"
   },
   {
    "duration": 0,
    "start_time": "2024-11-21T14:52:05.425Z"
   },
   {
    "duration": 0,
    "start_time": "2024-11-21T14:52:05.427Z"
   },
   {
    "duration": 0,
    "start_time": "2024-11-21T14:52:05.429Z"
   },
   {
    "duration": 1,
    "start_time": "2024-11-21T14:52:05.430Z"
   },
   {
    "duration": 0,
    "start_time": "2024-11-21T14:52:05.432Z"
   },
   {
    "duration": 0,
    "start_time": "2024-11-21T14:52:05.433Z"
   },
   {
    "duration": 0,
    "start_time": "2024-11-21T14:52:05.435Z"
   },
   {
    "duration": 0,
    "start_time": "2024-11-21T14:52:05.437Z"
   },
   {
    "duration": 0,
    "start_time": "2024-11-21T14:52:05.438Z"
   },
   {
    "duration": 0,
    "start_time": "2024-11-21T14:52:05.439Z"
   },
   {
    "duration": 0,
    "start_time": "2024-11-21T14:52:05.440Z"
   },
   {
    "duration": 0,
    "start_time": "2024-11-21T14:52:05.470Z"
   },
   {
    "duration": 0,
    "start_time": "2024-11-21T14:52:05.471Z"
   },
   {
    "duration": 0,
    "start_time": "2024-11-21T14:52:05.472Z"
   },
   {
    "duration": 0,
    "start_time": "2024-11-21T14:52:05.473Z"
   },
   {
    "duration": 0,
    "start_time": "2024-11-21T14:52:05.474Z"
   },
   {
    "duration": 0,
    "start_time": "2024-11-21T14:52:05.476Z"
   },
   {
    "duration": 0,
    "start_time": "2024-11-21T14:52:05.477Z"
   },
   {
    "duration": 0,
    "start_time": "2024-11-21T14:52:05.478Z"
   },
   {
    "duration": 0,
    "start_time": "2024-11-21T14:52:05.480Z"
   },
   {
    "duration": 0,
    "start_time": "2024-11-21T14:52:05.480Z"
   },
   {
    "duration": 0,
    "start_time": "2024-11-21T14:52:05.482Z"
   },
   {
    "duration": 0,
    "start_time": "2024-11-21T14:52:05.483Z"
   },
   {
    "duration": 17,
    "start_time": "2024-11-21T14:52:13.580Z"
   },
   {
    "duration": 21,
    "start_time": "2024-11-21T14:52:18.683Z"
   },
   {
    "duration": 12,
    "start_time": "2024-11-21T14:52:21.888Z"
   },
   {
    "duration": 903,
    "start_time": "2024-11-21T14:52:30.786Z"
   },
   {
    "duration": 157,
    "start_time": "2024-11-21T14:52:31.691Z"
   },
   {
    "duration": 9,
    "start_time": "2024-11-21T14:52:31.850Z"
   },
   {
    "duration": 14,
    "start_time": "2024-11-21T14:52:31.862Z"
   },
   {
    "duration": 7,
    "start_time": "2024-11-21T14:52:31.878Z"
   },
   {
    "duration": 8,
    "start_time": "2024-11-21T14:52:31.887Z"
   },
   {
    "duration": 9,
    "start_time": "2024-11-21T14:52:31.896Z"
   },
   {
    "duration": 9,
    "start_time": "2024-11-21T14:52:31.906Z"
   },
   {
    "duration": 53,
    "start_time": "2024-11-21T14:52:31.917Z"
   },
   {
    "duration": 16,
    "start_time": "2024-11-21T14:52:31.973Z"
   },
   {
    "duration": 9,
    "start_time": "2024-11-21T14:52:31.990Z"
   },
   {
    "duration": 25,
    "start_time": "2024-11-21T14:52:32.001Z"
   },
   {
    "duration": 52,
    "start_time": "2024-11-21T14:52:32.028Z"
   },
   {
    "duration": 12,
    "start_time": "2024-11-21T14:52:32.081Z"
   },
   {
    "duration": 5,
    "start_time": "2024-11-21T14:52:32.095Z"
   },
   {
    "duration": 17,
    "start_time": "2024-11-21T14:52:32.102Z"
   },
   {
    "duration": 19,
    "start_time": "2024-11-21T14:52:32.120Z"
   },
   {
    "duration": 13,
    "start_time": "2024-11-21T14:52:32.170Z"
   },
   {
    "duration": 6,
    "start_time": "2024-11-21T14:52:32.185Z"
   },
   {
    "duration": 20,
    "start_time": "2024-11-21T14:52:32.193Z"
   },
   {
    "duration": 21,
    "start_time": "2024-11-21T14:52:32.215Z"
   },
   {
    "duration": 33,
    "start_time": "2024-11-21T14:52:32.238Z"
   },
   {
    "duration": 11,
    "start_time": "2024-11-21T14:52:32.272Z"
   },
   {
    "duration": 17,
    "start_time": "2024-11-21T14:52:32.284Z"
   },
   {
    "duration": 13,
    "start_time": "2024-11-21T14:52:32.302Z"
   },
   {
    "duration": 13,
    "start_time": "2024-11-21T14:52:32.316Z"
   },
   {
    "duration": 39,
    "start_time": "2024-11-21T14:52:32.331Z"
   },
   {
    "duration": 22,
    "start_time": "2024-11-21T14:52:32.375Z"
   },
   {
    "duration": 24,
    "start_time": "2024-11-21T14:52:32.398Z"
   },
   {
    "duration": 14,
    "start_time": "2024-11-21T14:52:32.424Z"
   },
   {
    "duration": 46,
    "start_time": "2024-11-21T14:52:32.440Z"
   },
   {
    "duration": 7,
    "start_time": "2024-11-21T14:52:32.487Z"
   },
   {
    "duration": 5,
    "start_time": "2024-11-21T14:52:32.495Z"
   },
   {
    "duration": 206,
    "start_time": "2024-11-21T14:52:32.501Z"
   },
   {
    "duration": 165,
    "start_time": "2024-11-21T14:52:32.709Z"
   },
   {
    "duration": 14,
    "start_time": "2024-11-21T14:52:32.875Z"
   },
   {
    "duration": 266,
    "start_time": "2024-11-21T14:52:32.890Z"
   },
   {
    "duration": 212,
    "start_time": "2024-11-21T14:52:33.158Z"
   },
   {
    "duration": 8,
    "start_time": "2024-11-21T14:52:33.373Z"
   },
   {
    "duration": 209,
    "start_time": "2024-11-21T14:52:33.383Z"
   },
   {
    "duration": 7,
    "start_time": "2024-11-21T14:52:33.594Z"
   },
   {
    "duration": 7,
    "start_time": "2024-11-21T14:52:33.603Z"
   },
   {
    "duration": 251,
    "start_time": "2024-11-21T14:52:33.613Z"
   },
   {
    "duration": 12,
    "start_time": "2024-11-21T14:52:33.870Z"
   },
   {
    "duration": 7,
    "start_time": "2024-11-21T14:52:33.884Z"
   },
   {
    "duration": 500,
    "start_time": "2024-11-21T14:52:33.893Z"
   },
   {
    "duration": 9,
    "start_time": "2024-11-21T14:52:34.395Z"
   },
   {
    "duration": 15,
    "start_time": "2024-11-21T14:52:34.406Z"
   },
   {
    "duration": 8,
    "start_time": "2024-11-21T14:52:34.422Z"
   },
   {
    "duration": 16,
    "start_time": "2024-11-21T15:24:12.449Z"
   },
   {
    "duration": 17,
    "start_time": "2024-11-21T15:25:43.171Z"
   },
   {
    "duration": 282,
    "start_time": "2024-11-21T15:43:33.405Z"
   },
   {
    "duration": 817,
    "start_time": "2024-11-21T15:43:44.638Z"
   },
   {
    "duration": 160,
    "start_time": "2024-11-21T15:43:45.457Z"
   },
   {
    "duration": 9,
    "start_time": "2024-11-21T15:43:45.619Z"
   },
   {
    "duration": 9,
    "start_time": "2024-11-21T15:43:45.630Z"
   },
   {
    "duration": 8,
    "start_time": "2024-11-21T15:43:45.640Z"
   },
   {
    "duration": 22,
    "start_time": "2024-11-21T15:43:45.649Z"
   },
   {
    "duration": 8,
    "start_time": "2024-11-21T15:43:45.672Z"
   },
   {
    "duration": 8,
    "start_time": "2024-11-21T15:43:45.681Z"
   },
   {
    "duration": 16,
    "start_time": "2024-11-21T15:43:45.691Z"
   },
   {
    "duration": 15,
    "start_time": "2024-11-21T15:43:45.710Z"
   },
   {
    "duration": 9,
    "start_time": "2024-11-21T15:43:45.727Z"
   },
   {
    "duration": 25,
    "start_time": "2024-11-21T15:43:45.770Z"
   },
   {
    "duration": 25,
    "start_time": "2024-11-21T15:43:45.797Z"
   },
   {
    "duration": 12,
    "start_time": "2024-11-21T15:43:45.823Z"
   },
   {
    "duration": 5,
    "start_time": "2024-11-21T15:43:45.838Z"
   },
   {
    "duration": 19,
    "start_time": "2024-11-21T15:43:45.869Z"
   },
   {
    "duration": 17,
    "start_time": "2024-11-21T15:43:45.890Z"
   },
   {
    "duration": 12,
    "start_time": "2024-11-21T15:43:45.909Z"
   },
   {
    "duration": 7,
    "start_time": "2024-11-21T15:43:45.923Z"
   },
   {
    "duration": 47,
    "start_time": "2024-11-21T15:43:45.932Z"
   },
   {
    "duration": 21,
    "start_time": "2024-11-21T15:43:45.981Z"
   },
   {
    "duration": 3,
    "start_time": "2024-11-21T15:43:46.004Z"
   },
   {
    "duration": 12,
    "start_time": "2024-11-21T15:43:46.008Z"
   },
   {
    "duration": 17,
    "start_time": "2024-11-21T15:43:46.021Z"
   },
   {
    "duration": 41,
    "start_time": "2024-11-21T15:43:46.040Z"
   },
   {
    "duration": 12,
    "start_time": "2024-11-21T15:43:46.082Z"
   },
   {
    "duration": 10,
    "start_time": "2024-11-21T15:43:46.095Z"
   },
   {
    "duration": 22,
    "start_time": "2024-11-21T15:43:46.108Z"
   },
   {
    "duration": 55,
    "start_time": "2024-11-21T15:43:46.132Z"
   },
   {
    "duration": 15,
    "start_time": "2024-11-21T15:43:46.188Z"
   },
   {
    "duration": 22,
    "start_time": "2024-11-21T15:43:46.204Z"
   },
   {
    "duration": 6,
    "start_time": "2024-11-21T15:43:46.228Z"
   },
   {
    "duration": 4,
    "start_time": "2024-11-21T15:43:46.236Z"
   },
   {
    "duration": 194,
    "start_time": "2024-11-21T15:43:46.269Z"
   },
   {
    "duration": 174,
    "start_time": "2024-11-21T15:43:46.469Z"
   },
   {
    "duration": 25,
    "start_time": "2024-11-21T15:43:46.645Z"
   },
   {
    "duration": 260,
    "start_time": "2024-11-21T15:43:46.672Z"
   },
   {
    "duration": 216,
    "start_time": "2024-11-21T15:43:46.934Z"
   },
   {
    "duration": 30,
    "start_time": "2024-11-21T15:43:47.153Z"
   },
   {
    "duration": 202,
    "start_time": "2024-11-21T15:43:47.185Z"
   },
   {
    "duration": 8,
    "start_time": "2024-11-21T15:43:47.389Z"
   },
   {
    "duration": 244,
    "start_time": "2024-11-21T15:43:47.398Z"
   },
   {
    "duration": 8,
    "start_time": "2024-11-21T15:43:47.644Z"
   },
   {
    "duration": 27,
    "start_time": "2024-11-21T15:43:47.653Z"
   },
   {
    "duration": 8,
    "start_time": "2024-11-21T15:43:47.681Z"
   },
   {
    "duration": 457,
    "start_time": "2024-11-21T15:43:47.691Z"
   },
   {
    "duration": 22,
    "start_time": "2024-11-21T15:43:48.150Z"
   },
   {
    "duration": 303,
    "start_time": "2024-11-21T15:43:48.174Z"
   },
   {
    "duration": 0,
    "start_time": "2024-11-21T15:43:48.479Z"
   },
   {
    "duration": 897,
    "start_time": "2024-11-21T15:44:45.683Z"
   },
   {
    "duration": 163,
    "start_time": "2024-11-21T15:44:46.582Z"
   },
   {
    "duration": 10,
    "start_time": "2024-11-21T15:44:46.746Z"
   },
   {
    "duration": 13,
    "start_time": "2024-11-21T15:44:46.759Z"
   },
   {
    "duration": 11,
    "start_time": "2024-11-21T15:44:46.774Z"
   },
   {
    "duration": 8,
    "start_time": "2024-11-21T15:44:46.786Z"
   },
   {
    "duration": 9,
    "start_time": "2024-11-21T15:44:46.795Z"
   },
   {
    "duration": 7,
    "start_time": "2024-11-21T15:44:46.806Z"
   },
   {
    "duration": 15,
    "start_time": "2024-11-21T15:44:46.815Z"
   },
   {
    "duration": 51,
    "start_time": "2024-11-21T15:44:46.835Z"
   },
   {
    "duration": 9,
    "start_time": "2024-11-21T15:44:46.888Z"
   },
   {
    "duration": 26,
    "start_time": "2024-11-21T15:44:46.898Z"
   },
   {
    "duration": 52,
    "start_time": "2024-11-21T15:44:46.926Z"
   },
   {
    "duration": 11,
    "start_time": "2024-11-21T15:44:46.980Z"
   },
   {
    "duration": 6,
    "start_time": "2024-11-21T15:44:46.993Z"
   },
   {
    "duration": 16,
    "start_time": "2024-11-21T15:44:47.001Z"
   },
   {
    "duration": 17,
    "start_time": "2024-11-21T15:44:47.019Z"
   },
   {
    "duration": 46,
    "start_time": "2024-11-21T15:44:47.038Z"
   },
   {
    "duration": 7,
    "start_time": "2024-11-21T15:44:47.087Z"
   },
   {
    "duration": 21,
    "start_time": "2024-11-21T15:44:47.096Z"
   },
   {
    "duration": 23,
    "start_time": "2024-11-21T15:44:47.119Z"
   },
   {
    "duration": 9,
    "start_time": "2024-11-21T15:44:47.169Z"
   },
   {
    "duration": 17,
    "start_time": "2024-11-21T15:44:47.179Z"
   },
   {
    "duration": 18,
    "start_time": "2024-11-21T15:44:47.198Z"
   },
   {
    "duration": 13,
    "start_time": "2024-11-21T15:44:47.218Z"
   },
   {
    "duration": 37,
    "start_time": "2024-11-21T15:44:47.233Z"
   },
   {
    "duration": 10,
    "start_time": "2024-11-21T15:44:47.271Z"
   },
   {
    "duration": 21,
    "start_time": "2024-11-21T15:44:47.285Z"
   },
   {
    "duration": 24,
    "start_time": "2024-11-21T15:44:47.307Z"
   },
   {
    "duration": 38,
    "start_time": "2024-11-21T15:44:47.333Z"
   },
   {
    "duration": 22,
    "start_time": "2024-11-21T15:44:47.372Z"
   },
   {
    "duration": 7,
    "start_time": "2024-11-21T15:44:47.396Z"
   },
   {
    "duration": 4,
    "start_time": "2024-11-21T15:44:47.404Z"
   },
   {
    "duration": 198,
    "start_time": "2024-11-21T15:44:47.409Z"
   },
   {
    "duration": 171,
    "start_time": "2024-11-21T15:44:47.609Z"
   },
   {
    "duration": 17,
    "start_time": "2024-11-21T15:44:47.782Z"
   },
   {
    "duration": 256,
    "start_time": "2024-11-21T15:44:47.801Z"
   },
   {
    "duration": 211,
    "start_time": "2024-11-21T15:44:48.059Z"
   },
   {
    "duration": 8,
    "start_time": "2024-11-21T15:44:48.272Z"
   },
   {
    "duration": 209,
    "start_time": "2024-11-21T15:44:48.282Z"
   },
   {
    "duration": 10,
    "start_time": "2024-11-21T15:44:48.493Z"
   },
   {
    "duration": 250,
    "start_time": "2024-11-21T15:44:48.504Z"
   },
   {
    "duration": 18,
    "start_time": "2024-11-21T15:44:48.756Z"
   },
   {
    "duration": 11,
    "start_time": "2024-11-21T15:44:48.775Z"
   },
   {
    "duration": 8,
    "start_time": "2024-11-21T15:44:48.788Z"
   },
   {
    "duration": 466,
    "start_time": "2024-11-21T15:44:48.797Z"
   },
   {
    "duration": 10,
    "start_time": "2024-11-21T15:44:49.265Z"
   },
   {
    "duration": 6,
    "start_time": "2024-11-21T15:44:49.277Z"
   },
   {
    "duration": 6,
    "start_time": "2024-11-21T15:44:49.284Z"
   },
   {
    "duration": 6,
    "start_time": "2024-11-21T15:45:44.415Z"
   },
   {
    "duration": 450,
    "start_time": "2024-11-21T15:49:25.477Z"
   },
   {
    "duration": 465,
    "start_time": "2024-11-21T15:49:32.908Z"
   },
   {
    "duration": 505,
    "start_time": "2024-11-21T15:49:38.286Z"
   },
   {
    "duration": 434,
    "start_time": "2024-11-21T15:49:44.508Z"
   },
   {
    "duration": 460,
    "start_time": "2024-11-21T15:49:51.590Z"
   },
   {
    "duration": 442,
    "start_time": "2024-11-21T15:50:07.978Z"
   },
   {
    "duration": 444,
    "start_time": "2024-11-21T15:50:19.709Z"
   },
   {
    "duration": 451,
    "start_time": "2024-11-21T15:50:31.447Z"
   },
   {
    "duration": 468,
    "start_time": "2024-11-21T15:51:12.304Z"
   },
   {
    "duration": 443,
    "start_time": "2024-11-21T15:51:24.009Z"
   },
   {
    "duration": 445,
    "start_time": "2024-11-21T15:51:29.358Z"
   },
   {
    "duration": 480,
    "start_time": "2024-11-21T15:51:33.071Z"
   },
   {
    "duration": 474,
    "start_time": "2024-11-21T15:51:38.462Z"
   },
   {
    "duration": 545,
    "start_time": "2024-11-21T15:51:46.046Z"
   },
   {
    "duration": 8,
    "start_time": "2024-11-21T15:54:04.195Z"
   },
   {
    "duration": 7,
    "start_time": "2024-11-21T15:54:16.133Z"
   },
   {
    "duration": 7,
    "start_time": "2024-11-21T15:54:24.335Z"
   },
   {
    "duration": 8,
    "start_time": "2024-11-21T15:55:21.418Z"
   },
   {
    "duration": 8,
    "start_time": "2024-11-21T15:56:23.403Z"
   },
   {
    "duration": 7,
    "start_time": "2024-11-21T15:56:48.374Z"
   },
   {
    "duration": 9,
    "start_time": "2024-11-21T18:47:12.844Z"
   },
   {
    "duration": 13,
    "start_time": "2024-11-21T18:47:35.664Z"
   },
   {
    "duration": 10,
    "start_time": "2024-11-21T18:47:55.397Z"
   },
   {
    "duration": 9,
    "start_time": "2024-11-21T18:47:59.629Z"
   },
   {
    "duration": 10,
    "start_time": "2024-11-21T18:49:00.864Z"
   },
   {
    "duration": 12,
    "start_time": "2024-11-21T18:49:02.190Z"
   },
   {
    "duration": 10,
    "start_time": "2024-11-21T18:49:31.086Z"
   },
   {
    "duration": 12,
    "start_time": "2024-11-21T18:49:47.630Z"
   },
   {
    "duration": 16,
    "start_time": "2024-11-21T18:50:04.136Z"
   },
   {
    "duration": 17,
    "start_time": "2024-11-21T18:50:15.771Z"
   },
   {
    "duration": 13,
    "start_time": "2024-11-21T18:50:28.304Z"
   },
   {
    "duration": 20,
    "start_time": "2024-11-21T18:50:56.200Z"
   },
   {
    "duration": 378,
    "start_time": "2024-11-21T18:53:00.934Z"
   },
   {
    "duration": 19,
    "start_time": "2024-11-21T18:53:05.041Z"
   },
   {
    "duration": 12,
    "start_time": "2024-11-21T18:53:26.419Z"
   },
   {
    "duration": 16,
    "start_time": "2024-11-21T18:54:05.543Z"
   },
   {
    "duration": 11,
    "start_time": "2024-11-21T18:54:33.496Z"
   },
   {
    "duration": 12,
    "start_time": "2024-11-21T18:54:44.043Z"
   },
   {
    "duration": 11,
    "start_time": "2024-11-21T18:55:03.310Z"
   },
   {
    "duration": 10,
    "start_time": "2024-11-21T18:55:32.214Z"
   },
   {
    "duration": 22,
    "start_time": "2024-11-21T18:56:21.079Z"
   },
   {
    "duration": 19,
    "start_time": "2024-11-21T18:56:28.979Z"
   },
   {
    "duration": 313,
    "start_time": "2024-11-21T19:47:46.837Z"
   },
   {
    "duration": 839,
    "start_time": "2024-11-21T19:48:00.009Z"
   },
   {
    "duration": 163,
    "start_time": "2024-11-21T19:48:00.849Z"
   },
   {
    "duration": 9,
    "start_time": "2024-11-21T19:48:01.013Z"
   },
   {
    "duration": 10,
    "start_time": "2024-11-21T19:48:01.024Z"
   },
   {
    "duration": 7,
    "start_time": "2024-11-21T19:48:01.035Z"
   },
   {
    "duration": 28,
    "start_time": "2024-11-21T19:48:01.044Z"
   },
   {
    "duration": 7,
    "start_time": "2024-11-21T19:48:01.074Z"
   },
   {
    "duration": 8,
    "start_time": "2024-11-21T19:48:01.083Z"
   },
   {
    "duration": 16,
    "start_time": "2024-11-21T19:48:01.092Z"
   },
   {
    "duration": 14,
    "start_time": "2024-11-21T19:48:01.112Z"
   },
   {
    "duration": 10,
    "start_time": "2024-11-21T19:48:01.129Z"
   },
   {
    "duration": 25,
    "start_time": "2024-11-21T19:48:01.170Z"
   },
   {
    "duration": 30,
    "start_time": "2024-11-21T19:48:01.197Z"
   },
   {
    "duration": 13,
    "start_time": "2024-11-21T19:48:01.229Z"
   },
   {
    "duration": 31,
    "start_time": "2024-11-21T19:48:01.244Z"
   },
   {
    "duration": 16,
    "start_time": "2024-11-21T19:48:01.278Z"
   },
   {
    "duration": 17,
    "start_time": "2024-11-21T19:48:01.296Z"
   },
   {
    "duration": 13,
    "start_time": "2024-11-21T19:48:01.314Z"
   },
   {
    "duration": 7,
    "start_time": "2024-11-21T19:48:01.329Z"
   },
   {
    "duration": 52,
    "start_time": "2024-11-21T19:48:01.338Z"
   },
   {
    "duration": 24,
    "start_time": "2024-11-21T19:48:01.392Z"
   },
   {
    "duration": 3,
    "start_time": "2024-11-21T19:48:01.418Z"
   },
   {
    "duration": 11,
    "start_time": "2024-11-21T19:48:01.422Z"
   },
   {
    "duration": 51,
    "start_time": "2024-11-21T19:48:01.435Z"
   },
   {
    "duration": 14,
    "start_time": "2024-11-21T19:48:01.488Z"
   },
   {
    "duration": 13,
    "start_time": "2024-11-21T19:48:01.503Z"
   },
   {
    "duration": 10,
    "start_time": "2024-11-21T19:48:01.518Z"
   },
   {
    "duration": 47,
    "start_time": "2024-11-21T19:48:01.532Z"
   },
   {
    "duration": 25,
    "start_time": "2024-11-21T19:48:01.580Z"
   },
   {
    "duration": 15,
    "start_time": "2024-11-21T19:48:01.606Z"
   },
   {
    "duration": 47,
    "start_time": "2024-11-21T19:48:01.623Z"
   },
   {
    "duration": 10,
    "start_time": "2024-11-21T19:48:01.672Z"
   },
   {
    "duration": 4,
    "start_time": "2024-11-21T19:48:01.684Z"
   },
   {
    "duration": 194,
    "start_time": "2024-11-21T19:48:01.691Z"
   },
   {
    "duration": 165,
    "start_time": "2024-11-21T19:48:01.887Z"
   },
   {
    "duration": 24,
    "start_time": "2024-11-21T19:48:02.053Z"
   },
   {
    "duration": 257,
    "start_time": "2024-11-21T19:48:02.078Z"
   },
   {
    "duration": 214,
    "start_time": "2024-11-21T19:48:02.337Z"
   },
   {
    "duration": 18,
    "start_time": "2024-11-21T19:48:02.553Z"
   },
   {
    "duration": 208,
    "start_time": "2024-11-21T19:48:02.572Z"
   },
   {
    "duration": 11,
    "start_time": "2024-11-21T19:48:02.782Z"
   },
   {
    "duration": 238,
    "start_time": "2024-11-21T19:48:02.796Z"
   },
   {
    "duration": 10,
    "start_time": "2024-11-21T19:48:03.036Z"
   },
   {
    "duration": 28,
    "start_time": "2024-11-21T19:48:03.047Z"
   },
   {
    "duration": 9,
    "start_time": "2024-11-21T19:48:03.076Z"
   },
   {
    "duration": 9,
    "start_time": "2024-11-21T19:48:03.086Z"
   },
   {
    "duration": 474,
    "start_time": "2024-11-21T19:48:03.096Z"
   },
   {
    "duration": 7,
    "start_time": "2024-11-21T19:48:03.572Z"
   },
   {
    "duration": 8,
    "start_time": "2024-11-21T19:48:03.580Z"
   },
   {
    "duration": 6,
    "start_time": "2024-11-21T19:48:03.589Z"
   },
   {
    "duration": 7,
    "start_time": "2024-11-21T19:48:42.417Z"
   },
   {
    "duration": 4,
    "start_time": "2024-11-21T19:58:19.411Z"
   },
   {
    "duration": 7,
    "start_time": "2024-11-21T19:59:13.055Z"
   },
   {
    "duration": 4,
    "start_time": "2024-11-21T19:59:50.585Z"
   },
   {
    "duration": 823,
    "start_time": "2024-11-21T22:16:44.873Z"
   },
   {
    "duration": 161,
    "start_time": "2024-11-21T22:16:45.698Z"
   },
   {
    "duration": 13,
    "start_time": "2024-11-21T22:16:45.861Z"
   },
   {
    "duration": 9,
    "start_time": "2024-11-21T22:16:45.876Z"
   },
   {
    "duration": 7,
    "start_time": "2024-11-21T22:16:45.887Z"
   },
   {
    "duration": 7,
    "start_time": "2024-11-21T22:16:45.896Z"
   },
   {
    "duration": 8,
    "start_time": "2024-11-21T22:16:45.904Z"
   },
   {
    "duration": 9,
    "start_time": "2024-11-21T22:16:45.913Z"
   },
   {
    "duration": 53,
    "start_time": "2024-11-21T22:16:45.924Z"
   },
   {
    "duration": 15,
    "start_time": "2024-11-21T22:16:45.980Z"
   },
   {
    "duration": 9,
    "start_time": "2024-11-21T22:16:45.997Z"
   },
   {
    "duration": 25,
    "start_time": "2024-11-21T22:16:46.008Z"
   },
   {
    "duration": 54,
    "start_time": "2024-11-21T22:16:46.034Z"
   },
   {
    "duration": 12,
    "start_time": "2024-11-21T22:16:46.090Z"
   },
   {
    "duration": 6,
    "start_time": "2024-11-21T22:16:46.103Z"
   },
   {
    "duration": 16,
    "start_time": "2024-11-21T22:16:46.110Z"
   },
   {
    "duration": 43,
    "start_time": "2024-11-21T22:16:46.128Z"
   },
   {
    "duration": 14,
    "start_time": "2024-11-21T22:16:46.172Z"
   },
   {
    "duration": 6,
    "start_time": "2024-11-21T22:16:46.187Z"
   },
   {
    "duration": 21,
    "start_time": "2024-11-21T22:16:46.195Z"
   },
   {
    "duration": 53,
    "start_time": "2024-11-21T22:16:46.217Z"
   },
   {
    "duration": 3,
    "start_time": "2024-11-21T22:16:46.272Z"
   },
   {
    "duration": 11,
    "start_time": "2024-11-21T22:16:46.276Z"
   },
   {
    "duration": 18,
    "start_time": "2024-11-21T22:16:46.288Z"
   },
   {
    "duration": 18,
    "start_time": "2024-11-21T22:16:46.308Z"
   },
   {
    "duration": 43,
    "start_time": "2024-11-21T22:16:46.328Z"
   },
   {
    "duration": 11,
    "start_time": "2024-11-21T22:16:46.373Z"
   },
   {
    "duration": 21,
    "start_time": "2024-11-21T22:16:46.388Z"
   },
   {
    "duration": 22,
    "start_time": "2024-11-21T22:16:46.411Z"
   },
   {
    "duration": 40,
    "start_time": "2024-11-21T22:16:46.435Z"
   },
   {
    "duration": 21,
    "start_time": "2024-11-21T22:16:46.477Z"
   },
   {
    "duration": 10,
    "start_time": "2024-11-21T22:16:46.500Z"
   },
   {
    "duration": 5,
    "start_time": "2024-11-21T22:16:46.512Z"
   },
   {
    "duration": 220,
    "start_time": "2024-11-21T22:16:46.519Z"
   },
   {
    "duration": 180,
    "start_time": "2024-11-21T22:16:46.741Z"
   },
   {
    "duration": 21,
    "start_time": "2024-11-21T22:16:46.922Z"
   },
   {
    "duration": 275,
    "start_time": "2024-11-21T22:16:46.945Z"
   },
   {
    "duration": 215,
    "start_time": "2024-11-21T22:16:47.222Z"
   },
   {
    "duration": 13,
    "start_time": "2024-11-21T22:16:47.439Z"
   },
   {
    "duration": 213,
    "start_time": "2024-11-21T22:16:47.453Z"
   },
   {
    "duration": 12,
    "start_time": "2024-11-21T22:16:47.668Z"
   },
   {
    "duration": 261,
    "start_time": "2024-11-21T22:16:47.682Z"
   },
   {
    "duration": 12,
    "start_time": "2024-11-21T22:16:47.945Z"
   },
   {
    "duration": 18,
    "start_time": "2024-11-21T22:16:47.960Z"
   },
   {
    "duration": 10,
    "start_time": "2024-11-21T22:16:47.980Z"
   },
   {
    "duration": 9,
    "start_time": "2024-11-21T22:16:47.992Z"
   },
   {
    "duration": 480,
    "start_time": "2024-11-21T22:16:48.003Z"
   },
   {
    "duration": 7,
    "start_time": "2024-11-21T22:16:48.485Z"
   },
   {
    "duration": 296,
    "start_time": "2024-11-21T22:16:48.494Z"
   },
   {
    "duration": 0,
    "start_time": "2024-11-21T22:16:48.792Z"
   },
   {
    "duration": 4,
    "start_time": "2024-11-21T22:22:10.276Z"
   },
   {
    "duration": 4,
    "start_time": "2024-11-21T22:22:48.630Z"
   },
   {
    "duration": 12,
    "start_time": "2024-11-21T22:23:56.121Z"
   },
   {
    "duration": 9,
    "start_time": "2024-11-21T22:24:05.431Z"
   },
   {
    "duration": 11,
    "start_time": "2024-11-21T22:24:33.754Z"
   },
   {
    "duration": 12,
    "start_time": "2024-11-21T22:24:42.812Z"
   },
   {
    "duration": 870,
    "start_time": "2024-11-21T22:24:58.580Z"
   },
   {
    "duration": 163,
    "start_time": "2024-11-21T22:24:59.452Z"
   },
   {
    "duration": 8,
    "start_time": "2024-11-21T22:24:59.617Z"
   },
   {
    "duration": 9,
    "start_time": "2024-11-21T22:24:59.628Z"
   },
   {
    "duration": 8,
    "start_time": "2024-11-21T22:24:59.639Z"
   },
   {
    "duration": 7,
    "start_time": "2024-11-21T22:24:59.669Z"
   },
   {
    "duration": 9,
    "start_time": "2024-11-21T22:24:59.678Z"
   },
   {
    "duration": 8,
    "start_time": "2024-11-21T22:24:59.688Z"
   },
   {
    "duration": 17,
    "start_time": "2024-11-21T22:24:59.698Z"
   },
   {
    "duration": 22,
    "start_time": "2024-11-21T22:24:59.719Z"
   },
   {
    "duration": 35,
    "start_time": "2024-11-21T22:24:59.743Z"
   },
   {
    "duration": 25,
    "start_time": "2024-11-21T22:24:59.780Z"
   },
   {
    "duration": 25,
    "start_time": "2024-11-21T22:24:59.807Z"
   },
   {
    "duration": 37,
    "start_time": "2024-11-21T22:24:59.834Z"
   },
   {
    "duration": 9,
    "start_time": "2024-11-21T22:24:59.873Z"
   },
   {
    "duration": 20,
    "start_time": "2024-11-21T22:24:59.883Z"
   },
   {
    "duration": 18,
    "start_time": "2024-11-21T22:24:59.905Z"
   },
   {
    "duration": 13,
    "start_time": "2024-11-21T22:24:59.924Z"
   },
   {
    "duration": 36,
    "start_time": "2024-11-21T22:24:59.938Z"
   },
   {
    "duration": 20,
    "start_time": "2024-11-21T22:24:59.976Z"
   },
   {
    "duration": 23,
    "start_time": "2024-11-21T22:24:59.998Z"
   },
   {
    "duration": 3,
    "start_time": "2024-11-21T22:25:00.023Z"
   },
   {
    "duration": 10,
    "start_time": "2024-11-21T22:25:00.028Z"
   },
   {
    "duration": 46,
    "start_time": "2024-11-21T22:25:00.040Z"
   },
   {
    "duration": 13,
    "start_time": "2024-11-21T22:25:00.088Z"
   },
   {
    "duration": 12,
    "start_time": "2024-11-21T22:25:00.103Z"
   },
   {
    "duration": 9,
    "start_time": "2024-11-21T22:25:00.117Z"
   },
   {
    "duration": 52,
    "start_time": "2024-11-21T22:25:00.129Z"
   },
   {
    "duration": 23,
    "start_time": "2024-11-21T22:25:00.183Z"
   },
   {
    "duration": 16,
    "start_time": "2024-11-21T22:25:00.207Z"
   },
   {
    "duration": 19,
    "start_time": "2024-11-21T22:25:00.224Z"
   },
   {
    "duration": 13,
    "start_time": "2024-11-21T22:25:00.270Z"
   },
   {
    "duration": 5,
    "start_time": "2024-11-21T22:25:00.284Z"
   },
   {
    "duration": 190,
    "start_time": "2024-11-21T22:25:00.290Z"
   },
   {
    "duration": 166,
    "start_time": "2024-11-21T22:25:00.482Z"
   },
   {
    "duration": 28,
    "start_time": "2024-11-21T22:25:00.650Z"
   },
   {
    "duration": 263,
    "start_time": "2024-11-21T22:25:00.680Z"
   },
   {
    "duration": 208,
    "start_time": "2024-11-21T22:25:00.945Z"
   },
   {
    "duration": 23,
    "start_time": "2024-11-21T22:25:01.155Z"
   },
   {
    "duration": 214,
    "start_time": "2024-11-21T22:25:01.180Z"
   },
   {
    "duration": 12,
    "start_time": "2024-11-21T22:25:01.396Z"
   },
   {
    "duration": 242,
    "start_time": "2024-11-21T22:25:01.410Z"
   },
   {
    "duration": 22,
    "start_time": "2024-11-21T22:25:01.654Z"
   },
   {
    "duration": 10,
    "start_time": "2024-11-21T22:25:01.677Z"
   },
   {
    "duration": 9,
    "start_time": "2024-11-21T22:25:01.689Z"
   },
   {
    "duration": 9,
    "start_time": "2024-11-21T22:25:01.700Z"
   },
   {
    "duration": 476,
    "start_time": "2024-11-21T22:25:01.712Z"
   },
   {
    "duration": 7,
    "start_time": "2024-11-21T22:25:02.190Z"
   },
   {
    "duration": 11,
    "start_time": "2024-11-21T22:25:02.198Z"
   },
   {
    "duration": 6,
    "start_time": "2024-11-21T22:25:02.211Z"
   },
   {
    "duration": 12,
    "start_time": "2024-11-21T22:25:49.427Z"
   },
   {
    "duration": 12,
    "start_time": "2024-11-21T22:26:12.108Z"
   },
   {
    "duration": 15,
    "start_time": "2024-11-21T22:27:34.926Z"
   },
   {
    "duration": 284,
    "start_time": "2024-11-21T22:30:07.748Z"
   },
   {
    "duration": 10,
    "start_time": "2024-11-21T22:30:24.262Z"
   },
   {
    "duration": 10,
    "start_time": "2024-11-21T22:40:06.627Z"
   },
   {
    "duration": 8,
    "start_time": "2024-11-21T22:40:18.602Z"
   },
   {
    "duration": 7,
    "start_time": "2024-11-21T22:40:44.542Z"
   },
   {
    "duration": 9,
    "start_time": "2024-11-21T22:40:57.932Z"
   },
   {
    "duration": 7,
    "start_time": "2024-11-21T22:41:10.098Z"
   },
   {
    "duration": 2572,
    "start_time": "2024-11-22T00:14:38.198Z"
   },
   {
    "duration": 218,
    "start_time": "2024-11-22T00:14:40.772Z"
   },
   {
    "duration": 10,
    "start_time": "2024-11-22T00:14:40.992Z"
   },
   {
    "duration": 11,
    "start_time": "2024-11-22T00:14:41.005Z"
   },
   {
    "duration": 9,
    "start_time": "2024-11-22T00:14:41.018Z"
   },
   {
    "duration": 9,
    "start_time": "2024-11-22T00:14:41.028Z"
   },
   {
    "duration": 32,
    "start_time": "2024-11-22T00:14:41.040Z"
   },
   {
    "duration": 8,
    "start_time": "2024-11-22T00:14:41.074Z"
   },
   {
    "duration": 16,
    "start_time": "2024-11-22T00:14:41.084Z"
   },
   {
    "duration": 15,
    "start_time": "2024-11-22T00:14:41.103Z"
   },
   {
    "duration": 9,
    "start_time": "2024-11-22T00:14:41.120Z"
   },
   {
    "duration": 59,
    "start_time": "2024-11-22T00:14:41.130Z"
   },
   {
    "duration": 25,
    "start_time": "2024-11-22T00:14:41.190Z"
   },
   {
    "duration": 11,
    "start_time": "2024-11-22T00:14:41.217Z"
   },
   {
    "duration": 6,
    "start_time": "2024-11-22T00:14:41.229Z"
   },
   {
    "duration": 41,
    "start_time": "2024-11-22T00:14:41.237Z"
   },
   {
    "duration": 17,
    "start_time": "2024-11-22T00:14:41.280Z"
   },
   {
    "duration": 13,
    "start_time": "2024-11-22T00:14:41.299Z"
   },
   {
    "duration": 6,
    "start_time": "2024-11-22T00:14:41.314Z"
   },
   {
    "duration": 48,
    "start_time": "2024-11-22T00:14:41.322Z"
   },
   {
    "duration": 23,
    "start_time": "2024-11-22T00:14:41.371Z"
   },
   {
    "duration": 3,
    "start_time": "2024-11-22T00:14:41.395Z"
   },
   {
    "duration": 12,
    "start_time": "2024-11-22T00:14:41.400Z"
   },
   {
    "duration": 16,
    "start_time": "2024-11-22T00:14:41.413Z"
   },
   {
    "duration": 47,
    "start_time": "2024-11-22T00:14:41.431Z"
   },
   {
    "duration": 12,
    "start_time": "2024-11-22T00:14:41.480Z"
   },
   {
    "duration": 9,
    "start_time": "2024-11-22T00:14:41.494Z"
   },
   {
    "duration": 21,
    "start_time": "2024-11-22T00:14:41.508Z"
   },
   {
    "duration": 55,
    "start_time": "2024-11-22T00:14:41.531Z"
   },
   {
    "duration": 16,
    "start_time": "2024-11-22T00:14:41.588Z"
   },
   {
    "duration": 21,
    "start_time": "2024-11-22T00:14:41.606Z"
   },
   {
    "duration": 10,
    "start_time": "2024-11-22T00:14:41.629Z"
   },
   {
    "duration": 33,
    "start_time": "2024-11-22T00:14:41.640Z"
   },
   {
    "duration": 182,
    "start_time": "2024-11-22T00:14:41.675Z"
   },
   {
    "duration": 161,
    "start_time": "2024-11-22T00:14:41.859Z"
   },
   {
    "duration": 21,
    "start_time": "2024-11-22T00:14:42.022Z"
   },
   {
    "duration": 213,
    "start_time": "2024-11-22T00:14:42.045Z"
   },
   {
    "duration": 216,
    "start_time": "2024-11-22T00:14:42.260Z"
   },
   {
    "duration": 12,
    "start_time": "2024-11-22T00:14:42.478Z"
   },
   {
    "duration": 277,
    "start_time": "2024-11-22T00:14:42.493Z"
   },
   {
    "duration": 12,
    "start_time": "2024-11-22T00:14:42.772Z"
   },
   {
    "duration": 244,
    "start_time": "2024-11-22T00:14:42.786Z"
   },
   {
    "duration": 9,
    "start_time": "2024-11-22T00:14:43.032Z"
   },
   {
    "duration": 10,
    "start_time": "2024-11-22T00:14:43.043Z"
   },
   {
    "duration": 10,
    "start_time": "2024-11-22T00:14:43.070Z"
   },
   {
    "duration": 8,
    "start_time": "2024-11-22T00:14:43.081Z"
   },
   {
    "duration": 479,
    "start_time": "2024-11-22T00:14:43.091Z"
   },
   {
    "duration": 9,
    "start_time": "2024-11-22T00:14:43.572Z"
   },
   {
    "duration": 10,
    "start_time": "2024-11-22T00:14:43.582Z"
   },
   {
    "duration": 8,
    "start_time": "2024-11-22T00:14:43.594Z"
   },
   {
    "duration": 7,
    "start_time": "2024-11-22T00:17:53.943Z"
   },
   {
    "duration": 8,
    "start_time": "2024-11-22T00:18:15.901Z"
   },
   {
    "duration": 7,
    "start_time": "2024-11-22T00:18:22.494Z"
   },
   {
    "duration": 9,
    "start_time": "2024-11-22T00:18:37.041Z"
   },
   {
    "duration": 7,
    "start_time": "2024-11-22T00:18:41.221Z"
   },
   {
    "duration": 10,
    "start_time": "2024-11-22T00:26:31.241Z"
   },
   {
    "duration": 11,
    "start_time": "2024-11-22T00:26:46.466Z"
   },
   {
    "duration": 970,
    "start_time": "2024-11-22T00:27:51.972Z"
   },
   {
    "duration": 202,
    "start_time": "2024-11-22T00:28:03.923Z"
   },
   {
    "duration": 204,
    "start_time": "2024-11-22T00:28:12.543Z"
   },
   {
    "duration": 203,
    "start_time": "2024-11-22T00:30:21.174Z"
   },
   {
    "duration": 425,
    "start_time": "2024-11-22T00:30:57.885Z"
   },
   {
    "duration": 195,
    "start_time": "2024-11-22T00:31:02.289Z"
   },
   {
    "duration": 198,
    "start_time": "2024-11-22T00:31:24.546Z"
   },
   {
    "duration": 160,
    "start_time": "2024-11-22T00:32:51.350Z"
   },
   {
    "duration": 160,
    "start_time": "2024-11-22T00:33:15.899Z"
   },
   {
    "duration": 277,
    "start_time": "2024-11-22T00:34:17.712Z"
   },
   {
    "duration": 149,
    "start_time": "2024-11-22T00:34:21.435Z"
   },
   {
    "duration": 160,
    "start_time": "2024-11-22T00:34:42.736Z"
   },
   {
    "duration": 163,
    "start_time": "2024-11-22T00:35:03.491Z"
   },
   {
    "duration": 294,
    "start_time": "2024-11-22T00:35:09.976Z"
   },
   {
    "duration": 165,
    "start_time": "2024-11-22T00:35:56.635Z"
   },
   {
    "duration": 143,
    "start_time": "2024-11-22T00:36:03.374Z"
   },
   {
    "duration": 173,
    "start_time": "2024-11-22T00:36:16.746Z"
   },
   {
    "duration": 161,
    "start_time": "2024-11-22T00:36:47.849Z"
   },
   {
    "duration": 259,
    "start_time": "2024-11-22T00:37:47.518Z"
   },
   {
    "duration": 6,
    "start_time": "2024-11-22T00:38:03.298Z"
   },
   {
    "duration": 203,
    "start_time": "2024-11-22T00:38:14.693Z"
   },
   {
    "duration": 155,
    "start_time": "2024-11-22T00:38:23.360Z"
   },
   {
    "duration": 171,
    "start_time": "2024-11-22T00:38:37.570Z"
   },
   {
    "duration": 163,
    "start_time": "2024-11-22T00:38:44.613Z"
   },
   {
    "duration": 822,
    "start_time": "2024-11-22T00:38:51.664Z"
   },
   {
    "duration": 157,
    "start_time": "2024-11-22T00:38:52.488Z"
   },
   {
    "duration": 9,
    "start_time": "2024-11-22T00:38:52.647Z"
   },
   {
    "duration": 19,
    "start_time": "2024-11-22T00:38:52.658Z"
   },
   {
    "duration": 9,
    "start_time": "2024-11-22T00:38:52.678Z"
   },
   {
    "duration": 7,
    "start_time": "2024-11-22T00:38:52.689Z"
   },
   {
    "duration": 8,
    "start_time": "2024-11-22T00:38:52.698Z"
   },
   {
    "duration": 8,
    "start_time": "2024-11-22T00:38:52.708Z"
   },
   {
    "duration": 17,
    "start_time": "2024-11-22T00:38:52.718Z"
   },
   {
    "duration": 16,
    "start_time": "2024-11-22T00:38:52.771Z"
   },
   {
    "duration": 10,
    "start_time": "2024-11-22T00:38:52.790Z"
   },
   {
    "duration": 27,
    "start_time": "2024-11-22T00:38:52.801Z"
   },
   {
    "duration": 49,
    "start_time": "2024-11-22T00:38:52.830Z"
   },
   {
    "duration": 11,
    "start_time": "2024-11-22T00:38:52.881Z"
   },
   {
    "duration": 6,
    "start_time": "2024-11-22T00:38:52.894Z"
   },
   {
    "duration": 16,
    "start_time": "2024-11-22T00:38:52.902Z"
   },
   {
    "duration": 18,
    "start_time": "2024-11-22T00:38:52.920Z"
   },
   {
    "duration": 13,
    "start_time": "2024-11-22T00:38:52.971Z"
   },
   {
    "duration": 8,
    "start_time": "2024-11-22T00:38:52.986Z"
   },
   {
    "duration": 20,
    "start_time": "2024-11-22T00:38:52.995Z"
   },
   {
    "duration": 22,
    "start_time": "2024-11-22T00:38:53.018Z"
   },
   {
    "duration": 30,
    "start_time": "2024-11-22T00:38:53.041Z"
   },
   {
    "duration": 11,
    "start_time": "2024-11-22T00:38:53.073Z"
   },
   {
    "duration": 18,
    "start_time": "2024-11-22T00:38:53.085Z"
   },
   {
    "duration": 13,
    "start_time": "2024-11-22T00:38:53.105Z"
   },
   {
    "duration": 12,
    "start_time": "2024-11-22T00:38:53.119Z"
   },
   {
    "duration": 42,
    "start_time": "2024-11-22T00:38:53.132Z"
   },
   {
    "duration": 22,
    "start_time": "2024-11-22T00:38:53.179Z"
   },
   {
    "duration": 23,
    "start_time": "2024-11-22T00:38:53.203Z"
   },
   {
    "duration": 16,
    "start_time": "2024-11-22T00:38:53.228Z"
   },
   {
    "duration": 21,
    "start_time": "2024-11-22T00:38:53.270Z"
   },
   {
    "duration": 11,
    "start_time": "2024-11-22T00:38:53.292Z"
   },
   {
    "duration": 4,
    "start_time": "2024-11-22T00:38:53.304Z"
   },
   {
    "duration": 211,
    "start_time": "2024-11-22T00:38:53.310Z"
   },
   {
    "duration": 170,
    "start_time": "2024-11-22T00:38:53.523Z"
   },
   {
    "duration": 20,
    "start_time": "2024-11-22T00:38:53.695Z"
   },
   {
    "duration": 273,
    "start_time": "2024-11-22T00:38:53.717Z"
   },
   {
    "duration": 210,
    "start_time": "2024-11-22T00:38:53.992Z"
   },
   {
    "duration": 13,
    "start_time": "2024-11-22T00:38:54.203Z"
   },
   {
    "duration": 217,
    "start_time": "2024-11-22T00:38:54.219Z"
   },
   {
    "duration": 14,
    "start_time": "2024-11-22T00:38:54.438Z"
   },
   {
    "duration": 238,
    "start_time": "2024-11-22T00:38:54.469Z"
   },
   {
    "duration": 11,
    "start_time": "2024-11-22T00:38:54.709Z"
   },
   {
    "duration": 10,
    "start_time": "2024-11-22T00:38:54.721Z"
   },
   {
    "duration": 9,
    "start_time": "2024-11-22T00:38:54.733Z"
   },
   {
    "duration": 29,
    "start_time": "2024-11-22T00:38:54.744Z"
   },
   {
    "duration": 450,
    "start_time": "2024-11-22T00:38:54.775Z"
   },
   {
    "duration": 8,
    "start_time": "2024-11-22T00:38:55.227Z"
   },
   {
    "duration": 10,
    "start_time": "2024-11-22T00:38:55.236Z"
   },
   {
    "duration": 25,
    "start_time": "2024-11-22T00:38:55.248Z"
   },
   {
    "duration": 164,
    "start_time": "2024-11-22T00:39:12.597Z"
   },
   {
    "duration": 173,
    "start_time": "2024-11-22T00:39:17.600Z"
   },
   {
    "duration": 2552,
    "start_time": "2024-11-22T19:37:17.234Z"
   },
   {
    "duration": 204,
    "start_time": "2024-11-22T19:37:19.788Z"
   },
   {
    "duration": 9,
    "start_time": "2024-11-22T19:37:19.994Z"
   },
   {
    "duration": 8,
    "start_time": "2024-11-22T19:37:20.007Z"
   },
   {
    "duration": 8,
    "start_time": "2024-11-22T19:37:20.016Z"
   },
   {
    "duration": 7,
    "start_time": "2024-11-22T19:37:20.026Z"
   },
   {
    "duration": 8,
    "start_time": "2024-11-22T19:37:20.035Z"
   },
   {
    "duration": 8,
    "start_time": "2024-11-22T19:37:20.044Z"
   },
   {
    "duration": 52,
    "start_time": "2024-11-22T19:37:20.054Z"
   },
   {
    "duration": 14,
    "start_time": "2024-11-22T19:37:20.109Z"
   },
   {
    "duration": 8,
    "start_time": "2024-11-22T19:37:20.126Z"
   },
   {
    "duration": 23,
    "start_time": "2024-11-22T19:37:20.136Z"
   },
   {
    "duration": 51,
    "start_time": "2024-11-22T19:37:20.161Z"
   },
   {
    "duration": 12,
    "start_time": "2024-11-22T19:37:20.214Z"
   },
   {
    "duration": 6,
    "start_time": "2024-11-22T19:37:20.227Z"
   },
   {
    "duration": 16,
    "start_time": "2024-11-22T19:37:20.234Z"
   },
   {
    "duration": 20,
    "start_time": "2024-11-22T19:37:20.252Z"
   },
   {
    "duration": 41,
    "start_time": "2024-11-22T19:37:20.275Z"
   },
   {
    "duration": 6,
    "start_time": "2024-11-22T19:37:20.318Z"
   },
   {
    "duration": 20,
    "start_time": "2024-11-22T19:37:20.326Z"
   },
   {
    "duration": 20,
    "start_time": "2024-11-22T19:37:20.347Z"
   },
   {
    "duration": 2,
    "start_time": "2024-11-22T19:37:20.369Z"
   },
   {
    "duration": 36,
    "start_time": "2024-11-22T19:37:20.373Z"
   },
   {
    "duration": 19,
    "start_time": "2024-11-22T19:37:20.411Z"
   },
   {
    "duration": 13,
    "start_time": "2024-11-22T19:37:20.432Z"
   },
   {
    "duration": 12,
    "start_time": "2024-11-22T19:37:20.446Z"
   },
   {
    "duration": 9,
    "start_time": "2024-11-22T19:37:20.459Z"
   },
   {
    "duration": 52,
    "start_time": "2024-11-22T19:37:20.472Z"
   },
   {
    "duration": 22,
    "start_time": "2024-11-22T19:37:20.525Z"
   },
   {
    "duration": 15,
    "start_time": "2024-11-22T19:37:20.549Z"
   },
   {
    "duration": 43,
    "start_time": "2024-11-22T19:37:20.565Z"
   },
   {
    "duration": 9,
    "start_time": "2024-11-22T19:37:20.610Z"
   },
   {
    "duration": 4,
    "start_time": "2024-11-22T19:37:20.621Z"
   },
   {
    "duration": 193,
    "start_time": "2024-11-22T19:37:20.627Z"
   },
   {
    "duration": 163,
    "start_time": "2024-11-22T19:37:20.822Z"
   },
   {
    "duration": 25,
    "start_time": "2024-11-22T19:37:20.986Z"
   },
   {
    "duration": 199,
    "start_time": "2024-11-22T19:37:21.012Z"
   },
   {
    "duration": 210,
    "start_time": "2024-11-22T19:37:21.213Z"
   },
   {
    "duration": 12,
    "start_time": "2024-11-22T19:37:21.425Z"
   },
   {
    "duration": 209,
    "start_time": "2024-11-22T19:37:21.439Z"
   },
   {
    "duration": 11,
    "start_time": "2024-11-22T19:37:21.650Z"
   },
   {
    "duration": 302,
    "start_time": "2024-11-22T19:37:21.663Z"
   },
   {
    "duration": 9,
    "start_time": "2024-11-22T19:37:21.967Z"
   },
   {
    "duration": 9,
    "start_time": "2024-11-22T19:37:21.978Z"
   },
   {
    "duration": 23,
    "start_time": "2024-11-22T19:37:21.989Z"
   },
   {
    "duration": 10,
    "start_time": "2024-11-22T19:37:22.013Z"
   },
   {
    "duration": 451,
    "start_time": "2024-11-22T19:37:22.025Z"
   },
   {
    "duration": 9,
    "start_time": "2024-11-22T19:37:22.477Z"
   },
   {
    "duration": 19,
    "start_time": "2024-11-22T19:37:22.487Z"
   },
   {
    "duration": 8,
    "start_time": "2024-11-22T19:37:22.509Z"
   },
   {
    "duration": 758,
    "start_time": "2024-11-22T19:37:57.166Z"
   },
   {
    "duration": 150,
    "start_time": "2024-11-22T19:37:57.927Z"
   },
   {
    "duration": 8,
    "start_time": "2024-11-22T19:37:58.079Z"
   },
   {
    "duration": 22,
    "start_time": "2024-11-22T19:37:58.090Z"
   },
   {
    "duration": 8,
    "start_time": "2024-11-22T19:37:58.113Z"
   },
   {
    "duration": 9,
    "start_time": "2024-11-22T19:37:58.122Z"
   },
   {
    "duration": 8,
    "start_time": "2024-11-22T19:37:58.133Z"
   },
   {
    "duration": 8,
    "start_time": "2024-11-22T19:37:58.143Z"
   },
   {
    "duration": 52,
    "start_time": "2024-11-22T19:37:58.153Z"
   },
   {
    "duration": 15,
    "start_time": "2024-11-22T19:37:58.208Z"
   },
   {
    "duration": 10,
    "start_time": "2024-11-22T19:37:58.225Z"
   },
   {
    "duration": 24,
    "start_time": "2024-11-22T19:37:58.236Z"
   },
   {
    "duration": 48,
    "start_time": "2024-11-22T19:37:58.262Z"
   },
   {
    "duration": 11,
    "start_time": "2024-11-22T19:37:58.312Z"
   },
   {
    "duration": 6,
    "start_time": "2024-11-22T19:37:58.324Z"
   },
   {
    "duration": 16,
    "start_time": "2024-11-22T19:37:58.332Z"
   },
   {
    "duration": 17,
    "start_time": "2024-11-22T19:37:58.349Z"
   },
   {
    "duration": 48,
    "start_time": "2024-11-22T19:37:58.368Z"
   },
   {
    "duration": 6,
    "start_time": "2024-11-22T19:37:58.418Z"
   },
   {
    "duration": 19,
    "start_time": "2024-11-22T19:37:58.425Z"
   },
   {
    "duration": 21,
    "start_time": "2024-11-22T19:37:58.446Z"
   },
   {
    "duration": 3,
    "start_time": "2024-11-22T19:37:58.468Z"
   },
   {
    "duration": 40,
    "start_time": "2024-11-22T19:37:58.473Z"
   },
   {
    "duration": 16,
    "start_time": "2024-11-22T19:37:58.514Z"
   },
   {
    "duration": 13,
    "start_time": "2024-11-22T19:37:58.532Z"
   },
   {
    "duration": 10,
    "start_time": "2024-11-22T19:37:58.546Z"
   },
   {
    "duration": 8,
    "start_time": "2024-11-22T19:37:58.558Z"
   },
   {
    "duration": 54,
    "start_time": "2024-11-22T19:37:58.570Z"
   },
   {
    "duration": 22,
    "start_time": "2024-11-22T19:37:58.625Z"
   },
   {
    "duration": 15,
    "start_time": "2024-11-22T19:37:58.649Z"
   },
   {
    "duration": 40,
    "start_time": "2024-11-22T19:37:58.666Z"
   },
   {
    "duration": 12,
    "start_time": "2024-11-22T19:37:58.707Z"
   },
   {
    "duration": 4,
    "start_time": "2024-11-22T19:37:58.722Z"
   },
   {
    "duration": 187,
    "start_time": "2024-11-22T19:37:58.728Z"
   },
   {
    "duration": 164,
    "start_time": "2024-11-22T19:37:58.916Z"
   },
   {
    "duration": 29,
    "start_time": "2024-11-22T19:37:59.082Z"
   },
   {
    "duration": 277,
    "start_time": "2024-11-22T19:37:59.113Z"
   },
   {
    "duration": 0,
    "start_time": "2024-11-22T19:37:59.391Z"
   },
   {
    "duration": 0,
    "start_time": "2024-11-22T19:37:59.393Z"
   },
   {
    "duration": 0,
    "start_time": "2024-11-22T19:37:59.394Z"
   },
   {
    "duration": 0,
    "start_time": "2024-11-22T19:37:59.405Z"
   },
   {
    "duration": 0,
    "start_time": "2024-11-22T19:37:59.406Z"
   },
   {
    "duration": 0,
    "start_time": "2024-11-22T19:37:59.408Z"
   },
   {
    "duration": 0,
    "start_time": "2024-11-22T19:37:59.409Z"
   },
   {
    "duration": 0,
    "start_time": "2024-11-22T19:37:59.410Z"
   },
   {
    "duration": 0,
    "start_time": "2024-11-22T19:37:59.411Z"
   },
   {
    "duration": 0,
    "start_time": "2024-11-22T19:37:59.412Z"
   },
   {
    "duration": 0,
    "start_time": "2024-11-22T19:37:59.413Z"
   },
   {
    "duration": 0,
    "start_time": "2024-11-22T19:37:59.414Z"
   },
   {
    "duration": 0,
    "start_time": "2024-11-22T19:37:59.415Z"
   },
   {
    "duration": 57,
    "start_time": "2024-11-22T19:38:53.051Z"
   },
   {
    "duration": 839,
    "start_time": "2024-11-22T19:38:57.554Z"
   },
   {
    "duration": 152,
    "start_time": "2024-11-22T19:38:58.395Z"
   },
   {
    "duration": 8,
    "start_time": "2024-11-22T19:38:58.549Z"
   },
   {
    "duration": 9,
    "start_time": "2024-11-22T19:38:58.560Z"
   },
   {
    "duration": 8,
    "start_time": "2024-11-22T19:38:58.570Z"
   },
   {
    "duration": 26,
    "start_time": "2024-11-22T19:38:58.580Z"
   },
   {
    "duration": 9,
    "start_time": "2024-11-22T19:38:58.607Z"
   },
   {
    "duration": 9,
    "start_time": "2024-11-22T19:38:58.617Z"
   },
   {
    "duration": 16,
    "start_time": "2024-11-22T19:38:58.627Z"
   },
   {
    "duration": 14,
    "start_time": "2024-11-22T19:38:58.647Z"
   },
   {
    "duration": 9,
    "start_time": "2024-11-22T19:38:58.662Z"
   },
   {
    "duration": 26,
    "start_time": "2024-11-22T19:38:58.705Z"
   },
   {
    "duration": 24,
    "start_time": "2024-11-22T19:38:58.732Z"
   },
   {
    "duration": 12,
    "start_time": "2024-11-22T19:38:58.757Z"
   },
   {
    "duration": 7,
    "start_time": "2024-11-22T19:38:58.771Z"
   },
   {
    "duration": 38,
    "start_time": "2024-11-22T19:38:58.779Z"
   },
   {
    "duration": 17,
    "start_time": "2024-11-22T19:38:58.818Z"
   },
   {
    "duration": 12,
    "start_time": "2024-11-22T19:38:58.837Z"
   },
   {
    "duration": 7,
    "start_time": "2024-11-22T19:38:58.851Z"
   },
   {
    "duration": 48,
    "start_time": "2024-11-22T19:38:58.859Z"
   },
   {
    "duration": 21,
    "start_time": "2024-11-22T19:38:58.908Z"
   },
   {
    "duration": 3,
    "start_time": "2024-11-22T19:38:58.931Z"
   },
   {
    "duration": 11,
    "start_time": "2024-11-22T19:38:58.936Z"
   },
   {
    "duration": 17,
    "start_time": "2024-11-22T19:38:58.948Z"
   },
   {
    "duration": 42,
    "start_time": "2024-11-22T19:38:58.967Z"
   },
   {
    "duration": 13,
    "start_time": "2024-11-22T19:38:59.010Z"
   },
   {
    "duration": 9,
    "start_time": "2024-11-22T19:38:59.024Z"
   },
   {
    "duration": 21,
    "start_time": "2024-11-22T19:38:59.037Z"
   },
   {
    "duration": 52,
    "start_time": "2024-11-22T19:38:59.060Z"
   },
   {
    "duration": 15,
    "start_time": "2024-11-22T19:38:59.114Z"
   },
   {
    "duration": 27,
    "start_time": "2024-11-22T19:38:59.131Z"
   },
   {
    "duration": 11,
    "start_time": "2024-11-22T19:38:59.160Z"
   },
   {
    "duration": 7,
    "start_time": "2024-11-22T19:38:59.172Z"
   },
   {
    "duration": 447,
    "start_time": "2024-11-22T19:38:59.180Z"
   },
   {
    "duration": 0,
    "start_time": "2024-11-22T19:38:59.629Z"
   },
   {
    "duration": 0,
    "start_time": "2024-11-22T19:38:59.631Z"
   },
   {
    "duration": 0,
    "start_time": "2024-11-22T19:38:59.633Z"
   },
   {
    "duration": 0,
    "start_time": "2024-11-22T19:38:59.634Z"
   },
   {
    "duration": 0,
    "start_time": "2024-11-22T19:38:59.635Z"
   },
   {
    "duration": 0,
    "start_time": "2024-11-22T19:38:59.637Z"
   },
   {
    "duration": 0,
    "start_time": "2024-11-22T19:38:59.638Z"
   },
   {
    "duration": 0,
    "start_time": "2024-11-22T19:38:59.640Z"
   },
   {
    "duration": 0,
    "start_time": "2024-11-22T19:38:59.641Z"
   },
   {
    "duration": 1,
    "start_time": "2024-11-22T19:38:59.642Z"
   },
   {
    "duration": 0,
    "start_time": "2024-11-22T19:38:59.644Z"
   },
   {
    "duration": 0,
    "start_time": "2024-11-22T19:38:59.646Z"
   },
   {
    "duration": 0,
    "start_time": "2024-11-22T19:38:59.647Z"
   },
   {
    "duration": 0,
    "start_time": "2024-11-22T19:38:59.648Z"
   },
   {
    "duration": 0,
    "start_time": "2024-11-22T19:38:59.650Z"
   },
   {
    "duration": 0,
    "start_time": "2024-11-22T19:38:59.651Z"
   },
   {
    "duration": 855,
    "start_time": "2024-11-22T19:39:29.822Z"
   },
   {
    "duration": 164,
    "start_time": "2024-11-22T19:39:30.679Z"
   },
   {
    "duration": 9,
    "start_time": "2024-11-22T19:39:30.844Z"
   },
   {
    "duration": 9,
    "start_time": "2024-11-22T19:39:30.855Z"
   },
   {
    "duration": 8,
    "start_time": "2024-11-22T19:39:30.865Z"
   },
   {
    "duration": 7,
    "start_time": "2024-11-22T19:39:30.875Z"
   },
   {
    "duration": 8,
    "start_time": "2024-11-22T19:39:30.904Z"
   },
   {
    "duration": 8,
    "start_time": "2024-11-22T19:39:30.914Z"
   },
   {
    "duration": 16,
    "start_time": "2024-11-22T19:39:30.924Z"
   },
   {
    "duration": 14,
    "start_time": "2024-11-22T19:39:30.943Z"
   },
   {
    "duration": 9,
    "start_time": "2024-11-22T19:39:30.959Z"
   },
   {
    "duration": 57,
    "start_time": "2024-11-22T19:39:30.969Z"
   },
   {
    "duration": 24,
    "start_time": "2024-11-22T19:39:31.028Z"
   },
   {
    "duration": 11,
    "start_time": "2024-11-22T19:39:31.053Z"
   },
   {
    "duration": 5,
    "start_time": "2024-11-22T19:39:31.065Z"
   },
   {
    "duration": 43,
    "start_time": "2024-11-22T19:39:31.072Z"
   },
   {
    "duration": 17,
    "start_time": "2024-11-22T19:39:31.117Z"
   },
   {
    "duration": 13,
    "start_time": "2024-11-22T19:39:31.135Z"
   },
   {
    "duration": 6,
    "start_time": "2024-11-22T19:39:31.150Z"
   },
   {
    "duration": 19,
    "start_time": "2024-11-22T19:39:31.159Z"
   },
   {
    "duration": 26,
    "start_time": "2024-11-22T19:39:31.206Z"
   },
   {
    "duration": 3,
    "start_time": "2024-11-22T19:39:31.233Z"
   },
   {
    "duration": 12,
    "start_time": "2024-11-22T19:39:31.238Z"
   },
   {
    "duration": 24,
    "start_time": "2024-11-22T19:39:31.252Z"
   },
   {
    "duration": 35,
    "start_time": "2024-11-22T19:39:31.279Z"
   },
   {
    "duration": 12,
    "start_time": "2024-11-22T19:39:31.316Z"
   },
   {
    "duration": 9,
    "start_time": "2024-11-22T19:39:31.330Z"
   },
   {
    "duration": 20,
    "start_time": "2024-11-22T19:39:31.343Z"
   },
   {
    "duration": 54,
    "start_time": "2024-11-22T19:39:31.365Z"
   },
   {
    "duration": 15,
    "start_time": "2024-11-22T19:39:31.421Z"
   },
   {
    "duration": 19,
    "start_time": "2024-11-22T19:39:31.438Z"
   },
   {
    "duration": 11,
    "start_time": "2024-11-22T19:39:31.458Z"
   },
   {
    "duration": 5,
    "start_time": "2024-11-22T19:39:31.470Z"
   },
   {
    "duration": 175,
    "start_time": "2024-11-22T19:39:31.505Z"
   },
   {
    "duration": 175,
    "start_time": "2024-11-22T19:39:31.682Z"
   },
   {
    "duration": 19,
    "start_time": "2024-11-22T19:39:31.859Z"
   },
   {
    "duration": 329,
    "start_time": "2024-11-22T19:39:31.880Z"
   },
   {
    "duration": 271,
    "start_time": "2024-11-22T19:39:32.210Z"
   },
   {
    "duration": 11,
    "start_time": "2024-11-22T19:39:32.483Z"
   },
   {
    "duration": 221,
    "start_time": "2024-11-22T19:39:32.496Z"
   },
   {
    "duration": 12,
    "start_time": "2024-11-22T19:39:32.719Z"
   },
   {
    "duration": 250,
    "start_time": "2024-11-22T19:39:32.733Z"
   },
   {
    "duration": 20,
    "start_time": "2024-11-22T19:39:32.985Z"
   },
   {
    "duration": 12,
    "start_time": "2024-11-22T19:39:33.007Z"
   },
   {
    "duration": 9,
    "start_time": "2024-11-22T19:39:33.021Z"
   },
   {
    "duration": 9,
    "start_time": "2024-11-22T19:39:33.031Z"
   },
   {
    "duration": 454,
    "start_time": "2024-11-22T19:39:33.041Z"
   },
   {
    "duration": 14,
    "start_time": "2024-11-22T19:39:33.496Z"
   },
   {
    "duration": 10,
    "start_time": "2024-11-22T19:39:33.512Z"
   },
   {
    "duration": 6,
    "start_time": "2024-11-22T19:39:33.524Z"
   },
   {
    "duration": 866,
    "start_time": "2024-11-22T20:09:12.013Z"
   },
   {
    "duration": 159,
    "start_time": "2024-11-22T20:09:12.881Z"
   },
   {
    "duration": 9,
    "start_time": "2024-11-22T20:09:13.042Z"
   },
   {
    "duration": 8,
    "start_time": "2024-11-22T20:09:13.053Z"
   },
   {
    "duration": 6,
    "start_time": "2024-11-22T20:09:13.063Z"
   },
   {
    "duration": 8,
    "start_time": "2024-11-22T20:09:13.071Z"
   },
   {
    "duration": 33,
    "start_time": "2024-11-22T20:09:13.080Z"
   },
   {
    "duration": 8,
    "start_time": "2024-11-22T20:09:13.114Z"
   },
   {
    "duration": 15,
    "start_time": "2024-11-22T20:09:13.124Z"
   },
   {
    "duration": 14,
    "start_time": "2024-11-22T20:09:13.142Z"
   },
   {
    "duration": 9,
    "start_time": "2024-11-22T20:09:13.157Z"
   },
   {
    "duration": 54,
    "start_time": "2024-11-22T20:09:13.167Z"
   },
   {
    "duration": 25,
    "start_time": "2024-11-22T20:09:13.223Z"
   },
   {
    "duration": 10,
    "start_time": "2024-11-22T20:09:13.250Z"
   },
   {
    "duration": 5,
    "start_time": "2024-11-22T20:09:13.262Z"
   },
   {
    "duration": 40,
    "start_time": "2024-11-22T20:09:13.269Z"
   },
   {
    "duration": 18,
    "start_time": "2024-11-22T20:09:13.310Z"
   },
   {
    "duration": 14,
    "start_time": "2024-11-22T20:09:13.329Z"
   },
   {
    "duration": 7,
    "start_time": "2024-11-22T20:09:13.345Z"
   },
   {
    "duration": 52,
    "start_time": "2024-11-22T20:09:13.353Z"
   },
   {
    "duration": 21,
    "start_time": "2024-11-22T20:09:13.406Z"
   },
   {
    "duration": 3,
    "start_time": "2024-11-22T20:09:13.429Z"
   },
   {
    "duration": 11,
    "start_time": "2024-11-22T20:09:13.433Z"
   },
   {
    "duration": 16,
    "start_time": "2024-11-22T20:09:13.445Z"
   },
   {
    "duration": 12,
    "start_time": "2024-11-22T20:09:13.463Z"
   },
   {
    "duration": 39,
    "start_time": "2024-11-22T20:09:13.476Z"
   },
   {
    "duration": 10,
    "start_time": "2024-11-22T20:09:13.517Z"
   },
   {
    "duration": 21,
    "start_time": "2024-11-22T20:09:13.531Z"
   },
   {
    "duration": 22,
    "start_time": "2024-11-22T20:09:13.553Z"
   },
   {
    "duration": 42,
    "start_time": "2024-11-22T20:09:13.576Z"
   },
   {
    "duration": 20,
    "start_time": "2024-11-22T20:09:13.620Z"
   },
   {
    "duration": 9,
    "start_time": "2024-11-22T20:09:13.642Z"
   },
   {
    "duration": 5,
    "start_time": "2024-11-22T20:09:13.652Z"
   },
   {
    "duration": 202,
    "start_time": "2024-11-22T20:09:13.658Z"
   },
   {
    "duration": 164,
    "start_time": "2024-11-22T20:09:13.862Z"
   },
   {
    "duration": 19,
    "start_time": "2024-11-22T20:09:14.028Z"
   },
   {
    "duration": 265,
    "start_time": "2024-11-22T20:09:14.048Z"
   },
   {
    "duration": 209,
    "start_time": "2024-11-22T20:09:14.314Z"
   },
   {
    "duration": 11,
    "start_time": "2024-11-22T20:09:14.525Z"
   },
   {
    "duration": 212,
    "start_time": "2024-11-22T20:09:14.538Z"
   },
   {
    "duration": 11,
    "start_time": "2024-11-22T20:09:14.751Z"
   },
   {
    "duration": 245,
    "start_time": "2024-11-22T20:09:14.764Z"
   },
   {
    "duration": 10,
    "start_time": "2024-11-22T20:09:15.010Z"
   },
   {
    "duration": 10,
    "start_time": "2024-11-22T20:09:15.021Z"
   },
   {
    "duration": 9,
    "start_time": "2024-11-22T20:09:15.032Z"
   },
   {
    "duration": 8,
    "start_time": "2024-11-22T20:09:15.043Z"
   },
   {
    "duration": 487,
    "start_time": "2024-11-22T20:09:15.053Z"
   },
   {
    "duration": 7,
    "start_time": "2024-11-22T20:09:15.542Z"
   },
   {
    "duration": 9,
    "start_time": "2024-11-22T20:09:15.552Z"
   },
   {
    "duration": 6,
    "start_time": "2024-11-22T20:09:15.565Z"
   },
   {
    "duration": 11,
    "start_time": "2024-11-22T20:09:56.797Z"
   },
   {
    "duration": 440,
    "start_time": "2024-11-22T20:10:30.683Z"
   },
   {
    "duration": 795,
    "start_time": "2024-11-22T20:11:49.964Z"
   },
   {
    "duration": 155,
    "start_time": "2024-11-22T20:11:50.761Z"
   },
   {
    "duration": 9,
    "start_time": "2024-11-22T20:11:50.918Z"
   },
   {
    "duration": 9,
    "start_time": "2024-11-22T20:11:50.929Z"
   },
   {
    "duration": 7,
    "start_time": "2024-11-22T20:11:50.941Z"
   },
   {
    "duration": 7,
    "start_time": "2024-11-22T20:11:50.949Z"
   },
   {
    "duration": 8,
    "start_time": "2024-11-22T20:11:50.959Z"
   },
   {
    "duration": 8,
    "start_time": "2024-11-22T20:11:50.969Z"
   },
   {
    "duration": 16,
    "start_time": "2024-11-22T20:11:51.006Z"
   },
   {
    "duration": 15,
    "start_time": "2024-11-22T20:11:51.023Z"
   },
   {
    "duration": 8,
    "start_time": "2024-11-22T20:11:51.040Z"
   },
   {
    "duration": 24,
    "start_time": "2024-11-22T20:11:51.050Z"
   },
   {
    "duration": 48,
    "start_time": "2024-11-22T20:11:51.076Z"
   },
   {
    "duration": 10,
    "start_time": "2024-11-22T20:11:51.128Z"
   },
   {
    "duration": 6,
    "start_time": "2024-11-22T20:11:51.139Z"
   },
   {
    "duration": 15,
    "start_time": "2024-11-22T20:11:51.147Z"
   },
   {
    "duration": 46,
    "start_time": "2024-11-22T20:11:51.164Z"
   },
   {
    "duration": 13,
    "start_time": "2024-11-22T20:11:51.212Z"
   },
   {
    "duration": 6,
    "start_time": "2024-11-22T20:11:51.227Z"
   },
   {
    "duration": 19,
    "start_time": "2024-11-22T20:11:51.235Z"
   },
   {
    "duration": 21,
    "start_time": "2024-11-22T20:11:51.255Z"
   },
   {
    "duration": 3,
    "start_time": "2024-11-22T20:11:51.305Z"
   },
   {
    "duration": 11,
    "start_time": "2024-11-22T20:11:51.309Z"
   },
   {
    "duration": 16,
    "start_time": "2024-11-22T20:11:51.322Z"
   },
   {
    "duration": 12,
    "start_time": "2024-11-22T20:11:51.340Z"
   },
   {
    "duration": 12,
    "start_time": "2024-11-22T20:11:51.353Z"
   },
   {
    "duration": 40,
    "start_time": "2024-11-22T20:11:51.370Z"
   },
   {
    "duration": 26,
    "start_time": "2024-11-22T20:11:52.431Z"
   },
   {
    "duration": 21,
    "start_time": "2024-11-22T20:11:52.460Z"
   },
   {
    "duration": 15,
    "start_time": "2024-11-22T20:11:52.483Z"
   },
   {
    "duration": 25,
    "start_time": "2024-11-22T20:11:52.499Z"
   },
   {
    "duration": 9,
    "start_time": "2024-11-22T20:11:52.527Z"
   },
   {
    "duration": 5,
    "start_time": "2024-11-22T20:11:52.538Z"
   },
   {
    "duration": 194,
    "start_time": "2024-11-22T20:11:52.544Z"
   },
   {
    "duration": 174,
    "start_time": "2024-11-22T20:11:52.740Z"
   },
   {
    "duration": 19,
    "start_time": "2024-11-22T20:11:52.916Z"
   },
   {
    "duration": 262,
    "start_time": "2024-11-22T20:11:52.937Z"
   },
   {
    "duration": 204,
    "start_time": "2024-11-22T20:11:53.205Z"
   },
   {
    "duration": 13,
    "start_time": "2024-11-22T20:11:53.411Z"
   },
   {
    "duration": 206,
    "start_time": "2024-11-22T20:11:53.425Z"
   },
   {
    "duration": 12,
    "start_time": "2024-11-22T20:11:53.633Z"
   },
   {
    "duration": 242,
    "start_time": "2024-11-22T20:11:53.647Z"
   },
   {
    "duration": 17,
    "start_time": "2024-11-22T20:11:53.891Z"
   },
   {
    "duration": 9,
    "start_time": "2024-11-22T20:11:53.910Z"
   },
   {
    "duration": 8,
    "start_time": "2024-11-22T20:11:53.922Z"
   },
   {
    "duration": 9,
    "start_time": "2024-11-22T20:11:53.932Z"
   },
   {
    "duration": 430,
    "start_time": "2024-11-22T20:11:56.062Z"
   },
   {
    "duration": 14,
    "start_time": "2024-11-22T20:11:56.494Z"
   },
   {
    "duration": 10,
    "start_time": "2024-11-22T20:11:56.715Z"
   },
   {
    "duration": 6,
    "start_time": "2024-11-22T20:11:56.726Z"
   },
   {
    "duration": 8,
    "start_time": "2024-11-22T20:20:42.306Z"
   },
   {
    "duration": 8,
    "start_time": "2024-11-22T20:20:45.917Z"
   },
   {
    "duration": 8,
    "start_time": "2024-11-22T20:22:36.865Z"
   },
   {
    "duration": 16,
    "start_time": "2024-11-22T20:22:43.540Z"
   },
   {
    "duration": 23,
    "start_time": "2024-11-22T20:23:29.135Z"
   },
   {
    "duration": 7,
    "start_time": "2024-11-22T20:23:45.258Z"
   },
   {
    "duration": 8,
    "start_time": "2024-11-22T20:26:32.222Z"
   },
   {
    "duration": 9,
    "start_time": "2024-11-22T20:27:25.816Z"
   },
   {
    "duration": 7,
    "start_time": "2024-11-22T20:27:34.682Z"
   },
   {
    "duration": 9,
    "start_time": "2024-11-22T20:28:06.661Z"
   },
   {
    "duration": 10,
    "start_time": "2024-11-22T20:30:53.440Z"
   },
   {
    "duration": 10,
    "start_time": "2024-11-22T20:31:21.430Z"
   },
   {
    "duration": 10,
    "start_time": "2024-11-22T20:32:50.880Z"
   },
   {
    "duration": 675,
    "start_time": "2024-11-22T20:33:22.766Z"
   },
   {
    "duration": 163,
    "start_time": "2024-11-22T20:33:49.201Z"
   },
   {
    "duration": 11,
    "start_time": "2024-11-22T20:33:57.991Z"
   },
   {
    "duration": 21,
    "start_time": "2024-11-22T20:36:28.959Z"
   },
   {
    "duration": 16,
    "start_time": "2024-11-22T20:37:00.610Z"
   },
   {
    "duration": 10,
    "start_time": "2024-11-22T20:37:50.785Z"
   },
   {
    "duration": 6,
    "start_time": "2024-11-22T20:47:20.631Z"
   },
   {
    "duration": 20,
    "start_time": "2024-11-22T20:47:31.945Z"
   },
   {
    "duration": 23,
    "start_time": "2024-11-22T20:48:02.495Z"
   },
   {
    "duration": 20,
    "start_time": "2024-11-22T20:50:07.634Z"
   },
   {
    "duration": 21,
    "start_time": "2024-11-22T20:50:36.725Z"
   },
   {
    "duration": 21,
    "start_time": "2024-11-22T20:50:58.318Z"
   },
   {
    "duration": 13,
    "start_time": "2024-11-22T20:51:50.035Z"
   },
   {
    "duration": 6,
    "start_time": "2024-11-22T20:51:50.341Z"
   },
   {
    "duration": 823,
    "start_time": "2024-11-22T21:13:24.031Z"
   },
   {
    "duration": 154,
    "start_time": "2024-11-22T21:13:24.857Z"
   },
   {
    "duration": 9,
    "start_time": "2024-11-22T21:13:25.013Z"
   },
   {
    "duration": 9,
    "start_time": "2024-11-22T21:13:25.024Z"
   },
   {
    "duration": 7,
    "start_time": "2024-11-22T21:13:25.035Z"
   },
   {
    "duration": 7,
    "start_time": "2024-11-22T21:13:25.044Z"
   },
   {
    "duration": 9,
    "start_time": "2024-11-22T21:13:25.052Z"
   },
   {
    "duration": 8,
    "start_time": "2024-11-22T21:13:25.063Z"
   },
   {
    "duration": 42,
    "start_time": "2024-11-22T21:13:25.072Z"
   },
   {
    "duration": 14,
    "start_time": "2024-11-22T21:13:25.117Z"
   },
   {
    "duration": 9,
    "start_time": "2024-11-22T21:13:25.133Z"
   },
   {
    "duration": 27,
    "start_time": "2024-11-22T21:13:25.144Z"
   },
   {
    "duration": 53,
    "start_time": "2024-11-22T21:13:25.173Z"
   },
   {
    "duration": 12,
    "start_time": "2024-11-22T21:13:25.229Z"
   },
   {
    "duration": 6,
    "start_time": "2024-11-22T21:13:25.243Z"
   },
   {
    "duration": 15,
    "start_time": "2024-11-22T21:13:25.251Z"
   },
   {
    "duration": 46,
    "start_time": "2024-11-22T21:13:25.268Z"
   },
   {
    "duration": 14,
    "start_time": "2024-11-22T21:13:25.316Z"
   },
   {
    "duration": 7,
    "start_time": "2024-11-22T21:13:25.333Z"
   },
   {
    "duration": 20,
    "start_time": "2024-11-22T21:13:25.341Z"
   },
   {
    "duration": 43,
    "start_time": "2024-11-22T21:13:25.362Z"
   },
   {
    "duration": 3,
    "start_time": "2024-11-22T21:13:25.406Z"
   },
   {
    "duration": 12,
    "start_time": "2024-11-22T21:13:25.411Z"
   },
   {
    "duration": 15,
    "start_time": "2024-11-22T21:13:25.424Z"
   },
   {
    "duration": 12,
    "start_time": "2024-11-22T21:13:25.441Z"
   },
   {
    "duration": 10,
    "start_time": "2024-11-22T21:13:25.454Z"
   },
   {
    "duration": 41,
    "start_time": "2024-11-22T21:13:25.466Z"
   },
   {
    "duration": 20,
    "start_time": "2024-11-22T21:13:25.511Z"
   },
   {
    "duration": 22,
    "start_time": "2024-11-22T21:13:25.532Z"
   },
   {
    "duration": 15,
    "start_time": "2024-11-22T21:13:25.556Z"
   },
   {
    "duration": 49,
    "start_time": "2024-11-22T21:13:25.572Z"
   },
   {
    "duration": 8,
    "start_time": "2024-11-22T21:13:25.623Z"
   },
   {
    "duration": 4,
    "start_time": "2024-11-22T21:13:25.632Z"
   },
   {
    "duration": 187,
    "start_time": "2024-11-22T21:13:25.638Z"
   },
   {
    "duration": 163,
    "start_time": "2024-11-22T21:13:25.827Z"
   },
   {
    "duration": 21,
    "start_time": "2024-11-22T21:13:25.992Z"
   },
   {
    "duration": 8,
    "start_time": "2024-11-22T21:13:26.014Z"
   },
   {
    "duration": 256,
    "start_time": "2024-11-22T21:13:26.024Z"
   },
   {
    "duration": 212,
    "start_time": "2024-11-22T21:13:26.282Z"
   },
   {
    "duration": 11,
    "start_time": "2024-11-22T21:13:26.496Z"
   },
   {
    "duration": 202,
    "start_time": "2024-11-22T21:13:26.509Z"
   },
   {
    "duration": 12,
    "start_time": "2024-11-22T21:13:26.713Z"
   },
   {
    "duration": 241,
    "start_time": "2024-11-22T21:13:26.726Z"
   },
   {
    "duration": 9,
    "start_time": "2024-11-22T21:13:26.969Z"
   },
   {
    "duration": 25,
    "start_time": "2024-11-22T21:13:26.980Z"
   },
   {
    "duration": 9,
    "start_time": "2024-11-22T21:13:27.007Z"
   },
   {
    "duration": 10,
    "start_time": "2024-11-22T21:13:27.019Z"
   },
   {
    "duration": 463,
    "start_time": "2024-11-22T21:13:27.031Z"
   },
   {
    "duration": 14,
    "start_time": "2024-11-22T21:13:27.496Z"
   },
   {
    "duration": 9,
    "start_time": "2024-11-22T21:13:27.512Z"
   },
   {
    "duration": 6,
    "start_time": "2024-11-22T21:13:27.524Z"
   },
   {
    "duration": 10,
    "start_time": "2024-11-22T21:14:31.380Z"
   },
   {
    "duration": 11,
    "start_time": "2024-11-22T21:16:17.742Z"
   },
   {
    "duration": 10,
    "start_time": "2024-11-22T21:17:06.472Z"
   },
   {
    "duration": 10,
    "start_time": "2024-11-22T21:23:14.003Z"
   },
   {
    "duration": 228,
    "start_time": "2024-11-22T21:26:05.030Z"
   },
   {
    "duration": 780,
    "start_time": "2024-11-22T21:30:55.007Z"
   },
   {
    "duration": 156,
    "start_time": "2024-11-22T21:30:55.789Z"
   },
   {
    "duration": 9,
    "start_time": "2024-11-22T21:30:55.947Z"
   },
   {
    "duration": 9,
    "start_time": "2024-11-22T21:30:55.959Z"
   },
   {
    "duration": 8,
    "start_time": "2024-11-22T21:30:55.969Z"
   },
   {
    "duration": 28,
    "start_time": "2024-11-22T21:30:55.978Z"
   },
   {
    "duration": 9,
    "start_time": "2024-11-22T21:30:56.007Z"
   },
   {
    "duration": 12,
    "start_time": "2024-11-22T21:30:56.018Z"
   },
   {
    "duration": 16,
    "start_time": "2024-11-22T21:30:56.031Z"
   },
   {
    "duration": 15,
    "start_time": "2024-11-22T21:30:56.050Z"
   },
   {
    "duration": 39,
    "start_time": "2024-11-22T21:30:56.066Z"
   },
   {
    "duration": 25,
    "start_time": "2024-11-22T21:30:56.107Z"
   },
   {
    "duration": 23,
    "start_time": "2024-11-22T21:30:56.134Z"
   },
   {
    "duration": 11,
    "start_time": "2024-11-22T21:30:56.159Z"
   },
   {
    "duration": 7,
    "start_time": "2024-11-22T21:30:56.172Z"
   },
   {
    "duration": 16,
    "start_time": "2024-11-22T21:30:56.205Z"
   },
   {
    "duration": 16,
    "start_time": "2024-11-22T21:30:56.223Z"
   },
   {
    "duration": 14,
    "start_time": "2024-11-22T21:30:56.240Z"
   },
   {
    "duration": 7,
    "start_time": "2024-11-22T21:30:56.256Z"
   },
   {
    "duration": 45,
    "start_time": "2024-11-22T21:30:56.264Z"
   },
   {
    "duration": 21,
    "start_time": "2024-11-22T21:30:56.310Z"
   },
   {
    "duration": 3,
    "start_time": "2024-11-22T21:30:56.333Z"
   },
   {
    "duration": 11,
    "start_time": "2024-11-22T21:30:56.337Z"
   },
   {
    "duration": 15,
    "start_time": "2024-11-22T21:30:56.350Z"
   },
   {
    "duration": 40,
    "start_time": "2024-11-22T21:30:56.367Z"
   },
   {
    "duration": 10,
    "start_time": "2024-11-22T21:30:56.408Z"
   },
   {
    "duration": 9,
    "start_time": "2024-11-22T21:30:56.420Z"
   },
   {
    "duration": 20,
    "start_time": "2024-11-22T21:30:56.434Z"
   },
   {
    "duration": 51,
    "start_time": "2024-11-22T21:30:56.455Z"
   },
   {
    "duration": 19,
    "start_time": "2024-11-22T21:30:56.508Z"
   },
   {
    "duration": 20,
    "start_time": "2024-11-22T21:30:56.528Z"
   },
   {
    "duration": 9,
    "start_time": "2024-11-22T21:30:56.549Z"
   },
   {
    "duration": 4,
    "start_time": "2024-11-22T21:30:56.560Z"
   },
   {
    "duration": 203,
    "start_time": "2024-11-22T21:30:56.566Z"
   },
   {
    "duration": 163,
    "start_time": "2024-11-22T21:30:56.771Z"
   },
   {
    "duration": 13,
    "start_time": "2024-11-22T21:30:56.935Z"
   },
   {
    "duration": 8,
    "start_time": "2024-11-22T21:30:56.950Z"
   },
   {
    "duration": 262,
    "start_time": "2024-11-22T21:30:56.959Z"
   },
   {
    "duration": 202,
    "start_time": "2024-11-22T21:30:57.222Z"
   },
   {
    "duration": 10,
    "start_time": "2024-11-22T21:30:57.426Z"
   },
   {
    "duration": 222,
    "start_time": "2024-11-22T21:30:57.438Z"
   },
   {
    "duration": 10,
    "start_time": "2024-11-22T21:30:57.662Z"
   },
   {
    "duration": 238,
    "start_time": "2024-11-22T21:30:57.674Z"
   },
   {
    "duration": 10,
    "start_time": "2024-11-22T21:30:57.913Z"
   },
   {
    "duration": 9,
    "start_time": "2024-11-22T21:30:57.926Z"
   },
   {
    "duration": 10,
    "start_time": "2024-11-22T21:30:57.936Z"
   },
   {
    "duration": 9,
    "start_time": "2024-11-22T21:30:57.947Z"
   },
   {
    "duration": 470,
    "start_time": "2024-11-22T21:30:57.958Z"
   },
   {
    "duration": 7,
    "start_time": "2024-11-22T21:30:58.429Z"
   },
   {
    "duration": 10,
    "start_time": "2024-11-22T21:30:58.438Z"
   },
   {
    "duration": 6,
    "start_time": "2024-11-22T21:30:58.449Z"
   },
   {
    "duration": 838,
    "start_time": "2024-11-22T22:55:57.240Z"
   },
   {
    "duration": 153,
    "start_time": "2024-11-22T22:55:58.080Z"
   },
   {
    "duration": 9,
    "start_time": "2024-11-22T22:55:58.235Z"
   },
   {
    "duration": 9,
    "start_time": "2024-11-22T22:55:58.246Z"
   },
   {
    "duration": 7,
    "start_time": "2024-11-22T22:55:58.257Z"
   },
   {
    "duration": 7,
    "start_time": "2024-11-22T22:55:58.266Z"
   },
   {
    "duration": 36,
    "start_time": "2024-11-22T22:55:58.274Z"
   },
   {
    "duration": 7,
    "start_time": "2024-11-22T22:55:58.312Z"
   },
   {
    "duration": 16,
    "start_time": "2024-11-22T22:55:58.321Z"
   },
   {
    "duration": 13,
    "start_time": "2024-11-22T22:55:58.340Z"
   },
   {
    "duration": 9,
    "start_time": "2024-11-22T22:55:58.355Z"
   },
   {
    "duration": 52,
    "start_time": "2024-11-22T22:55:58.365Z"
   },
   {
    "duration": 23,
    "start_time": "2024-11-22T22:55:58.420Z"
   },
   {
    "duration": 11,
    "start_time": "2024-11-22T22:55:58.445Z"
   },
   {
    "duration": 6,
    "start_time": "2024-11-22T22:55:58.458Z"
   },
   {
    "duration": 44,
    "start_time": "2024-11-22T22:55:58.466Z"
   },
   {
    "duration": 17,
    "start_time": "2024-11-22T22:55:58.512Z"
   },
   {
    "duration": 12,
    "start_time": "2024-11-22T22:55:58.531Z"
   },
   {
    "duration": 7,
    "start_time": "2024-11-22T22:55:58.545Z"
   },
   {
    "duration": 19,
    "start_time": "2024-11-22T22:55:58.554Z"
   },
   {
    "duration": 21,
    "start_time": "2024-11-22T22:55:58.606Z"
   },
   {
    "duration": 3,
    "start_time": "2024-11-22T22:55:58.629Z"
   },
   {
    "duration": 11,
    "start_time": "2024-11-22T22:55:58.633Z"
   },
   {
    "duration": 16,
    "start_time": "2024-11-22T22:55:58.645Z"
   },
   {
    "duration": 11,
    "start_time": "2024-11-22T22:55:58.662Z"
   },
   {
    "duration": 40,
    "start_time": "2024-11-22T22:55:58.674Z"
   },
   {
    "duration": 9,
    "start_time": "2024-11-22T22:55:58.715Z"
   },
   {
    "duration": 21,
    "start_time": "2024-11-22T22:55:58.729Z"
   },
   {
    "duration": 22,
    "start_time": "2024-11-22T22:55:58.751Z"
   },
   {
    "duration": 44,
    "start_time": "2024-11-22T22:55:58.774Z"
   },
   {
    "duration": 19,
    "start_time": "2024-11-22T22:55:58.820Z"
   },
   {
    "duration": 8,
    "start_time": "2024-11-22T22:55:58.841Z"
   },
   {
    "duration": 4,
    "start_time": "2024-11-22T22:55:58.850Z"
   },
   {
    "duration": 200,
    "start_time": "2024-11-22T22:55:58.856Z"
   },
   {
    "duration": 166,
    "start_time": "2024-11-22T22:55:59.058Z"
   },
   {
    "duration": 12,
    "start_time": "2024-11-22T22:55:59.226Z"
   },
   {
    "duration": 7,
    "start_time": "2024-11-22T22:55:59.240Z"
   },
   {
    "duration": 270,
    "start_time": "2024-11-22T22:55:59.249Z"
   },
   {
    "duration": 200,
    "start_time": "2024-11-22T22:55:59.521Z"
   },
   {
    "duration": 11,
    "start_time": "2024-11-22T22:55:59.722Z"
   },
   {
    "duration": 208,
    "start_time": "2024-11-22T22:55:59.734Z"
   },
   {
    "duration": 9,
    "start_time": "2024-11-22T22:55:59.944Z"
   },
   {
    "duration": 257,
    "start_time": "2024-11-22T22:55:59.955Z"
   },
   {
    "duration": 11,
    "start_time": "2024-11-22T22:56:00.214Z"
   },
   {
    "duration": 9,
    "start_time": "2024-11-22T22:56:00.227Z"
   },
   {
    "duration": 9,
    "start_time": "2024-11-22T22:56:00.239Z"
   },
   {
    "duration": 8,
    "start_time": "2024-11-22T22:56:00.250Z"
   },
   {
    "duration": 470,
    "start_time": "2024-11-22T22:56:00.259Z"
   },
   {
    "duration": 7,
    "start_time": "2024-11-22T22:56:00.731Z"
   },
   {
    "duration": 11,
    "start_time": "2024-11-22T22:56:00.739Z"
   },
   {
    "duration": 7,
    "start_time": "2024-11-22T22:56:00.751Z"
   },
   {
    "duration": 2849,
    "start_time": "2024-11-24T12:27:28.440Z"
   },
   {
    "duration": 3,
    "start_time": "2024-11-24T12:28:34.520Z"
   },
   {
    "duration": 900,
    "start_time": "2024-11-24T12:28:40.332Z"
   },
   {
    "duration": 241,
    "start_time": "2024-11-24T12:28:41.234Z"
   },
   {
    "duration": 10,
    "start_time": "2024-11-24T12:28:41.477Z"
   },
   {
    "duration": 10,
    "start_time": "2024-11-24T12:28:41.490Z"
   },
   {
    "duration": 9,
    "start_time": "2024-11-24T12:28:41.502Z"
   },
   {
    "duration": 10,
    "start_time": "2024-11-24T12:28:41.513Z"
   },
   {
    "duration": 26,
    "start_time": "2024-11-24T12:28:41.525Z"
   },
   {
    "duration": 9,
    "start_time": "2024-11-24T12:28:41.553Z"
   },
   {
    "duration": 20,
    "start_time": "2024-11-24T12:28:41.564Z"
   },
   {
    "duration": 17,
    "start_time": "2024-11-24T12:28:41.588Z"
   },
   {
    "duration": 44,
    "start_time": "2024-11-24T12:28:41.608Z"
   },
   {
    "duration": 29,
    "start_time": "2024-11-24T12:28:41.654Z"
   },
   {
    "duration": 27,
    "start_time": "2024-11-24T12:28:41.685Z"
   },
   {
    "duration": 39,
    "start_time": "2024-11-24T12:28:41.715Z"
   },
   {
    "duration": 8,
    "start_time": "2024-11-24T12:28:41.756Z"
   },
   {
    "duration": 19,
    "start_time": "2024-11-24T12:28:41.766Z"
   },
   {
    "duration": 19,
    "start_time": "2024-11-24T12:28:41.787Z"
   },
   {
    "duration": 42,
    "start_time": "2024-11-24T12:28:41.808Z"
   },
   {
    "duration": 9,
    "start_time": "2024-11-24T12:28:41.852Z"
   },
   {
    "duration": 24,
    "start_time": "2024-11-24T12:28:41.863Z"
   },
   {
    "duration": 55,
    "start_time": "2024-11-24T12:28:41.889Z"
   },
   {
    "duration": 4,
    "start_time": "2024-11-24T12:28:41.945Z"
   },
   {
    "duration": 13,
    "start_time": "2024-11-24T12:28:41.951Z"
   },
   {
    "duration": 18,
    "start_time": "2024-11-24T12:28:41.966Z"
   },
   {
    "duration": 13,
    "start_time": "2024-11-24T12:28:41.986Z"
   },
   {
    "duration": 47,
    "start_time": "2024-11-24T12:28:42.001Z"
   },
   {
    "duration": 12,
    "start_time": "2024-11-24T12:28:42.050Z"
   },
   {
    "duration": 21,
    "start_time": "2024-11-24T12:28:42.067Z"
   },
   {
    "duration": 27,
    "start_time": "2024-11-24T12:28:42.090Z"
   },
   {
    "duration": 17,
    "start_time": "2024-11-24T12:28:42.143Z"
   },
   {
    "duration": 22,
    "start_time": "2024-11-24T12:28:42.162Z"
   },
   {
    "duration": 10,
    "start_time": "2024-11-24T12:28:42.186Z"
   },
   {
    "duration": 5,
    "start_time": "2024-11-24T12:28:42.198Z"
   },
   {
    "duration": 231,
    "start_time": "2024-11-24T12:28:42.206Z"
   },
   {
    "duration": 193,
    "start_time": "2024-11-24T12:28:42.439Z"
   },
   {
    "duration": 21,
    "start_time": "2024-11-24T12:28:42.633Z"
   },
   {
    "duration": 12,
    "start_time": "2024-11-24T12:28:42.656Z"
   },
   {
    "duration": 312,
    "start_time": "2024-11-24T12:28:42.670Z"
   },
   {
    "duration": 233,
    "start_time": "2024-11-24T12:28:42.984Z"
   },
   {
    "duration": 12,
    "start_time": "2024-11-24T12:28:43.219Z"
   },
   {
    "duration": 224,
    "start_time": "2024-11-24T12:28:43.244Z"
   },
   {
    "duration": 13,
    "start_time": "2024-11-24T12:28:43.469Z"
   },
   {
    "duration": 271,
    "start_time": "2024-11-24T12:28:43.483Z"
   },
   {
    "duration": 13,
    "start_time": "2024-11-24T12:28:43.756Z"
   },
   {
    "duration": 11,
    "start_time": "2024-11-24T12:28:43.771Z"
   },
   {
    "duration": 12,
    "start_time": "2024-11-24T12:28:43.785Z"
   },
   {
    "duration": 12,
    "start_time": "2024-11-24T12:28:43.798Z"
   },
   {
    "duration": 501,
    "start_time": "2024-11-24T12:28:43.844Z"
   },
   {
    "duration": 10,
    "start_time": "2024-11-24T12:28:44.347Z"
   },
   {
    "duration": 11,
    "start_time": "2024-11-24T12:28:44.359Z"
   },
   {
    "duration": 8,
    "start_time": "2024-11-24T12:28:44.372Z"
   },
   {
    "duration": 5,
    "start_time": "2024-11-24T12:39:24.787Z"
   },
   {
    "duration": 865,
    "start_time": "2024-11-24T12:40:47.356Z"
   },
   {
    "duration": 161,
    "start_time": "2024-11-24T12:40:48.223Z"
   },
   {
    "duration": 10,
    "start_time": "2024-11-24T12:40:48.386Z"
   },
   {
    "duration": 9,
    "start_time": "2024-11-24T12:40:48.399Z"
   },
   {
    "duration": 7,
    "start_time": "2024-11-24T12:40:48.410Z"
   },
   {
    "duration": 7,
    "start_time": "2024-11-24T12:40:48.419Z"
   },
   {
    "duration": 8,
    "start_time": "2024-11-24T12:40:48.443Z"
   },
   {
    "duration": 8,
    "start_time": "2024-11-24T12:40:48.453Z"
   },
   {
    "duration": 3,
    "start_time": "2024-11-24T12:40:48.463Z"
   },
   {
    "duration": 0,
    "start_time": "2024-11-24T12:40:48.470Z"
   },
   {
    "duration": 0,
    "start_time": "2024-11-24T12:40:48.471Z"
   },
   {
    "duration": 0,
    "start_time": "2024-11-24T12:40:48.473Z"
   },
   {
    "duration": 0,
    "start_time": "2024-11-24T12:40:48.474Z"
   },
   {
    "duration": 0,
    "start_time": "2024-11-24T12:40:48.474Z"
   },
   {
    "duration": 0,
    "start_time": "2024-11-24T12:40:48.476Z"
   },
   {
    "duration": 0,
    "start_time": "2024-11-24T12:40:48.477Z"
   },
   {
    "duration": 0,
    "start_time": "2024-11-24T12:40:48.478Z"
   },
   {
    "duration": 0,
    "start_time": "2024-11-24T12:40:48.479Z"
   },
   {
    "duration": 0,
    "start_time": "2024-11-24T12:40:48.479Z"
   },
   {
    "duration": 0,
    "start_time": "2024-11-24T12:40:48.481Z"
   },
   {
    "duration": 0,
    "start_time": "2024-11-24T12:40:48.481Z"
   },
   {
    "duration": 0,
    "start_time": "2024-11-24T12:40:48.482Z"
   },
   {
    "duration": 0,
    "start_time": "2024-11-24T12:40:48.483Z"
   },
   {
    "duration": 0,
    "start_time": "2024-11-24T12:40:48.485Z"
   },
   {
    "duration": 0,
    "start_time": "2024-11-24T12:40:48.485Z"
   },
   {
    "duration": 1,
    "start_time": "2024-11-24T12:40:48.486Z"
   },
   {
    "duration": 0,
    "start_time": "2024-11-24T12:40:48.487Z"
   },
   {
    "duration": 0,
    "start_time": "2024-11-24T12:40:48.488Z"
   },
   {
    "duration": 0,
    "start_time": "2024-11-24T12:40:48.489Z"
   },
   {
    "duration": 0,
    "start_time": "2024-11-24T12:40:48.490Z"
   },
   {
    "duration": 0,
    "start_time": "2024-11-24T12:40:48.543Z"
   },
   {
    "duration": 0,
    "start_time": "2024-11-24T12:40:48.544Z"
   },
   {
    "duration": 0,
    "start_time": "2024-11-24T12:40:48.545Z"
   },
   {
    "duration": 0,
    "start_time": "2024-11-24T12:40:48.546Z"
   },
   {
    "duration": 0,
    "start_time": "2024-11-24T12:40:48.547Z"
   },
   {
    "duration": 0,
    "start_time": "2024-11-24T12:40:48.549Z"
   },
   {
    "duration": 0,
    "start_time": "2024-11-24T12:40:48.549Z"
   },
   {
    "duration": 0,
    "start_time": "2024-11-24T12:40:48.550Z"
   },
   {
    "duration": 0,
    "start_time": "2024-11-24T12:40:48.551Z"
   },
   {
    "duration": 0,
    "start_time": "2024-11-24T12:40:48.552Z"
   },
   {
    "duration": 0,
    "start_time": "2024-11-24T12:40:48.553Z"
   },
   {
    "duration": 0,
    "start_time": "2024-11-24T12:40:48.554Z"
   },
   {
    "duration": 0,
    "start_time": "2024-11-24T12:40:48.555Z"
   },
   {
    "duration": 1,
    "start_time": "2024-11-24T12:40:48.556Z"
   },
   {
    "duration": 0,
    "start_time": "2024-11-24T12:40:48.558Z"
   },
   {
    "duration": 0,
    "start_time": "2024-11-24T12:40:48.559Z"
   },
   {
    "duration": 0,
    "start_time": "2024-11-24T12:40:48.560Z"
   },
   {
    "duration": 0,
    "start_time": "2024-11-24T12:40:48.561Z"
   },
   {
    "duration": 0,
    "start_time": "2024-11-24T12:40:48.563Z"
   },
   {
    "duration": 0,
    "start_time": "2024-11-24T12:40:48.564Z"
   },
   {
    "duration": 0,
    "start_time": "2024-11-24T12:40:48.565Z"
   },
   {
    "duration": 17,
    "start_time": "2024-11-24T12:41:07.978Z"
   },
   {
    "duration": 16,
    "start_time": "2024-11-24T12:41:22.138Z"
   },
   {
    "duration": 882,
    "start_time": "2024-11-24T12:41:38.258Z"
   },
   {
    "duration": 152,
    "start_time": "2024-11-24T12:41:39.144Z"
   },
   {
    "duration": 9,
    "start_time": "2024-11-24T12:41:39.298Z"
   },
   {
    "duration": 10,
    "start_time": "2024-11-24T12:41:39.309Z"
   },
   {
    "duration": 21,
    "start_time": "2024-11-24T12:41:39.321Z"
   },
   {
    "duration": 7,
    "start_time": "2024-11-24T12:41:39.344Z"
   },
   {
    "duration": 12,
    "start_time": "2024-11-24T12:41:39.353Z"
   },
   {
    "duration": 7,
    "start_time": "2024-11-24T12:41:39.367Z"
   },
   {
    "duration": 16,
    "start_time": "2024-11-24T12:41:39.376Z"
   },
   {
    "duration": 47,
    "start_time": "2024-11-24T12:41:39.396Z"
   },
   {
    "duration": 8,
    "start_time": "2024-11-24T12:41:39.445Z"
   },
   {
    "duration": 27,
    "start_time": "2024-11-24T12:41:39.454Z"
   },
   {
    "duration": 26,
    "start_time": "2024-11-24T12:41:39.483Z"
   },
   {
    "duration": 39,
    "start_time": "2024-11-24T12:41:39.510Z"
   },
   {
    "duration": 7,
    "start_time": "2024-11-24T12:41:39.551Z"
   },
   {
    "duration": 18,
    "start_time": "2024-11-24T12:41:39.560Z"
   },
   {
    "duration": 17,
    "start_time": "2024-11-24T12:41:39.580Z"
   },
   {
    "duration": 13,
    "start_time": "2024-11-24T12:41:39.599Z"
   },
   {
    "duration": 36,
    "start_time": "2024-11-24T12:41:39.613Z"
   },
   {
    "duration": 20,
    "start_time": "2024-11-24T12:41:39.651Z"
   },
   {
    "duration": 21,
    "start_time": "2024-11-24T12:41:39.673Z"
   },
   {
    "duration": 3,
    "start_time": "2024-11-24T12:41:39.696Z"
   },
   {
    "duration": 42,
    "start_time": "2024-11-24T12:41:39.701Z"
   },
   {
    "duration": 16,
    "start_time": "2024-11-24T12:41:39.744Z"
   },
   {
    "duration": 12,
    "start_time": "2024-11-24T12:41:39.761Z"
   },
   {
    "duration": 10,
    "start_time": "2024-11-24T12:41:39.775Z"
   },
   {
    "duration": 10,
    "start_time": "2024-11-24T12:41:39.787Z"
   },
   {
    "duration": 52,
    "start_time": "2024-11-24T12:41:39.802Z"
   },
   {
    "duration": 23,
    "start_time": "2024-11-24T12:41:39.857Z"
   },
   {
    "duration": 16,
    "start_time": "2024-11-24T12:41:39.882Z"
   },
   {
    "duration": 19,
    "start_time": "2024-11-24T12:41:39.900Z"
   },
   {
    "duration": 9,
    "start_time": "2024-11-24T12:41:39.943Z"
   },
   {
    "duration": 4,
    "start_time": "2024-11-24T12:41:39.954Z"
   },
   {
    "duration": 193,
    "start_time": "2024-11-24T12:41:39.960Z"
   },
   {
    "duration": 167,
    "start_time": "2024-11-24T12:41:40.155Z"
   },
   {
    "duration": 23,
    "start_time": "2024-11-24T12:41:40.324Z"
   },
   {
    "duration": 7,
    "start_time": "2024-11-24T12:41:40.348Z"
   },
   {
    "duration": 289,
    "start_time": "2024-11-24T12:41:40.357Z"
   },
   {
    "duration": 218,
    "start_time": "2024-11-24T12:41:40.648Z"
   },
   {
    "duration": 11,
    "start_time": "2024-11-24T12:41:40.868Z"
   },
   {
    "duration": 227,
    "start_time": "2024-11-24T12:41:40.881Z"
   },
   {
    "duration": 11,
    "start_time": "2024-11-24T12:41:41.111Z"
   },
   {
    "duration": 254,
    "start_time": "2024-11-24T12:41:41.124Z"
   },
   {
    "duration": 10,
    "start_time": "2024-11-24T12:41:41.379Z"
   },
   {
    "duration": 10,
    "start_time": "2024-11-24T12:41:41.391Z"
   },
   {
    "duration": 9,
    "start_time": "2024-11-24T12:41:41.403Z"
   },
   {
    "duration": 36,
    "start_time": "2024-11-24T12:41:41.413Z"
   },
   {
    "duration": 466,
    "start_time": "2024-11-24T12:41:41.451Z"
   },
   {
    "duration": 7,
    "start_time": "2024-11-24T12:41:41.920Z"
   },
   {
    "duration": 22,
    "start_time": "2024-11-24T12:41:41.929Z"
   },
   {
    "duration": 6,
    "start_time": "2024-11-24T12:41:41.952Z"
   },
   {
    "duration": 24,
    "start_time": "2024-11-24T12:42:27.134Z"
   },
   {
    "duration": 76,
    "start_time": "2024-11-24T12:42:41.543Z"
   },
   {
    "duration": 858,
    "start_time": "2024-11-24T12:53:24.093Z"
   },
   {
    "duration": 172,
    "start_time": "2024-11-24T12:53:24.954Z"
   },
   {
    "duration": 10,
    "start_time": "2024-11-24T12:53:25.127Z"
   },
   {
    "duration": 11,
    "start_time": "2024-11-24T12:53:25.139Z"
   },
   {
    "duration": 15,
    "start_time": "2024-11-24T12:53:25.152Z"
   },
   {
    "duration": 8,
    "start_time": "2024-11-24T12:53:25.169Z"
   },
   {
    "duration": 13,
    "start_time": "2024-11-24T12:53:25.179Z"
   },
   {
    "duration": 8,
    "start_time": "2024-11-24T12:53:25.195Z"
   },
   {
    "duration": 41,
    "start_time": "2024-11-24T12:53:25.205Z"
   },
   {
    "duration": 18,
    "start_time": "2024-11-24T12:53:25.250Z"
   },
   {
    "duration": 9,
    "start_time": "2024-11-24T12:53:25.270Z"
   },
   {
    "duration": 27,
    "start_time": "2024-11-24T12:53:25.280Z"
   },
   {
    "duration": 54,
    "start_time": "2024-11-24T12:53:25.309Z"
   },
   {
    "duration": 13,
    "start_time": "2024-11-24T12:53:25.365Z"
   },
   {
    "duration": 7,
    "start_time": "2024-11-24T12:53:25.379Z"
   },
   {
    "duration": 17,
    "start_time": "2024-11-24T12:53:25.388Z"
   },
   {
    "duration": 51,
    "start_time": "2024-11-24T12:53:25.407Z"
   },
   {
    "duration": 15,
    "start_time": "2024-11-24T12:53:25.460Z"
   },
   {
    "duration": 8,
    "start_time": "2024-11-24T12:53:25.477Z"
   },
   {
    "duration": 21,
    "start_time": "2024-11-24T12:53:25.486Z"
   },
   {
    "duration": 49,
    "start_time": "2024-11-24T12:53:25.509Z"
   },
   {
    "duration": 3,
    "start_time": "2024-11-24T12:53:25.560Z"
   },
   {
    "duration": 13,
    "start_time": "2024-11-24T12:53:25.565Z"
   },
   {
    "duration": 16,
    "start_time": "2024-11-24T12:53:25.580Z"
   },
   {
    "duration": 46,
    "start_time": "2024-11-24T12:53:25.597Z"
   },
   {
    "duration": 12,
    "start_time": "2024-11-24T12:53:25.644Z"
   },
   {
    "duration": 10,
    "start_time": "2024-11-24T12:53:25.658Z"
   },
   {
    "duration": 22,
    "start_time": "2024-11-24T12:53:25.672Z"
   },
   {
    "duration": 55,
    "start_time": "2024-11-24T12:53:25.696Z"
   },
   {
    "duration": 17,
    "start_time": "2024-11-24T12:53:25.752Z"
   },
   {
    "duration": 20,
    "start_time": "2024-11-24T12:53:25.771Z"
   },
   {
    "duration": 9,
    "start_time": "2024-11-24T12:53:25.793Z"
   },
   {
    "duration": 5,
    "start_time": "2024-11-24T12:53:25.803Z"
   },
   {
    "duration": 215,
    "start_time": "2024-11-24T12:53:25.810Z"
   },
   {
    "duration": 174,
    "start_time": "2024-11-24T12:53:26.027Z"
   },
   {
    "duration": 13,
    "start_time": "2024-11-24T12:53:26.204Z"
   },
   {
    "duration": 7,
    "start_time": "2024-11-24T12:53:26.219Z"
   },
   {
    "duration": 266,
    "start_time": "2024-11-24T12:53:26.243Z"
   },
   {
    "duration": 225,
    "start_time": "2024-11-24T12:53:26.511Z"
   },
   {
    "duration": 14,
    "start_time": "2024-11-24T12:53:26.738Z"
   },
   {
    "duration": 213,
    "start_time": "2024-11-24T12:53:26.754Z"
   },
   {
    "duration": 10,
    "start_time": "2024-11-24T12:53:26.969Z"
   },
   {
    "duration": 265,
    "start_time": "2024-11-24T12:53:26.981Z"
   },
   {
    "duration": 11,
    "start_time": "2024-11-24T12:53:27.247Z"
   },
   {
    "duration": 10,
    "start_time": "2024-11-24T12:53:27.262Z"
   },
   {
    "duration": 11,
    "start_time": "2024-11-24T12:53:27.273Z"
   },
   {
    "duration": 9,
    "start_time": "2024-11-24T12:53:27.285Z"
   },
   {
    "duration": 486,
    "start_time": "2024-11-24T12:53:27.296Z"
   },
   {
    "duration": 8,
    "start_time": "2024-11-24T12:53:27.784Z"
   },
   {
    "duration": 10,
    "start_time": "2024-11-24T12:53:27.794Z"
   },
   {
    "duration": 7,
    "start_time": "2024-11-24T12:53:27.806Z"
   },
   {
    "duration": 25,
    "start_time": "2024-11-24T12:55:32.687Z"
   },
   {
    "duration": 23,
    "start_time": "2024-11-24T12:56:49.742Z"
   },
   {
    "duration": 3,
    "start_time": "2024-11-24T13:05:29.924Z"
   },
   {
    "duration": 6,
    "start_time": "2024-11-24T13:09:12.954Z"
   },
   {
    "duration": 8,
    "start_time": "2024-11-24T13:09:23.604Z"
   },
   {
    "duration": 18,
    "start_time": "2024-11-24T13:13:27.215Z"
   },
   {
    "duration": 21,
    "start_time": "2024-11-24T13:13:44.656Z"
   },
   {
    "duration": 29,
    "start_time": "2024-11-24T13:16:41.578Z"
   },
   {
    "duration": 28,
    "start_time": "2024-11-24T13:17:02.507Z"
   },
   {
    "duration": 40,
    "start_time": "2024-11-24T13:17:29.294Z"
   },
   {
    "duration": 11,
    "start_time": "2024-11-24T13:23:05.974Z"
   },
   {
    "duration": 11,
    "start_time": "2024-11-24T13:24:09.861Z"
   },
   {
    "duration": 289,
    "start_time": "2024-11-24T13:24:31.579Z"
   },
   {
    "duration": 11,
    "start_time": "2024-11-24T13:24:38.416Z"
   },
   {
    "duration": 20,
    "start_time": "2024-11-24T13:32:24.954Z"
   },
   {
    "duration": 37,
    "start_time": "2024-11-24T13:32:31.127Z"
   },
   {
    "duration": 12,
    "start_time": "2024-11-24T13:32:37.648Z"
   },
   {
    "duration": 12,
    "start_time": "2024-11-24T13:33:20.005Z"
   },
   {
    "duration": 11,
    "start_time": "2024-11-24T13:33:33.840Z"
   },
   {
    "duration": 12,
    "start_time": "2024-11-24T13:33:49.279Z"
   },
   {
    "duration": 11,
    "start_time": "2024-11-24T13:34:11.993Z"
   },
   {
    "duration": 7,
    "start_time": "2024-11-24T20:25:37.096Z"
   },
   {
    "duration": 16,
    "start_time": "2024-11-24T20:26:14.603Z"
   },
   {
    "duration": 9,
    "start_time": "2024-11-24T20:27:02.738Z"
   },
   {
    "duration": 14,
    "start_time": "2024-11-24T20:28:43.035Z"
   },
   {
    "duration": 15,
    "start_time": "2024-11-24T20:30:29.092Z"
   },
   {
    "duration": 822,
    "start_time": "2024-11-24T20:31:14.825Z"
   },
   {
    "duration": 158,
    "start_time": "2024-11-24T20:31:15.649Z"
   },
   {
    "duration": 13,
    "start_time": "2024-11-24T20:31:15.809Z"
   },
   {
    "duration": 19,
    "start_time": "2024-11-24T20:31:15.824Z"
   },
   {
    "duration": 7,
    "start_time": "2024-11-24T20:31:15.845Z"
   },
   {
    "duration": 9,
    "start_time": "2024-11-24T20:31:15.854Z"
   },
   {
    "duration": 9,
    "start_time": "2024-11-24T20:31:15.864Z"
   },
   {
    "duration": 8,
    "start_time": "2024-11-24T20:31:15.874Z"
   },
   {
    "duration": 16,
    "start_time": "2024-11-24T20:31:15.883Z"
   },
   {
    "duration": 51,
    "start_time": "2024-11-24T20:31:15.902Z"
   },
   {
    "duration": 8,
    "start_time": "2024-11-24T20:31:15.955Z"
   },
   {
    "duration": 26,
    "start_time": "2024-11-24T20:31:15.965Z"
   },
   {
    "duration": 24,
    "start_time": "2024-11-24T20:31:15.993Z"
   },
   {
    "duration": 33,
    "start_time": "2024-11-24T20:31:16.019Z"
   },
   {
    "duration": 15,
    "start_time": "2024-11-24T20:31:16.054Z"
   },
   {
    "duration": 12,
    "start_time": "2024-11-24T20:31:16.071Z"
   },
   {
    "duration": 7,
    "start_time": "2024-11-24T20:31:16.084Z"
   },
   {
    "duration": 16,
    "start_time": "2024-11-24T20:31:16.093Z"
   },
   {
    "duration": 45,
    "start_time": "2024-11-24T20:31:16.110Z"
   },
   {
    "duration": 13,
    "start_time": "2024-11-24T20:31:16.157Z"
   },
   {
    "duration": 8,
    "start_time": "2024-11-24T20:31:16.172Z"
   },
   {
    "duration": 20,
    "start_time": "2024-11-24T20:31:16.181Z"
   },
   {
    "duration": 60,
    "start_time": "2024-11-24T20:31:16.203Z"
   },
   {
    "duration": 4,
    "start_time": "2024-11-24T20:31:16.265Z"
   },
   {
    "duration": 13,
    "start_time": "2024-11-24T20:31:16.270Z"
   },
   {
    "duration": 14,
    "start_time": "2024-11-24T20:31:16.285Z"
   },
   {
    "duration": 9,
    "start_time": "2024-11-24T20:31:16.300Z"
   },
   {
    "duration": 10,
    "start_time": "2024-11-24T20:31:16.343Z"
   },
   {
    "duration": 9,
    "start_time": "2024-11-24T20:31:16.354Z"
   },
   {
    "duration": 21,
    "start_time": "2024-11-24T20:31:16.365Z"
   },
   {
    "duration": 22,
    "start_time": "2024-11-24T20:31:16.388Z"
   },
   {
    "duration": 44,
    "start_time": "2024-11-24T20:31:16.411Z"
   },
   {
    "duration": 21,
    "start_time": "2024-11-24T20:31:16.457Z"
   },
   {
    "duration": 9,
    "start_time": "2024-11-24T20:31:16.479Z"
   },
   {
    "duration": 4,
    "start_time": "2024-11-24T20:31:16.490Z"
   },
   {
    "duration": 205,
    "start_time": "2024-11-24T20:31:16.496Z"
   },
   {
    "duration": 167,
    "start_time": "2024-11-24T20:31:16.702Z"
   },
   {
    "duration": 14,
    "start_time": "2024-11-24T20:31:16.871Z"
   },
   {
    "duration": 7,
    "start_time": "2024-11-24T20:31:16.887Z"
   },
   {
    "duration": 266,
    "start_time": "2024-11-24T20:31:16.896Z"
   },
   {
    "duration": 228,
    "start_time": "2024-11-24T20:31:17.164Z"
   },
   {
    "duration": 10,
    "start_time": "2024-11-24T20:31:17.394Z"
   },
   {
    "duration": 217,
    "start_time": "2024-11-24T20:31:17.405Z"
   },
   {
    "duration": 11,
    "start_time": "2024-11-24T20:31:17.624Z"
   },
   {
    "duration": 234,
    "start_time": "2024-11-24T20:31:17.642Z"
   },
   {
    "duration": 10,
    "start_time": "2024-11-24T20:31:17.878Z"
   },
   {
    "duration": 10,
    "start_time": "2024-11-24T20:31:17.889Z"
   },
   {
    "duration": 9,
    "start_time": "2024-11-24T20:31:17.900Z"
   },
   {
    "duration": 35,
    "start_time": "2024-11-24T20:31:17.914Z"
   },
   {
    "duration": 461,
    "start_time": "2024-11-24T20:31:17.950Z"
   },
   {
    "duration": 8,
    "start_time": "2024-11-24T20:31:18.413Z"
   },
   {
    "duration": 23,
    "start_time": "2024-11-24T20:31:18.423Z"
   },
   {
    "duration": 6,
    "start_time": "2024-11-24T20:31:18.447Z"
   },
   {
    "duration": 27,
    "start_time": "2024-11-24T20:46:04.071Z"
   },
   {
    "duration": 11,
    "start_time": "2024-11-24T21:15:29.856Z"
   },
   {
    "duration": 16,
    "start_time": "2024-11-24T21:15:33.126Z"
   },
   {
    "duration": 869,
    "start_time": "2024-11-24T21:16:45.673Z"
   },
   {
    "duration": 163,
    "start_time": "2024-11-24T21:16:46.544Z"
   },
   {
    "duration": 9,
    "start_time": "2024-11-24T21:16:46.708Z"
   },
   {
    "duration": 10,
    "start_time": "2024-11-24T21:16:46.719Z"
   },
   {
    "duration": 15,
    "start_time": "2024-11-24T21:16:46.730Z"
   },
   {
    "duration": 8,
    "start_time": "2024-11-24T21:16:46.747Z"
   },
   {
    "duration": 10,
    "start_time": "2024-11-24T21:16:46.756Z"
   },
   {
    "duration": 8,
    "start_time": "2024-11-24T21:16:46.767Z"
   },
   {
    "duration": 16,
    "start_time": "2024-11-24T21:16:46.776Z"
   },
   {
    "duration": 50,
    "start_time": "2024-11-24T21:16:46.797Z"
   },
   {
    "duration": 8,
    "start_time": "2024-11-24T21:16:46.849Z"
   },
   {
    "duration": 26,
    "start_time": "2024-11-24T21:16:46.859Z"
   },
   {
    "duration": 24,
    "start_time": "2024-11-24T21:16:46.887Z"
   },
   {
    "duration": 37,
    "start_time": "2024-11-24T21:16:46.913Z"
   },
   {
    "duration": 15,
    "start_time": "2024-11-24T21:16:46.952Z"
   },
   {
    "duration": 12,
    "start_time": "2024-11-24T21:16:46.968Z"
   },
   {
    "duration": 7,
    "start_time": "2024-11-24T21:16:46.981Z"
   },
   {
    "duration": 17,
    "start_time": "2024-11-24T21:16:46.990Z"
   },
   {
    "duration": 45,
    "start_time": "2024-11-24T21:16:47.008Z"
   },
   {
    "duration": 14,
    "start_time": "2024-11-24T21:16:47.055Z"
   },
   {
    "duration": 8,
    "start_time": "2024-11-24T21:16:47.070Z"
   },
   {
    "duration": 20,
    "start_time": "2024-11-24T21:16:47.080Z"
   },
   {
    "duration": 49,
    "start_time": "2024-11-24T21:16:47.102Z"
   },
   {
    "duration": 3,
    "start_time": "2024-11-24T21:16:47.153Z"
   },
   {
    "duration": 10,
    "start_time": "2024-11-24T21:16:47.158Z"
   },
   {
    "duration": 13,
    "start_time": "2024-11-24T21:16:47.170Z"
   },
   {
    "duration": 25,
    "start_time": "2024-11-24T21:16:47.185Z"
   },
   {
    "duration": 9,
    "start_time": "2024-11-24T21:16:47.246Z"
   },
   {
    "duration": 13,
    "start_time": "2024-11-24T21:16:47.257Z"
   },
   {
    "duration": 11,
    "start_time": "2024-11-24T21:16:47.272Z"
   },
   {
    "duration": 24,
    "start_time": "2024-11-24T21:16:47.285Z"
   },
   {
    "duration": 52,
    "start_time": "2024-11-24T21:16:47.310Z"
   },
   {
    "duration": 16,
    "start_time": "2024-11-24T21:16:47.363Z"
   },
   {
    "duration": 20,
    "start_time": "2024-11-24T21:16:47.381Z"
   },
   {
    "duration": 8,
    "start_time": "2024-11-24T21:16:47.403Z"
   },
   {
    "duration": 29,
    "start_time": "2024-11-24T21:16:47.414Z"
   },
   {
    "duration": 181,
    "start_time": "2024-11-24T21:16:47.444Z"
   },
   {
    "duration": 164,
    "start_time": "2024-11-24T21:16:47.627Z"
   },
   {
    "duration": 13,
    "start_time": "2024-11-24T21:16:47.793Z"
   },
   {
    "duration": 7,
    "start_time": "2024-11-24T21:16:47.808Z"
   },
   {
    "duration": 267,
    "start_time": "2024-11-24T21:16:47.816Z"
   },
   {
    "duration": 212,
    "start_time": "2024-11-24T21:16:48.084Z"
   },
   {
    "duration": 10,
    "start_time": "2024-11-24T21:16:48.297Z"
   },
   {
    "duration": 209,
    "start_time": "2024-11-24T21:16:48.309Z"
   },
   {
    "duration": 10,
    "start_time": "2024-11-24T21:16:48.520Z"
   },
   {
    "duration": 238,
    "start_time": "2024-11-24T21:16:48.542Z"
   },
   {
    "duration": 10,
    "start_time": "2024-11-24T21:16:48.782Z"
   },
   {
    "duration": 10,
    "start_time": "2024-11-24T21:16:48.794Z"
   },
   {
    "duration": 9,
    "start_time": "2024-11-24T21:16:48.806Z"
   },
   {
    "duration": 32,
    "start_time": "2024-11-24T21:16:48.817Z"
   },
   {
    "duration": 483,
    "start_time": "2024-11-24T21:16:48.851Z"
   },
   {
    "duration": 8,
    "start_time": "2024-11-24T21:16:49.343Z"
   },
   {
    "duration": 10,
    "start_time": "2024-11-24T21:16:49.353Z"
   },
   {
    "duration": 7,
    "start_time": "2024-11-24T21:16:49.366Z"
   },
   {
    "duration": 21,
    "start_time": "2024-11-24T21:17:45.794Z"
   },
   {
    "duration": 21,
    "start_time": "2024-11-24T21:17:47.291Z"
   },
   {
    "duration": 24,
    "start_time": "2024-11-24T21:17:48.252Z"
   },
   {
    "duration": 21,
    "start_time": "2024-11-24T21:17:49.319Z"
   },
   {
    "duration": 16,
    "start_time": "2024-11-24T21:45:29.505Z"
   },
   {
    "duration": 26,
    "start_time": "2024-11-24T21:46:06.863Z"
   },
   {
    "duration": 339,
    "start_time": "2024-11-24T21:46:13.659Z"
   },
   {
    "duration": 15,
    "start_time": "2024-11-24T21:46:31.877Z"
   },
   {
    "duration": 24,
    "start_time": "2024-11-24T21:46:48.555Z"
   },
   {
    "duration": 23,
    "start_time": "2024-11-24T21:47:01.943Z"
   },
   {
    "duration": 888,
    "start_time": "2024-11-24T21:47:21.217Z"
   },
   {
    "duration": 191,
    "start_time": "2024-11-24T21:47:22.107Z"
   },
   {
    "duration": 9,
    "start_time": "2024-11-24T21:47:22.300Z"
   },
   {
    "duration": 9,
    "start_time": "2024-11-24T21:47:22.311Z"
   },
   {
    "duration": 23,
    "start_time": "2024-11-24T21:47:22.323Z"
   },
   {
    "duration": 17,
    "start_time": "2024-11-24T21:47:22.349Z"
   },
   {
    "duration": 11,
    "start_time": "2024-11-24T21:47:22.369Z"
   },
   {
    "duration": 10,
    "start_time": "2024-11-24T21:47:22.383Z"
   },
   {
    "duration": 19,
    "start_time": "2024-11-24T21:47:22.395Z"
   },
   {
    "duration": 40,
    "start_time": "2024-11-24T21:47:22.416Z"
   },
   {
    "duration": 12,
    "start_time": "2024-11-24T21:47:22.458Z"
   },
   {
    "duration": 40,
    "start_time": "2024-11-24T21:47:22.472Z"
   },
   {
    "duration": 45,
    "start_time": "2024-11-24T21:47:22.513Z"
   },
   {
    "duration": 16,
    "start_time": "2024-11-24T21:47:22.563Z"
   },
   {
    "duration": 19,
    "start_time": "2024-11-24T21:47:22.581Z"
   },
   {
    "duration": 11,
    "start_time": "2024-11-24T21:47:22.601Z"
   },
   {
    "duration": 36,
    "start_time": "2024-11-24T21:47:22.614Z"
   },
   {
    "duration": 29,
    "start_time": "2024-11-24T21:47:22.652Z"
   },
   {
    "duration": 19,
    "start_time": "2024-11-24T21:47:22.683Z"
   },
   {
    "duration": 14,
    "start_time": "2024-11-24T21:47:22.704Z"
   },
   {
    "duration": 33,
    "start_time": "2024-11-24T21:47:22.719Z"
   },
   {
    "duration": 30,
    "start_time": "2024-11-24T21:47:22.754Z"
   },
   {
    "duration": 21,
    "start_time": "2024-11-24T21:47:22.786Z"
   },
   {
    "duration": 34,
    "start_time": "2024-11-24T21:47:22.808Z"
   },
   {
    "duration": 3,
    "start_time": "2024-11-24T21:47:22.844Z"
   },
   {
    "duration": 14,
    "start_time": "2024-11-24T21:47:22.849Z"
   },
   {
    "duration": 20,
    "start_time": "2024-11-24T21:47:22.865Z"
   },
   {
    "duration": 28,
    "start_time": "2024-11-24T21:47:22.887Z"
   },
   {
    "duration": 39,
    "start_time": "2024-11-24T21:47:22.916Z"
   },
   {
    "duration": 23,
    "start_time": "2024-11-24T21:47:22.959Z"
   },
   {
    "duration": 13,
    "start_time": "2024-11-24T21:47:22.987Z"
   },
   {
    "duration": 22,
    "start_time": "2024-11-24T21:47:23.002Z"
   },
   {
    "duration": 41,
    "start_time": "2024-11-24T21:47:23.026Z"
   },
   {
    "duration": 19,
    "start_time": "2024-11-24T21:47:23.069Z"
   },
   {
    "duration": 22,
    "start_time": "2024-11-24T21:47:23.090Z"
   },
   {
    "duration": 31,
    "start_time": "2024-11-24T21:47:23.113Z"
   },
   {
    "duration": 8,
    "start_time": "2024-11-24T21:47:23.145Z"
   },
   {
    "duration": 222,
    "start_time": "2024-11-24T21:47:23.155Z"
   },
   {
    "duration": 191,
    "start_time": "2024-11-24T21:47:23.379Z"
   },
   {
    "duration": 18,
    "start_time": "2024-11-24T21:47:23.572Z"
   },
   {
    "duration": 8,
    "start_time": "2024-11-24T21:47:23.595Z"
   },
   {
    "duration": 313,
    "start_time": "2024-11-24T21:47:23.605Z"
   },
   {
    "duration": 255,
    "start_time": "2024-11-24T21:47:23.919Z"
   },
   {
    "duration": 16,
    "start_time": "2024-11-24T21:47:24.176Z"
   },
   {
    "duration": 230,
    "start_time": "2024-11-24T21:47:24.194Z"
   },
   {
    "duration": 19,
    "start_time": "2024-11-24T21:47:24.425Z"
   },
   {
    "duration": 281,
    "start_time": "2024-11-24T21:47:24.447Z"
   },
   {
    "duration": 20,
    "start_time": "2024-11-24T21:47:24.730Z"
   },
   {
    "duration": 14,
    "start_time": "2024-11-24T21:47:24.754Z"
   },
   {
    "duration": 15,
    "start_time": "2024-11-24T21:47:24.769Z"
   },
   {
    "duration": 11,
    "start_time": "2024-11-24T21:47:24.789Z"
   },
   {
    "duration": 553,
    "start_time": "2024-11-24T21:47:24.802Z"
   },
   {
    "duration": 11,
    "start_time": "2024-11-24T21:47:25.357Z"
   },
   {
    "duration": 12,
    "start_time": "2024-11-24T21:47:25.369Z"
   },
   {
    "duration": 10,
    "start_time": "2024-11-24T21:47:25.383Z"
   },
   {
    "duration": 553,
    "start_time": "2024-11-24T21:49:06.367Z"
   },
   {
    "duration": 906,
    "start_time": "2024-11-24T21:49:56.446Z"
   },
   {
    "duration": 187,
    "start_time": "2024-11-24T21:49:57.355Z"
   },
   {
    "duration": 15,
    "start_time": "2024-11-24T21:49:57.543Z"
   },
   {
    "duration": 12,
    "start_time": "2024-11-24T21:49:57.561Z"
   },
   {
    "duration": 9,
    "start_time": "2024-11-24T21:49:57.575Z"
   },
   {
    "duration": 8,
    "start_time": "2024-11-24T21:49:57.586Z"
   },
   {
    "duration": 9,
    "start_time": "2024-11-24T21:49:57.596Z"
   },
   {
    "duration": 43,
    "start_time": "2024-11-24T21:49:57.607Z"
   },
   {
    "duration": 19,
    "start_time": "2024-11-24T21:49:57.653Z"
   },
   {
    "duration": 21,
    "start_time": "2024-11-24T21:49:57.676Z"
   },
   {
    "duration": 9,
    "start_time": "2024-11-24T21:49:57.699Z"
   },
   {
    "duration": 52,
    "start_time": "2024-11-24T21:49:57.709Z"
   },
   {
    "duration": 34,
    "start_time": "2024-11-24T21:49:57.763Z"
   },
   {
    "duration": 12,
    "start_time": "2024-11-24T21:49:57.798Z"
   },
   {
    "duration": 36,
    "start_time": "2024-11-24T21:49:57.812Z"
   },
   {
    "duration": 22,
    "start_time": "2024-11-24T21:49:57.849Z"
   },
   {
    "duration": 13,
    "start_time": "2024-11-24T21:49:57.873Z"
   },
   {
    "duration": 17,
    "start_time": "2024-11-24T21:49:57.890Z"
   },
   {
    "duration": 18,
    "start_time": "2024-11-24T21:49:57.909Z"
   },
   {
    "duration": 18,
    "start_time": "2024-11-24T21:49:57.947Z"
   },
   {
    "duration": 13,
    "start_time": "2024-11-24T21:49:57.967Z"
   },
   {
    "duration": 23,
    "start_time": "2024-11-24T21:49:57.982Z"
   },
   {
    "duration": 36,
    "start_time": "2024-11-24T21:49:58.007Z"
   },
   {
    "duration": 20,
    "start_time": "2024-11-24T21:49:58.045Z"
   },
   {
    "duration": 4,
    "start_time": "2024-11-24T21:49:58.067Z"
   },
   {
    "duration": 15,
    "start_time": "2024-11-24T21:49:58.076Z"
   },
   {
    "duration": 13,
    "start_time": "2024-11-24T21:49:58.094Z"
   },
   {
    "duration": 47,
    "start_time": "2024-11-24T21:49:58.112Z"
   },
   {
    "duration": 17,
    "start_time": "2024-11-24T21:49:58.161Z"
   },
   {
    "duration": 15,
    "start_time": "2024-11-24T21:49:58.180Z"
   },
   {
    "duration": 9,
    "start_time": "2024-11-24T21:49:58.196Z"
   },
   {
    "duration": 50,
    "start_time": "2024-11-24T21:49:58.207Z"
   },
   {
    "duration": 29,
    "start_time": "2024-11-24T21:49:58.259Z"
   },
   {
    "duration": 17,
    "start_time": "2024-11-24T21:49:58.291Z"
   },
   {
    "duration": 38,
    "start_time": "2024-11-24T21:49:58.309Z"
   },
   {
    "duration": 20,
    "start_time": "2024-11-24T21:49:58.349Z"
   },
   {
    "duration": 8,
    "start_time": "2024-11-24T21:49:58.372Z"
   },
   {
    "duration": 200,
    "start_time": "2024-11-24T21:49:58.382Z"
   },
   {
    "duration": 183,
    "start_time": "2024-11-24T21:49:58.584Z"
   },
   {
    "duration": 15,
    "start_time": "2024-11-24T21:49:58.769Z"
   },
   {
    "duration": 8,
    "start_time": "2024-11-24T21:49:58.787Z"
   },
   {
    "duration": 319,
    "start_time": "2024-11-24T21:49:58.797Z"
   },
   {
    "duration": 240,
    "start_time": "2024-11-24T21:49:59.118Z"
   },
   {
    "duration": 13,
    "start_time": "2024-11-24T21:49:59.364Z"
   },
   {
    "duration": 237,
    "start_time": "2024-11-24T21:49:59.380Z"
   },
   {
    "duration": 10,
    "start_time": "2024-11-24T21:49:59.619Z"
   },
   {
    "duration": 275,
    "start_time": "2024-11-24T21:49:59.631Z"
   },
   {
    "duration": 10,
    "start_time": "2024-11-24T21:49:59.907Z"
   },
   {
    "duration": 10,
    "start_time": "2024-11-24T21:49:59.918Z"
   },
   {
    "duration": 11,
    "start_time": "2024-11-24T21:49:59.943Z"
   },
   {
    "duration": 14,
    "start_time": "2024-11-24T21:49:59.956Z"
   },
   {
    "duration": 477,
    "start_time": "2024-11-24T21:49:59.973Z"
   },
   {
    "duration": 11,
    "start_time": "2024-11-24T21:50:00.453Z"
   },
   {
    "duration": 14,
    "start_time": "2024-11-24T21:50:00.469Z"
   },
   {
    "duration": 15,
    "start_time": "2024-11-24T21:50:00.485Z"
   },
   {
    "duration": 880,
    "start_time": "2024-11-24T23:46:42.763Z"
   },
   {
    "duration": 159,
    "start_time": "2024-11-24T23:46:43.646Z"
   },
   {
    "duration": 10,
    "start_time": "2024-11-24T23:46:43.807Z"
   },
   {
    "duration": 11,
    "start_time": "2024-11-24T23:46:43.819Z"
   },
   {
    "duration": 9,
    "start_time": "2024-11-24T23:46:43.843Z"
   },
   {
    "duration": 9,
    "start_time": "2024-11-24T23:46:43.854Z"
   },
   {
    "duration": 9,
    "start_time": "2024-11-24T23:46:43.866Z"
   },
   {
    "duration": 9,
    "start_time": "2024-11-24T23:46:43.877Z"
   },
   {
    "duration": 16,
    "start_time": "2024-11-24T23:46:43.888Z"
   },
   {
    "duration": 48,
    "start_time": "2024-11-24T23:46:43.906Z"
   },
   {
    "duration": 10,
    "start_time": "2024-11-24T23:46:43.955Z"
   },
   {
    "duration": 26,
    "start_time": "2024-11-24T23:46:43.967Z"
   },
   {
    "duration": 49,
    "start_time": "2024-11-24T23:46:43.995Z"
   },
   {
    "duration": 13,
    "start_time": "2024-11-24T23:46:44.048Z"
   },
   {
    "duration": 16,
    "start_time": "2024-11-24T23:46:44.063Z"
   },
   {
    "duration": 12,
    "start_time": "2024-11-24T23:46:44.080Z"
   },
   {
    "duration": 8,
    "start_time": "2024-11-24T23:46:44.094Z"
   },
   {
    "duration": 50,
    "start_time": "2024-11-24T23:46:44.104Z"
   },
   {
    "duration": 18,
    "start_time": "2024-11-24T23:46:44.156Z"
   },
   {
    "duration": 14,
    "start_time": "2024-11-24T23:46:44.175Z"
   },
   {
    "duration": 8,
    "start_time": "2024-11-24T23:46:44.190Z"
   },
   {
    "duration": 49,
    "start_time": "2024-11-24T23:46:44.201Z"
   },
   {
    "duration": 19,
    "start_time": "2024-11-24T23:46:44.252Z"
   },
   {
    "duration": 17,
    "start_time": "2024-11-24T23:46:44.273Z"
   },
   {
    "duration": 4,
    "start_time": "2024-11-24T23:46:44.291Z"
   },
   {
    "duration": 10,
    "start_time": "2024-11-24T23:46:44.297Z"
   },
   {
    "duration": 48,
    "start_time": "2024-11-24T23:46:44.309Z"
   },
   {
    "duration": 29,
    "start_time": "2024-11-24T23:46:44.358Z"
   },
   {
    "duration": 10,
    "start_time": "2024-11-24T23:46:44.390Z"
   },
   {
    "duration": 12,
    "start_time": "2024-11-24T23:46:44.401Z"
   },
   {
    "duration": 36,
    "start_time": "2024-11-24T23:46:44.415Z"
   },
   {
    "duration": 22,
    "start_time": "2024-11-24T23:46:44.453Z"
   },
   {
    "duration": 23,
    "start_time": "2024-11-24T23:46:44.477Z"
   },
   {
    "duration": 42,
    "start_time": "2024-11-24T23:46:44.501Z"
   },
   {
    "duration": 21,
    "start_time": "2024-11-24T23:46:44.545Z"
   },
   {
    "duration": 10,
    "start_time": "2024-11-24T23:46:44.567Z"
   },
   {
    "duration": 4,
    "start_time": "2024-11-24T23:46:44.580Z"
   },
   {
    "duration": 205,
    "start_time": "2024-11-24T23:46:44.586Z"
   },
   {
    "duration": 176,
    "start_time": "2024-11-24T23:46:44.793Z"
   },
   {
    "duration": 14,
    "start_time": "2024-11-24T23:46:44.971Z"
   },
   {
    "duration": 7,
    "start_time": "2024-11-24T23:46:44.990Z"
   },
   {
    "duration": 288,
    "start_time": "2024-11-24T23:46:45.000Z"
   },
   {
    "duration": 218,
    "start_time": "2024-11-24T23:46:45.290Z"
   },
   {
    "duration": 10,
    "start_time": "2024-11-24T23:46:45.510Z"
   },
   {
    "duration": 211,
    "start_time": "2024-11-24T23:46:45.522Z"
   },
   {
    "duration": 10,
    "start_time": "2024-11-24T23:46:45.742Z"
   },
   {
    "duration": 246,
    "start_time": "2024-11-24T23:46:45.753Z"
   },
   {
    "duration": 10,
    "start_time": "2024-11-24T23:46:46.002Z"
   },
   {
    "duration": 10,
    "start_time": "2024-11-24T23:46:46.013Z"
   },
   {
    "duration": 11,
    "start_time": "2024-11-24T23:46:46.042Z"
   },
   {
    "duration": 11,
    "start_time": "2024-11-24T23:46:46.054Z"
   },
   {
    "duration": 469,
    "start_time": "2024-11-24T23:46:46.066Z"
   },
   {
    "duration": 12,
    "start_time": "2024-11-24T23:46:46.537Z"
   },
   {
    "duration": 10,
    "start_time": "2024-11-24T23:46:46.551Z"
   },
   {
    "duration": 7,
    "start_time": "2024-11-24T23:46:46.562Z"
   },
   {
    "duration": 29,
    "start_time": "2024-11-24T23:50:10.659Z"
   },
   {
    "duration": 381,
    "start_time": "2024-11-24T23:55:51.255Z"
   },
   {
    "duration": 19,
    "start_time": "2024-11-24T23:56:13.120Z"
   },
   {
    "duration": 12,
    "start_time": "2024-11-24T23:56:44.713Z"
   },
   {
    "duration": 10,
    "start_time": "2024-11-24T23:56:57.693Z"
   },
   {
    "duration": 10,
    "start_time": "2024-11-24T23:57:02.687Z"
   },
   {
    "duration": 13,
    "start_time": "2024-11-24T23:57:38.745Z"
   },
   {
    "duration": 11,
    "start_time": "2024-11-24T23:57:56.759Z"
   },
   {
    "duration": 20,
    "start_time": "2024-11-24T23:58:52.584Z"
   },
   {
    "duration": 20,
    "start_time": "2024-11-25T00:00:20.132Z"
   },
   {
    "duration": 18,
    "start_time": "2024-11-25T00:00:34.051Z"
   },
   {
    "duration": 19,
    "start_time": "2024-11-25T00:01:03.327Z"
   },
   {
    "duration": 11,
    "start_time": "2024-11-25T00:01:09.658Z"
   },
   {
    "duration": 19,
    "start_time": "2024-11-25T00:01:26.078Z"
   },
   {
    "duration": 18,
    "start_time": "2024-11-25T00:02:07.480Z"
   },
   {
    "duration": 19,
    "start_time": "2024-11-25T00:02:16.632Z"
   },
   {
    "duration": 848,
    "start_time": "2024-11-25T00:03:32.199Z"
   },
   {
    "duration": 163,
    "start_time": "2024-11-25T00:03:33.049Z"
   },
   {
    "duration": 10,
    "start_time": "2024-11-25T00:03:33.214Z"
   },
   {
    "duration": 17,
    "start_time": "2024-11-25T00:03:33.226Z"
   },
   {
    "duration": 9,
    "start_time": "2024-11-25T00:03:33.244Z"
   },
   {
    "duration": 7,
    "start_time": "2024-11-25T00:03:33.255Z"
   },
   {
    "duration": 9,
    "start_time": "2024-11-25T00:03:33.264Z"
   },
   {
    "duration": 8,
    "start_time": "2024-11-25T00:03:33.275Z"
   },
   {
    "duration": 18,
    "start_time": "2024-11-25T00:03:33.284Z"
   },
   {
    "duration": 15,
    "start_time": "2024-11-25T00:03:33.343Z"
   },
   {
    "duration": 9,
    "start_time": "2024-11-25T00:03:33.360Z"
   },
   {
    "duration": 26,
    "start_time": "2024-11-25T00:03:33.370Z"
   },
   {
    "duration": 45,
    "start_time": "2024-11-25T00:03:33.398Z"
   },
   {
    "duration": 13,
    "start_time": "2024-11-25T00:03:33.445Z"
   },
   {
    "duration": 16,
    "start_time": "2024-11-25T00:03:33.459Z"
   },
   {
    "duration": 12,
    "start_time": "2024-11-25T00:03:33.477Z"
   },
   {
    "duration": 8,
    "start_time": "2024-11-25T00:03:33.490Z"
   },
   {
    "duration": 50,
    "start_time": "2024-11-25T00:03:33.499Z"
   },
   {
    "duration": 18,
    "start_time": "2024-11-25T00:03:33.550Z"
   },
   {
    "duration": 14,
    "start_time": "2024-11-25T00:03:33.570Z"
   },
   {
    "duration": 9,
    "start_time": "2024-11-25T00:03:33.585Z"
   },
   {
    "duration": 21,
    "start_time": "2024-11-25T00:03:33.985Z"
   },
   {
    "duration": 21,
    "start_time": "2024-11-25T00:03:34.008Z"
   },
   {
    "duration": 20,
    "start_time": "2024-11-25T00:03:34.031Z"
   },
   {
    "duration": 3,
    "start_time": "2024-11-25T00:03:34.055Z"
   },
   {
    "duration": 13,
    "start_time": "2024-11-25T00:03:34.059Z"
   },
   {
    "duration": 15,
    "start_time": "2024-11-25T00:03:34.074Z"
   },
   {
    "duration": 11,
    "start_time": "2024-11-25T00:03:34.092Z"
   },
   {
    "duration": 64,
    "start_time": "2024-11-25T00:03:34.105Z"
   },
   {
    "duration": 11,
    "start_time": "2024-11-25T00:03:34.180Z"
   },
   {
    "duration": 357,
    "start_time": "2024-11-25T00:03:34.193Z"
   },
   {
    "duration": 0,
    "start_time": "2024-11-25T00:03:34.552Z"
   },
   {
    "duration": 0,
    "start_time": "2024-11-25T00:03:34.552Z"
   },
   {
    "duration": 0,
    "start_time": "2024-11-25T00:03:34.553Z"
   },
   {
    "duration": 0,
    "start_time": "2024-11-25T00:03:34.555Z"
   },
   {
    "duration": 0,
    "start_time": "2024-11-25T00:03:34.557Z"
   },
   {
    "duration": 13,
    "start_time": "2024-11-25T00:03:34.559Z"
   },
   {
    "duration": 14,
    "start_time": "2024-11-25T00:03:34.575Z"
   },
   {
    "duration": 17,
    "start_time": "2024-11-25T00:03:34.696Z"
   },
   {
    "duration": 17,
    "start_time": "2024-11-25T00:03:34.830Z"
   },
   {
    "duration": 0,
    "start_time": "2024-11-25T00:03:34.849Z"
   },
   {
    "duration": 15,
    "start_time": "2024-11-25T00:03:34.934Z"
   },
   {
    "duration": 17,
    "start_time": "2024-11-25T00:03:35.061Z"
   },
   {
    "duration": 13,
    "start_time": "2024-11-25T00:03:35.140Z"
   },
   {
    "duration": 19,
    "start_time": "2024-11-25T00:03:35.155Z"
   },
   {
    "duration": 14,
    "start_time": "2024-11-25T00:03:35.235Z"
   },
   {
    "duration": 17,
    "start_time": "2024-11-25T00:03:35.252Z"
   },
   {
    "duration": 0,
    "start_time": "2024-11-25T00:03:35.270Z"
   },
   {
    "duration": 14,
    "start_time": "2024-11-25T00:03:35.368Z"
   },
   {
    "duration": 0,
    "start_time": "2024-11-25T00:03:35.383Z"
   },
   {
    "duration": 0,
    "start_time": "2024-11-25T00:03:35.384Z"
   },
   {
    "duration": 17,
    "start_time": "2024-11-25T00:03:35.390Z"
   },
   {
    "duration": 14,
    "start_time": "2024-11-25T00:03:35.513Z"
   },
   {
    "duration": 17,
    "start_time": "2024-11-25T00:03:35.616Z"
   },
   {
    "duration": 16,
    "start_time": "2024-11-25T00:03:35.739Z"
   },
   {
    "duration": 13,
    "start_time": "2024-11-25T00:04:38.806Z"
   },
   {
    "duration": 828,
    "start_time": "2024-11-25T00:04:44.995Z"
   },
   {
    "duration": 168,
    "start_time": "2024-11-25T00:04:45.825Z"
   },
   {
    "duration": 9,
    "start_time": "2024-11-25T00:04:45.995Z"
   },
   {
    "duration": 9,
    "start_time": "2024-11-25T00:04:46.007Z"
   },
   {
    "duration": 7,
    "start_time": "2024-11-25T00:04:46.018Z"
   },
   {
    "duration": 22,
    "start_time": "2024-11-25T00:04:46.027Z"
   },
   {
    "duration": 9,
    "start_time": "2024-11-25T00:04:46.051Z"
   },
   {
    "duration": 9,
    "start_time": "2024-11-25T00:04:46.062Z"
   },
   {
    "duration": 17,
    "start_time": "2024-11-25T00:04:46.072Z"
   },
   {
    "duration": 15,
    "start_time": "2024-11-25T00:04:46.092Z"
   },
   {
    "duration": 41,
    "start_time": "2024-11-25T00:04:46.109Z"
   },
   {
    "duration": 27,
    "start_time": "2024-11-25T00:04:46.152Z"
   },
   {
    "duration": 25,
    "start_time": "2024-11-25T00:04:46.180Z"
   },
   {
    "duration": 38,
    "start_time": "2024-11-25T00:04:46.207Z"
   },
   {
    "duration": 16,
    "start_time": "2024-11-25T00:04:46.247Z"
   },
   {
    "duration": 14,
    "start_time": "2024-11-25T00:04:46.264Z"
   },
   {
    "duration": 7,
    "start_time": "2024-11-25T00:04:46.280Z"
   },
   {
    "duration": 19,
    "start_time": "2024-11-25T00:04:46.290Z"
   },
   {
    "duration": 50,
    "start_time": "2024-11-25T00:04:46.311Z"
   },
   {
    "duration": 14,
    "start_time": "2024-11-25T00:04:46.362Z"
   },
   {
    "duration": 9,
    "start_time": "2024-11-25T00:04:46.377Z"
   },
   {
    "duration": 20,
    "start_time": "2024-11-25T00:04:46.388Z"
   },
   {
    "duration": 52,
    "start_time": "2024-11-25T00:04:46.409Z"
   },
   {
    "duration": 15,
    "start_time": "2024-11-25T00:04:46.463Z"
   },
   {
    "duration": 5,
    "start_time": "2024-11-25T00:04:46.480Z"
   },
   {
    "duration": 11,
    "start_time": "2024-11-25T00:04:46.487Z"
   },
   {
    "duration": 43,
    "start_time": "2024-11-25T00:04:46.500Z"
   },
   {
    "duration": 12,
    "start_time": "2024-11-25T00:04:46.549Z"
   },
   {
    "duration": 29,
    "start_time": "2024-11-25T00:04:46.563Z"
   },
   {
    "duration": 10,
    "start_time": "2024-11-25T00:04:46.594Z"
   },
   {
    "duration": 41,
    "start_time": "2024-11-25T00:04:46.606Z"
   },
   {
    "duration": 22,
    "start_time": "2024-11-25T00:04:46.649Z"
   },
   {
    "duration": 24,
    "start_time": "2024-11-25T00:04:46.673Z"
   },
   {
    "duration": 16,
    "start_time": "2024-11-25T00:04:46.699Z"
   },
   {
    "duration": 21,
    "start_time": "2024-11-25T00:04:46.742Z"
   },
   {
    "duration": 10,
    "start_time": "2024-11-25T00:04:46.765Z"
   },
   {
    "duration": 4,
    "start_time": "2024-11-25T00:04:46.777Z"
   },
   {
    "duration": 200,
    "start_time": "2024-11-25T00:04:46.783Z"
   },
   {
    "duration": 168,
    "start_time": "2024-11-25T00:04:46.985Z"
   },
   {
    "duration": 14,
    "start_time": "2024-11-25T00:04:47.155Z"
   },
   {
    "duration": 7,
    "start_time": "2024-11-25T00:04:47.172Z"
   },
   {
    "duration": 290,
    "start_time": "2024-11-25T00:04:47.181Z"
   },
   {
    "duration": 213,
    "start_time": "2024-11-25T00:04:47.473Z"
   },
   {
    "duration": 11,
    "start_time": "2024-11-25T00:04:47.688Z"
   },
   {
    "duration": 210,
    "start_time": "2024-11-25T00:04:47.701Z"
   },
   {
    "duration": 11,
    "start_time": "2024-11-25T00:04:47.912Z"
   },
   {
    "duration": 253,
    "start_time": "2024-11-25T00:04:47.925Z"
   },
   {
    "duration": 10,
    "start_time": "2024-11-25T00:04:48.180Z"
   },
   {
    "duration": 12,
    "start_time": "2024-11-25T00:04:48.192Z"
   },
   {
    "duration": 10,
    "start_time": "2024-11-25T00:04:48.205Z"
   },
   {
    "duration": 30,
    "start_time": "2024-11-25T00:04:48.218Z"
   },
   {
    "duration": 469,
    "start_time": "2024-11-25T00:04:48.250Z"
   },
   {
    "duration": 9,
    "start_time": "2024-11-25T00:04:48.721Z"
   },
   {
    "duration": 20,
    "start_time": "2024-11-25T00:04:48.731Z"
   },
   {
    "duration": 7,
    "start_time": "2024-11-25T00:04:48.753Z"
   },
   {
    "duration": 262,
    "start_time": "2024-11-25T00:05:14.446Z"
   },
   {
    "duration": 224,
    "start_time": "2024-11-25T00:07:10.891Z"
   },
   {
    "duration": 12,
    "start_time": "2024-11-25T00:07:19.964Z"
   },
   {
    "duration": 2755,
    "start_time": "2024-11-25T19:47:14.148Z"
   },
   {
    "duration": 225,
    "start_time": "2024-11-25T19:47:16.906Z"
   },
   {
    "duration": 9,
    "start_time": "2024-11-25T19:47:17.133Z"
   },
   {
    "duration": 10,
    "start_time": "2024-11-25T19:47:17.144Z"
   },
   {
    "duration": 7,
    "start_time": "2024-11-25T19:47:17.156Z"
   },
   {
    "duration": 9,
    "start_time": "2024-11-25T19:47:17.165Z"
   },
   {
    "duration": 10,
    "start_time": "2024-11-25T19:47:17.175Z"
   },
   {
    "duration": 8,
    "start_time": "2024-11-25T19:47:17.187Z"
   },
   {
    "duration": 54,
    "start_time": "2024-11-25T19:47:17.197Z"
   },
   {
    "duration": 16,
    "start_time": "2024-11-25T19:47:17.253Z"
   },
   {
    "duration": 9,
    "start_time": "2024-11-25T19:47:17.271Z"
   },
   {
    "duration": 26,
    "start_time": "2024-11-25T19:47:17.282Z"
   },
   {
    "duration": 54,
    "start_time": "2024-11-25T19:47:17.311Z"
   },
   {
    "duration": 12,
    "start_time": "2024-11-25T19:47:17.370Z"
   },
   {
    "duration": 16,
    "start_time": "2024-11-25T19:47:17.383Z"
   },
   {
    "duration": 12,
    "start_time": "2024-11-25T19:47:17.400Z"
   },
   {
    "duration": 9,
    "start_time": "2024-11-25T19:47:17.443Z"
   },
   {
    "duration": 21,
    "start_time": "2024-11-25T19:47:17.453Z"
   },
   {
    "duration": 18,
    "start_time": "2024-11-25T19:47:17.475Z"
   },
   {
    "duration": 14,
    "start_time": "2024-11-25T19:47:17.494Z"
   },
   {
    "duration": 37,
    "start_time": "2024-11-25T19:47:17.509Z"
   },
   {
    "duration": 21,
    "start_time": "2024-11-25T19:47:17.548Z"
   },
   {
    "duration": 20,
    "start_time": "2024-11-25T19:47:17.571Z"
   },
   {
    "duration": 16,
    "start_time": "2024-11-25T19:47:17.592Z"
   },
   {
    "duration": 3,
    "start_time": "2024-11-25T19:47:17.609Z"
   },
   {
    "duration": 39,
    "start_time": "2024-11-25T19:47:17.613Z"
   },
   {
    "duration": 17,
    "start_time": "2024-11-25T19:47:17.654Z"
   },
   {
    "duration": 15,
    "start_time": "2024-11-25T19:47:17.673Z"
   },
   {
    "duration": 61,
    "start_time": "2024-11-25T19:47:17.690Z"
   },
   {
    "duration": 11,
    "start_time": "2024-11-25T19:47:17.752Z"
   },
   {
    "duration": 12,
    "start_time": "2024-11-25T19:47:17.765Z"
   },
   {
    "duration": 23,
    "start_time": "2024-11-25T19:47:17.778Z"
   },
   {
    "duration": 60,
    "start_time": "2024-11-25T19:47:17.803Z"
   },
   {
    "duration": 23,
    "start_time": "2024-11-25T19:47:17.866Z"
   },
   {
    "duration": 24,
    "start_time": "2024-11-25T19:47:17.892Z"
   },
   {
    "duration": 10,
    "start_time": "2024-11-25T19:47:17.918Z"
   },
   {
    "duration": 5,
    "start_time": "2024-11-25T19:47:17.943Z"
   },
   {
    "duration": 195,
    "start_time": "2024-11-25T19:47:17.950Z"
   },
   {
    "duration": 169,
    "start_time": "2024-11-25T19:47:18.148Z"
   },
   {
    "duration": 25,
    "start_time": "2024-11-25T19:47:18.318Z"
   },
   {
    "duration": 10,
    "start_time": "2024-11-25T19:47:18.348Z"
   },
   {
    "duration": 224,
    "start_time": "2024-11-25T19:47:18.359Z"
   },
   {
    "duration": 302,
    "start_time": "2024-11-25T19:47:18.586Z"
   },
   {
    "duration": 11,
    "start_time": "2024-11-25T19:47:18.890Z"
   },
   {
    "duration": 233,
    "start_time": "2024-11-25T19:47:18.902Z"
   },
   {
    "duration": 12,
    "start_time": "2024-11-25T19:47:19.142Z"
   },
   {
    "duration": 250,
    "start_time": "2024-11-25T19:47:19.156Z"
   },
   {
    "duration": 10,
    "start_time": "2024-11-25T19:47:19.408Z"
   },
   {
    "duration": 23,
    "start_time": "2024-11-25T19:47:19.420Z"
   },
   {
    "duration": 10,
    "start_time": "2024-11-25T19:47:19.445Z"
   },
   {
    "duration": 11,
    "start_time": "2024-11-25T19:47:19.457Z"
   },
   {
    "duration": 483,
    "start_time": "2024-11-25T19:47:19.470Z"
   },
   {
    "duration": 8,
    "start_time": "2024-11-25T19:47:19.956Z"
   },
   {
    "duration": 11,
    "start_time": "2024-11-25T19:47:19.965Z"
   },
   {
    "duration": 7,
    "start_time": "2024-11-25T19:47:19.978Z"
   },
   {
    "duration": 383,
    "start_time": "2024-11-25T19:47:39.403Z"
   },
   {
    "duration": 11,
    "start_time": "2024-11-25T19:47:47.545Z"
   },
   {
    "duration": 11,
    "start_time": "2024-11-25T21:28:36.557Z"
   },
   {
    "duration": 21,
    "start_time": "2024-11-25T21:28:59.758Z"
   },
   {
    "duration": 23,
    "start_time": "2024-11-25T21:32:41.979Z"
   },
   {
    "duration": 23,
    "start_time": "2024-11-25T21:32:54.990Z"
   },
   {
    "duration": 25,
    "start_time": "2024-11-25T21:33:06.941Z"
   },
   {
    "duration": 13,
    "start_time": "2024-11-25T21:33:19.256Z"
   },
   {
    "duration": 22,
    "start_time": "2024-11-25T21:33:25.871Z"
   },
   {
    "duration": 12,
    "start_time": "2024-11-25T21:33:37.191Z"
   },
   {
    "duration": 18,
    "start_time": "2024-11-25T21:47:57.571Z"
   },
   {
    "duration": 21,
    "start_time": "2024-11-25T21:48:02.411Z"
   },
   {
    "duration": 19,
    "start_time": "2024-11-25T21:51:00.984Z"
   },
   {
    "duration": 12,
    "start_time": "2024-11-25T21:51:09.648Z"
   },
   {
    "duration": 11,
    "start_time": "2024-11-25T21:52:48.968Z"
   },
   {
    "duration": 23,
    "start_time": "2024-11-25T21:53:03.712Z"
   },
   {
    "duration": 11,
    "start_time": "2024-11-25T21:53:18.103Z"
   },
   {
    "duration": 22,
    "start_time": "2024-11-25T22:05:34.932Z"
   },
   {
    "duration": 11,
    "start_time": "2024-11-25T22:11:22.894Z"
   },
   {
    "duration": 15,
    "start_time": "2024-11-25T22:50:29.192Z"
   },
   {
    "duration": 839,
    "start_time": "2024-11-25T22:50:34.513Z"
   },
   {
    "duration": 163,
    "start_time": "2024-11-25T22:50:35.354Z"
   },
   {
    "duration": 12,
    "start_time": "2024-11-25T22:50:35.519Z"
   },
   {
    "duration": 16,
    "start_time": "2024-11-25T22:50:35.533Z"
   },
   {
    "duration": 7,
    "start_time": "2024-11-25T22:50:35.551Z"
   },
   {
    "duration": 9,
    "start_time": "2024-11-25T22:50:35.560Z"
   },
   {
    "duration": 11,
    "start_time": "2024-11-25T22:50:35.571Z"
   },
   {
    "duration": 9,
    "start_time": "2024-11-25T22:50:35.584Z"
   },
   {
    "duration": 54,
    "start_time": "2024-11-25T22:50:35.595Z"
   },
   {
    "duration": 17,
    "start_time": "2024-11-25T22:50:35.652Z"
   },
   {
    "duration": 8,
    "start_time": "2024-11-25T22:50:35.671Z"
   },
   {
    "duration": 25,
    "start_time": "2024-11-25T22:50:35.681Z"
   },
   {
    "duration": 54,
    "start_time": "2024-11-25T22:50:35.707Z"
   },
   {
    "duration": 12,
    "start_time": "2024-11-25T22:50:35.763Z"
   },
   {
    "duration": 15,
    "start_time": "2024-11-25T22:50:35.777Z"
   },
   {
    "duration": 11,
    "start_time": "2024-11-25T22:50:35.794Z"
   },
   {
    "duration": 8,
    "start_time": "2024-11-25T22:50:35.806Z"
   },
   {
    "duration": 18,
    "start_time": "2024-11-25T22:50:35.844Z"
   },
   {
    "duration": 17,
    "start_time": "2024-11-25T22:50:35.864Z"
   },
   {
    "duration": 14,
    "start_time": "2024-11-25T22:50:35.883Z"
   },
   {
    "duration": 8,
    "start_time": "2024-11-25T22:50:35.899Z"
   },
   {
    "duration": 49,
    "start_time": "2024-11-25T22:50:35.909Z"
   },
   {
    "duration": 19,
    "start_time": "2024-11-25T22:50:35.960Z"
   },
   {
    "duration": 16,
    "start_time": "2024-11-25T22:50:35.981Z"
   },
   {
    "duration": 3,
    "start_time": "2024-11-25T22:50:35.999Z"
   },
   {
    "duration": 43,
    "start_time": "2024-11-25T22:50:36.004Z"
   },
   {
    "duration": 16,
    "start_time": "2024-11-25T22:50:36.048Z"
   },
   {
    "duration": 11,
    "start_time": "2024-11-25T22:50:36.069Z"
   },
   {
    "duration": 27,
    "start_time": "2024-11-25T22:50:36.081Z"
   },
   {
    "duration": 39,
    "start_time": "2024-11-25T22:50:36.110Z"
   },
   {
    "duration": 12,
    "start_time": "2024-11-25T22:50:36.151Z"
   },
   {
    "duration": 23,
    "start_time": "2024-11-25T22:50:36.164Z"
   },
   {
    "duration": 23,
    "start_time": "2024-11-25T22:50:36.189Z"
   },
   {
    "duration": 40,
    "start_time": "2024-11-25T22:50:36.214Z"
   },
   {
    "duration": 45,
    "start_time": "2024-11-25T22:50:36.255Z"
   },
   {
    "duration": 17,
    "start_time": "2024-11-25T22:50:36.302Z"
   },
   {
    "duration": 13,
    "start_time": "2024-11-25T22:50:36.321Z"
   },
   {
    "duration": 181,
    "start_time": "2024-11-25T22:50:36.335Z"
   },
   {
    "duration": 177,
    "start_time": "2024-11-25T22:50:36.524Z"
   },
   {
    "duration": 17,
    "start_time": "2024-11-25T22:50:36.703Z"
   },
   {
    "duration": 24,
    "start_time": "2024-11-25T22:50:36.722Z"
   },
   {
    "duration": 258,
    "start_time": "2024-11-25T22:50:36.747Z"
   },
   {
    "duration": 216,
    "start_time": "2024-11-25T22:50:37.007Z"
   },
   {
    "duration": 20,
    "start_time": "2024-11-25T22:50:37.225Z"
   },
   {
    "duration": 212,
    "start_time": "2024-11-25T22:50:37.247Z"
   },
   {
    "duration": 11,
    "start_time": "2024-11-25T22:50:37.461Z"
   },
   {
    "duration": 248,
    "start_time": "2024-11-25T22:50:37.474Z"
   },
   {
    "duration": 19,
    "start_time": "2024-11-25T22:50:37.724Z"
   },
   {
    "duration": 11,
    "start_time": "2024-11-25T22:50:37.746Z"
   },
   {
    "duration": 12,
    "start_time": "2024-11-25T22:50:37.759Z"
   },
   {
    "duration": 11,
    "start_time": "2024-11-25T22:50:37.773Z"
   },
   {
    "duration": 493,
    "start_time": "2024-11-25T22:50:37.785Z"
   },
   {
    "duration": 8,
    "start_time": "2024-11-25T22:50:38.280Z"
   },
   {
    "duration": 10,
    "start_time": "2024-11-25T22:50:38.293Z"
   },
   {
    "duration": 7,
    "start_time": "2024-11-25T22:50:38.305Z"
   },
   {
    "duration": 321,
    "start_time": "2024-11-25T22:50:38.314Z"
   },
   {
    "duration": 882,
    "start_time": "2024-11-25T22:50:58.873Z"
   },
   {
    "duration": 159,
    "start_time": "2024-11-25T22:50:59.757Z"
   },
   {
    "duration": 11,
    "start_time": "2024-11-25T22:50:59.918Z"
   },
   {
    "duration": 14,
    "start_time": "2024-11-25T22:50:59.933Z"
   },
   {
    "duration": 8,
    "start_time": "2024-11-25T22:50:59.948Z"
   },
   {
    "duration": 8,
    "start_time": "2024-11-25T22:50:59.957Z"
   },
   {
    "duration": 9,
    "start_time": "2024-11-25T22:50:59.966Z"
   },
   {
    "duration": 9,
    "start_time": "2024-11-25T22:50:59.976Z"
   },
   {
    "duration": 17,
    "start_time": "2024-11-25T22:50:59.986Z"
   },
   {
    "duration": 15,
    "start_time": "2024-11-25T22:51:00.045Z"
   },
   {
    "duration": 8,
    "start_time": "2024-11-25T22:51:00.062Z"
   },
   {
    "duration": 26,
    "start_time": "2024-11-25T22:51:00.072Z"
   },
   {
    "duration": 52,
    "start_time": "2024-11-25T22:51:00.100Z"
   },
   {
    "duration": 13,
    "start_time": "2024-11-25T22:51:00.153Z"
   },
   {
    "duration": 17,
    "start_time": "2024-11-25T22:51:00.168Z"
   },
   {
    "duration": 15,
    "start_time": "2024-11-25T22:51:00.187Z"
   },
   {
    "duration": 8,
    "start_time": "2024-11-25T22:51:00.204Z"
   },
   {
    "duration": 21,
    "start_time": "2024-11-25T22:51:00.244Z"
   },
   {
    "duration": 18,
    "start_time": "2024-11-25T22:51:00.267Z"
   },
   {
    "duration": 14,
    "start_time": "2024-11-25T22:51:00.287Z"
   },
   {
    "duration": 9,
    "start_time": "2024-11-25T22:51:00.303Z"
   },
   {
    "duration": 22,
    "start_time": "2024-11-25T22:51:00.344Z"
   },
   {
    "duration": 20,
    "start_time": "2024-11-25T22:51:00.367Z"
   },
   {
    "duration": 16,
    "start_time": "2024-11-25T22:51:00.389Z"
   },
   {
    "duration": 3,
    "start_time": "2024-11-25T22:51:00.407Z"
   },
   {
    "duration": 12,
    "start_time": "2024-11-25T22:51:00.443Z"
   },
   {
    "duration": 16,
    "start_time": "2024-11-25T22:51:00.457Z"
   },
   {
    "duration": 15,
    "start_time": "2024-11-25T22:51:00.477Z"
   },
   {
    "duration": 60,
    "start_time": "2024-11-25T22:51:00.496Z"
   },
   {
    "duration": 15,
    "start_time": "2024-11-25T22:51:00.558Z"
   },
   {
    "duration": 12,
    "start_time": "2024-11-25T22:51:00.575Z"
   },
   {
    "duration": 23,
    "start_time": "2024-11-25T22:51:00.589Z"
   },
   {
    "duration": 50,
    "start_time": "2024-11-25T22:51:00.614Z"
   },
   {
    "duration": 16,
    "start_time": "2024-11-25T22:51:00.666Z"
   },
   {
    "duration": 21,
    "start_time": "2024-11-25T22:51:00.684Z"
   },
   {
    "duration": 10,
    "start_time": "2024-11-25T22:51:00.707Z"
   },
   {
    "duration": 27,
    "start_time": "2024-11-25T22:51:00.719Z"
   },
   {
    "duration": 195,
    "start_time": "2024-11-25T22:51:00.748Z"
   },
   {
    "duration": 178,
    "start_time": "2024-11-25T22:51:00.945Z"
   },
   {
    "duration": 30,
    "start_time": "2024-11-25T22:51:01.126Z"
   },
   {
    "duration": 7,
    "start_time": "2024-11-25T22:51:01.158Z"
   },
   {
    "duration": 277,
    "start_time": "2024-11-25T22:51:01.167Z"
   },
   {
    "duration": 216,
    "start_time": "2024-11-25T22:51:01.446Z"
   },
   {
    "duration": 11,
    "start_time": "2024-11-25T22:51:01.663Z"
   },
   {
    "duration": 213,
    "start_time": "2024-11-25T22:51:01.676Z"
   },
   {
    "duration": 11,
    "start_time": "2024-11-25T22:51:01.891Z"
   },
   {
    "duration": 249,
    "start_time": "2024-11-25T22:51:01.904Z"
   },
   {
    "duration": 11,
    "start_time": "2024-11-25T22:51:02.155Z"
   },
   {
    "duration": 10,
    "start_time": "2024-11-25T22:51:02.168Z"
   },
   {
    "duration": 10,
    "start_time": "2024-11-25T22:51:02.180Z"
   },
   {
    "duration": 8,
    "start_time": "2024-11-25T22:51:02.192Z"
   },
   {
    "duration": 499,
    "start_time": "2024-11-25T22:51:02.202Z"
   },
   {
    "duration": 7,
    "start_time": "2024-11-25T22:51:02.705Z"
   },
   {
    "duration": 10,
    "start_time": "2024-11-25T22:51:02.714Z"
   },
   {
    "duration": 19,
    "start_time": "2024-11-25T22:51:02.725Z"
   },
   {
    "duration": 389,
    "start_time": "2024-11-25T22:51:02.746Z"
   },
   {
    "duration": 29,
    "start_time": "2024-11-25T22:52:19.961Z"
   },
   {
    "duration": 29,
    "start_time": "2024-11-25T22:53:53.828Z"
   },
   {
    "duration": 32,
    "start_time": "2024-11-25T22:54:00.082Z"
   },
   {
    "duration": 867,
    "start_time": "2024-11-25T22:54:05.060Z"
   },
   {
    "duration": 167,
    "start_time": "2024-11-25T22:54:05.930Z"
   },
   {
    "duration": 10,
    "start_time": "2024-11-25T22:54:06.098Z"
   },
   {
    "duration": 10,
    "start_time": "2024-11-25T22:54:06.110Z"
   },
   {
    "duration": 21,
    "start_time": "2024-11-25T22:54:06.121Z"
   },
   {
    "duration": 7,
    "start_time": "2024-11-25T22:54:06.144Z"
   },
   {
    "duration": 10,
    "start_time": "2024-11-25T22:54:06.153Z"
   },
   {
    "duration": 7,
    "start_time": "2024-11-25T22:54:06.164Z"
   },
   {
    "duration": 16,
    "start_time": "2024-11-25T22:54:06.173Z"
   },
   {
    "duration": 14,
    "start_time": "2024-11-25T22:54:06.193Z"
   },
   {
    "duration": 10,
    "start_time": "2024-11-25T22:54:06.243Z"
   },
   {
    "duration": 28,
    "start_time": "2024-11-25T22:54:06.254Z"
   },
   {
    "duration": 25,
    "start_time": "2024-11-25T22:54:06.283Z"
   },
   {
    "duration": 34,
    "start_time": "2024-11-25T22:54:06.309Z"
   },
   {
    "duration": 16,
    "start_time": "2024-11-25T22:54:06.345Z"
   },
   {
    "duration": 11,
    "start_time": "2024-11-25T22:54:06.363Z"
   },
   {
    "duration": 8,
    "start_time": "2024-11-25T22:54:06.376Z"
   },
   {
    "duration": 17,
    "start_time": "2024-11-25T22:54:06.386Z"
   },
   {
    "duration": 50,
    "start_time": "2024-11-25T22:54:06.404Z"
   },
   {
    "duration": 14,
    "start_time": "2024-11-25T22:54:06.456Z"
   },
   {
    "duration": 8,
    "start_time": "2024-11-25T22:54:06.472Z"
   },
   {
    "duration": 22,
    "start_time": "2024-11-25T22:54:06.481Z"
   },
   {
    "duration": 48,
    "start_time": "2024-11-25T22:54:06.504Z"
   },
   {
    "duration": 22,
    "start_time": "2024-11-25T22:54:06.554Z"
   },
   {
    "duration": 5,
    "start_time": "2024-11-25T22:54:06.579Z"
   },
   {
    "duration": 15,
    "start_time": "2024-11-25T22:54:06.585Z"
   },
   {
    "duration": 44,
    "start_time": "2024-11-25T22:54:06.602Z"
   },
   {
    "duration": 12,
    "start_time": "2024-11-25T22:54:06.651Z"
   },
   {
    "duration": 29,
    "start_time": "2024-11-25T22:54:06.665Z"
   },
   {
    "duration": 11,
    "start_time": "2024-11-25T22:54:06.696Z"
   },
   {
    "duration": 39,
    "start_time": "2024-11-25T22:54:06.709Z"
   },
   {
    "duration": 23,
    "start_time": "2024-11-25T22:54:06.749Z"
   },
   {
    "duration": 24,
    "start_time": "2024-11-25T22:54:06.774Z"
   },
   {
    "duration": 15,
    "start_time": "2024-11-25T22:54:06.800Z"
   },
   {
    "duration": 22,
    "start_time": "2024-11-25T22:54:06.842Z"
   },
   {
    "duration": 10,
    "start_time": "2024-11-25T22:54:06.866Z"
   },
   {
    "duration": 5,
    "start_time": "2024-11-25T22:54:06.878Z"
   },
   {
    "duration": 203,
    "start_time": "2024-11-25T22:54:06.884Z"
   },
   {
    "duration": 187,
    "start_time": "2024-11-25T22:54:07.089Z"
   },
   {
    "duration": 14,
    "start_time": "2024-11-25T22:54:07.278Z"
   },
   {
    "duration": 8,
    "start_time": "2024-11-25T22:54:07.294Z"
   },
   {
    "duration": 288,
    "start_time": "2024-11-25T22:54:07.304Z"
   },
   {
    "duration": 219,
    "start_time": "2024-11-25T22:54:07.594Z"
   },
   {
    "duration": 13,
    "start_time": "2024-11-25T22:54:07.815Z"
   },
   {
    "duration": 216,
    "start_time": "2024-11-25T22:54:07.829Z"
   },
   {
    "duration": 12,
    "start_time": "2024-11-25T22:54:08.047Z"
   },
   {
    "duration": 275,
    "start_time": "2024-11-25T22:54:08.062Z"
   },
   {
    "duration": 15,
    "start_time": "2024-11-25T22:54:08.339Z"
   },
   {
    "duration": 9,
    "start_time": "2024-11-25T22:54:08.356Z"
   },
   {
    "duration": 10,
    "start_time": "2024-11-25T22:54:08.367Z"
   },
   {
    "duration": 9,
    "start_time": "2024-11-25T22:54:08.378Z"
   },
   {
    "duration": 482,
    "start_time": "2024-11-25T22:54:08.390Z"
   },
   {
    "duration": 8,
    "start_time": "2024-11-25T22:54:08.877Z"
   },
   {
    "duration": 11,
    "start_time": "2024-11-25T22:54:08.886Z"
   },
   {
    "duration": 6,
    "start_time": "2024-11-25T22:54:08.899Z"
   },
   {
    "duration": 420,
    "start_time": "2024-11-25T22:54:08.906Z"
   },
   {
    "duration": 32,
    "start_time": "2024-11-25T22:54:40.730Z"
   },
   {
    "duration": 7,
    "start_time": "2024-11-25T22:56:38.857Z"
   },
   {
    "duration": 7,
    "start_time": "2024-11-25T22:59:20.609Z"
   },
   {
    "duration": 8,
    "start_time": "2024-11-25T22:59:55.021Z"
   },
   {
    "duration": 810,
    "start_time": "2024-11-25T23:07:25.444Z"
   },
   {
    "duration": 168,
    "start_time": "2024-11-25T23:07:26.256Z"
   },
   {
    "duration": 10,
    "start_time": "2024-11-25T23:07:26.426Z"
   },
   {
    "duration": 9,
    "start_time": "2024-11-25T23:07:26.442Z"
   },
   {
    "duration": 9,
    "start_time": "2024-11-25T23:07:26.453Z"
   },
   {
    "duration": 9,
    "start_time": "2024-11-25T23:07:26.463Z"
   },
   {
    "duration": 10,
    "start_time": "2024-11-25T23:07:26.474Z"
   },
   {
    "duration": 8,
    "start_time": "2024-11-25T23:07:26.485Z"
   },
   {
    "duration": 49,
    "start_time": "2024-11-25T23:07:26.494Z"
   },
   {
    "duration": 16,
    "start_time": "2024-11-25T23:07:26.547Z"
   },
   {
    "duration": 11,
    "start_time": "2024-11-25T23:07:26.565Z"
   },
   {
    "duration": 27,
    "start_time": "2024-11-25T23:07:26.578Z"
   },
   {
    "duration": 50,
    "start_time": "2024-11-25T23:07:26.607Z"
   },
   {
    "duration": 13,
    "start_time": "2024-11-25T23:07:26.659Z"
   },
   {
    "duration": 15,
    "start_time": "2024-11-25T23:07:26.674Z"
   },
   {
    "duration": 12,
    "start_time": "2024-11-25T23:07:26.691Z"
   },
   {
    "duration": 6,
    "start_time": "2024-11-25T23:07:26.706Z"
   },
   {
    "duration": 18,
    "start_time": "2024-11-25T23:07:26.742Z"
   },
   {
    "duration": 17,
    "start_time": "2024-11-25T23:07:26.762Z"
   },
   {
    "duration": 13,
    "start_time": "2024-11-25T23:07:26.781Z"
   },
   {
    "duration": 8,
    "start_time": "2024-11-25T23:07:26.795Z"
   },
   {
    "duration": 49,
    "start_time": "2024-11-25T23:07:26.805Z"
   },
   {
    "duration": 19,
    "start_time": "2024-11-25T23:07:26.857Z"
   },
   {
    "duration": 15,
    "start_time": "2024-11-25T23:07:26.878Z"
   },
   {
    "duration": 3,
    "start_time": "2024-11-25T23:07:26.895Z"
   },
   {
    "duration": 44,
    "start_time": "2024-11-25T23:07:26.899Z"
   },
   {
    "duration": 13,
    "start_time": "2024-11-25T23:07:26.944Z"
   },
   {
    "duration": 9,
    "start_time": "2024-11-25T23:07:26.962Z"
   },
   {
    "duration": 27,
    "start_time": "2024-11-25T23:07:26.973Z"
   },
   {
    "duration": 11,
    "start_time": "2024-11-25T23:07:27.002Z"
   },
   {
    "duration": 38,
    "start_time": "2024-11-25T23:07:27.014Z"
   },
   {
    "duration": 25,
    "start_time": "2024-11-25T23:07:27.053Z"
   },
   {
    "duration": 24,
    "start_time": "2024-11-25T23:07:27.080Z"
   },
   {
    "duration": 42,
    "start_time": "2024-11-25T23:07:27.106Z"
   },
   {
    "duration": 21,
    "start_time": "2024-11-25T23:07:27.150Z"
   },
   {
    "duration": 10,
    "start_time": "2024-11-25T23:07:27.172Z"
   },
   {
    "duration": 5,
    "start_time": "2024-11-25T23:07:27.183Z"
   },
   {
    "duration": 202,
    "start_time": "2024-11-25T23:07:27.191Z"
   },
   {
    "duration": 179,
    "start_time": "2024-11-25T23:07:27.395Z"
   },
   {
    "duration": 13,
    "start_time": "2024-11-25T23:07:27.576Z"
   },
   {
    "duration": 8,
    "start_time": "2024-11-25T23:07:27.590Z"
   },
   {
    "duration": 277,
    "start_time": "2024-11-25T23:07:27.600Z"
   },
   {
    "duration": 216,
    "start_time": "2024-11-25T23:07:27.878Z"
   },
   {
    "duration": 11,
    "start_time": "2024-11-25T23:07:28.095Z"
   },
   {
    "duration": 227,
    "start_time": "2024-11-25T23:07:28.109Z"
   },
   {
    "duration": 13,
    "start_time": "2024-11-25T23:07:28.343Z"
   },
   {
    "duration": 305,
    "start_time": "2024-11-25T23:07:28.359Z"
   },
   {
    "duration": 13,
    "start_time": "2024-11-25T23:07:28.666Z"
   },
   {
    "duration": 10,
    "start_time": "2024-11-25T23:07:28.681Z"
   },
   {
    "duration": 10,
    "start_time": "2024-11-25T23:07:28.693Z"
   },
   {
    "duration": 39,
    "start_time": "2024-11-25T23:07:28.705Z"
   },
   {
    "duration": 594,
    "start_time": "2024-11-25T23:07:28.746Z"
   },
   {
    "duration": 10,
    "start_time": "2024-11-25T23:07:29.342Z"
   },
   {
    "duration": 12,
    "start_time": "2024-11-25T23:07:29.358Z"
   },
   {
    "duration": 8,
    "start_time": "2024-11-25T23:07:29.372Z"
   },
   {
    "duration": 503,
    "start_time": "2024-11-25T23:07:29.381Z"
   },
   {
    "duration": 7,
    "start_time": "2024-11-25T23:07:58.994Z"
   },
   {
    "duration": 5,
    "start_time": "2024-11-25T23:08:03.979Z"
   },
   {
    "duration": 5,
    "start_time": "2024-11-25T23:09:48.780Z"
   },
   {
    "duration": 4,
    "start_time": "2024-11-25T23:10:03.275Z"
   },
   {
    "duration": 4,
    "start_time": "2024-11-25T23:10:23.089Z"
   },
   {
    "duration": 4,
    "start_time": "2024-11-25T23:10:34.694Z"
   },
   {
    "duration": 4,
    "start_time": "2024-11-25T23:10:56.325Z"
   },
   {
    "duration": 16,
    "start_time": "2024-11-25T23:11:38.797Z"
   },
   {
    "duration": 4,
    "start_time": "2024-11-25T23:12:18.938Z"
   },
   {
    "duration": 6,
    "start_time": "2024-11-25T23:14:35.457Z"
   },
   {
    "duration": 5,
    "start_time": "2024-11-25T23:15:00.119Z"
   },
   {
    "duration": 5,
    "start_time": "2024-11-25T23:16:43.184Z"
   },
   {
    "duration": 821,
    "start_time": "2024-11-25T23:23:32.438Z"
   },
   {
    "duration": 163,
    "start_time": "2024-11-25T23:23:33.262Z"
   },
   {
    "duration": 9,
    "start_time": "2024-11-25T23:23:33.426Z"
   },
   {
    "duration": 10,
    "start_time": "2024-11-25T23:23:33.437Z"
   },
   {
    "duration": 7,
    "start_time": "2024-11-25T23:23:33.448Z"
   },
   {
    "duration": 7,
    "start_time": "2024-11-25T23:23:33.458Z"
   },
   {
    "duration": 9,
    "start_time": "2024-11-25T23:23:33.467Z"
   },
   {
    "duration": 8,
    "start_time": "2024-11-25T23:23:33.477Z"
   },
   {
    "duration": 15,
    "start_time": "2024-11-25T23:23:33.487Z"
   },
   {
    "duration": 16,
    "start_time": "2024-11-25T23:23:33.542Z"
   },
   {
    "duration": 8,
    "start_time": "2024-11-25T23:23:33.560Z"
   },
   {
    "duration": 26,
    "start_time": "2024-11-25T23:23:33.569Z"
   },
   {
    "duration": 49,
    "start_time": "2024-11-25T23:23:33.597Z"
   },
   {
    "duration": 13,
    "start_time": "2024-11-25T23:23:33.648Z"
   },
   {
    "duration": 15,
    "start_time": "2024-11-25T23:23:33.663Z"
   },
   {
    "duration": 11,
    "start_time": "2024-11-25T23:23:33.680Z"
   },
   {
    "duration": 7,
    "start_time": "2024-11-25T23:23:33.694Z"
   },
   {
    "duration": 44,
    "start_time": "2024-11-25T23:23:33.703Z"
   },
   {
    "duration": 19,
    "start_time": "2024-11-25T23:23:33.749Z"
   },
   {
    "duration": 13,
    "start_time": "2024-11-25T23:23:33.769Z"
   },
   {
    "duration": 7,
    "start_time": "2024-11-25T23:23:33.784Z"
   },
   {
    "duration": 49,
    "start_time": "2024-11-25T23:23:33.793Z"
   },
   {
    "duration": 21,
    "start_time": "2024-11-25T23:23:33.844Z"
   },
   {
    "duration": 18,
    "start_time": "2024-11-25T23:23:33.868Z"
   },
   {
    "duration": 4,
    "start_time": "2024-11-25T23:23:33.889Z"
   },
   {
    "duration": 12,
    "start_time": "2024-11-25T23:23:33.894Z"
   },
   {
    "duration": 47,
    "start_time": "2024-11-25T23:23:33.907Z"
   },
   {
    "duration": 9,
    "start_time": "2024-11-25T23:23:33.958Z"
   },
   {
    "duration": 27,
    "start_time": "2024-11-25T23:23:33.969Z"
   },
   {
    "duration": 12,
    "start_time": "2024-11-25T23:23:33.998Z"
   },
   {
    "duration": 39,
    "start_time": "2024-11-25T23:23:34.011Z"
   },
   {
    "duration": 29,
    "start_time": "2024-11-25T23:23:34.052Z"
   },
   {
    "duration": 30,
    "start_time": "2024-11-25T23:23:34.083Z"
   },
   {
    "duration": 36,
    "start_time": "2024-11-25T23:23:34.114Z"
   },
   {
    "duration": 21,
    "start_time": "2024-11-25T23:23:34.152Z"
   },
   {
    "duration": 10,
    "start_time": "2024-11-25T23:23:34.174Z"
   },
   {
    "duration": 5,
    "start_time": "2024-11-25T23:23:34.186Z"
   },
   {
    "duration": 209,
    "start_time": "2024-11-25T23:23:34.192Z"
   },
   {
    "duration": 166,
    "start_time": "2024-11-25T23:23:34.403Z"
   },
   {
    "duration": 16,
    "start_time": "2024-11-25T23:23:34.571Z"
   },
   {
    "duration": 8,
    "start_time": "2024-11-25T23:23:34.590Z"
   },
   {
    "duration": 267,
    "start_time": "2024-11-25T23:23:34.600Z"
   },
   {
    "duration": 221,
    "start_time": "2024-11-25T23:23:34.869Z"
   },
   {
    "duration": 11,
    "start_time": "2024-11-25T23:23:35.092Z"
   },
   {
    "duration": 218,
    "start_time": "2024-11-25T23:23:35.104Z"
   },
   {
    "duration": 19,
    "start_time": "2024-11-25T23:23:35.324Z"
   },
   {
    "duration": 246,
    "start_time": "2024-11-25T23:23:35.345Z"
   },
   {
    "duration": 11,
    "start_time": "2024-11-25T23:23:35.593Z"
   },
   {
    "duration": 9,
    "start_time": "2024-11-25T23:23:35.606Z"
   },
   {
    "duration": 26,
    "start_time": "2024-11-25T23:23:35.617Z"
   },
   {
    "duration": 10,
    "start_time": "2024-11-25T23:23:35.645Z"
   },
   {
    "duration": 466,
    "start_time": "2024-11-25T23:23:35.656Z"
   },
   {
    "duration": 16,
    "start_time": "2024-11-25T23:23:36.127Z"
   },
   {
    "duration": 7,
    "start_time": "2024-11-25T23:23:36.144Z"
   },
   {
    "duration": 7,
    "start_time": "2024-11-25T23:23:36.154Z"
   },
   {
    "duration": 5,
    "start_time": "2024-11-25T23:23:36.162Z"
   },
   {
    "duration": 5,
    "start_time": "2024-11-25T23:23:36.169Z"
   },
   {
    "duration": 291,
    "start_time": "2024-11-25T23:25:31.734Z"
   },
   {
    "duration": 12,
    "start_time": "2024-11-25T23:25:39.118Z"
   },
   {
    "duration": 859,
    "start_time": "2024-11-25T23:25:44.673Z"
   },
   {
    "duration": 161,
    "start_time": "2024-11-25T23:25:45.534Z"
   },
   {
    "duration": 9,
    "start_time": "2024-11-25T23:25:45.696Z"
   },
   {
    "duration": 10,
    "start_time": "2024-11-25T23:25:45.707Z"
   },
   {
    "duration": 24,
    "start_time": "2024-11-25T23:25:45.719Z"
   },
   {
    "duration": 8,
    "start_time": "2024-11-25T23:25:45.744Z"
   },
   {
    "duration": 8,
    "start_time": "2024-11-25T23:25:45.754Z"
   },
   {
    "duration": 7,
    "start_time": "2024-11-25T23:25:45.764Z"
   },
   {
    "duration": 17,
    "start_time": "2024-11-25T23:25:45.773Z"
   },
   {
    "duration": 14,
    "start_time": "2024-11-25T23:25:45.793Z"
   },
   {
    "duration": 41,
    "start_time": "2024-11-25T23:25:45.809Z"
   },
   {
    "duration": 26,
    "start_time": "2024-11-25T23:25:45.852Z"
   },
   {
    "duration": 25,
    "start_time": "2024-11-25T23:25:45.880Z"
   },
   {
    "duration": 42,
    "start_time": "2024-11-25T23:25:45.907Z"
   },
   {
    "duration": 17,
    "start_time": "2024-11-25T23:25:45.951Z"
   },
   {
    "duration": 12,
    "start_time": "2024-11-25T23:25:45.970Z"
   },
   {
    "duration": 8,
    "start_time": "2024-11-25T23:25:45.984Z"
   },
   {
    "duration": 18,
    "start_time": "2024-11-25T23:25:45.993Z"
   },
   {
    "duration": 18,
    "start_time": "2024-11-25T23:25:46.042Z"
   },
   {
    "duration": 13,
    "start_time": "2024-11-25T23:25:46.063Z"
   },
   {
    "duration": 8,
    "start_time": "2024-11-25T23:25:46.078Z"
   },
   {
    "duration": 20,
    "start_time": "2024-11-25T23:25:46.087Z"
   },
   {
    "duration": 48,
    "start_time": "2024-11-25T23:25:46.109Z"
   },
   {
    "duration": 16,
    "start_time": "2024-11-25T23:25:46.158Z"
   },
   {
    "duration": 3,
    "start_time": "2024-11-25T23:25:46.176Z"
   },
   {
    "duration": 12,
    "start_time": "2024-11-25T23:25:46.181Z"
   },
   {
    "duration": 49,
    "start_time": "2024-11-25T23:25:46.194Z"
   },
   {
    "duration": 11,
    "start_time": "2024-11-25T23:25:46.247Z"
   },
   {
    "duration": 29,
    "start_time": "2024-11-25T23:25:46.261Z"
   },
   {
    "duration": 10,
    "start_time": "2024-11-25T23:25:46.292Z"
   },
   {
    "duration": 12,
    "start_time": "2024-11-25T23:25:46.304Z"
   },
   {
    "duration": 46,
    "start_time": "2024-11-25T23:25:46.317Z"
   },
   {
    "duration": 23,
    "start_time": "2024-11-25T23:25:46.365Z"
   },
   {
    "duration": 16,
    "start_time": "2024-11-25T23:25:46.390Z"
   },
   {
    "duration": 47,
    "start_time": "2024-11-25T23:25:46.409Z"
   },
   {
    "duration": 9,
    "start_time": "2024-11-25T23:25:46.460Z"
   },
   {
    "duration": 5,
    "start_time": "2024-11-25T23:25:46.470Z"
   },
   {
    "duration": 197,
    "start_time": "2024-11-25T23:25:46.476Z"
   },
   {
    "duration": 167,
    "start_time": "2024-11-25T23:25:46.674Z"
   },
   {
    "duration": 14,
    "start_time": "2024-11-25T23:25:46.843Z"
   },
   {
    "duration": 8,
    "start_time": "2024-11-25T23:25:46.859Z"
   },
   {
    "duration": 278,
    "start_time": "2024-11-25T23:25:46.868Z"
   },
   {
    "duration": 213,
    "start_time": "2024-11-25T23:25:47.147Z"
   },
   {
    "duration": 10,
    "start_time": "2024-11-25T23:25:47.363Z"
   },
   {
    "duration": 214,
    "start_time": "2024-11-25T23:25:47.375Z"
   },
   {
    "duration": 11,
    "start_time": "2024-11-25T23:25:47.590Z"
   },
   {
    "duration": 242,
    "start_time": "2024-11-25T23:25:47.602Z"
   },
   {
    "duration": 10,
    "start_time": "2024-11-25T23:25:47.846Z"
   },
   {
    "duration": 10,
    "start_time": "2024-11-25T23:25:47.858Z"
   },
   {
    "duration": 10,
    "start_time": "2024-11-25T23:25:47.870Z"
   },
   {
    "duration": 9,
    "start_time": "2024-11-25T23:25:47.881Z"
   },
   {
    "duration": 509,
    "start_time": "2024-11-25T23:25:47.892Z"
   },
   {
    "duration": 7,
    "start_time": "2024-11-25T23:25:48.403Z"
   },
   {
    "duration": 6,
    "start_time": "2024-11-25T23:25:48.413Z"
   },
   {
    "duration": 8,
    "start_time": "2024-11-25T23:25:48.444Z"
   },
   {
    "duration": 5,
    "start_time": "2024-11-25T23:25:48.453Z"
   },
   {
    "duration": 4,
    "start_time": "2024-11-25T23:25:48.459Z"
   }
  ],
  "colab": {
   "provenance": []
  },
  "kernelspec": {
   "display_name": "Python 3 (ipykernel)",
   "language": "python",
   "name": "python3"
  },
  "language_info": {
   "codemirror_mode": {
    "name": "ipython",
    "version": 3
   },
   "file_extension": ".py",
   "mimetype": "text/x-python",
   "name": "python",
   "nbconvert_exporter": "python",
   "pygments_lexer": "ipython3",
   "version": "3.9.19"
  },
  "toc": {
   "base_numbering": 1,
   "nav_menu": {},
   "number_sections": true,
   "sideBar": true,
   "skip_h1_title": false,
   "title_cell": "Table of Contents",
   "title_sidebar": "Contents",
   "toc_cell": false,
   "toc_position": {
    "height": "calc(100% - 180px)",
    "left": "10px",
    "top": "150px",
    "width": "518.299px"
   },
   "toc_section_display": true,
   "toc_window_display": true
  }
 },
 "nbformat": 4,
 "nbformat_minor": 1
}
